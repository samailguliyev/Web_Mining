{
 "cells": [
  {
   "cell_type": "code",
   "execution_count": 1,
   "metadata": {},
   "outputs": [
    {
     "name": "stderr",
     "output_type": "stream",
     "text": [
      "Using TensorFlow backend.\n"
     ]
    }
   ],
   "source": [
    "from math import nan\n",
    "from future.utils import iteritems\n",
    "from sklearn.model_selection import train_test_split\n",
    "import pandas as pd\n",
    "import numpy as np\n",
    "#from utils import get_data, generate_output, guess_human, seed_sequence, get_embeddings, find_closest\n",
    "import numpy as np\n",
    "import tensorflow as tf\n",
    "from keras.preprocessing.sequence import pad_sequences\n",
    "from keras.utils import to_categorical\n",
    "from keras.models import Model, Input\n",
    "from keras.layers import LSTM, Embedding, Dense, TimeDistributed, Dropout, Bidirectional\n",
    "import keras as k\n",
    "from seqeval.metrics import precision_score, recall_score, f1_score, classification_report\n",
    "import matplotlib.pyplot as plt"
   ]
  },
  {
   "cell_type": "code",
   "execution_count": 2,
   "metadata": {},
   "outputs": [
    {
     "data": {
      "text/html": [
       "<div>\n",
       "<style scoped>\n",
       "    .dataframe tbody tr th:only-of-type {\n",
       "        vertical-align: middle;\n",
       "    }\n",
       "\n",
       "    .dataframe tbody tr th {\n",
       "        vertical-align: top;\n",
       "    }\n",
       "\n",
       "    .dataframe thead th {\n",
       "        text-align: right;\n",
       "    }\n",
       "</style>\n",
       "<table border=\"1\" class=\"dataframe\">\n",
       "  <thead>\n",
       "    <tr style=\"text-align: right;\">\n",
       "      <th></th>\n",
       "      <th>Sentence #</th>\n",
       "      <th>Word</th>\n",
       "      <th>POS</th>\n",
       "      <th>Tag</th>\n",
       "    </tr>\n",
       "  </thead>\n",
       "  <tbody>\n",
       "    <tr>\n",
       "      <th>0</th>\n",
       "      <td>Sentence: 1</td>\n",
       "      <td>Thousands</td>\n",
       "      <td>NNS</td>\n",
       "      <td>O</td>\n",
       "    </tr>\n",
       "    <tr>\n",
       "      <th>1</th>\n",
       "      <td>NaN</td>\n",
       "      <td>of</td>\n",
       "      <td>IN</td>\n",
       "      <td>O</td>\n",
       "    </tr>\n",
       "    <tr>\n",
       "      <th>2</th>\n",
       "      <td>NaN</td>\n",
       "      <td>demonstrators</td>\n",
       "      <td>NNS</td>\n",
       "      <td>O</td>\n",
       "    </tr>\n",
       "    <tr>\n",
       "      <th>3</th>\n",
       "      <td>NaN</td>\n",
       "      <td>have</td>\n",
       "      <td>VBP</td>\n",
       "      <td>O</td>\n",
       "    </tr>\n",
       "    <tr>\n",
       "      <th>4</th>\n",
       "      <td>NaN</td>\n",
       "      <td>marched</td>\n",
       "      <td>VBN</td>\n",
       "      <td>O</td>\n",
       "    </tr>\n",
       "    <tr>\n",
       "      <th>...</th>\n",
       "      <td>...</td>\n",
       "      <td>...</td>\n",
       "      <td>...</td>\n",
       "      <td>...</td>\n",
       "    </tr>\n",
       "    <tr>\n",
       "      <th>667</th>\n",
       "      <td>NaN</td>\n",
       "      <td>Muslim</td>\n",
       "      <td>NNP</td>\n",
       "      <td>B-org</td>\n",
       "    </tr>\n",
       "    <tr>\n",
       "      <th>668</th>\n",
       "      <td>NaN</td>\n",
       "      <td>Brotherhood</td>\n",
       "      <td>NNP</td>\n",
       "      <td>I-org</td>\n",
       "    </tr>\n",
       "    <tr>\n",
       "      <th>669</th>\n",
       "      <td>NaN</td>\n",
       "      <td>as</td>\n",
       "      <td>IN</td>\n",
       "      <td>O</td>\n",
       "    </tr>\n",
       "    <tr>\n",
       "      <th>670</th>\n",
       "      <td>NaN</td>\n",
       "      <td>parts</td>\n",
       "      <td>NNS</td>\n",
       "      <td>O</td>\n",
       "    </tr>\n",
       "    <tr>\n",
       "      <th>671</th>\n",
       "      <td>NaN</td>\n",
       "      <td>of</td>\n",
       "      <td>IN</td>\n",
       "      <td>O</td>\n",
       "    </tr>\n",
       "  </tbody>\n",
       "</table>\n",
       "<p>672 rows × 4 columns</p>\n",
       "</div>"
      ],
      "text/plain": [
       "      Sentence #           Word  POS    Tag\n",
       "0    Sentence: 1      Thousands  NNS      O\n",
       "1            NaN             of   IN      O\n",
       "2            NaN  demonstrators  NNS      O\n",
       "3            NaN           have  VBP      O\n",
       "4            NaN        marched  VBN      O\n",
       "..           ...            ...  ...    ...\n",
       "667          NaN         Muslim  NNP  B-org\n",
       "668          NaN    Brotherhood  NNP  I-org\n",
       "669          NaN             as   IN      O\n",
       "670          NaN          parts  NNS      O\n",
       "671          NaN             of   IN      O\n",
       "\n",
       "[672 rows x 4 columns]"
      ]
     },
     "execution_count": 2,
     "metadata": {},
     "output_type": "execute_result"
    }
   ],
   "source": [
    "data = pd.read_csv(\"ner_dataset.csv\", encoding= 'unicode_escape') \n",
    "data.head(672)"
   ]
  },
  {
   "cell_type": "code",
   "execution_count": 3,
   "metadata": {},
   "outputs": [],
   "source": [
    "class SentenceGetter(object):\n",
    "    \n",
    "    def __init__(self, dataset):\n",
    "        self.n_sent = 1\n",
    "        self.dataset = dataset\n",
    "        self.empty = False\n",
    "        agg_func = lambda s: [(w, t) for w,t in zip(s[\"Word\"].values.tolist(),\n",
    "                                                        s[\"Tag\"].values.tolist())]\n",
    "        self.grouped = self.dataset.groupby(\"Sentence #\").apply(agg_func)\n",
    "        self.sentences = [s for s in self.grouped]\n",
    "    \n",
    "    def get_next(self):\n",
    "        try:\n",
    "            s = self.grouped[\"Sentence: {}\".format(self.n_sent)]\n",
    "            self.n_sent += 1\n",
    "            return s\n",
    "        except:\n",
    "            return None\n",
    "          \n",
    "getter = SentenceGetter(data)\n",
    "sentences = getter.sentences"
   ]
  },
  {
   "cell_type": "code",
   "execution_count": 4,
   "metadata": {},
   "outputs": [
    {
     "name": "stdout",
     "output_type": "stream",
     "text": [
      "['B-eve', 'B-per', 'B-nat', 'I-tim', 'I-eve', 'I-org', 'B-art', 'I-per', 'B-gpe', 'I-gpe', 'O', 'B-geo', 'I-geo', 'I-art', 'B-org', 'I-nat', 'B-tim']\n"
     ]
    }
   ],
   "source": [
    "words = list(set(data[\"Word\"].values))\n",
    "nrofWords = len(words)\n",
    "\n",
    "ner_tags = []\n",
    "for tag in set(data[\"Tag\"].values):\n",
    "    if tag is nan or isinstance(tag, float):\n",
    "        ner_tags.append('unk')\n",
    "    else:\n",
    "        ner_tags.append(tag)\n",
    "nrofTags = len(ner_tags)\n",
    "print(ner_tags)"
   ]
  },
  {
   "cell_type": "code",
   "execution_count": 5,
   "metadata": {},
   "outputs": [],
   "source": [
    "index_word = {w: i for i, w in enumerate(words)}\n",
    "index_tag = {t: i for i, t in enumerate(ner_tags)}\n",
    "idx2tag = {v: k for k, v in iteritems(index_tag)}"
   ]
  },
  {
   "cell_type": "code",
   "execution_count": 7,
   "metadata": {},
   "outputs": [],
   "source": [
    "maxlen = max([len(s) for s in sentences])\n",
    "word_embedding_size = 17\n",
    "\n",
    "X = [[index_word[w[0]] for w in s] for s in sentences]\n",
    "X = pad_sequences(maxlen=maxlen, sequences=X, padding=\"post\",value=nrofWords - 1)\n",
    "\n",
    "y = [[index_tag[w[1]] for w in s] for s in sentences]\n",
    "y = pad_sequences(maxlen=maxlen, sequences=y, padding=\"post\", value=index_tag[\"O\"])\n",
    "y = [to_categorical(i, num_classes=nrofTags) for i in y]\n",
    "\n",
    "# Split train and test data\n",
    "X_train, X_test, y_train, y_test = train_test_split(X, y, test_size=0.2)"
   ]
  },
  {
   "cell_type": "markdown",
   "metadata": {},
   "source": [
    "# Simple RNN model"
   ]
  },
  {
   "cell_type": "code",
   "execution_count": 19,
   "metadata": {},
   "outputs": [],
   "source": [
    "input = Input(shape=(maxlen,))\n",
    "\n",
    "model = tf.keras.Sequential([\n",
    "    tf.keras.layers.Embedding(input_dim=nrofWords+1, output_dim=32, input_length=maxlen),\n",
    "    tf.keras.layers.Bidirectional(tf.keras.layers.SimpleRNN(32, return_sequences=True)),\n",
    "    tf.keras.layers.Dense(nrofTags, activation='tanh'),\n",
    "    tf.keras.layers.Dropout(0.5),\n",
    "])\n",
    "\n"
   ]
  },
  {
   "cell_type": "code",
   "execution_count": 20,
   "metadata": {},
   "outputs": [
    {
     "name": "stdout",
     "output_type": "stream",
     "text": [
      "Model: \"sequential_2\"\n",
      "_________________________________________________________________\n",
      "Layer (type)                 Output Shape              Param #   \n",
      "=================================================================\n",
      "embedding_2 (Embedding)      (None, 1, 32)             1125728   \n",
      "_________________________________________________________________\n",
      "bidirectional_2 (Bidirection (None, 1, 64)             4160      \n",
      "_________________________________________________________________\n",
      "dense_2 (Dense)              (None, 1, 17)             1105      \n",
      "_________________________________________________________________\n",
      "dropout_2 (Dropout)          (None, 1, 17)             0         \n",
      "=================================================================\n",
      "Total params: 1,130,993\n",
      "Trainable params: 1,130,993\n",
      "Non-trainable params: 0\n",
      "_________________________________________________________________\n",
      "Epoch 1/30\n",
      "600/600 [==============================] - 5s 8ms/step - loss: 0.6019 - accuracy: 0.3151 - val_loss: 0.4534 - val_accuracy: 0.7189\n",
      "Epoch 2/30\n",
      "600/600 [==============================] - 5s 9ms/step - loss: 0.4659 - accuracy: 0.3656 - val_loss: 0.3733 - val_accuracy: 0.7189\n",
      "Epoch 3/30\n",
      "600/600 [==============================] - 5s 8ms/step - loss: 0.4444 - accuracy: 0.3722 - val_loss: 0.3557 - val_accuracy: 0.7189\n",
      "Epoch 4/30\n",
      "600/600 [==============================] - 5s 9ms/step - loss: 0.4375 - accuracy: 0.3793 - val_loss: 0.3471 - val_accuracy: 0.7569\n",
      "Epoch 5/30\n",
      "600/600 [==============================] - 5s 8ms/step - loss: 0.4326 - accuracy: 0.3891 - val_loss: 0.3415 - val_accuracy: 0.7591\n",
      "Epoch 6/30\n",
      "600/600 [==============================] - 5s 8ms/step - loss: 0.4301 - accuracy: 0.3920 - val_loss: 0.3380 - val_accuracy: 0.7621\n",
      "Epoch 7/30\n",
      "600/600 [==============================] - 5s 8ms/step - loss: 0.4284 - accuracy: 0.3866 - val_loss: 0.3359 - val_accuracy: 0.7647\n",
      "Epoch 8/30\n",
      "600/600 [==============================] - 5s 9ms/step - loss: 0.4273 - accuracy: 0.3937 - val_loss: 0.3345 - val_accuracy: 0.8077\n",
      "Epoch 9/30\n",
      "600/600 [==============================] - 5s 8ms/step - loss: 0.4258 - accuracy: 0.3976 - val_loss: 0.3331 - val_accuracy: 0.8156\n",
      "Epoch 10/30\n",
      "600/600 [==============================] - 5s 8ms/step - loss: 0.4232 - accuracy: 0.4123 - val_loss: 0.3319 - val_accuracy: 0.8408\n",
      "Epoch 11/30\n",
      "600/600 [==============================] - 5s 8ms/step - loss: 0.4227 - accuracy: 0.4211 - val_loss: 0.3305 - val_accuracy: 0.8662\n",
      "Epoch 12/30\n",
      "600/600 [==============================] - 4s 7ms/step - loss: 0.4213 - accuracy: 0.4292 - val_loss: 0.3293 - val_accuracy: 0.8710\n",
      "Epoch 13/30\n",
      "600/600 [==============================] - 5s 8ms/step - loss: 0.4209 - accuracy: 0.4451 - val_loss: 0.3284 - val_accuracy: 0.8741\n",
      "Epoch 14/30\n",
      "600/600 [==============================] - 6s 9ms/step - loss: 0.4203 - accuracy: 0.4505 - val_loss: 0.3277 - val_accuracy: 0.8757\n",
      "Epoch 15/30\n",
      "600/600 [==============================] - 5s 8ms/step - loss: 0.4192 - accuracy: 0.4650 - val_loss: 0.3271 - val_accuracy: 0.8767\n",
      "Epoch 16/30\n",
      "600/600 [==============================] - 4s 7ms/step - loss: 0.4192 - accuracy: 0.4620 - val_loss: 0.3267 - val_accuracy: 0.8779\n",
      "Epoch 17/30\n",
      "600/600 [==============================] - 4s 7ms/step - loss: 0.4184 - accuracy: 0.4604 - val_loss: 0.3264 - val_accuracy: 0.8823\n",
      "Epoch 18/30\n",
      "600/600 [==============================] - 5s 8ms/step - loss: 0.4179 - accuracy: 0.4716 - val_loss: 0.3261 - val_accuracy: 0.8906\n",
      "Epoch 19/30\n",
      "600/600 [==============================] - 4s 7ms/step - loss: 0.4178 - accuracy: 0.4676 - val_loss: 0.3259 - val_accuracy: 0.8961\n",
      "Epoch 20/30\n",
      "600/600 [==============================] - 5s 8ms/step - loss: 0.4162 - accuracy: 0.4735 - val_loss: 0.3256 - val_accuracy: 0.8974\n",
      "Epoch 21/30\n",
      "600/600 [==============================] - 5s 8ms/step - loss: 0.4168 - accuracy: 0.4742 - val_loss: 0.3253 - val_accuracy: 0.8975\n",
      "Epoch 22/30\n",
      "600/600 [==============================] - 5s 8ms/step - loss: 0.4163 - accuracy: 0.4765 - val_loss: 0.3251 - val_accuracy: 0.8972\n",
      "Epoch 23/30\n",
      "600/600 [==============================] - 5s 8ms/step - loss: 0.4161 - accuracy: 0.4770 - val_loss: 0.3249 - val_accuracy: 0.8968\n",
      "Epoch 24/30\n",
      "600/600 [==============================] - 5s 8ms/step - loss: 0.4165 - accuracy: 0.4853 - val_loss: 0.3247 - val_accuracy: 0.8957\n",
      "Epoch 25/30\n",
      "600/600 [==============================] - 5s 8ms/step - loss: 0.4160 - accuracy: 0.4800 - val_loss: 0.3245 - val_accuracy: 0.8966\n",
      "Epoch 26/30\n",
      "600/600 [==============================] - 5s 8ms/step - loss: 0.4160 - accuracy: 0.4822 - val_loss: 0.3244 - val_accuracy: 0.8964\n",
      "Epoch 27/30\n",
      "600/600 [==============================] - 5s 8ms/step - loss: 0.4155 - accuracy: 0.4823 - val_loss: 0.3244 - val_accuracy: 0.8962\n",
      "Epoch 28/30\n",
      "600/600 [==============================] - 6s 9ms/step - loss: 0.4164 - accuracy: 0.4814 - val_loss: 0.3242 - val_accuracy: 0.8965\n",
      "Epoch 29/30\n",
      "600/600 [==============================] - 6s 9ms/step - loss: 0.4146 - accuracy: 0.4894 - val_loss: 0.3242 - val_accuracy: 0.8957\n",
      "Epoch 30/30\n",
      "600/600 [==============================] - 5s 9ms/step - loss: 0.4154 - accuracy: 0.4874 - val_loss: 0.3241 - val_accuracy: 0.8953\n"
     ]
    }
   ],
   "source": [
    "model.compile(loss=tf.keras.losses.BinaryCrossentropy(from_logits=True),\n",
    "              optimizer=tf.keras.optimizers.Adam(1e-4),\n",
    "              metrics=['accuracy'])\n",
    "\n",
    "model.summary()\n",
    "\n",
    "history = model.fit(X_train, np.array(y_train), batch_size=32, epochs=30,\n",
    "                    validation_split=0.5, verbose=1)"
   ]
  },
  {
   "cell_type": "code",
   "execution_count": 21,
   "metadata": {},
   "outputs": [
    {
     "name": "stdout",
     "output_type": "stream",
     "text": [
      "300/300 [==============================] - 0s 865us/step\n"
     ]
    }
   ],
   "source": [
    "test_pred = model.predict(X_test, verbose=1)\n",
    "\n",
    "idx2tag = {i: w for w, i in index_tag.items()}\n",
    "\n",
    "def pred2label(pred):\n",
    "    out = []\n",
    "    for pred_i in pred:\n",
    "        out_i = []\n",
    "        for p in pred_i:\n",
    "            p_i = np.argmax(p)\n",
    "            out_i.append(idx2tag[p_i].replace(\"PAD\", \"O\"))\n",
    "        out.append(out_i)\n",
    "    return out\n",
    "    \n",
    "pred_labels = pred2label(test_pred)\n",
    "test_labels = pred2label(y_test)"
   ]
  },
  {
   "cell_type": "code",
   "execution_count": 22,
   "metadata": {},
   "outputs": [
    {
     "name": "stdout",
     "output_type": "stream",
     "text": [
      "F1-score: 73.2%\n",
      "           precision    recall  f1-score   support\n",
      "\n",
      "      org       0.44      0.56      0.50       547\n",
      "      per       0.77      0.79      0.78       828\n",
      "      geo       0.76      0.82      0.79       678\n",
      "      gpe       0.95      0.89      0.92       605\n",
      "      tim       0.00      0.00      0.00        97\n",
      "      eve       0.00      0.00      0.00         5\n",
      "      art       0.00      0.00      0.00         6\n",
      "      nat       0.00      0.00      0.00         3\n",
      "\n",
      "micro avg       0.72      0.74      0.73      2769\n",
      "macro avg       0.71      0.74      0.72      2769\n",
      "\n"
     ]
    }
   ],
   "source": [
    "print(\"F1-score: {:.1%}\".format(f1_score(test_labels, pred_labels)))\n",
    "print(classification_report(test_labels, pred_labels))"
   ]
  },
  {
   "cell_type": "markdown",
   "metadata": {},
   "source": [
    "# LSTM model"
   ]
  },
  {
   "cell_type": "code",
   "execution_count": 12,
   "metadata": {},
   "outputs": [],
   "source": [
    "model = tf.keras.Sequential([\n",
    "    tf.keras.layers.Embedding(input_dim=nrofWords+1, output_dim=word_embedding_size, input_length=maxlen),\n",
    "    tf.keras.layers.Bidirectional(tf.keras.layers.LSTM(64,  return_sequences=True)),\n",
    "    tf.keras.layers.Dense(nrofTags, activation='tanh'),\n",
    "    tf.keras.layers.Dropout(0.5),\n",
    "])"
   ]
  },
  {
   "cell_type": "code",
   "execution_count": 13,
   "metadata": {},
   "outputs": [],
   "source": [
    "model.compile(loss=tf.keras.losses.BinaryCrossentropy(from_logits=True),\n",
    "              optimizer=tf.keras.optimizers.Adam(1e-4),\n",
    "              metrics=['accuracy'])"
   ]
  },
  {
   "cell_type": "code",
   "execution_count": 14,
   "metadata": {},
   "outputs": [
    {
     "name": "stdout",
     "output_type": "stream",
     "text": [
      "Model: \"sequential_1\"\n",
      "_________________________________________________________________\n",
      "Layer (type)                 Output Shape              Param #   \n",
      "=================================================================\n",
      "embedding_1 (Embedding)      (None, 1, 17)             598043    \n",
      "_________________________________________________________________\n",
      "bidirectional_1 (Bidirection (None, 1, 128)            41984     \n",
      "_________________________________________________________________\n",
      "dense_1 (Dense)              (None, 1, 17)             2193      \n",
      "_________________________________________________________________\n",
      "dropout_1 (Dropout)          (None, 1, 17)             0         \n",
      "=================================================================\n",
      "Total params: 642,220\n",
      "Trainable params: 642,220\n",
      "Non-trainable params: 0\n",
      "_________________________________________________________________\n"
     ]
    }
   ],
   "source": [
    "model.summary()"
   ]
  },
  {
   "cell_type": "code",
   "execution_count": 15,
   "metadata": {},
   "outputs": [
    {
     "name": "stdout",
     "output_type": "stream",
     "text": [
      "Epoch 1/30\n",
      "600/600 [==============================] - 4s 7ms/step - loss: 0.6254 - accuracy: 0.3578 - val_loss: 0.4893 - val_accuracy: 0.7189\n",
      "Epoch 2/30\n",
      "600/600 [==============================] - 4s 6ms/step - loss: 0.4770 - accuracy: 0.3655 - val_loss: 0.3836 - val_accuracy: 0.7189\n",
      "Epoch 3/30\n",
      "600/600 [==============================] - 4s 6ms/step - loss: 0.4499 - accuracy: 0.3648 - val_loss: 0.3626 - val_accuracy: 0.7189\n",
      "Epoch 4/30\n",
      "600/600 [==============================] - 4s 6ms/step - loss: 0.4436 - accuracy: 0.3657 - val_loss: 0.3546 - val_accuracy: 0.7189\n",
      "Epoch 5/30\n",
      "600/600 [==============================] - 4s 6ms/step - loss: 0.4403 - accuracy: 0.3666 - val_loss: 0.3503 - val_accuracy: 0.7189\n",
      "Epoch 6/30\n",
      "600/600 [==============================] - 3s 5ms/step - loss: 0.4382 - accuracy: 0.3646 - val_loss: 0.3472 - val_accuracy: 0.7189\n",
      "Epoch 7/30\n",
      "600/600 [==============================] - 3s 5ms/step - loss: 0.4353 - accuracy: 0.3676 - val_loss: 0.3446 - val_accuracy: 0.7189\n",
      "Epoch 8/30\n",
      "600/600 [==============================] - 3s 6ms/step - loss: 0.4332 - accuracy: 0.3616 - val_loss: 0.3420 - val_accuracy: 0.7473\n",
      "Epoch 9/30\n",
      "600/600 [==============================] - 4s 6ms/step - loss: 0.4323 - accuracy: 0.3616 - val_loss: 0.3398 - val_accuracy: 0.7563\n",
      "Epoch 10/30\n",
      "600/600 [==============================] - 4s 6ms/step - loss: 0.4295 - accuracy: 0.3721 - val_loss: 0.3378 - val_accuracy: 0.7576\n",
      "Epoch 11/30\n",
      "600/600 [==============================] - 4s 6ms/step - loss: 0.4291 - accuracy: 0.3737 - val_loss: 0.3362 - val_accuracy: 0.7616\n",
      "Epoch 12/30\n",
      "600/600 [==============================] - 4s 6ms/step - loss: 0.4271 - accuracy: 0.3853 - val_loss: 0.3351 - val_accuracy: 0.7636\n",
      "Epoch 13/30\n",
      "600/600 [==============================] - 3s 5ms/step - loss: 0.4260 - accuracy: 0.3846 - val_loss: 0.3343 - val_accuracy: 0.7673\n",
      "Epoch 14/30\n",
      "600/600 [==============================] - 3s 5ms/step - loss: 0.4255 - accuracy: 0.3908 - val_loss: 0.3337 - val_accuracy: 0.7954\n",
      "Epoch 15/30\n",
      "600/600 [==============================] - 3s 5ms/step - loss: 0.4249 - accuracy: 0.3971 - val_loss: 0.3333 - val_accuracy: 0.8066\n",
      "Epoch 16/30\n",
      "600/600 [==============================] - 3s 5ms/step - loss: 0.4240 - accuracy: 0.4005 - val_loss: 0.3328 - val_accuracy: 0.8055\n",
      "Epoch 17/30\n",
      "600/600 [==============================] - 3s 5ms/step - loss: 0.4248 - accuracy: 0.3945 - val_loss: 0.3323 - val_accuracy: 0.8068\n",
      "Epoch 18/30\n",
      "600/600 [==============================] - 3s 5ms/step - loss: 0.4239 - accuracy: 0.4066 - val_loss: 0.3318 - val_accuracy: 0.8077\n",
      "Epoch 19/30\n",
      "600/600 [==============================] - 3s 5ms/step - loss: 0.4233 - accuracy: 0.4143 - val_loss: 0.3313 - val_accuracy: 0.8224\n",
      "Epoch 20/30\n",
      "600/600 [==============================] - 3s 5ms/step - loss: 0.4226 - accuracy: 0.4176 - val_loss: 0.3309 - val_accuracy: 0.8523\n",
      "Epoch 21/30\n",
      "600/600 [==============================] - 3s 5ms/step - loss: 0.4225 - accuracy: 0.4160 - val_loss: 0.3304 - val_accuracy: 0.8605\n",
      "Epoch 22/30\n",
      "600/600 [==============================] - 3s 5ms/step - loss: 0.4220 - accuracy: 0.4264 - val_loss: 0.3299 - val_accuracy: 0.8625\n",
      "Epoch 23/30\n",
      "600/600 [==============================] - 3s 5ms/step - loss: 0.4203 - accuracy: 0.4335 - val_loss: 0.3292 - val_accuracy: 0.8635\n",
      "Epoch 24/30\n",
      "600/600 [==============================] - 3s 5ms/step - loss: 0.4194 - accuracy: 0.4555 - val_loss: 0.3284 - val_accuracy: 0.8643\n",
      "Epoch 25/30\n",
      "600/600 [==============================] - 3s 5ms/step - loss: 0.4190 - accuracy: 0.4582 - val_loss: 0.3277 - val_accuracy: 0.8663\n",
      "Epoch 26/30\n",
      "600/600 [==============================] - 3s 5ms/step - loss: 0.4188 - accuracy: 0.4626 - val_loss: 0.3272 - val_accuracy: 0.8670\n",
      "Epoch 27/30\n",
      "600/600 [==============================] - 4s 7ms/step - loss: 0.4183 - accuracy: 0.4672 - val_loss: 0.3268 - val_accuracy: 0.8752\n",
      "Epoch 28/30\n",
      "600/600 [==============================] - 3s 6ms/step - loss: 0.4188 - accuracy: 0.4672 - val_loss: 0.3265 - val_accuracy: 0.8844\n",
      "Epoch 29/30\n",
      "600/600 [==============================] - 3s 5ms/step - loss: 0.4183 - accuracy: 0.4660 - val_loss: 0.3262 - val_accuracy: 0.8876\n",
      "Epoch 30/30\n",
      "600/600 [==============================] - 3s 5ms/step - loss: 0.4174 - accuracy: 0.4672 - val_loss: 0.3260 - val_accuracy: 0.8884\n"
     ]
    }
   ],
   "source": [
    "history = model.fit(X_train, np.array(y_train), batch_size=32, epochs=30,\n",
    "                    validation_split=0.5, verbose=1)\n"
   ]
  },
  {
   "cell_type": "code",
   "execution_count": 16,
   "metadata": {},
   "outputs": [
    {
     "name": "stdout",
     "output_type": "stream",
     "text": [
      "300/300 [==============================] - 0s 1ms/step\n",
      "[['O'], ['O'], ['O'], ['B-geo'], ['O'], ['O'], ['O'], ['O'], ['O'], ['O'], ['O'], ['O'], ['O'], ['O'], ['O'], ['O'], ['O'], ['O'], ['O'], ['B-per'], ['B-per'], ['O'], ['B-gpe'], ['B-gpe'], ['O'], ['B-per'], ['O'], ['O'], ['O'], ['O'], ['O'], ['O'], ['O'], ['O'], ['B-per'], ['B-geo'], ['B-geo'], ['O'], ['B-gpe'], ['O'], ['B-per'], ['O'], ['O'], ['O'], ['O'], ['O'], ['O'], ['O'], ['O'], ['O'], ['O'], ['B-org'], ['O'], ['O'], ['O'], ['B-per'], ['B-per'], ['O'], ['O'], ['O'], ['O'], ['B-gpe'], ['O'], ['B-geo'], ['O'], ['B-gpe'], ['O'], ['O'], ['O'], ['O'], ['O'], ['O'], ['B-gpe'], ['O'], ['O'], ['O'], ['O'], ['O'], ['O'], ['O'], ['O'], ['O'], ['O'], ['O'], ['O'], ['B-geo'], ['O'], ['O'], ['O'], ['O'], ['O'], ['B-per'], ['B-geo'], ['O'], ['O'], ['O'], ['O'], ['B-org'], ['O'], ['B-org'], ['O'], ['O'], ['B-gpe'], ['O'], ['O'], ['O'], ['O'], ['B-org'], ['B-gpe'], ['O'], ['O'], ['O'], ['O'], ['B-per'], ['B-per'], ['O'], ['B-geo'], ['B-gpe'], ['O'], ['O'], ['O'], ['O'], ['B-geo'], ['O'], ['O'], ['O'], ['O'], ['O'], ['O'], ['O'], ['O'], ['O'], ['O'], ['O'], ['O'], ['O'], ['O'], ['B-per'], ['B-per'], ['B-gpe'], ['O'], ['B-geo'], ['O'], ['B-geo'], ['O'], ['B-org'], ['O'], ['O'], ['O'], ['O'], ['B-geo'], ['O'], ['B-geo'], ['O'], ['B-gpe'], ['O'], ['O'], ['B-geo'], ['O'], ['O'], ['B-geo'], ['O'], ['O'], ['B-per'], ['O'], ['B-org'], ['O'], ['O'], ['B-geo'], ['B-per'], ['B-org'], ['B-org'], ['O'], ['B-per'], ['O'], ['O'], ['O'], ['O'], ['O'], ['B-per'], ['O'], ['B-per'], ['B-per'], ['O'], ['B-gpe'], ['B-geo'], ['B-org'], ['O'], ['O'], ['O'], ['B-geo'], ['O'], ['B-geo'], ['B-geo'], ['O'], ['B-gpe'], ['B-gpe'], ['O'], ['O'], ['B-gpe'], ['O'], ['O'], ['B-gpe'], ['B-per'], ['O'], ['B-per'], ['B-org'], ['B-per'], ['B-per'], ['O'], ['O'], ['O'], ['O'], ['B-geo'], ['O'], ['O'], ['O'], ['O'], ['O'], ['O'], ['O'], ['O'], ['O'], ['O'], ['O'], ['O'], ['O'], ['O'], ['O'], ['O'], ['O'], ['O'], ['B-per'], ['O'], ['B-per'], ['O'], ['B-geo'], ['O'], ['O'], ['O'], ['O'], ['O'], ['O'], ['B-per'], ['O'], ['B-org'], ['B-geo'], ['B-geo'], ['B-gpe'], ['B-geo'], ['O'], ['B-org'], ['O'], ['B-org'], ['O'], ['O'], ['O'], ['O'], ['B-gpe'], ['O'], ['O'], ['O'], ['O'], ['O'], ['O'], ['O'], ['B-per'], ['O'], ['O'], ['O'], ['B-gpe'], ['B-per'], ['B-gpe'], ['O'], ['O'], ['O'], ['B-gpe'], ['O'], ['O'], ['B-per'], ['O'], ['O'], ['O'], ['O'], ['O'], ['O'], ['B-per'], ['B-gpe'], ['O'], ['O'], ['O'], ['O'], ['O'], ['O'], ['B-org'], ['O'], ['B-per'], ['O'], ['O'], ['O'], ['B-per'], ['B-geo'], ['O'], ['O'], ['B-gpe'], ['O'], ['B-per'], ['B-org'], ['B-gpe'], ['O'], ['O'], ['O'], ['O'], ['B-gpe'], ['B-per'], ['O'], ['O'], ['O'], ['B-geo'], ['O'], ['O'], ['B-geo'], ['O'], ['O'], ['O'], ['O'], ['O'], ['B-per'], ['O'], ['O'], ['O'], ['O'], ['B-geo'], ['B-geo'], ['O'], ['B-geo'], ['B-per'], ['O'], ['B-geo'], ['O'], ['O'], ['O'], ['B-org'], ['O'], ['O'], ['O'], ['O'], ['B-per'], ['O'], ['O'], ['O'], ['O'], ['O'], ['O'], ['O'], ['O'], ['O'], ['O'], ['B-gpe'], ['O'], ['O'], ['B-per'], ['B-per'], ['O'], ['O'], ['B-geo'], ['O'], ['O'], ['B-per'], ['O'], ['O'], ['O'], ['O'], ['O'], ['B-org'], ['O'], ['O'], ['O'], ['O'], ['O'], ['O'], ['O'], ['O'], ['O'], ['O'], ['B-org'], ['B-per'], ['O'], ['B-per'], ['B-org'], ['O'], ['B-per'], ['O'], ['B-org'], ['B-gpe'], ['O'], ['O'], ['B-geo'], ['B-per'], ['O'], ['O'], ['O'], ['O'], ['O'], ['O'], ['O'], ['O'], ['B-per'], ['B-org'], ['O'], ['O'], ['O'], ['O'], ['O'], ['O'], ['O'], ['O'], ['B-geo'], ['O'], ['B-geo'], ['B-per'], ['O'], ['O'], ['O'], ['O'], ['O'], ['B-per'], ['B-per'], ['B-per'], ['O'], ['B-per'], ['O'], ['O'], ['O'], ['O'], ['O'], ['O'], ['O'], ['B-org'], ['O'], ['O'], ['B-geo'], ['O'], ['O'], ['O'], ['O'], ['O'], ['B-gpe'], ['O'], ['O'], ['O'], ['O'], ['O'], ['O'], ['O'], ['B-per'], ['O'], ['O'], ['B-geo'], ['B-per'], ['O'], ['B-per'], ['O'], ['O'], ['O'], ['B-gpe'], ['O'], ['O'], ['O'], ['O'], ['B-geo'], ['O'], ['O'], ['O'], ['O'], ['O'], ['B-per'], ['B-per'], ['O'], ['B-gpe'], ['O'], ['O'], ['O'], ['O'], ['B-geo'], ['O'], ['O'], ['O'], ['B-per'], ['O'], ['O'], ['B-geo'], ['O'], ['O'], ['B-geo'], ['O'], ['B-per'], ['O'], ['O'], ['O'], ['O'], ['B-per'], ['O'], ['B-geo'], ['O'], ['B-gpe'], ['O'], ['O'], ['O'], ['B-gpe'], ['B-per'], ['O'], ['B-gpe'], ['B-per'], ['O'], ['B-org'], ['O'], ['O'], ['O'], ['O'], ['O'], ['B-per'], ['O'], ['O'], ['O'], ['O'], ['O'], ['B-org'], ['O'], ['O'], ['B-geo'], ['B-geo'], ['O'], ['O'], ['B-org'], ['B-per'], ['O'], ['O'], ['O'], ['O'], ['O'], ['O'], ['O'], ['O'], ['O'], ['O'], ['B-gpe'], ['O'], ['O'], ['B-geo'], ['O'], ['O'], ['O'], ['O'], ['O'], ['O'], ['O'], ['O'], ['O'], ['O'], ['O'], ['O'], ['O'], ['B-gpe'], ['O'], ['O'], ['O'], ['O'], ['B-gpe'], ['O'], ['B-org'], ['O'], ['O'], ['O'], ['O'], ['O'], ['O'], ['B-geo'], ['B-geo'], ['O'], ['O'], ['O'], ['B-per'], ['B-org'], ['O'], ['O'], ['O'], ['O'], ['B-gpe'], ['O'], ['O'], ['O'], ['B-per'], ['B-gpe'], ['O'], ['O'], ['O'], ['B-geo'], ['O'], ['B-org'], ['O'], ['O'], ['O'], ['O'], ['O'], ['B-gpe'], ['B-gpe'], ['B-geo'], ['B-geo'], ['O'], ['B-per'], ['O'], ['O'], ['B-per'], ['O'], ['B-gpe'], ['O'], ['O'], ['O'], ['O'], ['O'], ['O'], ['B-geo'], ['B-gpe'], ['O'], ['O'], ['O'], ['O'], ['O'], ['O'], ['O'], ['B-geo'], ['B-org'], ['O'], ['O'], ['B-per'], ['O'], ['O'], ['B-per'], ['O'], ['O'], ['O'], ['O'], ['O'], ['B-per'], ['O'], ['B-per'], ['O'], ['O'], ['O'], ['O'], ['O'], ['O'], ['B-geo'], ['B-per'], ['O'], ['O'], ['O'], ['B-per'], ['O'], ['O'], ['B-geo'], ['B-per'], ['O'], ['O'], ['O'], ['O'], ['O'], ['O'], ['O'], ['B-per'], ['O'], ['O'], ['O'], ['B-org'], ['O'], ['B-org'], ['B-org'], ['O'], ['B-geo'], ['O'], ['B-gpe'], ['O'], ['B-geo'], ['O'], ['O'], ['B-geo'], ['O'], ['O'], ['B-per'], ['B-gpe'], ['O'], ['O'], ['O'], ['B-gpe'], ['O'], ['O'], ['B-geo'], ['B-geo'], ['B-gpe'], ['O'], ['B-org'], ['O'], ['O'], ['O'], ['O'], ['O'], ['O'], ['B-per'], ['O'], ['O'], ['O'], ['O'], ['B-gpe'], ['O'], ['O'], ['O'], ['B-gpe'], ['O'], ['B-gpe'], ['O'], ['O'], ['B-per'], ['O'], ['O'], ['B-geo'], ['O'], ['B-geo'], ['O'], ['B-gpe'], ['O'], ['O'], ['B-org'], ['B-gpe'], ['B-per'], ['O'], ['O'], ['B-gpe'], ['O'], ['B-geo'], ['O'], ['B-gpe'], ['O'], ['O'], ['O'], ['B-gpe'], ['B-geo'], ['O'], ['B-geo'], ['O'], ['O'], ['B-per'], ['B-geo'], ['B-geo'], ['O'], ['O'], ['B-per'], ['O'], ['O'], ['O'], ['B-per'], ['B-geo'], ['O'], ['O'], ['O'], ['O'], ['B-org'], ['O'], ['B-geo'], ['O'], ['O'], ['O'], ['O'], ['O'], ['O'], ['B-gpe'], ['B-per'], ['B-geo'], ['B-per'], ['O'], ['O'], ['O'], ['O'], ['O'], ['O'], ['B-per'], ['B-geo'], ['O'], ['B-geo'], ['O'], ['B-geo'], ['O'], ['O'], ['B-org'], ['O'], ['B-org'], ['O'], ['O'], ['O'], ['O'], ['O'], ['O'], ['O'], ['O'], ['O'], ['O'], ['O'], ['O'], ['O'], ['B-per'], ['B-geo'], ['B-per'], ['B-gpe'], ['O'], ['O'], ['B-gpe'], ['O'], ['O'], ['B-per'], ['O'], ['O'], ['B-per'], ['O'], ['B-gpe'], ['B-per'], ['O'], ['B-gpe'], ['B-geo'], ['B-per'], ['O'], ['O'], ['O'], ['O'], ['O'], ['B-gpe'], ['O'], ['B-gpe'], ['O'], ['O'], ['O'], ['O'], ['B-gpe'], ['B-geo'], ['O'], ['O'], ['O'], ['O'], ['O'], ['B-geo'], ['O'], ['O'], ['O'], ['B-geo'], ['O'], ['O'], ['O'], ['O'], ['O'], ['O'], ['O'], ['O'], ['O'], ['O'], ['O'], ['B-geo'], ['B-per'], ['O'], ['O'], ['B-per'], ['O'], ['O'], ['O'], ['B-per'], ['O'], ['O'], ['O'], ['O'], ['O'], ['O'], ['O'], ['O'], ['B-org'], ['O'], ['O'], ['O'], ['O'], ['O'], ['O'], ['O'], ['B-gpe'], ['O'], ['O'], ['O'], ['O'], ['O'], ['B-org'], ['O'], ['O'], ['O'], ['O'], ['B-geo'], ['O'], ['O'], ['B-per'], ['B-gpe'], ['O'], ['O'], ['B-org'], ['O'], ['O'], ['O'], ['O'], ['O'], ['O'], ['O'], ['O'], ['O'], ['B-gpe'], ['O'], ['B-per'], ['O'], ['B-geo'], ['O'], ['O'], ['O'], ['O'], ['O'], ['O'], ['O'], ['B-per'], ['O'], ['O'], ['B-per'], ['B-geo'], ['B-per'], ['O'], ['O'], ['O'], ['O'], ['O'], ['B-per'], ['O'], ['O'], ['B-gpe'], ['O'], ['B-gpe'], ['B-per'], ['O'], ['O'], ['B-per'], ['B-geo'], ['O'], ['O'], ['O'], ['O'], ['O'], ['O'], ['O'], ['O'], ['O'], ['O'], ['O'], ['B-geo'], ['B-geo'], ['O'], ['O'], ['O'], ['O'], ['B-per'], ['O'], ['B-per'], ['O'], ['O'], ['O'], ['B-org'], ['O'], ['O'], ['O'], ['O'], ['B-per'], ['B-per'], ['B-org'], ['B-gpe'], ['O'], ['O'], ['B-gpe'], ['B-per'], ['O'], ['O'], ['O'], ['O'], ['B-per'], ['B-gpe'], ['O'], ['O'], ['B-geo'], ['O'], ['O'], ['B-per'], ['O'], ['B-org'], ['B-geo'], ['O'], ['B-org'], ['B-per'], ['B-geo'], ['O'], ['O'], ['O'], ['O'], ['O'], ['O'], ['O'], ['O'], ['O'], ['O'], ['B-per'], ['B-per'], ['O'], ['O'], ['O'], ['B-geo'], ['B-gpe'], ['O'], ['B-per'], ['O'], ['O'], ['O'], ['O'], ['O'], ['B-per'], ['O'], ['B-gpe'], ['B-per'], ['O'], ['O'], ['B-per'], ['O'], ['B-geo'], ['O'], ['O'], ['O'], ['B-gpe'], ['O'], ['O'], ['O'], ['O'], ['O'], ['B-org'], ['O'], ['O'], ['O'], ['O'], ['O'], ['B-org'], ['O'], ['B-org'], ['O'], ['O'], ['O'], ['O'], ['O'], ['O'], ['O'], ['B-per'], ['B-geo'], ['O'], ['O'], ['O'], ['O'], ['B-per'], ['O'], ['B-per'], ['B-org'], ['O'], ['O'], ['O'], ['O'], ['B-per'], ['B-per'], ['O'], ['O'], ['B-per'], ['O'], ['B-org'], ['O'], ['O'], ['B-per'], ['O'], ['B-per'], ['B-per'], ['O'], ['O'], ['O'], ['O'], ['O'], ['B-org'], ['O'], ['B-geo'], ['O'], ['B-geo'], ['O'], ['O'], ['O'], ['O'], ['B-per'], ['B-gpe'], ['B-per'], ['B-per'], ['O'], ['O'], ['B-gpe'], ['O'], ['O'], ['B-org'], ['O'], ['B-per'], ['O'], ['O'], ['O'], ['O'], ['B-per'], ['O'], ['O'], ['O'], ['B-gpe'], ['O'], ['B-per'], ['B-gpe'], ['B-geo'], ['O'], ['O'], ['B-per'], ['O'], ['O'], ['O'], ['B-geo'], ['O'], ['O'], ['B-geo'], ['O'], ['O'], ['B-geo'], ['B-per'], ['B-geo'], ['O'], ['O'], ['O'], ['B-geo'], ['O'], ['B-geo'], ['B-per'], ['O'], ['O'], ['B-org'], ['O'], ['B-gpe'], ['O'], ['O'], ['B-gpe'], ['O'], ['B-per'], ['O'], ['O'], ['O'], ['O'], ['B-gpe'], ['B-geo'], ['O'], ['B-per'], ['O'], ['B-geo'], ['O'], ['B-gpe'], ['O'], ['B-per'], ['O'], ['B-per'], ['O'], ['O'], ['O'], ['O'], ['O'], ['O'], ['O'], ['O'], ['O'], ['B-per'], ['O'], ['O'], ['O'], ['O'], ['B-geo'], ['O'], ['O'], ['O'], ['B-gpe'], ['O'], ['O'], ['O'], ['O'], ['O'], ['O'], ['B-geo'], ['O'], ['O'], ['O'], ['O'], ['O'], ['B-per'], ['B-per'], ['B-per'], ['O'], ['O'], ['O'], ['O'], ['O'], ['O'], ['B-per'], ['B-geo'], ['B-gpe'], ['B-geo'], ['O'], ['O'], ['B-org'], ['O'], ['O'], ['O'], ['O'], ['O'], ['B-gpe'], ['B-geo'], ['O'], ['O'], ['O'], ['O'], ['B-gpe'], ['O'], ['O'], ['O'], ['O'], ['O'], ['O'], ['O'], ['O'], ['O'], ['O'], ['O'], ['O'], ['B-geo'], ['O'], ['O'], ['O'], ['O'], ['O'], ['O'], ['O'], ['O'], ['O'], ['O'], ['O'], ['B-geo'], ['B-per'], ['O'], ['O'], ['O'], ['B-gpe'], ['B-gpe'], ['B-gpe'], ['O'], ['B-geo'], ['B-per'], ['O'], ['B-geo'], ['O'], ['O'], ['O'], ['O'], ['O'], ['B-geo'], ['O'], ['O'], ['O'], ['B-per'], ['O'], ['O'], ['B-geo'], ['O'], ['B-per'], ['O'], ['O'], ['O'], ['B-per'], ['B-per'], ['O'], ['B-per'], ['O'], ['B-gpe'], ['O'], ['O'], ['O'], ['O'], ['B-org'], ['O'], ['O'], ['B-per'], ['O'], ['O'], ['O'], ['B-geo'], ['O'], ['O'], ['B-geo'], ['B-org'], ['O'], ['B-geo'], ['O'], ['O'], ['B-gpe'], ['B-geo'], ['O'], ['O'], ['O'], ['O'], ['B-gpe'], ['O'], ['O'], ['B-geo'], ['O'], ['O'], ['O'], ['O'], ['O'], ['O'], ['B-org'], ['O'], ['B-per'], ['O'], ['B-geo'], ['O'], ['B-gpe'], ['B-per'], ['O'], ['B-per'], ['O'], ['B-gpe'], ['O'], ['O'], ['O'], ['O'], ['B-org'], ['O'], ['O'], ['B-per'], ['O'], ['O'], ['O'], ['O'], ['B-per'], ['B-geo'], ['B-org'], ['O'], ['B-per'], ['O'], ['B-per'], ['O'], ['B-org'], ['O'], ['O'], ['O'], ['O'], ['O'], ['O'], ['B-gpe'], ['O'], ['O'], ['O'], ['O'], ['B-gpe'], ['O'], ['O'], ['B-gpe'], ['B-gpe'], ['O'], ['B-gpe'], ['B-geo'], ['O'], ['O'], ['O'], ['O'], ['O'], ['B-geo'], ['O'], ['O'], ['O'], ['O'], ['B-geo'], ['B-gpe'], ['O'], ['O'], ['B-per'], ['O'], ['O'], ['O'], ['B-gpe'], ['O'], ['B-geo'], ['B-per'], ['O'], ['O'], ['B-per'], ['O'], ['O'], ['O'], ['O'], ['O'], ['O'], ['O'], ['O'], ['O'], ['O'], ['O'], ['O'], ['B-per'], ['B-geo'], ['O'], ['O'], ['O'], ['O'], ['B-geo'], ['O'], ['O'], ['B-per'], ['O'], ['O'], ['O'], ['O'], ['B-geo'], ['O'], ['B-per'], ['O'], ['O'], ['O'], ['O'], ['B-per'], ['O'], ['B-geo'], ['O'], ['B-gpe'], ['O'], ['B-geo'], ['O'], ['O'], ['O'], ['B-per'], ['O'], ['O'], ['O'], ['O'], ['O'], ['O'], ['O'], ['O'], ['O'], ['O'], ['O'], ['B-per'], ['O'], ['B-gpe'], ['O'], ['O'], ['O'], ['O'], ['B-org'], ['O'], ['O'], ['O'], ['O'], ['O'], ['O'], ['O'], ['O'], ['O'], ['B-org'], ['O'], ['O'], ['O'], ['B-gpe'], ['O'], ['O'], ['O'], ['B-gpe'], ['O'], ['O'], ['O'], ['O'], ['O'], ['O'], ['O'], ['O'], ['O'], ['O'], ['O'], ['O'], ['B-org'], ['O'], ['O'], ['B-geo'], ['B-org'], ['B-gpe'], ['O'], ['B-per'], ['B-gpe'], ['O'], ['O'], ['O'], ['O'], ['O'], ['B-per'], ['B-org'], ['O'], ['O'], ['B-geo'], ['O'], ['O'], ['O'], ['O'], ['B-gpe'], ['O'], ['O'], ['O'], ['O'], ['B-geo'], ['O'], ['O'], ['O'], ['B-gpe'], ['B-geo'], ['B-geo'], ['O'], ['O'], ['O'], ['O'], ['B-org'], ['O'], ['B-geo'], ['O'], ['B-per'], ['B-geo'], ['B-per'], ['B-org'], ['O'], ['O'], ['B-gpe'], ['B-org'], ['O'], ['B-geo'], ['B-per'], ['B-per'], ['O'], ['O'], ['O'], ['O'], ['O'], ['B-org'], ['O'], ['O'], ['O'], ['B-gpe'], ['O'], ['O'], ['B-per'], ['O'], ['B-geo'], ['O'], ['B-org'], ['B-gpe'], ['O'], ['B-gpe'], ['B-gpe'], ['O'], ['O'], ['O'], ['O'], ['O'], ['B-org'], ['B-geo'], ['O'], ['B-geo'], ['O'], ['O'], ['O'], ['B-gpe'], ['B-geo'], ['B-org'], ['O'], ['B-geo'], ['O'], ['O'], ['O'], ['O'], ['O'], ['O'], ['O'], ['O'], ['B-gpe'], ['O'], ['B-org'], ['O'], ['B-per'], ['O'], ['B-gpe'], ['O'], ['O'], ['O'], ['O'], ['O'], ['O'], ['O'], ['O'], ['O'], ['B-gpe'], ['O'], ['B-per'], ['O'], ['O'], ['B-geo'], ['O'], ['O'], ['O'], ['O'], ['O'], ['O'], ['O'], ['O'], ['O'], ['B-gpe'], ['B-geo'], ['O'], ['O'], ['O'], ['O'], ['O'], ['O'], ['O'], ['O'], ['O'], ['O'], ['O'], ['O'], ['O'], ['O'], ['O'], ['B-per'], ['O'], ['B-geo'], ['O'], ['O'], ['O'], ['O'], ['O'], ['B-per'], ['O'], ['O'], ['O'], ['O'], ['O'], ['O'], ['O'], ['B-gpe'], ['O'], ['O'], ['B-gpe'], ['O'], ['O'], ['O'], ['O'], ['O'], ['B-geo'], ['B-gpe'], ['O'], ['B-geo'], ['O'], ['O'], ['O'], ['B-geo'], ['O'], ['O'], ['O'], ['B-gpe'], ['O'], ['O'], ['O'], ['O'], ['O'], ['O'], ['O'], ['O'], ['B-per'], ['O'], ['O'], ['B-org'], ['O'], ['B-geo'], ['O'], ['O'], ['O'], ['O'], ['O'], ['B-geo'], ['B-gpe'], ['O'], ['O'], ['O'], ['B-geo'], ['O'], ['O'], ['O'], ['O'], ['B-gpe'], ['O'], ['O'], ['O'], ['B-gpe'], ['B-geo'], ['O'], ['O'], ['B-geo'], ['O'], ['B-per'], ['O'], ['O'], ['B-geo'], ['O'], ['O'], ['O'], ['O'], ['O'], ['B-org'], ['O'], ['B-gpe'], ['O'], ['O'], ['B-gpe'], ['O'], ['O'], ['O'], ['O'], ['O'], ['O'], ['O'], ['O'], ['O'], ['O'], ['O'], ['O'], ['O'], ['O'], ['B-geo'], ['O'], ['B-geo'], ['B-gpe'], ['O'], ['B-geo'], ['O'], ['O'], ['O'], ['O'], ['O'], ['O'], ['B-per'], ['O'], ['B-per'], ['O'], ['B-org'], ['B-per'], ['B-per'], ['B-geo'], ['O'], ['B-gpe'], ['B-per'], ['O'], ['O'], ['O'], ['O'], ['O'], ['O'], ['B-gpe'], ['O'], ['B-per'], ['O'], ['O'], ['B-geo'], ['O'], ['B-gpe'], ['O'], ['B-gpe'], ['O'], ['B-per'], ['O'], ['O'], ['O'], ['O'], ['O'], ['O'], ['B-gpe'], ['O'], ['O'], ['O'], ['O'], ['O'], ['B-org'], ['O'], ['B-gpe'], ['O'], ['O'], ['B-org'], ['O'], ['O'], ['B-per'], ['O'], ['O'], ['O'], ['O'], ['O'], ['O'], ['O'], ['O'], ['O'], ['O'], ['B-per'], ['O'], ['O'], ['O'], ['O'], ['O'], ['O'], ['B-gpe'], ['B-geo'], ['O'], ['O'], ['O'], ['O'], ['B-geo'], ['B-geo'], ['B-per'], ['O'], ['B-per'], ['O'], ['B-geo'], ['B-geo'], ['O'], ['B-gpe'], ['B-per'], ['O'], ['O'], ['B-per'], ['O'], ['O'], ['O'], ['O'], ['O'], ['B-gpe'], ['B-org'], ['O'], ['O'], ['B-geo'], ['O'], ['B-org'], ['O'], ['B-per'], ['O'], ['B-gpe'], ['B-per'], ['O'], ['O'], ['B-gpe'], ['B-per'], ['O'], ['O'], ['B-org'], ['O'], ['B-geo'], ['B-geo'], ['B-geo'], ['O'], ['O'], ['O'], ['O'], ['B-per'], ['O'], ['B-geo'], ['O'], ['O'], ['O'], ['O'], ['B-geo'], ['O'], ['O'], ['B-per'], ['B-per'], ['O'], ['O'], ['B-geo'], ['O'], ['O'], ['B-gpe'], ['O'], ['O'], ['O'], ['O'], ['O'], ['O'], ['O'], ['O'], ['O'], ['O'], ['B-geo'], ['O'], ['O'], ['O'], ['B-geo'], ['B-geo'], ['B-per'], ['O'], ['B-gpe'], ['B-geo'], ['B-geo'], ['B-org'], ['B-per'], ['B-per'], ['B-per'], ['O'], ['B-org'], ['B-org'], ['O'], ['O'], ['O'], ['O'], ['O'], ['O'], ['O'], ['O'], ['O'], ['O'], ['O'], ['O'], ['O'], ['B-per'], ['O'], ['O'], ['O'], ['O'], ['O'], ['O'], ['O'], ['B-gpe'], ['O'], ['O'], ['O'], ['O'], ['O'], ['B-per'], ['B-gpe'], ['O'], ['O'], ['O'], ['O'], ['B-geo'], ['B-gpe'], ['B-geo'], ['O'], ['B-per'], ['O'], ['O'], ['O'], ['O'], ['O'], ['O'], ['O'], ['B-gpe'], ['O'], ['O'], ['B-geo'], ['O'], ['O'], ['O'], ['B-geo'], ['O'], ['O'], ['B-per'], ['O'], ['O'], ['O'], ['O'], ['O'], ['B-per'], ['B-geo'], ['B-geo'], ['O'], ['B-per'], ['O'], ['B-geo'], ['O'], ['O'], ['O'], ['B-geo'], ['O'], ['O'], ['O'], ['O'], ['O'], ['O'], ['B-gpe'], ['O'], ['O'], ['O'], ['O'], ['O'], ['O'], ['O'], ['B-gpe'], ['O'], ['B-org'], ['O'], ['O'], ['O'], ['B-geo'], ['O'], ['B-per'], ['O'], ['O'], ['B-per'], ['O'], ['O'], ['O'], ['B-geo'], ['O'], ['O'], ['O'], ['O'], ['B-org'], ['B-geo'], ['O'], ['B-per'], ['O'], ['B-per'], ['B-per'], ['B-org'], ['B-geo'], ['O'], ['O'], ['O'], ['O'], ['B-gpe'], ['O'], ['O'], ['O'], ['B-org'], ['O'], ['O'], ['O'], ['B-org'], ['O'], ['O'], ['B-geo'], ['O'], ['O'], ['O'], ['O'], ['B-geo'], ['B-gpe'], ['O'], ['O'], ['B-org'], ['O'], ['O'], ['O'], ['O'], ['O'], ['B-per'], ['B-gpe'], ['B-org'], ['O'], ['O'], ['O'], ['O'], ['O'], ['B-per'], ['O'], ['O'], ['O'], ['B-gpe'], ['O'], ['B-per'], ['B-per'], ['O'], ['O'], ['O'], ['O'], ['O'], ['O'], ['O'], ['O'], ['O'], ['O'], ['O'], ['B-gpe'], ['O'], ['O'], ['O'], ['O'], ['O'], ['O'], ['B-geo'], ['B-per'], ['O'], ['O'], ['B-geo'], ['O'], ['O'], ['B-per'], ['O'], ['O'], ['B-geo'], ['O'], ['O'], ['O'], ['O'], ['B-gpe'], ['B-geo'], ['O'], ['O'], ['O'], ['B-gpe'], ['O'], ['B-geo'], ['O'], ['O'], ['O'], ['B-per'], ['O'], ['O'], ['B-gpe'], ['O'], ['B-per'], ['O'], ['O'], ['O'], ['O'], ['O'], ['O'], ['B-per'], ['O'], ['O'], ['B-geo'], ['O'], ['O'], ['O'], ['O'], ['O'], ['O'], ['O'], ['O'], ['O'], ['O'], ['O'], ['O'], ['B-gpe'], ['O'], ['O'], ['B-per'], ['O'], ['O'], ['B-gpe'], ['B-gpe'], ['O'], ['O'], ['O'], ['O'], ['B-per'], ['O'], ['O'], ['O'], ['B-org'], ['O'], ['B-gpe'], ['O'], ['O'], ['O'], ['B-gpe'], ['O'], ['B-geo'], ['O'], ['B-per'], ['O'], ['O'], ['O'], ['O'], ['O'], ['B-per'], ['B-per'], ['B-gpe'], ['O'], ['B-geo'], ['O'], ['B-per'], ['O'], ['O'], ['O'], ['O'], ['O'], ['O'], ['O'], ['B-geo'], ['O'], ['O'], ['O'], ['B-per'], ['O'], ['O'], ['O'], ['B-per'], ['O'], ['B-gpe'], ['B-per'], ['O'], ['B-geo'], ['O'], ['O'], ['B-gpe'], ['O'], ['O'], ['B-gpe'], ['O'], ['B-geo'], ['O'], ['O'], ['O'], ['O'], ['O'], ['O'], ['B-gpe'], ['O'], ['B-per'], ['O'], ['B-per'], ['B-per'], ['B-org'], ['O'], ['O'], ['O'], ['B-per'], ['B-per'], ['O'], ['O'], ['O'], ['O'], ['B-gpe'], ['O'], ['O'], ['B-gpe'], ['O'], ['O'], ['B-geo'], ['B-gpe'], ['O'], ['B-per'], ['O'], ['B-geo'], ['O'], ['O'], ['O'], ['O'], ['O'], ['B-gpe'], ['O'], ['O'], ['O'], ['B-org'], ['O'], ['B-geo'], ['B-org'], ['O'], ['O'], ['O'], ['B-per'], ['B-gpe'], ['O'], ['O'], ['O'], ['B-geo'], ['O'], ['O'], ['O'], ['O'], ['O'], ['O'], ['O'], ['O'], ['O'], ['B-per'], ['O'], ['O'], ['O'], ['O'], ['O'], ['B-per'], ['O'], ['O'], ['O'], ['B-gpe'], ['O'], ['O'], ['O'], ['O'], ['O'], ['O'], ['O'], ['B-org'], ['O'], ['O'], ['O'], ['B-geo'], ['O'], ['O'], ['O'], ['O'], ['O'], ['B-geo'], ['O'], ['B-org'], ['B-geo'], ['O'], ['O'], ['B-gpe'], ['O'], ['O'], ['B-gpe'], ['B-geo'], ['B-per'], ['B-org'], ['B-geo'], ['B-gpe'], ['O'], ['O'], ['O'], ['O'], ['B-per'], ['O'], ['B-per'], ['O'], ['O'], ['O'], ['O'], ['O'], ['O'], ['B-gpe'], ['O'], ['O'], ['O'], ['O'], ['O'], ['O'], ['O'], ['O'], ['O'], ['O'], ['O'], ['O'], ['O'], ['B-per'], ['O'], ['O'], ['O'], ['O'], ['O'], ['O'], ['B-gpe'], ['B-per'], ['B-geo'], ['O'], ['O'], ['B-gpe'], ['O'], ['O'], ['O'], ['B-per'], ['O'], ['O'], ['O'], ['O'], ['B-gpe'], ['O'], ['O'], ['B-geo'], ['B-per'], ['O'], ['B-per'], ['B-gpe'], ['B-gpe'], ['B-per'], ['O'], ['O'], ['O'], ['O'], ['O'], ['O'], ['O'], ['B-org'], ['O'], ['O'], ['O'], ['B-org'], ['O'], ['O'], ['B-org'], ['B-per'], ['O'], ['B-per'], ['O'], ['O'], ['O'], ['O'], ['O'], ['B-gpe'], ['O'], ['B-org'], ['O'], ['O'], ['B-org'], ['O'], ['O'], ['O'], ['B-per'], ['O'], ['O'], ['B-geo'], ['B-org'], ['O'], ['B-geo'], ['B-per'], ['O'], ['O'], ['B-per'], ['O'], ['O'], ['O'], ['O'], ['O'], ['O'], ['B-geo'], ['B-per'], ['B-per'], ['O'], ['O'], ['B-per'], ['B-gpe'], ['O'], ['O'], ['O'], ['B-per'], ['O'], ['O'], ['B-gpe'], ['O'], ['B-geo'], ['O'], ['O'], ['B-gpe'], ['B-geo'], ['O'], ['O'], ['O'], ['B-gpe'], ['B-org'], ['O'], ['O'], ['O'], ['B-per'], ['O'], ['O'], ['O'], ['O'], ['O'], ['B-geo'], ['O'], ['O'], ['O'], ['O'], ['O'], ['B-geo'], ['B-per'], ['O'], ['O'], ['O'], ['O'], ['B-gpe'], ['B-geo'], ['O'], ['B-per'], ['O'], ['O'], ['O'], ['O'], ['O'], ['B-per'], ['O'], ['B-per'], ['O'], ['O'], ['O'], ['O'], ['B-org'], ['O'], ['B-gpe'], ['O'], ['O'], ['B-gpe'], ['B-gpe'], ['O'], ['O'], ['O'], ['O'], ['O'], ['B-gpe'], ['O'], ['B-geo'], ['O'], ['O'], ['O'], ['O'], ['O'], ['B-org'], ['B-geo'], ['B-geo'], ['O'], ['B-org'], ['O'], ['O'], ['O'], ['O'], ['B-org'], ['O'], ['O'], ['O'], ['B-per'], ['B-per'], ['O'], ['B-per'], ['O'], ['O'], ['O'], ['O'], ['B-per'], ['O'], ['O'], ['O'], ['B-geo'], ['O'], ['B-per'], ['O'], ['B-geo'], ['B-gpe'], ['B-per'], ['O'], ['B-gpe'], ['B-geo'], ['B-gpe'], ['O'], ['O'], ['O'], ['O'], ['O'], ['O'], ['O'], ['O'], ['O'], ['B-geo'], ['O'], ['O'], ['O'], ['B-geo'], ['O'], ['O'], ['O'], ['B-per'], ['B-gpe'], ['O'], ['B-geo'], ['B-per'], ['O'], ['B-geo'], ['B-per'], ['B-per'], ['B-per'], ['O'], ['O'], ['O'], ['B-gpe'], ['B-geo'], ['B-geo'], ['O'], ['B-gpe'], ['O'], ['O'], ['O'], ['O'], ['O'], ['O'], ['O'], ['B-gpe'], ['O'], ['O'], ['B-org'], ['B-org'], ['O'], ['O'], ['B-per'], ['O'], ['O'], ['O'], ['O'], ['B-per'], ['B-per'], ['O'], ['O'], ['O'], ['O'], ['O'], ['O'], ['B-gpe'], ['O'], ['O'], ['O'], ['O'], ['O'], ['O'], ['O'], ['O'], ['O'], ['B-per'], ['O'], ['O'], ['B-geo'], ['B-geo'], ['B-gpe'], ['O'], ['B-gpe'], ['O'], ['O'], ['O'], ['O'], ['O'], ['O'], ['O'], ['O'], ['B-per'], ['O'], ['B-org'], ['B-per'], ['O'], ['O'], ['B-org'], ['O'], ['O'], ['O'], ['O'], ['B-gpe'], ['O'], ['O'], ['O'], ['O'], ['O'], ['O'], ['O'], ['O'], ['O'], ['O'], ['O'], ['O'], ['O'], ['B-org'], ['B-per'], ['B-gpe'], ['O'], ['O'], ['O'], ['O'], ['O'], ['O'], ['O'], ['B-org'], ['O'], ['O'], ['B-geo'], ['O'], ['O'], ['B-org'], ['O'], ['O'], ['B-geo'], ['O'], ['O'], ['B-gpe'], ['O'], ['B-gpe'], ['B-gpe'], ['O'], ['B-org'], ['O'], ['B-per'], ['O'], ['O'], ['O'], ['O'], ['O'], ['O'], ['B-geo'], ['B-per'], ['O'], ['O'], ['O'], ['B-gpe'], ['O'], ['O'], ['O'], ['B-geo'], ['B-per'], ['B-per'], ['O'], ['O'], ['B-per'], ['O'], ['O'], ['O'], ['O'], ['B-per'], ['O'], ['O'], ['O'], ['O'], ['O'], ['O'], ['O'], ['O'], ['B-geo'], ['B-gpe'], ['O'], ['O'], ['B-org'], ['O'], ['B-per'], ['B-per'], ['B-per'], ['O'], ['B-per'], ['O'], ['O'], ['O'], ['O'], ['O'], ['O'], ['O'], ['B-geo'], ['O'], ['O'], ['O'], ['O'], ['O'], ['O'], ['O'], ['B-org'], ['B-geo'], ['B-per'], ['O'], ['O'], ['B-per'], ['O'], ['B-geo'], ['O'], ['B-per'], ['O'], ['O'], ['O'], ['O'], ['B-geo'], ['O'], ['B-geo'], ['O'], ['O'], ['O'], ['B-geo'], ['O'], ['B-geo'], ['O'], ['O'], ['B-gpe'], ['O'], ['O'], ['O'], ['B-per'], ['O'], ['O'], ['O'], ['B-per'], ['B-gpe'], ['B-org'], ['O'], ['B-per'], ['O'], ['B-per'], ['O'], ['O'], ['B-per'], ['O'], ['O'], ['O'], ['B-geo'], ['B-gpe'], ['O'], ['O'], ['O'], ['O'], ['B-per'], ['B-per'], ['O'], ['O'], ['O'], ['O'], ['B-geo'], ['B-org'], ['B-per'], ['O'], ['O'], ['O'], ['O'], ['O'], ['O'], ['B-org'], ['O'], ['O'], ['O'], ['O'], ['B-org'], ['O'], ['B-geo'], ['B-geo'], ['O'], ['B-per'], ['O'], ['B-gpe'], ['O'], ['B-geo'], ['O'], ['O'], ['O'], ['O'], ['O'], ['O'], ['O'], ['O'], ['O'], ['B-per'], ['O'], ['O'], ['O'], ['O'], ['O'], ['O'], ['O'], ['B-gpe'], ['O'], ['B-per'], ['O'], ['B-geo'], ['B-gpe'], ['O'], ['O'], ['O'], ['O'], ['B-geo'], ['O'], ['O'], ['O'], ['O'], ['B-gpe'], ['O'], ['B-per'], ['O'], ['O'], ['B-per'], ['B-geo'], ['B-per'], ['O'], ['O'], ['O'], ['B-org'], ['O'], ['O'], ['O'], ['O'], ['O'], ['B-per'], ['O'], ['B-per'], ['O'], ['O'], ['B-org'], ['O'], ['B-gpe'], ['O'], ['O'], ['O'], ['B-per'], ['B-org'], ['B-gpe'], ['O'], ['B-geo'], ['O'], ['B-gpe'], ['B-per'], ['O'], ['O'], ['O'], ['O'], ['O'], ['O'], ['O'], ['O'], ['O'], ['O'], ['B-per'], ['O'], ['O'], ['O'], ['O'], ['O'], ['O'], ['O'], ['O'], ['B-org'], ['O'], ['O'], ['O'], ['O'], ['O'], ['B-per'], ['O'], ['O'], ['O'], ['O'], ['O'], ['O'], ['B-geo'], ['O'], ['O'], ['B-org'], ['O'], ['O'], ['O'], ['B-geo'], ['O'], ['B-org'], ['O'], ['O'], ['O'], ['O'], ['B-per'], ['O'], ['O'], ['O'], ['B-geo'], ['B-geo'], ['B-geo'], ['O'], ['O'], ['B-per'], ['O'], ['O'], ['O'], ['O'], ['O'], ['O'], ['O'], ['O'], ['B-org'], ['O'], ['O'], ['O'], ['B-per'], ['O'], ['B-per'], ['B-org'], ['O'], ['O'], ['O'], ['B-per'], ['B-gpe'], ['O'], ['B-org'], ['O'], ['B-per'], ['B-per'], ['O'], ['O'], ['O'], ['B-geo'], ['O'], ['O'], ['O'], ['B-per'], ['O'], ['O'], ['O'], ['O'], ['O'], ['O'], ['B-per'], ['O'], ['O'], ['B-per'], ['O'], ['B-gpe'], ['O'], ['O'], ['O'], ['B-per'], ['B-gpe'], ['B-geo'], ['B-gpe'], ['O'], ['O'], ['O'], ['O'], ['B-gpe'], ['O'], ['O'], ['B-per'], ['B-geo'], ['O'], ['B-per'], ['O'], ['O'], ['O'], ['O'], ['B-geo'], ['O'], ['O'], ['O'], ['O'], ['O'], ['O'], ['B-geo'], ['O'], ['O'], ['O'], ['O'], ['O'], ['O'], ['B-org'], ['B-gpe'], ['O'], ['O'], ['O'], ['O'], ['O'], ['B-per'], ['O'], ['B-per'], ['O'], ['O'], ['O'], ['B-gpe'], ['O'], ['B-per'], ['B-geo'], ['B-per'], ['O'], ['O'], ['O'], ['O'], ['B-per'], ['O'], ['O'], ['O'], ['O'], ['O'], ['O'], ['B-gpe'], ['B-gpe'], ['O'], ['O'], ['O'], ['B-per'], ['O'], ['O'], ['B-per'], ['B-org'], ['O'], ['O'], ['O'], ['B-geo'], ['B-per'], ['B-geo'], ['O'], ['O'], ['O'], ['O'], ['O'], ['B-geo'], ['O'], ['O'], ['B-org'], ['B-geo'], ['O'], ['O'], ['O'], ['O'], ['O'], ['B-per'], ['B-gpe'], ['B-gpe'], ['O'], ['O'], ['O'], ['B-gpe'], ['O'], ['O'], ['O'], ['O'], ['B-gpe'], ['O'], ['O'], ['O'], ['O'], ['O'], ['O'], ['O'], ['B-gpe'], ['O'], ['O'], ['O'], ['O'], ['O'], ['O'], ['B-geo'], ['B-org'], ['O'], ['B-org'], ['B-geo'], ['O'], ['O'], ['O'], ['O'], ['O'], ['O'], ['B-org'], ['B-geo'], ['B-gpe'], ['O'], ['O'], ['B-geo'], ['O'], ['O'], ['O'], ['O'], ['O'], ['O'], ['O'], ['O'], ['O'], ['O'], ['O'], ['B-org'], ['O'], ['O'], ['B-per'], ['O'], ['O'], ['B-per'], ['O'], ['O'], ['O'], ['O'], ['O'], ['O'], ['O'], ['O'], ['O'], ['O'], ['O'], ['O'], ['O'], ['B-per'], ['O'], ['O'], ['O'], ['B-per'], ['O'], ['O'], ['B-per'], ['O'], ['O'], ['O'], ['O'], ['O'], ['O'], ['O'], ['O'], ['B-geo'], ['O'], ['O'], ['O'], ['O'], ['O'], ['O'], ['O'], ['O'], ['O'], ['O'], ['O'], ['O'], ['O'], ['O'], ['B-per'], ['O'], ['O'], ['O'], ['O'], ['O'], ['O'], ['O'], ['B-gpe'], ['O'], ['O'], ['O'], ['O'], ['B-per'], ['O'], ['O'], ['O'], ['O'], ['O'], ['O'], ['O'], ['O'], ['B-geo'], ['O'], ['O'], ['B-per'], ['O'], ['B-geo'], ['O'], ['B-per'], ['O'], ['O'], ['O'], ['O'], ['O'], ['O'], ['O'], ['O'], ['O'], ['O'], ['O'], ['B-org'], ['O'], ['O'], ['O'], ['O'], ['B-per'], ['O'], ['B-geo'], ['B-per'], ['B-per'], ['O'], ['O'], ['O'], ['O'], ['O'], ['B-per'], ['B-per'], ['B-geo'], ['O'], ['B-org'], ['O'], ['B-per'], ['O'], ['O'], ['B-per'], ['O'], ['O'], ['O'], ['O'], ['O'], ['O'], ['B-per'], ['O'], ['B-org'], ['O'], ['O'], ['B-geo'], ['O'], ['O'], ['B-geo'], ['O'], ['O'], ['B-gpe'], ['B-org'], ['B-geo'], ['B-org'], ['B-per'], ['B-geo'], ['O'], ['O'], ['O'], ['O'], ['O'], ['O'], ['O'], ['B-gpe'], ['O'], ['O'], ['O'], ['O'], ['O'], ['O'], ['O'], ['B-geo'], ['O'], ['O'], ['O'], ['O'], ['O'], ['O'], ['O'], ['O'], ['O'], ['B-per'], ['O'], ['O'], ['O'], ['O'], ['O'], ['O'], ['O'], ['O'], ['B-gpe'], ['O'], ['O'], ['O'], ['O'], ['O'], ['O'], ['O'], ['B-geo'], ['B-org'], ['B-per'], ['B-geo'], ['O'], ['O'], ['O'], ['B-org'], ['O'], ['B-geo'], ['B-gpe'], ['O'], ['B-per'], ['O'], ['O'], ['B-org'], ['O'], ['O'], ['O'], ['O'], ['O'], ['B-per'], ['O'], ['O'], ['O'], ['O'], ['O'], ['O'], ['O'], ['O'], ['O'], ['B-geo'], ['B-gpe'], ['B-geo'], ['O'], ['O'], ['O'], ['B-org'], ['O'], ['O'], ['O'], ['O'], ['O'], ['O'], ['B-gpe'], ['B-geo'], ['B-gpe'], ['B-per'], ['O'], ['O'], ['B-org'], ['O'], ['O'], ['O'], ['O'], ['B-per'], ['O'], ['O'], ['O'], ['O'], ['O'], ['O'], ['B-per'], ['B-gpe'], ['O'], ['O'], ['O'], ['B-per'], ['O'], ['O'], ['O'], ['O'], ['B-gpe'], ['O'], ['B-per'], ['O'], ['O'], ['O'], ['O'], ['O'], ['O'], ['O'], ['O'], ['O'], ['O'], ['B-gpe'], ['O'], ['O'], ['O'], ['B-gpe'], ['B-per'], ['B-org'], ['O'], ['B-gpe'], ['O'], ['O'], ['O'], ['O'], ['B-per'], ['O'], ['B-per'], ['O'], ['O'], ['O'], ['B-geo'], ['O'], ['O'], ['O'], ['O'], ['B-gpe'], ['O'], ['O'], ['O'], ['B-per'], ['B-gpe'], ['O'], ['O'], ['B-gpe'], ['O'], ['B-geo'], ['B-gpe'], ['B-geo'], ['O'], ['O'], ['O'], ['B-per'], ['O'], ['O'], ['B-per'], ['O'], ['O'], ['B-org'], ['O'], ['B-gpe'], ['O'], ['O'], ['O'], ['B-per'], ['O'], ['O'], ['O'], ['O'], ['B-org'], ['O'], ['B-per'], ['O'], ['O'], ['O'], ['B-gpe'], ['O'], ['O'], ['O'], ['O'], ['O'], ['B-per'], ['O'], ['O'], ['O'], ['O'], ['B-per'], ['B-org'], ['O'], ['O'], ['B-gpe'], ['B-geo'], ['B-per'], ['O'], ['O'], ['O'], ['O'], ['O'], ['O'], ['O'], ['O'], ['B-org'], ['O'], ['O'], ['B-per'], ['B-gpe'], ['B-gpe'], ['O'], ['O'], ['O'], ['B-per'], ['O'], ['B-per'], ['O'], ['O'], ['O'], ['B-org'], ['O'], ['B-org'], ['O'], ['O'], ['O'], ['B-geo'], ['O'], ['O'], ['O'], ['O'], ['O'], ['O'], ['O'], ['O'], ['O'], ['O'], ['B-per'], ['O'], ['B-per'], ['O'], ['O'], ['B-per'], ['O'], ['O'], ['O'], ['B-per'], ['O'], ['O'], ['O'], ['O'], ['B-geo'], ['O'], ['O'], ['B-gpe'], ['O'], ['O'], ['O'], ['O'], ['O'], ['O'], ['B-per'], ['B-geo'], ['O'], ['B-geo'], ['O'], ['O'], ['B-gpe'], ['B-gpe'], ['O'], ['O'], ['B-geo'], ['B-geo'], ['O'], ['B-geo'], ['B-per'], ['O'], ['O'], ['B-geo'], ['B-gpe'], ['O'], ['B-per'], ['O'], ['O'], ['O'], ['O'], ['B-geo'], ['O'], ['O'], ['O'], ['O'], ['O'], ['O'], ['O'], ['O'], ['B-per'], ['B-per'], ['O'], ['O'], ['O'], ['O'], ['O'], ['O'], ['O'], ['B-geo'], ['O'], ['O'], ['O'], ['B-gpe'], ['O'], ['O'], ['O'], ['O'], ['B-gpe'], ['O'], ['B-org'], ['O'], ['O'], ['B-gpe'], ['O'], ['B-gpe'], ['O'], ['B-geo'], ['O'], ['O'], ['O'], ['B-geo'], ['O'], ['O'], ['O'], ['O'], ['O'], ['B-geo'], ['O'], ['O'], ['O'], ['O'], ['O'], ['B-geo'], ['O'], ['O'], ['O'], ['B-gpe'], ['B-per'], ['B-geo'], ['O'], ['O'], ['O'], ['O'], ['O'], ['B-per'], ['O'], ['B-org'], ['B-geo'], ['O'], ['B-per'], ['O'], ['O'], ['B-org'], ['O'], ['O'], ['O'], ['O'], ['B-gpe'], ['O'], ['B-gpe'], ['B-gpe'], ['O'], ['B-per'], ['B-geo'], ['O'], ['O'], ['B-per'], ['O'], ['O'], ['O'], ['O'], ['B-per'], ['B-geo'], ['O'], ['O'], ['O'], ['O'], ['O'], ['B-gpe'], ['O'], ['O'], ['B-geo'], ['O'], ['O'], ['O'], ['O'], ['O'], ['O'], ['O'], ['O'], ['O'], ['B-per'], ['O'], ['O'], ['O'], ['B-org'], ['O'], ['B-geo'], ['O'], ['O'], ['O'], ['O'], ['O'], ['O'], ['O'], ['O'], ['O'], ['B-geo'], ['B-gpe'], ['B-geo'], ['O'], ['O'], ['O'], ['O'], ['O'], ['O'], ['O'], ['O'], ['B-gpe'], ['B-geo'], ['B-gpe'], ['O'], ['O'], ['O'], ['B-gpe'], ['B-geo'], ['O'], ['O'], ['O'], ['O'], ['B-org'], ['O'], ['O'], ['B-per'], ['B-per'], ['O'], ['O'], ['O'], ['O'], ['O'], ['O'], ['O'], ['O'], ['B-per'], ['O'], ['O'], ['O'], ['B-org'], ['O'], ['O'], ['O'], ['O'], ['O'], ['O'], ['O'], ['O'], ['O'], ['O'], ['B-geo'], ['B-per'], ['B-per'], ['B-geo'], ['B-geo'], ['O'], ['O'], ['O'], ['O'], ['O'], ['O'], ['O'], ['O'], ['O'], ['O'], ['B-gpe'], ['B-per'], ['O'], ['O'], ['B-gpe'], ['O'], ['B-geo'], ['O'], ['B-geo'], ['B-per'], ['B-geo'], ['B-per'], ['O'], ['O'], ['O'], ['O'], ['O'], ['O'], ['B-gpe'], ['B-geo'], ['O'], ['O'], ['B-gpe'], ['O'], ['B-per'], ['O'], ['O'], ['O'], ['O'], ['B-per'], ['B-per'], ['O'], ['B-per'], ['O'], ['B-per'], ['O'], ['B-org'], ['O'], ['O'], ['B-geo'], ['O'], ['O'], ['O'], ['O'], ['O'], ['B-geo'], ['B-org'], ['O'], ['O'], ['O'], ['B-per'], ['B-gpe'], ['O'], ['O'], ['O'], ['O'], ['B-gpe'], ['B-geo'], ['O'], ['O'], ['B-geo'], ['O'], ['B-geo'], ['O'], ['O'], ['O'], ['O'], ['O'], ['O'], ['B-per'], ['O'], ['O'], ['O'], ['O'], ['O'], ['O'], ['B-per'], ['O'], ['O'], ['O'], ['B-gpe'], ['B-geo'], ['O'], ['O'], ['O'], ['B-org'], ['B-geo'], ['B-gpe'], ['O'], ['O'], ['O'], ['O'], ['O'], ['O'], ['B-gpe'], ['O'], ['O'], ['O'], ['O'], ['O'], ['O'], ['B-per'], ['O'], ['O'], ['O'], ['O'], ['O'], ['O'], ['O'], ['B-geo'], ['B-org'], ['B-per'], ['O'], ['O'], ['O'], ['O'], ['O'], ['O'], ['O'], ['O'], ['O'], ['O'], ['B-geo'], ['O'], ['O'], ['O'], ['O'], ['O'], ['B-org'], ['O'], ['O'], ['O'], ['O'], ['B-org'], ['O'], ['O'], ['O'], ['O'], ['O'], ['B-per'], ['B-org'], ['O'], ['B-gpe'], ['O'], ['O'], ['B-geo'], ['O'], ['B-per'], ['O'], ['O'], ['B-per'], ['O'], ['O'], ['B-gpe'], ['O'], ['B-org'], ['O'], ['O'], ['O'], ['O'], ['B-geo'], ['O'], ['O'], ['O'], ['B-org'], ['B-org'], ['O'], ['O'], ['O'], ['O'], ['O'], ['O'], ['B-gpe'], ['B-per'], ['O'], ['O'], ['B-org'], ['B-geo'], ['B-per'], ['B-geo'], ['O'], ['B-geo'], ['O'], ['O'], ['B-per'], ['O'], ['O'], ['O'], ['O'], ['B-gpe'], ['O'], ['O'], ['O'], ['O'], ['O'], ['B-per'], ['B-per'], ['B-geo'], ['O'], ['B-per'], ['O'], ['O'], ['B-per'], ['B-geo'], ['O'], ['O'], ['B-gpe'], ['B-org'], ['O'], ['O'], ['O'], ['B-geo'], ['O'], ['B-geo'], ['O'], ['O'], ['O'], ['B-gpe'], ['O'], ['B-geo'], ['B-geo'], ['O'], ['B-geo'], ['O'], ['O'], ['B-per'], ['O'], ['B-per'], ['O'], ['O'], ['O'], ['O'], ['O'], ['B-org'], ['O'], ['O'], ['O'], ['B-gpe'], ['O'], ['O'], ['O'], ['O'], ['O'], ['B-gpe'], ['B-per'], ['O'], ['O'], ['O'], ['O'], ['O'], ['O'], ['O'], ['B-per'], ['O'], ['B-per'], ['B-gpe'], ['O'], ['O'], ['O'], ['O'], ['O'], ['O'], ['B-gpe'], ['O'], ['B-geo'], ['B-org'], ['O'], ['O'], ['O'], ['O'], ['B-gpe'], ['O'], ['O'], ['O'], ['B-org'], ['O'], ['O'], ['O'], ['B-per'], ['O'], ['B-geo'], ['O'], ['O'], ['O'], ['O'], ['B-geo'], ['O'], ['O'], ['O'], ['O'], ['O'], ['B-gpe'], ['B-gpe'], ['O'], ['B-geo'], ['O'], ['B-org'], ['O'], ['O'], ['O'], ['B-geo'], ['O'], ['O'], ['O'], ['O'], ['B-gpe'], ['O'], ['O'], ['O'], ['B-per'], ['O'], ['O'], ['O'], ['B-geo'], ['O'], ['O'], ['O'], ['B-geo'], ['O'], ['O'], ['O'], ['O'], ['O'], ['O'], ['B-geo'], ['O'], ['O'], ['O'], ['B-org'], ['O'], ['B-geo'], ['B-geo'], ['O'], ['B-gpe'], ['O'], ['O'], ['O'], ['B-geo'], ['B-per'], ['O'], ['B-per'], ['O'], ['O'], ['B-geo'], ['O'], ['O'], ['O'], ['O'], ['B-gpe'], ['B-geo'], ['O'], ['O'], ['O'], ['O'], ['O'], ['O'], ['B-geo'], ['B-per'], ['B-geo'], ['B-gpe'], ['O'], ['O'], ['O'], ['O'], ['B-geo'], ['O'], ['B-per'], ['O'], ['B-gpe'], ['O'], ['B-per'], ['O'], ['B-gpe'], ['O'], ['O'], ['O'], ['B-geo'], ['O'], ['B-org'], ['B-gpe'], ['O'], ['O'], ['B-per'], ['O'], ['O'], ['O'], ['B-per'], ['O'], ['B-geo'], ['O'], ['O'], ['O'], ['O'], ['B-gpe'], ['O'], ['O'], ['O'], ['O'], ['O'], ['O'], ['B-geo'], ['O'], ['O'], ['O'], ['O'], ['O'], ['O'], ['O'], ['B-geo'], ['O'], ['B-per'], ['O'], ['B-per'], ['O'], ['O'], ['O'], ['O'], ['O'], ['O'], ['O'], ['B-geo'], ['O'], ['O'], ['B-per'], ['B-gpe'], ['B-org'], ['O'], ['O'], ['O'], ['O'], ['B-geo'], ['O'], ['B-geo'], ['B-per'], ['O'], ['O'], ['O'], ['O'], ['B-per'], ['O'], ['B-geo'], ['O'], ['O'], ['O'], ['O'], ['O'], ['O'], ['B-per'], ['O'], ['O'], ['O'], ['O'], ['O'], ['O'], ['O'], ['O'], ['O'], ['B-geo'], ['B-geo'], ['O'], ['B-org'], ['O'], ['B-gpe'], ['O'], ['B-geo'], ['O'], ['O'], ['O'], ['B-geo'], ['O'], ['O'], ['O'], ['O'], ['O'], ['O'], ['B-gpe'], ['O'], ['O'], ['O'], ['O'], ['B-geo'], ['O'], ['O'], ['B-per'], ['O'], ['B-per'], ['O'], ['O'], ['B-gpe'], ['O'], ['B-org'], ['O'], ['O'], ['O'], ['O'], ['O'], ['B-per'], ['O'], ['O'], ['O'], ['O'], ['O'], ['B-per'], ['O'], ['O'], ['O'], ['O'], ['B-per'], ['O'], ['O'], ['O'], ['B-geo'], ['O'], ['B-per'], ['O'], ['B-per'], ['O'], ['O'], ['B-geo'], ['O'], ['O'], ['O'], ['B-geo'], ['B-gpe'], ['O'], ['O'], ['O'], ['B-gpe'], ['O'], ['O'], ['O'], ['O'], ['O'], ['O'], ['O'], ['B-gpe'], ['O'], ['O'], ['B-geo'], ['B-geo'], ['O'], ['B-gpe'], ['B-per'], ['O'], ['B-geo'], ['O'], ['B-gpe'], ['O'], ['O'], ['B-geo'], ['B-gpe'], ['O'], ['O'], ['O'], ['O'], ['O'], ['O'], ['O'], ['O'], ['O'], ['O'], ['O'], ['O'], ['B-gpe'], ['O'], ['O'], ['O'], ['O'], ['O'], ['O'], ['O'], ['B-gpe'], ['B-per'], ['O'], ['O'], ['B-geo'], ['O'], ['O'], ['O'], ['O'], ['O'], ['B-per'], ['O'], ['O'], ['O'], ['B-geo'], ['O'], ['O'], ['O'], ['O'], ['O'], ['O'], ['O'], ['B-gpe'], ['B-geo'], ['O'], ['B-gpe'], ['B-gpe'], ['O'], ['B-org'], ['B-gpe'], ['B-per'], ['O'], ['B-geo'], ['O'], ['O'], ['B-gpe'], ['O'], ['O'], ['O'], ['O'], ['O'], ['O'], ['B-org'], ['O'], ['B-gpe'], ['B-geo'], ['B-per'], ['O'], ['O'], ['B-org'], ['B-gpe'], ['O'], ['O'], ['O'], ['B-org'], ['O'], ['O'], ['O'], ['O'], ['O'], ['O'], ['O'], ['O'], ['B-org'], ['B-per'], ['B-gpe'], ['B-geo'], ['O'], ['O'], ['O'], ['O'], ['O'], ['O'], ['B-gpe'], ['O'], ['O'], ['O'], ['B-gpe'], ['O'], ['O'], ['B-gpe'], ['O'], ['O'], ['O'], ['B-org'], ['O'], ['O'], ['O'], ['O'], ['O'], ['O'], ['O'], ['B-geo'], ['O'], ['O'], ['O'], ['O'], ['B-geo'], ['B-geo'], ['O'], ['B-per'], ['B-org'], ['O'], ['B-geo'], ['O'], ['O'], ['O'], ['O'], ['O'], ['O'], ['B-geo'], ['O'], ['B-geo'], ['B-per'], ['O'], ['O'], ['B-org'], ['B-gpe'], ['B-per'], ['B-per'], ['B-org'], ['O'], ['O'], ['O'], ['O'], ['O'], ['O'], ['B-geo'], ['O'], ['O'], ['O'], ['B-geo'], ['O'], ['O'], ['O'], ['B-org'], ['O'], ['O'], ['O'], ['O'], ['B-org'], ['O'], ['O'], ['B-gpe'], ['O'], ['O'], ['B-per'], ['B-per'], ['O'], ['O'], ['O'], ['O'], ['O'], ['O'], ['O'], ['B-per'], ['O'], ['O'], ['O'], ['O'], ['O'], ['O'], ['O'], ['O'], ['B-gpe'], ['O'], ['O'], ['B-gpe'], ['O'], ['B-geo'], ['O'], ['O'], ['O'], ['O'], ['O'], ['O'], ['B-org'], ['B-geo'], ['O'], ['B-geo'], ['O'], ['B-geo'], ['B-per'], ['B-org'], ['O'], ['O'], ['O'], ['O'], ['O'], ['B-gpe'], ['B-per'], ['B-gpe'], ['B-gpe'], ['O'], ['B-gpe'], ['O'], ['O'], ['O'], ['B-geo'], ['O'], ['B-per'], ['O'], ['O'], ['O'], ['B-gpe'], ['B-org'], ['O'], ['O'], ['B-geo'], ['O'], ['O'], ['B-gpe'], ['B-gpe'], ['O'], ['B-per'], ['O'], ['O'], ['B-per'], ['O'], ['O'], ['B-gpe'], ['O'], ['O'], ['O'], ['B-per'], ['B-gpe'], ['O'], ['O'], ['O'], ['O'], ['O'], ['O'], ['O'], ['B-gpe'], ['O'], ['B-gpe'], ['O'], ['B-per'], ['O'], ['O'], ['O'], ['O'], ['O'], ['O'], ['O'], ['O'], ['B-org'], ['O'], ['O'], ['B-geo'], ['O'], ['B-per'], ['O'], ['O'], ['B-gpe'], ['B-geo'], ['O'], ['O'], ['O'], ['B-geo'], ['O'], ['O'], ['O'], ['O'], ['B-geo'], ['O'], ['O'], ['B-gpe'], ['O'], ['O'], ['O'], ['B-per'], ['O'], ['O'], ['O'], ['O'], ['O'], ['O'], ['B-gpe'], ['O'], ['B-per'], ['O'], ['O'], ['O'], ['B-gpe'], ['O'], ['O'], ['B-gpe'], ['O'], ['B-geo'], ['O'], ['B-per'], ['O'], ['O'], ['B-gpe'], ['B-per'], ['O'], ['B-gpe'], ['O'], ['O'], ['O'], ['O'], ['O'], ['O'], ['B-geo'], ['O'], ['B-per'], ['B-geo'], ['B-geo'], ['O'], ['O'], ['B-org'], ['O'], ['O'], ['O'], ['O'], ['O'], ['O'], ['O'], ['B-geo'], ['B-org'], ['O'], ['O'], ['B-per'], ['B-geo'], ['O'], ['O'], ['O'], ['O'], ['O'], ['O'], ['O'], ['B-geo'], ['B-per'], ['O'], ['B-org'], ['B-gpe'], ['B-per'], ['B-geo'], ['B-gpe'], ['O'], ['B-gpe'], ['O'], ['O'], ['B-geo'], ['O'], ['O'], ['O'], ['B-per'], ['O'], ['B-geo'], ['O'], ['O'], ['O'], ['O'], ['O'], ['O'], ['O'], ['O'], ['O'], ['O'], ['O'], ['O'], ['O'], ['B-geo'], ['B-geo'], ['O'], ['O'], ['B-gpe'], ['O'], ['O'], ['O'], ['B-per'], ['O'], ['B-org'], ['O'], ['O'], ['B-per'], ['B-gpe'], ['O'], ['O'], ['O'], ['O'], ['O'], ['O'], ['O'], ['O'], ['O'], ['O'], ['B-gpe'], ['O'], ['O'], ['O'], ['O'], ['O'], ['O'], ['O'], ['O'], ['B-gpe'], ['O'], ['O'], ['O'], ['O'], ['O'], ['B-gpe'], ['B-per'], ['O'], ['B-per'], ['O'], ['O'], ['B-gpe'], ['O'], ['O'], ['O'], ['O'], ['B-per'], ['O'], ['B-per'], ['O'], ['O'], ['O'], ['O'], ['O'], ['O'], ['O'], ['B-gpe'], ['O'], ['O'], ['O'], ['B-per'], ['O'], ['B-gpe'], ['B-per'], ['B-geo'], ['B-per'], ['O'], ['O'], ['B-per'], ['O'], ['O'], ['B-per'], ['O'], ['O'], ['O'], ['O'], ['O'], ['O'], ['B-org'], ['O'], ['O'], ['O'], ['B-org'], ['O'], ['O'], ['O'], ['B-per'], ['O'], ['O'], ['B-org'], ['O'], ['O'], ['B-per'], ['O'], ['O'], ['O'], ['O'], ['O'], ['O'], ['O'], ['O'], ['B-per'], ['O'], ['O'], ['O'], ['O'], ['B-org'], ['O'], ['O'], ['O'], ['O'], ['O'], ['O'], ['B-per'], ['B-gpe'], ['B-per'], ['B-gpe'], ['O'], ['O'], ['O'], ['B-geo'], ['O'], ['O'], ['B-per'], ['O'], ['B-per'], ['B-geo'], ['B-gpe'], ['O'], ['B-org'], ['O'], ['B-per'], ['B-gpe'], ['O'], ['O'], ['O'], ['O'], ['O'], ['B-gpe'], ['B-gpe'], ['O'], ['O'], ['O'], ['O'], ['O'], ['O'], ['O'], ['O'], ['O'], ['B-geo'], ['O'], ['B-gpe'], ['B-org'], ['O'], ['O'], ['O'], ['O'], ['O'], ['O'], ['B-gpe'], ['O'], ['B-per'], ['O'], ['O'], ['O'], ['O'], ['O'], ['O'], ['O'], ['O'], ['O'], ['O'], ['O'], ['O'], ['O'], ['O'], ['O'], ['O'], ['O'], ['O'], ['B-per'], ['B-geo'], ['O'], ['O'], ['B-gpe'], ['B-per'], ['O'], ['O'], ['B-gpe'], ['B-geo'], ['B-gpe'], ['O'], ['O'], ['O'], ['O'], ['O'], ['B-geo'], ['B-per'], ['O'], ['O'], ['O'], ['B-per'], ['O'], ['O'], ['O'], ['O'], ['B-per'], ['O'], ['O'], ['B-geo'], ['O'], ['O'], ['O'], ['O'], ['O'], ['B-geo'], ['O'], ['O'], ['O'], ['O'], ['B-gpe'], ['B-gpe'], ['B-org'], ['B-org'], ['B-per'], ['O'], ['B-geo'], ['B-gpe'], ['B-geo'], ['O'], ['B-org'], ['O'], ['O'], ['B-per'], ['O'], ['B-geo'], ['B-gpe'], ['B-per'], ['O'], ['O'], ['O'], ['B-gpe'], ['O'], ['B-per'], ['B-gpe'], ['O'], ['O'], ['O'], ['B-geo'], ['O'], ['B-per'], ['O'], ['O'], ['O'], ['B-gpe'], ['B-gpe'], ['B-gpe'], ['B-gpe'], ['O'], ['O'], ['O'], ['O'], ['O'], ['O'], ['O'], ['O'], ['B-gpe'], ['O'], ['O'], ['B-org'], ['O'], ['O'], ['O'], ['B-per'], ['O'], ['B-geo'], ['B-gpe'], ['O'], ['B-gpe'], ['O'], ['O'], ['B-gpe'], ['O'], ['O'], ['O'], ['O'], ['B-geo'], ['B-per'], ['O'], ['O'], ['O'], ['O'], ['B-geo'], ['B-geo'], ['B-gpe'], ['B-per'], ['O'], ['O'], ['O'], ['O'], ['O'], ['O'], ['O'], ['O'], ['O'], ['O'], ['O'], ['O'], ['B-per'], ['O'], ['O'], ['O'], ['O'], ['B-per'], ['O'], ['B-gpe'], ['O'], ['B-per'], ['O'], ['O'], ['O'], ['O'], ['O'], ['O'], ['O'], ['O'], ['O'], ['O'], ['O'], ['O'], ['O'], ['B-geo'], ['B-per'], ['O'], ['O'], ['O'], ['O'], ['B-org'], ['O'], ['O'], ['B-org'], ['O'], ['O'], ['O'], ['B-per'], ['O'], ['B-org'], ['O'], ['O'], ['O'], ['B-org'], ['O'], ['O'], ['B-per'], ['O'], ['O'], ['O'], ['O'], ['O'], ['O'], ['B-org'], ['B-gpe'], ['O'], ['B-geo'], ['O'], ['B-geo'], ['B-org'], ['O'], ['O'], ['O'], ['B-per'], ['B-org'], ['O'], ['B-gpe'], ['O'], ['O'], ['B-org'], ['B-gpe'], ['O'], ['O'], ['O'], ['B-org'], ['O'], ['O'], ['O'], ['O'], ['O'], ['O'], ['O'], ['O'], ['O'], ['O'], ['O'], ['O'], ['O'], ['O'], ['B-org'], ['B-geo'], ['O'], ['B-gpe'], ['O'], ['B-per'], ['B-per'], ['O'], ['O'], ['B-org'], ['B-per'], ['O'], ['B-geo'], ['O'], ['O'], ['B-org'], ['O'], ['O'], ['O'], ['O'], ['B-per'], ['B-per'], ['O'], ['B-gpe'], ['O'], ['B-per'], ['B-geo'], ['O'], ['B-gpe'], ['O'], ['O'], ['O'], ['B-org'], ['O'], ['O'], ['B-org'], ['O'], ['O'], ['O'], ['O'], ['O'], ['B-per'], ['O'], ['B-geo'], ['O'], ['O'], ['B-gpe'], ['O'], ['B-per'], ['B-per'], ['O'], ['O'], ['O'], ['O'], ['B-per'], ['O'], ['O'], ['B-org'], ['O'], ['O'], ['O'], ['B-gpe'], ['B-per'], ['O'], ['B-per'], ['O'], ['B-gpe'], ['O'], ['B-geo'], ['O'], ['O'], ['O'], ['O'], ['O'], ['O'], ['B-gpe'], ['O'], ['O'], ['B-org'], ['O'], ['O'], ['B-gpe'], ['O'], ['O'], ['B-gpe'], ['O'], ['B-gpe'], ['O'], ['O'], ['B-per'], ['O'], ['B-per'], ['O'], ['O'], ['O'], ['B-per'], ['O'], ['O'], ['B-gpe'], ['O'], ['O'], ['O'], ['O'], ['O'], ['B-gpe'], ['O'], ['O'], ['O'], ['O'], ['O'], ['B-gpe'], ['O'], ['B-geo'], ['O'], ['O'], ['O'], ['O'], ['O'], ['B-geo'], ['O'], ['O'], ['O'], ['O'], ['O'], ['B-geo'], ['B-org'], ['B-per'], ['O'], ['O'], ['B-geo'], ['O'], ['B-gpe'], ['B-per'], ['O'], ['O'], ['B-geo'], ['B-geo'], ['B-org'], ['O'], ['B-geo'], ['B-per'], ['B-geo'], ['O'], ['O'], ['B-geo'], ['O'], ['B-gpe'], ['B-gpe'], ['O'], ['O'], ['O'], ['O'], ['O'], ['B-org'], ['O'], ['B-per'], ['B-per'], ['O'], ['B-org'], ['O'], ['O'], ['O'], ['O'], ['O'], ['O'], ['O'], ['O'], ['O'], ['O'], ['O'], ['O'], ['O'], ['B-geo'], ['B-geo'], ['O'], ['O'], ['O'], ['O'], ['O'], ['O'], ['O'], ['B-per'], ['O'], ['O'], ['O'], ['O'], ['O'], ['O'], ['O'], ['B-org'], ['O'], ['O'], ['B-gpe'], ['O'], ['O'], ['O'], ['O'], ['B-geo'], ['O'], ['O'], ['O'], ['O'], ['B-gpe'], ['O'], ['O'], ['B-per'], ['O'], ['B-per'], ['O'], ['B-gpe'], ['B-org'], ['O'], ['O'], ['O'], ['B-gpe'], ['O'], ['O'], ['B-per'], ['O'], ['B-gpe'], ['B-per'], ['B-geo'], ['O'], ['O'], ['O'], ['B-geo'], ['O'], ['O'], ['O'], ['O'], ['O'], ['B-gpe'], ['O'], ['B-geo'], ['B-per'], ['O'], ['O'], ['O'], ['O'], ['O'], ['B-per'], ['B-per'], ['O'], ['B-per'], ['B-org'], ['O'], ['O'], ['B-geo'], ['O'], ['O'], ['B-org'], ['O'], ['O'], ['O'], ['O'], ['O'], ['B-gpe'], ['O'], ['O'], ['O'], ['O'], ['O'], ['O'], ['O'], ['O'], ['O'], ['B-per'], ['O'], ['O'], ['B-per'], ['O'], ['B-gpe'], ['O'], ['B-per'], ['B-per'], ['O'], ['O'], ['B-org'], ['B-per'], ['B-geo'], ['O'], ['O'], ['B-org'], ['O'], ['B-per'], ['O'], ['B-geo'], ['O'], ['O'], ['O'], ['O'], ['B-geo'], ['O'], ['O'], ['B-per'], ['O'], ['O'], ['B-per'], ['B-gpe'], ['O'], ['O'], ['O'], ['B-gpe'], ['O'], ['B-geo'], ['B-geo'], ['O'], ['O'], ['O'], ['B-gpe'], ['O'], ['O'], ['O'], ['B-gpe'], ['O'], ['B-org'], ['O'], ['B-gpe'], ['B-per'], ['O'], ['B-gpe'], ['O'], ['O'], ['O'], ['O'], ['O'], ['O'], ['O'], ['B-geo'], ['B-geo'], ['O'], ['O'], ['O'], ['O'], ['O'], ['O'], ['O'], ['O'], ['B-geo'], ['B-gpe'], ['O'], ['B-geo'], ['O'], ['B-per'], ['B-gpe'], ['O'], ['O'], ['O'], ['O'], ['O'], ['O'], ['B-per'], ['O'], ['O'], ['O'], ['O'], ['B-org'], ['O'], ['O'], ['O'], ['B-per'], ['B-geo'], ['O'], ['B-geo'], ['B-gpe'], ['O'], ['B-geo'], ['B-gpe'], ['O'], ['O'], ['B-org'], ['O'], ['B-gpe'], ['O'], ['O'], ['O'], ['O'], ['O'], ['B-geo'], ['B-per'], ['B-geo'], ['O'], ['O'], ['B-per'], ['O'], ['O'], ['O'], ['O'], ['O'], ['O'], ['O'], ['B-per'], ['O'], ['O'], ['O'], ['B-geo'], ['O'], ['O'], ['B-per'], ['B-per'], ['B-org'], ['O'], ['O'], ['B-geo'], ['O'], ['B-geo'], ['O'], ['O'], ['B-geo'], ['O'], ['O'], ['O'], ['O'], ['B-gpe'], ['B-org'], ['O'], ['O'], ['O'], ['O'], ['O'], ['O'], ['O'], ['B-gpe'], ['O'], ['O'], ['B-per'], ['O'], ['O'], ['O'], ['O'], ['O'], ['B-per'], ['O'], ['B-per'], ['O'], ['O'], ['B-org'], ['B-per'], ['O'], ['O'], ['O'], ['O'], ['O'], ['O'], ['B-org'], ['O'], ['O'], ['O'], ['B-per'], ['O'], ['B-per'], ['O'], ['O'], ['O'], ['O'], ['O'], ['O'], ['O'], ['O'], ['O'], ['O'], ['B-org'], ['O'], ['B-per'], ['O'], ['B-gpe'], ['O'], ['O'], ['O'], ['O'], ['O'], ['O'], ['O'], ['O'], ['O'], ['O'], ['O'], ['O'], ['B-org'], ['O'], ['O'], ['B-per'], ['O'], ['O'], ['O'], ['O'], ['O'], ['B-geo'], ['O'], ['O'], ['O'], ['O'], ['O'], ['B-geo'], ['B-org'], ['O'], ['O'], ['O'], ['B-per'], ['B-geo'], ['O'], ['O'], ['O'], ['O'], ['O'], ['O'], ['B-per'], ['O'], ['O'], ['B-geo'], ['B-per'], ['B-per'], ['O'], ['O'], ['O'], ['O'], ['O'], ['O'], ['B-geo'], ['B-per'], ['O'], ['O'], ['O'], ['O'], ['B-org'], ['B-gpe'], ['B-geo'], ['O'], ['B-per'], ['B-per'], ['B-geo'], ['O'], ['B-geo'], ['O'], ['O'], ['B-gpe'], ['B-org'], ['O'], ['O'], ['O'], ['O'], ['O'], ['O'], ['O'], ['O'], ['O'], ['B-org'], ['B-gpe'], ['B-geo'], ['O'], ['O'], ['O'], ['B-geo'], ['O'], ['O'], ['O'], ['O'], ['O'], ['O'], ['O'], ['O'], ['B-gpe'], ['B-per'], ['O'], ['B-per'], ['B-org'], ['O'], ['O'], ['O'], ['O'], ['B-per'], ['O'], ['B-org'], ['O'], ['O'], ['B-gpe'], ['O'], ['O'], ['O'], ['O'], ['B-gpe'], ['O'], ['B-per'], ['O'], ['O'], ['O'], ['O'], ['B-gpe'], ['O'], ['O'], ['O'], ['O'], ['B-org'], ['O'], ['B-geo'], ['B-gpe'], ['B-geo'], ['O'], ['O'], ['B-geo'], ['B-org'], ['O'], ['O'], ['B-per'], ['O'], ['O'], ['O'], ['O'], ['O'], ['B-org'], ['O'], ['O'], ['B-gpe'], ['B-gpe'], ['O'], ['O'], ['O'], ['O'], ['O'], ['B-gpe'], ['O'], ['O'], ['O'], ['O'], ['O'], ['O'], ['O'], ['O'], ['B-org'], ['O'], ['O'], ['O'], ['B-org'], ['O'], ['O'], ['B-gpe'], ['O'], ['O'], ['O'], ['B-geo'], ['O'], ['O'], ['B-gpe'], ['O'], ['O'], ['O'], ['O'], ['B-geo'], ['O'], ['O'], ['B-gpe'], ['B-geo'], ['O'], ['O'], ['O'], ['O'], ['O'], ['O'], ['B-per'], ['O'], ['O'], ['B-per'], ['O'], ['O'], ['O'], ['B-geo'], ['O'], ['B-geo'], ['B-geo'], ['O'], ['O'], ['B-geo'], ['B-gpe'], ['O'], ['B-geo'], ['O'], ['O'], ['O'], ['O'], ['O'], ['O'], ['B-geo'], ['B-per'], ['O'], ['O'], ['O'], ['B-geo'], ['O'], ['B-per'], ['B-per'], ['O'], ['O'], ['B-gpe'], ['O'], ['O'], ['O'], ['O'], ['B-gpe'], ['B-per'], ['B-per'], ['B-geo'], ['O'], ['O'], ['B-per'], ['O'], ['O'], ['O'], ['O'], ['O'], ['B-geo'], ['O'], ['O'], ['O'], ['O'], ['O'], ['B-geo'], ['B-gpe'], ['O'], ['O'], ['O'], ['O'], ['O'], ['B-gpe'], ['B-per'], ['B-geo'], ['O'], ['B-gpe'], ['O'], ['O'], ['O'], ['O'], ['O'], ['O'], ['O'], ['B-geo'], ['O'], ['B-gpe'], ['B-per'], ['O'], ['O'], ['B-org'], ['O'], ['O'], ['O'], ['O'], ['O'], ['O'], ['B-gpe'], ['O'], ['O'], ['B-per'], ['B-org'], ['O'], ['O'], ['O'], ['O'], ['B-per'], ['B-org'], ['O'], ['O'], ['O'], ['B-geo'], ['B-gpe'], ['O'], ['B-geo'], ['B-gpe'], ['O'], ['B-geo'], ['O'], ['O'], ['O'], ['B-geo'], ['O'], ['O'], ['B-geo'], ['O'], ['B-per'], ['O'], ['O'], ['B-per'], ['O'], ['O'], ['B-gpe'], ['B-gpe'], ['O'], ['O'], ['B-gpe'], ['O'], ['B-gpe'], ['B-per'], ['B-org'], ['O'], ['O'], ['O'], ['O'], ['B-geo'], ['O'], ['O'], ['O'], ['O'], ['O'], ['O'], ['B-geo'], ['B-org'], ['B-geo'], ['O'], ['B-geo'], ['O'], ['B-per'], ['B-geo'], ['B-geo'], ['O'], ['O'], ['O'], ['O'], ['B-per'], ['B-gpe'], ['O'], ['O'], ['B-geo'], ['O'], ['B-per'], ['B-gpe'], ['O'], ['O'], ['B-geo'], ['O'], ['O'], ['O'], ['B-geo'], ['O'], ['O'], ['O'], ['O'], ['O'], ['O'], ['B-geo'], ['O'], ['O'], ['O'], ['O'], ['B-per'], ['O'], ['B-per'], ['O'], ['O'], ['B-geo'], ['B-geo'], ['O'], ['O'], ['O'], ['O'], ['B-geo'], ['B-geo'], ['O'], ['B-gpe'], ['B-gpe'], ['O'], ['O'], ['B-geo'], ['O'], ['B-per'], ['O'], ['O'], ['O'], ['O'], ['O'], ['O'], ['B-per'], ['B-gpe'], ['O'], ['B-gpe'], ['O'], ['O'], ['B-per'], ['B-per'], ['O'], ['O'], ['B-per'], ['B-geo'], ['O'], ['O'], ['O'], ['B-per'], ['O'], ['B-geo'], ['O'], ['O'], ['O'], ['B-org'], ['B-gpe'], ['O'], ['O'], ['O'], ['O'], ['O'], ['O'], ['O'], ['O'], ['O'], ['O'], ['O'], ['O'], ['O'], ['O'], ['O'], ['B-geo'], ['O'], ['O'], ['O'], ['O'], ['O'], ['O'], ['O'], ['B-geo'], ['B-geo'], ['O'], ['B-org'], ['O'], ['B-geo'], ['O'], ['B-org'], ['O'], ['O'], ['O'], ['O'], ['O'], ['O'], ['B-per'], ['O'], ['O'], ['O'], ['O'], ['O'], ['B-geo'], ['O'], ['O'], ['B-per'], ['B-geo'], ['O'], ['O'], ['B-gpe'], ['O'], ['O'], ['O'], ['O'], ['O'], ['O'], ['O'], ['O'], ['O'], ['O'], ['O'], ['O'], ['B-geo'], ['O'], ['B-geo'], ['B-gpe'], ['B-gpe'], ['O'], ['B-geo'], ['B-gpe'], ['B-geo'], ['O'], ['O'], ['O'], ['O'], ['O'], ['B-per'], ['O'], ['O'], ['B-per'], ['O'], ['O'], ['O'], ['B-per'], ['O'], ['B-org'], ['O'], ['O'], ['O'], ['O'], ['B-per'], ['O'], ['B-gpe'], ['O'], ['O'], ['O'], ['O'], ['O'], ['B-geo'], ['O'], ['O'], ['O'], ['O'], ['O'], ['B-gpe'], ['O'], ['B-geo'], ['O'], ['O'], ['B-geo'], ['O'], ['O'], ['B-org'], ['O'], ['O'], ['O'], ['O'], ['O'], ['O'], ['O'], ['O'], ['B-gpe'], ['O'], ['O'], ['B-org'], ['O'], ['B-per'], ['O'], ['B-geo'], ['O'], ['O'], ['O'], ['O'], ['O'], ['O'], ['O'], ['O'], ['O'], ['O'], ['B-gpe'], ['B-per'], ['O'], ['O'], ['O'], ['O'], ['O'], ['B-per'], ['B-gpe'], ['B-gpe'], ['B-geo'], ['B-geo'], ['B-geo'], ['O'], ['B-geo'], ['B-org'], ['B-org'], ['B-geo'], ['O'], ['B-gpe'], ['B-gpe'], ['O'], ['O'], ['B-geo'], ['B-gpe'], ['O'], ['O'], ['O'], ['O'], ['O'], ['O'], ['B-per'], ['O'], ['O'], ['B-per'], ['B-per'], ['O'], ['B-org'], ['O'], ['O'], ['B-geo'], ['O'], ['B-geo'], ['B-geo'], ['B-per'], ['O'], ['O'], ['O'], ['B-geo'], ['O'], ['O'], ['B-geo'], ['O'], ['B-org'], ['B-gpe'], ['O'], ['O'], ['B-org'], ['O'], ['B-per'], ['O'], ['O'], ['O'], ['O'], ['O'], ['O'], ['O'], ['O'], ['B-per'], ['B-per'], ['O'], ['O'], ['B-per'], ['O'], ['O'], ['O'], ['O'], ['O'], ['B-per'], ['O'], ['B-per'], ['O'], ['O'], ['O'], ['O'], ['O'], ['B-gpe'], ['O'], ['B-per'], ['O'], ['B-per'], ['O'], ['O'], ['B-per'], ['O'], ['B-per'], ['B-per'], ['O'], ['O'], ['O'], ['O'], ['B-geo'], ['O'], ['B-org'], ['O'], ['O'], ['O'], ['O'], ['O'], ['O'], ['O'], ['O'], ['B-geo'], ['O'], ['O'], ['O'], ['O'], ['O'], ['O'], ['B-gpe'], ['B-per'], ['O'], ['B-gpe'], ['O'], ['O'], ['B-org'], ['O'], ['O'], ['O'], ['O'], ['B-per'], ['O'], ['O'], ['O'], ['B-org'], ['B-gpe'], ['O'], ['B-gpe'], ['B-org'], ['B-per'], ['O'], ['O'], ['O'], ['O'], ['B-per'], ['O'], ['O'], ['O'], ['O'], ['O'], ['B-gpe'], ['O'], ['B-per'], ['O'], ['O'], ['O'], ['O'], ['O'], ['B-geo'], ['O'], ['O'], ['O'], ['O'], ['O'], ['B-geo'], ['O'], ['O'], ['O'], ['O'], ['B-gpe'], ['O'], ['B-geo'], ['B-geo'], ['O'], ['O'], ['O'], ['O'], ['B-per'], ['O'], ['B-geo'], ['O'], ['O'], ['O'], ['B-geo'], ['O'], ['B-per'], ['B-geo'], ['O'], ['O'], ['B-geo'], ['O'], ['O'], ['O'], ['O'], ['B-geo'], ['O'], ['B-gpe'], ['O'], ['O'], ['B-gpe'], ['B-org'], ['O'], ['O'], ['O'], ['O'], ['B-per'], ['O'], ['O'], ['O'], ['O'], ['B-geo'], ['B-geo'], ['B-geo'], ['O'], ['B-org'], ['O'], ['O'], ['B-gpe'], ['B-gpe'], ['B-geo'], ['O'], ['O'], ['O'], ['O'], ['O'], ['B-per'], ['O'], ['O'], ['B-geo'], ['O'], ['O'], ['O'], ['O'], ['O'], ['O'], ['B-geo'], ['O'], ['O'], ['O'], ['B-per'], ['O'], ['O'], ['O'], ['O'], ['O'], ['O'], ['O'], ['O'], ['B-per'], ['O'], ['O'], ['O'], ['O'], ['O'], ['B-gpe'], ['O'], ['B-org'], ['O'], ['O'], ['O'], ['O'], ['O'], ['B-per'], ['O'], ['O'], ['O'], ['O'], ['O'], ['B-gpe'], ['O'], ['O'], ['O'], ['O'], ['B-geo'], ['O'], ['O'], ['O'], ['O'], ['O'], ['O'], ['O'], ['O'], ['O'], ['B-geo'], ['O'], ['B-gpe'], ['B-per'], ['B-gpe'], ['O'], ['O'], ['O'], ['O'], ['O'], ['O'], ['B-geo'], ['B-gpe'], ['O'], ['O'], ['B-geo'], ['B-org'], ['O'], ['O'], ['O'], ['O'], ['O'], ['O'], ['O'], ['O'], ['B-gpe'], ['O'], ['O'], ['O'], ['O'], ['O'], ['B-gpe'], ['O'], ['B-geo'], ['O'], ['O'], ['B-geo'], ['O'], ['O'], ['B-per'], ['B-geo'], ['B-geo'], ['B-per'], ['O'], ['B-gpe'], ['B-geo'], ['B-org'], ['O'], ['O'], ['O'], ['O'], ['B-gpe'], ['O'], ['O'], ['O'], ['B-geo'], ['O'], ['O'], ['O'], ['O'], ['B-gpe'], ['B-org'], ['O'], ['O'], ['B-geo'], ['O'], ['O'], ['O'], ['O'], ['B-per'], ['O'], ['B-per'], ['O'], ['O'], ['O'], ['B-org'], ['B-per'], ['B-gpe'], ['B-per'], ['O'], ['O'], ['B-geo'], ['O'], ['B-geo'], ['O'], ['O'], ['O'], ['B-per'], ['O'], ['B-geo'], ['O'], ['B-per'], ['B-gpe'], ['B-per'], ['O'], ['O'], ['O'], ['O'], ['O'], ['O'], ['O'], ['B-org'], ['O'], ['O'], ['O'], ['O'], ['O'], ['O'], ['O'], ['O'], ['O'], ['O'], ['B-geo'], ['O'], ['O'], ['O'], ['O'], ['O'], ['O'], ['B-org'], ['O'], ['B-gpe'], ['B-per'], ['O'], ['O'], ['B-org'], ['O'], ['O'], ['O'], ['O'], ['O'], ['O'], ['O'], ['O'], ['B-geo'], ['O'], ['O'], ['O'], ['B-per'], ['O'], ['B-gpe'], ['O'], ['O'], ['O'], ['O'], ['O'], ['O'], ['O'], ['B-per'], ['B-per'], ['O'], ['O'], ['O'], ['O'], ['O'], ['O'], ['O'], ['O'], ['O'], ['O'], ['B-gpe'], ['B-per'], ['B-org'], ['O'], ['O'], ['O'], ['B-geo'], ['B-geo'], ['O'], ['O'], ['O'], ['B-gpe'], ['O'], ['O'], ['O'], ['B-geo'], ['O'], ['B-geo'], ['B-per'], ['O'], ['O'], ['O'], ['B-per'], ['B-gpe'], ['B-geo'], ['O'], ['O'], ['B-per'], ['O'], ['O'], ['B-gpe'], ['B-per'], ['O'], ['B-gpe'], ['B-per'], ['O'], ['O'], ['B-gpe'], ['O'], ['O'], ['O'], ['O'], ['O'], ['B-per'], ['O'], ['O'], ['O'], ['B-gpe'], ['B-geo'], ['O'], ['O'], ['O'], ['O'], ['B-per'], ['O'], ['B-gpe'], ['B-gpe'], ['O'], ['O'], ['O'], ['O'], ['O'], ['B-gpe'], ['O'], ['O'], ['B-per'], ['B-gpe'], ['O'], ['B-geo'], ['O'], ['O'], ['O'], ['O'], ['O'], ['O'], ['B-per'], ['O'], ['B-geo'], ['O'], ['O'], ['B-per'], ['B-per'], ['O'], ['O'], ['O'], ['B-org'], ['O'], ['O'], ['B-gpe'], ['O'], ['O'], ['B-per'], ['O'], ['B-geo'], ['O'], ['O'], ['O'], ['O'], ['O'], ['B-gpe'], ['O'], ['B-org'], ['B-org'], ['O'], ['B-geo'], ['O'], ['B-per'], ['O'], ['B-geo'], ['B-org'], ['O'], ['B-gpe'], ['O'], ['O'], ['B-per'], ['B-geo'], ['B-per'], ['B-geo'], ['O'], ['O'], ['O'], ['O'], ['O'], ['O'], ['O'], ['B-org'], ['O'], ['O'], ['B-geo'], ['O'], ['B-per'], ['O'], ['B-per'], ['O'], ['O'], ['O'], ['B-gpe'], ['O'], ['O'], ['B-per'], ['B-per'], ['O'], ['B-per'], ['O'], ['O'], ['O'], ['O'], ['B-gpe'], ['O'], ['B-geo'], ['O'], ['O'], ['O'], ['B-geo'], ['O'], ['O'], ['O'], ['O'], ['O'], ['B-gpe'], ['O'], ['O'], ['O'], ['O'], ['O'], ['O'], ['O'], ['O'], ['O'], ['O'], ['B-geo'], ['O'], ['O'], ['O'], ['O'], ['O'], ['O'], ['O'], ['B-org'], ['O'], ['B-per'], ['B-geo'], ['O'], ['O'], ['O'], ['O'], ['O'], ['O'], ['O'], ['B-geo'], ['O'], ['O'], ['O'], ['O'], ['O'], ['O'], ['O'], ['O'], ['B-per'], ['B-org'], ['O'], ['O'], ['B-geo'], ['B-gpe'], ['O'], ['O'], ['O'], ['B-org'], ['O'], ['B-geo'], ['B-gpe'], ['O'], ['O'], ['O'], ['O'], ['O'], ['O'], ['O'], ['B-geo'], ['B-geo'], ['O'], ['B-geo'], ['B-geo'], ['O'], ['B-geo'], ['O'], ['O'], ['O'], ['B-gpe'], ['B-org'], ['O'], ['B-gpe'], ['O'], ['O'], ['O'], ['O'], ['B-geo'], ['O'], ['O'], ['O'], ['O'], ['O'], ['O'], ['B-per'], ['B-geo'], ['O'], ['O'], ['O'], ['B-gpe'], ['O'], ['O'], ['O'], ['O'], ['B-org'], ['B-per'], ['B-org'], ['O'], ['B-per'], ['O'], ['O'], ['B-geo'], ['O'], ['O'], ['O'], ['B-per'], ['O'], ['B-gpe'], ['B-gpe'], ['O'], ['O'], ['B-geo'], ['O'], ['O'], ['O'], ['O'], ['B-geo'], ['B-geo'], ['B-per'], ['O'], ['B-per'], ['O'], ['B-gpe'], ['O'], ['B-geo'], ['O'], ['O'], ['O'], ['O'], ['B-per'], ['O'], ['O'], ['B-geo'], ['B-per'], ['B-org'], ['O'], ['B-org'], ['B-per'], ['O'], ['O'], ['O'], ['O'], ['O'], ['O'], ['O'], ['O'], ['B-geo'], ['B-gpe'], ['O'], ['B-per'], ['O'], ['B-per'], ['O'], ['O'], ['B-per'], ['B-geo'], ['O'], ['B-per'], ['B-per'], ['O'], ['O'], ['O'], ['O'], ['O'], ['B-per'], ['B-per'], ['O'], ['O'], ['O'], ['O'], ['B-geo'], ['O'], ['B-org'], ['B-gpe'], ['O'], ['B-geo'], ['B-gpe'], ['O'], ['O'], ['O'], ['O'], ['B-per'], ['O'], ['O'], ['O'], ['B-org'], ['B-per'], ['O'], ['O'], ['O'], ['B-geo'], ['O'], ['O'], ['O'], ['O'], ['B-geo'], ['B-per'], ['O'], ['O'], ['O'], ['O'], ['B-geo'], ['O'], ['O'], ['B-per'], ['O'], ['B-org'], ['O'], ['O'], ['B-gpe'], ['B-per'], ['O'], ['O'], ['B-per'], ['O'], ['O'], ['O'], ['B-geo'], ['O'], ['B-per'], ['O'], ['O'], ['O'], ['O'], ['B-gpe'], ['B-per'], ['O'], ['O'], ['O'], ['B-per'], ['O'], ['O'], ['O'], ['B-per'], ['B-per'], ['O'], ['O'], ['O'], ['B-geo'], ['B-org'], ['O'], ['B-org'], ['O'], ['O'], ['B-per'], ['O'], ['O'], ['O'], ['O'], ['O'], ['O'], ['O'], ['B-gpe'], ['B-per'], ['B-geo'], ['O'], ['O'], ['B-per'], ['B-per'], ['O'], ['B-gpe'], ['O'], ['O'], ['O'], ['B-per'], ['O'], ['B-geo'], ['O'], ['O'], ['B-per'], ['B-geo'], ['B-per'], ['O'], ['B-org'], ['O'], ['B-per'], ['B-gpe'], ['B-org'], ['O'], ['O'], ['O'], ['O'], ['O'], ['B-geo'], ['B-geo'], ['O'], ['O'], ['B-per'], ['B-gpe'], ['B-per'], ['O'], ['O'], ['O'], ['O'], ['O'], ['B-geo'], ['O'], ['O'], ['O'], ['O'], ['B-per'], ['B-org'], ['B-geo'], ['O'], ['O'], ['O'], ['B-per'], ['B-per'], ['O'], ['O'], ['B-geo'], ['O'], ['O'], ['O'], ['O'], ['B-gpe'], ['B-gpe'], ['O'], ['O'], ['O'], ['O'], ['B-gpe'], ['O'], ['O'], ['B-per'], ['B-geo'], ['O'], ['B-per'], ['O'], ['O'], ['O'], ['B-geo'], ['B-per'], ['O'], ['B-gpe'], ['O'], ['B-gpe'], ['O'], ['O'], ['B-per'], ['O'], ['B-gpe'], ['O'], ['O'], ['B-per'], ['O'], ['O'], ['B-geo'], ['O'], ['O'], ['B-geo'], ['O'], ['O'], ['O'], ['B-geo'], ['B-gpe'], ['B-gpe'], ['B-gpe'], ['O'], ['O'], ['B-per'], ['O'], ['O'], ['O'], ['O'], ['O'], ['O'], ['O'], ['B-geo'], ['O'], ['B-org'], ['O'], ['O'], ['O'], ['O'], ['O'], ['O'], ['O'], ['B-org'], ['O'], ['B-geo'], ['O'], ['O'], ['B-geo'], ['O'], ['B-per'], ['B-per'], ['O'], ['O'], ['O'], ['O'], ['O'], ['B-org'], ['O'], ['O'], ['O'], ['O'], ['O'], ['O'], ['B-geo'], ['O'], ['O'], ['O'], ['O'], ['O'], ['B-per'], ['O'], ['B-geo'], ['B-geo'], ['O'], ['O'], ['B-per'], ['O'], ['B-gpe'], ['B-per'], ['O'], ['B-gpe'], ['O'], ['O'], ['B-geo'], ['O'], ['O'], ['O'], ['O'], ['B-geo'], ['O'], ['O'], ['O'], ['O'], ['O'], ['B-org'], ['O'], ['B-gpe'], ['B-org'], ['B-gpe'], ['O'], ['B-per'], ['O'], ['B-gpe'], ['O'], ['B-geo'], ['O'], ['O'], ['O'], ['O'], ['O'], ['O'], ['B-per'], ['O'], ['B-gpe'], ['O'], ['O'], ['O'], ['B-per'], ['O'], ['B-per'], ['O'], ['B-gpe'], ['O'], ['O'], ['B-per'], ['O'], ['O'], ['O'], ['O'], ['O'], ['O'], ['O'], ['O'], ['O'], ['B-gpe'], ['O'], ['O'], ['O'], ['O'], ['O'], ['O'], ['O'], ['O'], ['O'], ['O'], ['B-per'], ['B-per'], ['O'], ['O'], ['O'], ['O'], ['B-per'], ['O'], ['B-org'], ['B-gpe'], ['B-org'], ['O'], ['B-gpe'], ['B-per'], ['B-per'], ['B-geo'], ['O'], ['O'], ['O'], ['B-geo'], ['B-geo'], ['O'], ['O'], ['B-org'], ['O'], ['B-geo'], ['O'], ['B-gpe'], ['B-per'], ['O'], ['O'], ['O'], ['B-per'], ['O'], ['O'], ['B-per'], ['O'], ['O'], ['O'], ['O'], ['O'], ['B-per'], ['O'], ['B-gpe'], ['O'], ['B-per'], ['O'], ['O'], ['O'], ['O'], ['O'], ['O'], ['B-org'], ['O'], ['O'], ['O'], ['O'], ['O'], ['O'], ['O'], ['O'], ['B-geo'], ['O'], ['O'], ['O'], ['O'], ['O'], ['B-gpe'], ['O'], ['O'], ['B-gpe'], ['B-per'], ['O'], ['O'], ['B-geo'], ['O'], ['O'], ['B-per'], ['B-gpe'], ['O'], ['B-per'], ['O'], ['O'], ['O'], ['O'], ['O'], ['O'], ['O'], ['O'], ['O'], ['O'], ['O'], ['O'], ['B-per'], ['B-gpe'], ['O'], ['O'], ['B-geo'], ['O'], ['B-geo'], ['O'], ['O'], ['B-per'], ['O'], ['O'], ['O'], ['O'], ['B-per'], ['O'], ['O'], ['B-gpe'], ['B-geo'], ['B-gpe'], ['O'], ['O'], ['B-org'], ['O'], ['O'], ['O'], ['O'], ['O'], ['B-geo'], ['O'], ['O'], ['B-org'], ['B-per'], ['O'], ['B-geo'], ['O'], ['O'], ['B-gpe'], ['B-org'], ['O'], ['O'], ['O'], ['O'], ['O'], ['O'], ['O'], ['O'], ['O'], ['B-geo'], ['O'], ['O'], ['B-geo'], ['O'], ['O'], ['B-per'], ['O'], ['O'], ['O'], ['O'], ['B-per'], ['O'], ['B-gpe'], ['O'], ['B-per'], ['O'], ['B-geo'], ['O'], ['O'], ['O'], ['O'], ['O'], ['O'], ['O'], ['B-org'], ['B-gpe'], ['O'], ['O'], ['O'], ['O'], ['O'], ['O'], ['O'], ['B-per'], ['O'], ['O'], ['B-geo'], ['O'], ['O'], ['O'], ['B-per'], ['O'], ['O'], ['O'], ['O'], ['O'], ['O'], ['B-geo'], ['O'], ['B-per'], ['B-per'], ['B-geo'], ['B-org'], ['B-org'], ['O'], ['O'], ['O'], ['O'], ['B-geo'], ['B-geo'], ['O'], ['O'], ['B-gpe'], ['O'], ['O'], ['O'], ['O'], ['B-per'], ['O'], ['O'], ['B-geo'], ['O'], ['O'], ['B-per'], ['B-gpe'], ['O'], ['O'], ['O'], ['B-geo'], ['O'], ['O'], ['O'], ['O'], ['B-per'], ['B-org'], ['O'], ['B-per'], ['O'], ['O'], ['O'], ['O'], ['B-gpe'], ['O'], ['B-gpe'], ['B-geo'], ['O'], ['O'], ['O'], ['O'], ['O'], ['O'], ['O'], ['O'], ['O'], ['O'], ['O'], ['O'], ['B-per'], ['O'], ['B-per'], ['O'], ['B-gpe'], ['B-gpe'], ['B-org'], ['B-per'], ['O'], ['O'], ['O'], ['O'], ['O'], ['O'], ['O'], ['O'], ['O'], ['B-geo'], ['B-per'], ['O'], ['O'], ['O'], ['O'], ['O'], ['O'], ['O'], ['B-geo'], ['O'], ['B-org'], ['O'], ['O'], ['O'], ['O'], ['B-per'], ['O'], ['O'], ['B-geo'], ['O'], ['O'], ['B-per'], ['O'], ['B-per'], ['O'], ['O'], ['B-per'], ['O'], ['O'], ['B-geo'], ['B-gpe'], ['B-per'], ['O'], ['B-geo'], ['O'], ['O'], ['O'], ['O'], ['O'], ['O'], ['O'], ['O'], ['O'], ['O'], ['B-org'], ['O'], ['B-org'], ['O'], ['O'], ['O'], ['O'], ['O'], ['O'], ['O'], ['O'], ['O'], ['O'], ['O'], ['O'], ['O'], ['B-per'], ['O'], ['O'], ['B-per'], ['O'], ['O'], ['O'], ['O'], ['O'], ['O'], ['O'], ['O'], ['O'], ['O'], ['B-geo'], ['B-per'], ['B-per'], ['B-gpe'], ['O'], ['O'], ['O'], ['O'], ['B-org'], ['O'], ['B-gpe'], ['O'], ['O'], ['O'], ['O'], ['B-geo'], ['B-per'], ['O'], ['B-geo'], ['O'], ['O'], ['O'], ['O'], ['O'], ['O'], ['B-gpe'], ['O'], ['B-geo'], ['O'], ['O'], ['B-per'], ['O'], ['O'], ['B-org'], ['B-per'], ['O'], ['B-gpe'], ['O'], ['O'], ['O'], ['O'], ['O'], ['O'], ['O'], ['B-gpe'], ['B-gpe'], ['B-per'], ['O'], ['B-geo'], ['O'], ['B-per'], ['B-per'], ['O'], ['O'], ['O'], ['B-per'], ['O'], ['B-gpe'], ['B-per'], ['O'], ['O'], ['B-geo'], ['O'], ['O'], ['O'], ['O'], ['O'], ['O'], ['O'], ['B-gpe'], ['O'], ['B-geo'], ['B-per'], ['B-per'], ['O'], ['O'], ['B-gpe'], ['B-geo'], ['O'], ['O'], ['O'], ['O'], ['O'], ['O'], ['O'], ['O'], ['O'], ['O'], ['O'], ['O'], ['O'], ['O'], ['O'], ['O'], ['B-per'], ['O'], ['O'], ['O'], ['O'], ['O'], ['O'], ['O'], ['O'], ['O'], ['O'], ['O'], ['O'], ['B-geo'], ['O'], ['B-per'], ['O'], ['O'], ['O'], ['O'], ['B-org'], ['O'], ['O'], ['O'], ['O'], ['O'], ['O'], ['B-org'], ['O'], ['O'], ['O'], ['O'], ['O'], ['B-gpe'], ['O'], ['O'], ['O'], ['O'], ['O'], ['B-geo'], ['O'], ['O'], ['B-per'], ['O'], ['O'], ['O'], ['O'], ['O'], ['O'], ['O'], ['O'], ['O'], ['O'], ['B-org'], ['O'], ['B-per'], ['B-per'], ['O'], ['O'], ['B-gpe'], ['O'], ['O'], ['B-gpe'], ['B-org'], ['O'], ['B-geo'], ['B-geo'], ['O'], ['O'], ['B-org'], ['O'], ['O'], ['O'], ['O'], ['B-geo'], ['O'], ['B-geo'], ['O'], ['O'], ['O'], ['O'], ['B-gpe'], ['O'], ['O'], ['B-geo'], ['O'], ['B-gpe'], ['B-per'], ['B-geo'], ['O'], ['O'], ['O'], ['B-org'], ['O'], ['O'], ['O'], ['B-per'], ['B-gpe'], ['O'], ['O'], ['O'], ['O'], ['B-per'], ['O'], ['O'], ['O'], ['B-gpe'], ['O'], ['B-per'], ['O'], ['O'], ['O'], ['O'], ['O'], ['B-per'], ['O'], ['B-geo'], ['O'], ['O'], ['B-per'], ['O'], ['O'], ['O'], ['O'], ['O'], ['O'], ['O'], ['O'], ['O'], ['O'], ['O'], ['O'], ['B-geo'], ['B-org'], ['B-gpe'], ['B-per'], ['O'], ['B-per'], ['B-geo'], ['O'], ['B-org'], ['O'], ['O'], ['O'], ['O'], ['B-org'], ['O'], ['O'], ['O'], ['O'], ['O'], ['O'], ['O'], ['O'], ['B-org'], ['O'], ['O'], ['B-gpe'], ['O'], ['O'], ['O'], ['O'], ['O'], ['O'], ['B-per'], ['O'], ['O'], ['B-gpe'], ['B-per'], ['O'], ['O'], ['O'], ['B-gpe'], ['O'], ['B-gpe'], ['O'], ['B-per'], ['O'], ['O'], ['O'], ['O'], ['O'], ['O'], ['B-per'], ['O'], ['B-org'], ['B-gpe'], ['B-per'], ['O'], ['B-gpe'], ['O'], ['O'], ['O'], ['O'], ['O'], ['O'], ['O'], ['O'], ['O'], ['B-org'], ['O'], ['B-geo'], ['B-per'], ['O'], ['O'], ['O'], ['B-org'], ['B-per'], ['O'], ['O'], ['O'], ['O'], ['O'], ['O'], ['O'], ['O'], ['B-gpe'], ['O'], ['O'], ['B-geo'], ['B-geo'], ['O'], ['B-per'], ['O'], ['O'], ['O'], ['O'], ['O'], ['O'], ['B-per'], ['B-per'], ['O'], ['O'], ['O'], ['O'], ['O'], ['O'], ['O'], ['B-gpe'], ['O'], ['B-geo'], ['O'], ['B-gpe'], ['B-geo'], ['B-org'], ['B-per'], ['O'], ['B-gpe'], ['O'], ['B-org'], ['O'], ['O'], ['O'], ['O'], ['O'], ['O'], ['O'], ['B-per'], ['O'], ['B-geo'], ['B-org'], ['B-org'], ['B-org'], ['B-gpe'], ['O'], ['B-gpe'], ['O'], ['O'], ['B-gpe'], ['B-per'], ['B-per'], ['O'], ['B-gpe'], ['O'], ['B-gpe'], ['O'], ['O'], ['O'], ['O'], ['O'], ['O'], ['O'], ['O'], ['O'], ['O'], ['O'], ['O'], ['O'], ['O'], ['B-geo'], ['O'], ['O'], ['O'], ['O'], ['O'], ['B-org'], ['O'], ['O'], ['O'], ['O'], ['O'], ['B-geo'], ['B-org'], ['O'], ['O'], ['O'], ['B-gpe'], ['O'], ['O'], ['B-gpe'], ['O'], ['B-geo'], ['O'], ['O'], ['O'], ['O'], ['O'], ['O'], ['B-per'], ['B-org'], ['B-geo'], ['O'], ['O'], ['O'], ['O'], ['B-geo'], ['O'], ['B-gpe'], ['O'], ['O'], ['O'], ['O'], ['O'], ['O'], ['B-per'], ['O'], ['B-geo'], ['B-per'], ['O'], ['O'], ['O'], ['B-per'], ['O'], ['O'], ['O'], ['O'], ['O'], ['B-gpe'], ['O'], ['O'], ['O'], ['O'], ['O'], ['O'], ['B-org'], ['O'], ['B-org'], ['O'], ['B-gpe'], ['B-org'], ['B-geo'], ['O'], ['O'], ['O'], ['O'], ['O'], ['O'], ['O'], ['B-gpe'], ['O'], ['O'], ['O'], ['O'], ['O'], ['O'], ['O'], ['O'], ['B-geo'], ['O'], ['O'], ['O'], ['O'], ['O'], ['O'], ['B-per'], ['O'], ['O'], ['O'], ['O'], ['B-geo'], ['O'], ['B-geo'], ['B-geo'], ['O'], ['B-gpe'], ['B-per'], ['O'], ['O'], ['B-gpe'], ['O'], ['O'], ['O'], ['O'], ['O'], ['O'], ['O'], ['O'], ['O'], ['O'], ['B-per'], ['B-per'], ['O'], ['O'], ['B-gpe'], ['B-org'], ['O'], ['O'], ['O'], ['B-per'], ['O'], ['B-geo'], ['O'], ['B-geo'], ['O'], ['O'], ['O'], ['O'], ['O'], ['O'], ['O'], ['B-per'], ['O'], ['O'], ['O'], ['O'], ['O'], ['O'], ['O'], ['O'], ['O'], ['O'], ['B-geo'], ['O'], ['O'], ['B-gpe'], ['O'], ['B-gpe'], ['O'], ['O'], ['O'], ['O'], ['O'], ['B-gpe'], ['B-per'], ['O'], ['O'], ['O'], ['O'], ['B-per'], ['B-gpe'], ['B-geo'], ['O'], ['O'], ['O'], ['O'], ['O'], ['B-org'], ['O'], ['B-geo'], ['O'], ['O'], ['B-gpe'], ['O'], ['B-per'], ['O'], ['O'], ['O'], ['O'], ['O'], ['O'], ['B-per'], ['O'], ['B-org'], ['O'], ['O'], ['O'], ['O'], ['B-per'], ['O'], ['O'], ['O'], ['O'], ['O'], ['O'], ['O'], ['B-geo'], ['O'], ['B-per'], ['B-per'], ['O'], ['B-geo'], ['O'], ['B-geo'], ['O'], ['B-gpe'], ['O'], ['O'], ['O'], ['O'], ['O'], ['O'], ['B-gpe'], ['O'], ['B-per'], ['B-geo'], ['O'], ['O'], ['B-geo'], ['B-geo'], ['B-gpe'], ['B-per'], ['O'], ['B-gpe'], ['O'], ['O'], ['O'], ['O'], ['O'], ['O'], ['O'], ['O'], ['O'], ['O'], ['B-org'], ['O'], ['B-gpe'], ['B-gpe'], ['O'], ['B-gpe'], ['O'], ['O'], ['O'], ['O'], ['O'], ['B-gpe'], ['B-gpe'], ['O'], ['B-gpe'], ['B-gpe'], ['O'], ['B-per'], ['O'], ['O'], ['O'], ['B-org'], ['B-per'], ['B-org'], ['O'], ['O'], ['B-per'], ['B-org'], ['O'], ['O'], ['O'], ['B-gpe'], ['B-gpe'], ['O'], ['O'], ['O'], ['O'], ['O'], ['O'], ['O'], ['O'], ['O'], ['O'], ['B-org'], ['O'], ['B-per'], ['O'], ['O'], ['O'], ['O'], ['B-per'], ['B-per'], ['O'], ['O'], ['O'], ['B-gpe'], ['O'], ['O'], ['O'], ['O'], ['O'], ['B-gpe'], ['B-per'], ['O'], ['B-per'], ['O'], ['B-geo'], ['O'], ['O'], ['B-geo'], ['O'], ['O'], ['B-geo'], ['O'], ['O'], ['O'], ['O'], ['B-per'], ['B-geo'], ['B-gpe'], ['O'], ['B-gpe'], ['B-org'], ['B-gpe'], ['O'], ['O'], ['O'], ['B-gpe'], ['O'], ['O'], ['O'], ['B-gpe'], ['B-geo'], ['O'], ['B-geo'], ['B-org'], ['B-gpe'], ['B-per'], ['O'], ['O'], ['O'], ['O'], ['B-geo'], ['B-per'], ['O'], ['B-gpe'], ['O'], ['B-org'], ['O'], ['B-gpe'], ['O'], ['O'], ['B-geo'], ['O'], ['O'], ['O'], ['O'], ['O'], ['O'], ['O'], ['O'], ['O'], ['B-gpe'], ['B-org'], ['B-geo'], ['B-per'], ['O'], ['B-gpe'], ['O'], ['O'], ['B-geo'], ['B-per'], ['O'], ['O'], ['B-gpe'], ['B-geo'], ['O'], ['O'], ['B-per'], ['O'], ['B-per'], ['O'], ['O'], ['B-per'], ['O'], ['O'], ['O'], ['O'], ['O'], ['B-per'], ['O'], ['B-gpe'], ['B-org'], ['O'], ['O'], ['O'], ['B-per'], ['B-gpe'], ['O'], ['O'], ['O'], ['O'], ['O'], ['B-geo'], ['B-org'], ['O'], ['O'], ['B-per'], ['B-geo'], ['B-per'], ['O'], ['O'], ['O'], ['O'], ['O'], ['O'], ['O'], ['O'], ['O'], ['O'], ['B-per'], ['O'], ['O'], ['O'], ['O'], ['O'], ['B-geo'], ['B-gpe'], ['O'], ['O'], ['O'], ['O'], ['O'], ['O'], ['O'], ['O'], ['B-per'], ['O'], ['O'], ['O'], ['B-org'], ['O'], ['B-gpe'], ['O'], ['O'], ['O'], ['O'], ['B-gpe'], ['B-per'], ['O'], ['O'], ['O'], ['O'], ['O'], ['O'], ['O'], ['O'], ['O'], ['O'], ['O'], ['O'], ['O'], ['O'], ['O'], ['O'], ['B-geo'], ['O'], ['B-per'], ['O'], ['O'], ['B-per'], ['O'], ['O'], ['O'], ['O'], ['B-gpe'], ['B-geo'], ['B-per'], ['O'], ['B-geo'], ['O'], ['O'], ['O'], ['O'], ['O'], ['O'], ['B-per'], ['O'], ['B-gpe'], ['O'], ['O'], ['B-geo'], ['O'], ['O'], ['O'], ['O'], ['B-geo'], ['B-gpe'], ['O'], ['O'], ['O'], ['O'], ['B-per'], ['B-per'], ['O'], ['O'], ['O'], ['O'], ['O'], ['O'], ['O'], ['O'], ['O'], ['B-org'], ['O'], ['O'], ['B-gpe'], ['B-org'], ['O'], ['O'], ['O'], ['B-per'], ['O'], ['O'], ['B-org'], ['B-gpe'], ['O'], ['B-per'], ['O'], ['O'], ['O'], ['O'], ['O'], ['O'], ['O'], ['O'], ['O'], ['B-geo'], ['O'], ['O'], ['B-geo'], ['O'], ['B-geo'], ['O'], ['O'], ['O'], ['O'], ['O'], ['O'], ['O'], ['O'], ['O'], ['O'], ['B-gpe'], ['O'], ['O'], ['O'], ['O'], ['B-geo'], ['O'], ['B-gpe'], ['B-per'], ['O'], ['B-per'], ['O'], ['O'], ['O'], ['O'], ['O'], ['O'], ['O'], ['O'], ['B-geo'], ['O'], ['O'], ['B-gpe'], ['B-geo'], ['O'], ['O'], ['B-per'], ['O'], ['O'], ['O'], ['O'], ['B-geo'], ['O'], ['B-gpe'], ['B-per'], ['O'], ['O'], ['O'], ['O'], ['O'], ['O'], ['O'], ['O'], ['O'], ['O'], ['O'], ['O'], ['B-org'], ['O'], ['O'], ['B-gpe'], ['B-gpe'], ['B-geo'], ['O'], ['O'], ['O'], ['O'], ['B-per'], ['O'], ['B-geo'], ['O'], ['B-per'], ['B-per'], ['O'], ['O'], ['O'], ['O'], ['O'], ['O'], ['B-per'], ['O'], ['O'], ['O'], ['B-gpe'], ['O'], ['O'], ['O'], ['O'], ['O'], ['O'], ['O'], ['O'], ['O'], ['O'], ['O'], ['O'], ['O'], ['B-per'], ['O'], ['O'], ['B-per'], ['O'], ['O'], ['B-gpe'], ['O'], ['B-per'], ['O'], ['O'], ['O'], ['B-geo'], ['O'], ['O'], ['O'], ['O'], ['O'], ['O'], ['O'], ['O'], ['B-gpe'], ['O'], ['O'], ['B-geo'], ['O'], ['O'], ['B-per'], ['O'], ['O'], ['B-per'], ['O'], ['O'], ['O'], ['B-gpe'], ['O'], ['O'], ['O'], ['O'], ['O'], ['O'], ['O'], ['O'], ['O'], ['O'], ['O'], ['O'], ['B-geo'], ['O'], ['O'], ['O'], ['O'], ['O'], ['B-gpe'], ['O'], ['B-gpe'], ['O'], ['O'], ['B-org'], ['O'], ['O'], ['O'], ['O'], ['O'], ['B-per'], ['O'], ['B-gpe'], ['O'], ['B-gpe'], ['O'], ['B-per'], ['O'], ['O'], ['O'], ['O'], ['O'], ['B-org'], ['O'], ['O'], ['O'], ['O'], ['O'], ['O'], ['O'], ['O'], ['O'], ['O'], ['O'], ['O'], ['B-org'], ['B-gpe'], ['O'], ['B-geo'], ['B-geo'], ['O'], ['O'], ['B-geo'], ['B-org'], ['O'], ['B-per'], ['B-gpe'], ['B-geo'], ['O'], ['O'], ['O'], ['O'], ['O'], ['O'], ['O'], ['B-gpe'], ['O'], ['O'], ['O'], ['O'], ['O'], ['O'], ['O'], ['O'], ['O'], ['O'], ['B-gpe'], ['O'], ['O'], ['O'], ['O'], ['B-per'], ['B-geo'], ['O'], ['O'], ['O'], ['B-org'], ['O'], ['O'], ['B-per'], ['B-per'], ['B-geo'], ['O'], ['O'], ['O'], ['O'], ['B-gpe'], ['B-geo'], ['B-gpe'], ['O'], ['O'], ['O'], ['O'], ['O'], ['O'], ['O'], ['O'], ['O'], ['O'], ['B-gpe'], ['B-org'], ['O'], ['O'], ['O'], ['O'], ['O'], ['B-geo'], ['O'], ['O'], ['B-gpe'], ['B-geo'], ['O'], ['O'], ['O'], ['O'], ['O'], ['O'], ['B-org'], ['O'], ['O'], ['B-per'], ['B-gpe'], ['O'], ['O'], ['B-org'], ['O'], ['B-per'], ['O'], ['O'], ['B-per'], ['O'], ['O'], ['O'], ['B-gpe'], ['O'], ['B-org'], ['B-gpe'], ['O'], ['O'], ['O'], ['B-per'], ['B-per'], ['O'], ['O'], ['O'], ['O'], ['O'], ['B-per'], ['B-per'], ['O'], ['B-geo'], ['O'], ['B-geo'], ['B-per'], ['O'], ['O'], ['O'], ['B-geo'], ['O'], ['O'], ['O'], ['O'], ['O'], ['O'], ['O'], ['O'], ['O'], ['O'], ['O'], ['B-geo'], ['O'], ['O'], ['O'], ['O'], ['O'], ['O'], ['B-geo'], ['B-geo'], ['O'], ['B-org'], ['B-gpe'], ['O'], ['O'], ['O'], ['O'], ['B-org'], ['B-geo'], ['O'], ['B-org'], ['B-per'], ['O'], ['B-geo'], ['O'], ['O'], ['O'], ['B-org'], ['O'], ['O'], ['B-per'], ['O'], ['O'], ['O'], ['O'], ['B-per'], ['O'], ['B-org'], ['O'], ['O'], ['O'], ['B-geo'], ['B-gpe'], ['B-org'], ['O'], ['O'], ['O'], ['B-org'], ['O'], ['O'], ['O'], ['O'], ['B-per'], ['O'], ['O'], ['O'], ['O'], ['B-gpe'], ['O'], ['B-gpe'], ['O'], ['O'], ['B-per'], ['O'], ['O'], ['B-per'], ['O'], ['O'], ['O'], ['O'], ['B-per'], ['O'], ['O'], ['O'], ['O'], ['O'], ['B-gpe'], ['B-per'], ['O'], ['O'], ['O'], ['B-gpe'], ['O'], ['O'], ['O'], ['O'], ['B-gpe'], ['B-org'], ['O'], ['B-gpe'], ['B-gpe'], ['O'], ['O'], ['O'], ['B-gpe'], ['B-per'], ['O'], ['B-gpe'], ['O'], ['B-per'], ['O'], ['O'], ['O'], ['O'], ['O'], ['O'], ['O'], ['O'], ['B-gpe'], ['O'], ['O'], ['O'], ['O'], ['O'], ['O'], ['O'], ['O'], ['O'], ['B-geo'], ['O'], ['B-geo'], ['O'], ['O'], ['O'], ['O'], ['O'], ['O'], ['B-gpe'], ['O'], ['B-gpe'], ['O'], ['O'], ['O'], ['B-geo'], ['O'], ['O'], ['B-geo'], ['O'], ['B-per'], ['B-per'], ['O'], ['O'], ['O'], ['O'], ['O'], ['O'], ['B-org'], ['O'], ['O'], ['O'], ['O'], ['O'], ['B-gpe'], ['O'], ['O'], ['O'], ['O'], ['B-per'], ['B-geo'], ['B-geo'], ['O'], ['O'], ['O'], ['O'], ['O'], ['B-per'], ['O'], ['B-per'], ['B-per'], ['O'], ['O'], ['O'], ['B-org'], ['O'], ['O'], ['O'], ['O'], ['O'], ['O'], ['O'], ['O'], ['O'], ['O'], ['O'], ['O'], ['O'], ['B-per'], ['O'], ['O'], ['O'], ['O'], ['B-org'], ['B-org'], ['B-geo'], ['B-gpe'], ['O'], ['O'], ['O'], ['O'], ['B-gpe'], ['O'], ['O'], ['O'], ['O'], ['O'], ['B-gpe'], ['O'], ['O'], ['O'], ['O'], ['O'], ['O'], ['O'], ['O'], ['B-gpe'], ['B-geo'], ['O'], ['B-per'], ['O'], ['O'], ['O'], ['O'], ['B-org'], ['O'], ['O'], ['O'], ['O'], ['O'], ['B-org'], ['O'], ['O'], ['O'], ['O'], ['O'], ['O'], ['O'], ['O'], ['O'], ['O'], ['O'], ['O'], ['B-gpe'], ['O'], ['O'], ['O'], ['O'], ['O'], ['B-per'], ['O'], ['O'], ['O'], ['O'], ['B-gpe'], ['O'], ['O'], ['O'], ['O'], ['O'], ['B-geo'], ['O'], ['B-per'], ['B-geo'], ['B-per'], ['B-per'], ['O'], ['B-per'], ['O'], ['O'], ['B-org'], ['B-per'], ['O'], ['O'], ['O'], ['O'], ['B-gpe'], ['O'], ['O'], ['O'], ['B-per'], ['B-geo'], ['O'], ['O'], ['O'], ['O'], ['O'], ['B-geo'], ['B-geo'], ['O'], ['B-geo'], ['O'], ['O'], ['B-geo'], ['O'], ['O'], ['O'], ['O'], ['B-geo'], ['O'], ['O'], ['B-per'], ['O'], ['O'], ['O'], ['B-geo'], ['O'], ['B-gpe'], ['B-org'], ['B-per'], ['B-geo'], ['B-per'], ['B-org'], ['B-org'], ['B-geo'], ['O'], ['O'], ['B-gpe'], ['O'], ['O'], ['B-org'], ['O'], ['O'], ['O'], ['O'], ['O'], ['B-geo'], ['O'], ['O'], ['O'], ['B-gpe'], ['O'], ['O'], ['B-per'], ['O'], ['O'], ['B-per'], ['O'], ['O'], ['O'], ['B-org'], ['O'], ['O'], ['B-per'], ['O'], ['B-org'], ['B-gpe'], ['O'], ['B-per'], ['B-per'], ['B-gpe'], ['B-geo'], ['O'], ['O'], ['B-geo'], ['O'], ['O'], ['O'], ['O'], ['O'], ['B-gpe'], ['B-per'], ['O'], ['B-org'], ['B-per'], ['B-geo'], ['O'], ['O'], ['B-org'], ['O'], ['B-geo'], ['O'], ['O'], ['B-per'], ['O'], ['B-gpe'], ['O'], ['B-geo'], ['O'], ['O'], ['B-org'], ['O'], ['O'], ['O'], ['O'], ['O'], ['O'], ['B-geo'], ['O'], ['O'], ['O'], ['O'], ['O'], ['O'], ['O'], ['O'], ['O'], ['B-org'], ['O'], ['O'], ['O'], ['B-per'], ['O'], ['O'], ['O'], ['B-per'], ['O'], ['O'], ['B-gpe'], ['O'], ['O'], ['O'], ['O'], ['O'], ['B-gpe'], ['O'], ['B-gpe'], ['B-geo'], ['O'], ['O'], ['B-gpe'], ['O'], ['O'], ['B-geo'], ['O'], ['B-gpe'], ['B-gpe'], ['O'], ['B-gpe'], ['B-per'], ['O'], ['O'], ['O'], ['B-per'], ['O'], ['O'], ['O'], ['B-per'], ['O'], ['B-per'], ['O'], ['O'], ['O'], ['O'], ['O'], ['O'], ['O'], ['O'], ['B-gpe'], ['O'], ['B-org'], ['B-gpe'], ['O'], ['O'], ['B-per'], ['O'], ['O'], ['O'], ['O'], ['O'], ['O'], ['O'], ['O'], ['B-org'], ['O'], ['O'], ['O'], ['O'], ['O'], ['B-per'], ['O'], ['O'], ['O'], ['O'], ['B-geo'], ['O'], ['O'], ['O'], ['O'], ['O'], ['O'], ['B-per'], ['O'], ['O'], ['O'], ['O'], ['O'], ['B-gpe'], ['O'], ['O'], ['B-gpe'], ['B-geo'], ['O'], ['B-org'], ['O'], ['O'], ['O'], ['O'], ['O'], ['O'], ['O'], ['B-per'], ['B-geo'], ['B-geo'], ['O'], ['O'], ['O'], ['B-org'], ['B-org'], ['O'], ['O'], ['O'], ['O'], ['B-per'], ['O'], ['O'], ['B-gpe'], ['O'], ['B-geo'], ['O'], ['O'], ['O'], ['O'], ['O'], ['B-geo'], ['B-geo'], ['O'], ['O'], ['B-gpe'], ['B-per'], ['B-gpe'], ['B-org'], ['B-per'], ['O'], ['O'], ['O'], ['O'], ['O'], ['B-per'], ['O'], ['O'], ['O'], ['O'], ['O'], ['O'], ['O'], ['B-per'], ['O'], ['O'], ['O'], ['O'], ['O'], ['B-per'], ['O'], ['O'], ['O'], ['O'], ['O'], ['O'], ['O'], ['O'], ['O'], ['O'], ['O'], ['O'], ['O'], ['O'], ['O'], ['O'], ['O'], ['B-gpe'], ['B-gpe'], ['B-org'], ['O'], ['O'], ['O'], ['O'], ['O'], ['B-per'], ['B-geo'], ['O'], ['O'], ['O'], ['B-geo'], ['O'], ['B-org'], ['B-geo'], ['O'], ['B-gpe'], ['B-per'], ['O'], ['O'], ['O'], ['O'], ['O'], ['O'], ['O'], ['B-per'], ['B-gpe'], ['O'], ['O'], ['O'], ['B-geo'], ['O'], ['O'], ['O'], ['B-per'], ['O'], ['B-gpe'], ['O'], ['B-geo'], ['B-per'], ['O'], ['O'], ['O'], ['O'], ['O'], ['O'], ['B-gpe'], ['O'], ['O'], ['O'], ['O'], ['O'], ['O'], ['O'], ['O'], ['O'], ['O'], ['B-per'], ['B-per'], ['B-gpe'], ['B-geo'], ['O'], ['O'], ['B-gpe'], ['O'], ['O'], ['O'], ['O'], ['O'], ['B-org'], ['O'], ['O'], ['O'], ['O'], ['O'], ['O'], ['B-org'], ['B-gpe'], ['O'], ['O'], ['O'], ['O'], ['B-per'], ['B-per'], ['O'], ['O'], ['O'], ['O'], ['O'], ['B-gpe'], ['B-gpe'], ['O'], ['O'], ['O'], ['O'], ['B-gpe'], ['O'], ['O'], ['O'], ['O'], ['B-geo'], ['O'], ['O'], ['O'], ['B-geo'], ['O'], ['O'], ['O'], ['O'], ['O'], ['O'], ['B-geo'], ['B-geo'], ['B-per'], ['O'], ['O'], ['O'], ['O'], ['O'], ['O'], ['B-gpe'], ['O'], ['B-org'], ['O'], ['B-per'], ['B-per'], ['O'], ['O'], ['B-gpe'], ['O'], ['B-gpe'], ['O'], ['O'], ['O'], ['O'], ['O'], ['O'], ['O'], ['O'], ['O'], ['O'], ['O'], ['O'], ['B-gpe'], ['B-geo'], ['B-gpe'], ['B-per'], ['O'], ['B-per'], ['O'], ['O'], ['O'], ['B-org'], ['O'], ['O'], ['B-per'], ['O'], ['O'], ['O'], ['O'], ['O'], ['B-gpe'], ['O'], ['O'], ['B-per'], ['O'], ['B-org'], ['O'], ['O'], ['B-gpe'], ['O'], ['B-geo'], ['O'], ['O'], ['O'], ['O'], ['B-geo'], ['O']]\n"
     ]
    }
   ],
   "source": [
    "test_pred = model.predict(X_test, verbose=1)\n",
    "\n",
    "idx2tag = {i: w for w, i in index_tag.items()}\n",
    "\n",
    "def pred2label(pred):\n",
    "    out = []\n",
    "    for pred_i in pred:\n",
    "        out_i = []\n",
    "        for p in pred_i:\n",
    "            p_i = np.argmax(p)\n",
    "            out_i.append(idx2tag[p_i].replace(\"PAD\", \"O\"))\n",
    "        out.append(out_i)\n",
    "    return out\n",
    "    \n",
    "pred_labels = pred2label(test_pred)\n",
    "test_labels = pred2label(y_test)\n",
    "print(pred_labels)\n"
   ]
  },
  {
   "cell_type": "code",
   "execution_count": 17,
   "metadata": {},
   "outputs": [
    {
     "name": "stdout",
     "output_type": "stream",
     "text": [
      "F1-score: 70.1%\n"
     ]
    }
   ],
   "source": [
    "print(\"F1-score: {:.1%}\".format(f1_score(test_labels, pred_labels)))"
   ]
  },
  {
   "cell_type": "code",
   "execution_count": 18,
   "metadata": {},
   "outputs": [
    {
     "name": "stdout",
     "output_type": "stream",
     "text": [
      "           precision    recall  f1-score   support\n",
      "\n",
      "      org       0.51      0.39      0.44       547\n",
      "      per       0.71      0.82      0.76       828\n",
      "      geo       0.69      0.84      0.76       678\n",
      "      gpe       0.73      0.89      0.80       605\n",
      "      tim       0.00      0.00      0.00        97\n",
      "      eve       0.00      0.00      0.00         5\n",
      "      art       0.00      0.00      0.00         6\n",
      "      nat       0.00      0.00      0.00         3\n",
      "\n",
      "micro avg       0.68      0.72      0.70      2769\n",
      "macro avg       0.64      0.72      0.68      2769\n",
      "\n"
     ]
    }
   ],
   "source": [
    "print(classification_report(test_labels, pred_labels))"
   ]
  }
 ],
 "metadata": {
  "kernelspec": {
   "display_name": "Python 3",
   "language": "python",
   "name": "python3"
  },
  "language_info": {
   "codemirror_mode": {
    "name": "ipython",
    "version": 3
   },
   "file_extension": ".py",
   "mimetype": "text/x-python",
   "name": "python",
   "nbconvert_exporter": "python",
   "pygments_lexer": "ipython3",
   "version": "3.8.2"
  }
 },
 "nbformat": 4,
 "nbformat_minor": 4
}
