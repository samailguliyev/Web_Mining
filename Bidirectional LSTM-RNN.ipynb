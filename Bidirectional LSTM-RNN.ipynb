{
 "cells": [
  {
   "cell_type": "code",
   "execution_count": 1,
   "metadata": {},
   "outputs": [
    {
     "name": "stderr",
     "output_type": "stream",
     "text": [
      "Using TensorFlow backend.\n"
     ]
    }
   ],
   "source": [
    "from math import nan\n",
    "from future.utils import iteritems\n",
    "from sklearn.model_selection import train_test_split\n",
    "import pandas as pd\n",
    "import numpy as np\n",
    "#from utils import get_data, generate_output, guess_human, seed_sequence, get_embeddings, find_closest\n",
    "import numpy as np\n",
    "import tensorflow as tf\n",
    "from keras.preprocessing.sequence import pad_sequences\n",
    "from keras.utils import to_categorical\n",
    "from keras.models import Model, Input\n",
    "from keras.layers import LSTM, Embedding, Dense, TimeDistributed, Dropout, Bidirectional\n",
    "import keras as k\n",
    "from seqeval.metrics import precision_score, recall_score, f1_score, classification_report\n",
    "import matplotlib.pyplot as plt"
   ]
  },
  {
   "cell_type": "code",
   "execution_count": 2,
   "metadata": {},
   "outputs": [
    {
     "data": {
      "text/html": [
       "<div>\n",
       "<style scoped>\n",
       "    .dataframe tbody tr th:only-of-type {\n",
       "        vertical-align: middle;\n",
       "    }\n",
       "\n",
       "    .dataframe tbody tr th {\n",
       "        vertical-align: top;\n",
       "    }\n",
       "\n",
       "    .dataframe thead th {\n",
       "        text-align: right;\n",
       "    }\n",
       "</style>\n",
       "<table border=\"1\" class=\"dataframe\">\n",
       "  <thead>\n",
       "    <tr style=\"text-align: right;\">\n",
       "      <th></th>\n",
       "      <th>Sentence #</th>\n",
       "      <th>Word</th>\n",
       "      <th>POS</th>\n",
       "      <th>Tag</th>\n",
       "    </tr>\n",
       "  </thead>\n",
       "  <tbody>\n",
       "    <tr>\n",
       "      <th>0</th>\n",
       "      <td>Sentence: 1</td>\n",
       "      <td>Thousands</td>\n",
       "      <td>NNS</td>\n",
       "      <td>O</td>\n",
       "    </tr>\n",
       "    <tr>\n",
       "      <th>1</th>\n",
       "      <td>NaN</td>\n",
       "      <td>of</td>\n",
       "      <td>IN</td>\n",
       "      <td>O</td>\n",
       "    </tr>\n",
       "    <tr>\n",
       "      <th>2</th>\n",
       "      <td>NaN</td>\n",
       "      <td>demonstrators</td>\n",
       "      <td>NNS</td>\n",
       "      <td>O</td>\n",
       "    </tr>\n",
       "    <tr>\n",
       "      <th>3</th>\n",
       "      <td>NaN</td>\n",
       "      <td>have</td>\n",
       "      <td>VBP</td>\n",
       "      <td>O</td>\n",
       "    </tr>\n",
       "    <tr>\n",
       "      <th>4</th>\n",
       "      <td>NaN</td>\n",
       "      <td>marched</td>\n",
       "      <td>VBN</td>\n",
       "      <td>O</td>\n",
       "    </tr>\n",
       "    <tr>\n",
       "      <th>...</th>\n",
       "      <td>...</td>\n",
       "      <td>...</td>\n",
       "      <td>...</td>\n",
       "      <td>...</td>\n",
       "    </tr>\n",
       "    <tr>\n",
       "      <th>667</th>\n",
       "      <td>NaN</td>\n",
       "      <td>Muslim</td>\n",
       "      <td>NNP</td>\n",
       "      <td>B-org</td>\n",
       "    </tr>\n",
       "    <tr>\n",
       "      <th>668</th>\n",
       "      <td>NaN</td>\n",
       "      <td>Brotherhood</td>\n",
       "      <td>NNP</td>\n",
       "      <td>I-org</td>\n",
       "    </tr>\n",
       "    <tr>\n",
       "      <th>669</th>\n",
       "      <td>NaN</td>\n",
       "      <td>as</td>\n",
       "      <td>IN</td>\n",
       "      <td>O</td>\n",
       "    </tr>\n",
       "    <tr>\n",
       "      <th>670</th>\n",
       "      <td>NaN</td>\n",
       "      <td>parts</td>\n",
       "      <td>NNS</td>\n",
       "      <td>O</td>\n",
       "    </tr>\n",
       "    <tr>\n",
       "      <th>671</th>\n",
       "      <td>NaN</td>\n",
       "      <td>of</td>\n",
       "      <td>IN</td>\n",
       "      <td>O</td>\n",
       "    </tr>\n",
       "  </tbody>\n",
       "</table>\n",
       "<p>672 rows × 4 columns</p>\n",
       "</div>"
      ],
      "text/plain": [
       "      Sentence #           Word  POS    Tag\n",
       "0    Sentence: 1      Thousands  NNS      O\n",
       "1            NaN             of   IN      O\n",
       "2            NaN  demonstrators  NNS      O\n",
       "3            NaN           have  VBP      O\n",
       "4            NaN        marched  VBN      O\n",
       "..           ...            ...  ...    ...\n",
       "667          NaN         Muslim  NNP  B-org\n",
       "668          NaN    Brotherhood  NNP  I-org\n",
       "669          NaN             as   IN      O\n",
       "670          NaN          parts  NNS      O\n",
       "671          NaN             of   IN      O\n",
       "\n",
       "[672 rows x 4 columns]"
      ]
     },
     "execution_count": 2,
     "metadata": {},
     "output_type": "execute_result"
    }
   ],
   "source": [
    "data = pd.read_csv(\"ner_dataset.csv\", encoding= 'unicode_escape') \n",
    "data.head(672)"
   ]
  },
  {
   "cell_type": "code",
   "execution_count": 3,
   "metadata": {},
   "outputs": [],
   "source": [
    "class SentenceGetter(object):\n",
    "    \n",
    "    def __init__(self, dataset):\n",
    "        self.n_sent = 1\n",
    "        self.dataset = dataset\n",
    "        self.empty = False\n",
    "        agg_func = lambda s: [(w, t) for w,t in zip(s[\"Word\"].values.tolist(),\n",
    "                                                        s[\"Tag\"].values.tolist())]\n",
    "        self.grouped = self.dataset.groupby(\"Sentence #\").apply(agg_func)\n",
    "        self.sentences = [s for s in self.grouped]\n",
    "    \n",
    "    def get_next(self):\n",
    "        try:\n",
    "            s = self.grouped[\"Sentence: {}\".format(self.n_sent)]\n",
    "            self.n_sent += 1\n",
    "            return s\n",
    "        except:\n",
    "            return None\n",
    "          \n",
    "getter = SentenceGetter(data)\n",
    "sentences = getter.sentences"
   ]
  },
  {
   "cell_type": "code",
   "execution_count": 4,
   "metadata": {},
   "outputs": [
    {
     "name": "stdout",
     "output_type": "stream",
     "text": [
      "['B-nat', 'B-tim', 'I-tim', 'B-per', 'I-art', 'I-nat', 'I-org', 'B-geo', 'I-geo', 'O', 'I-eve', 'I-per', 'B-gpe', 'I-gpe', 'B-eve', 'B-org', 'B-art']\n"
     ]
    }
   ],
   "source": [
    "words = list(set(data[\"Word\"].values))\n",
    "nrofWords = len(words)\n",
    "\n",
    "ner_tags = []\n",
    "for tag in set(data[\"Tag\"].values):\n",
    "    if tag is nan or isinstance(tag, float):\n",
    "        ner_tags.append('unk')\n",
    "    else:\n",
    "        ner_tags.append(tag)\n",
    "nrofTags = len(ner_tags)\n",
    "print(ner_tags)"
   ]
  },
  {
   "cell_type": "code",
   "execution_count": 5,
   "metadata": {},
   "outputs": [],
   "source": [
    "index_word = {w: i for i, w in enumerate(words)}\n",
    "index_tag = {t: i for i, t in enumerate(ner_tags)}\n",
    "idx2tag = {v: k for k, v in iteritems(index_tag)}"
   ]
  },
  {
   "cell_type": "code",
   "execution_count": 6,
   "metadata": {},
   "outputs": [],
   "source": [
    "maxlen = max([len(s) for s in sentences])\n",
    "word_embedding_size = 17\n",
    "\n",
    "X = [[index_word[w[0]] for w in s] for s in sentences]\n",
    "X = pad_sequences(maxlen=maxlen, sequences=X, padding=\"post\",value=nrofWords - 1)\n",
    "\n",
    "y = [[index_tag[w[1]] for w in s] for s in sentences]\n",
    "y = pad_sequences(maxlen=maxlen, sequences=y, padding=\"post\", value=index_tag[\"O\"])\n",
    "y = [to_categorical(i, num_classes=nrofTags) for i in y]\n",
    "\n",
    "# Split train and test data\n",
    "X_train, X_test, y_train, y_test = train_test_split(X, y, test_size=0.2)"
   ]
  },
  {
   "cell_type": "markdown",
   "metadata": {},
   "source": [
    "# Simple RNN model"
   ]
  },
  {
   "cell_type": "code",
   "execution_count": 7,
   "metadata": {},
   "outputs": [],
   "source": [
    "input = Input(shape=(maxlen,))\n",
    "\n",
    "model = tf.keras.Sequential([\n",
    "    tf.keras.layers.Embedding(input_dim=nrofWords+1, output_dim=32, input_length=maxlen),\n",
    "    tf.keras.layers.Bidirectional(tf.keras.layers.SimpleRNN(32, return_sequences=True)),\n",
    "    tf.keras.layers.Dense(nrofTags, activation='tanh'),\n",
    "    tf.keras.layers.Dropout(0.5),\n",
    "])\n",
    "\n"
   ]
  },
  {
   "cell_type": "code",
   "execution_count": 8,
   "metadata": {},
   "outputs": [
    {
     "name": "stdout",
     "output_type": "stream",
     "text": [
      "Model: \"sequential\"\n",
      "_________________________________________________________________\n",
      "Layer (type)                 Output Shape              Param #   \n",
      "=================================================================\n",
      "embedding (Embedding)        (None, 1, 32)             1125728   \n",
      "_________________________________________________________________\n",
      "bidirectional (Bidirectional (None, 1, 64)             4160      \n",
      "_________________________________________________________________\n",
      "dense (Dense)                (None, 1, 17)             1105      \n",
      "_________________________________________________________________\n",
      "dropout (Dropout)            (None, 1, 17)             0         \n",
      "=================================================================\n",
      "Total params: 1,130,993\n",
      "Trainable params: 1,130,993\n",
      "Non-trainable params: 0\n",
      "_________________________________________________________________\n",
      "Epoch 1/30\n",
      "600/600 [==============================] - 5s 9ms/step - loss: 0.5991 - accuracy: 0.3131 - val_loss: 0.4533 - val_accuracy: 0.7135\n",
      "Epoch 2/30\n",
      "600/600 [==============================] - 5s 8ms/step - loss: 0.4649 - accuracy: 0.3636 - val_loss: 0.3740 - val_accuracy: 0.7135\n",
      "Epoch 3/30\n",
      "600/600 [==============================] - 5s 8ms/step - loss: 0.4437 - accuracy: 0.3635 - val_loss: 0.3565 - val_accuracy: 0.7431\n",
      "Epoch 4/30\n",
      "600/600 [==============================] - 5s 8ms/step - loss: 0.4369 - accuracy: 0.3736 - val_loss: 0.3477 - val_accuracy: 0.7519\n",
      "Epoch 5/30\n",
      "600/600 [==============================] - 5s 8ms/step - loss: 0.4317 - accuracy: 0.3775 - val_loss: 0.3420 - val_accuracy: 0.7542\n",
      "Epoch 6/30\n",
      "600/600 [==============================] - 5s 8ms/step - loss: 0.4301 - accuracy: 0.3792 - val_loss: 0.3385 - val_accuracy: 0.7619\n",
      "Epoch 7/30\n",
      "600/600 [==============================] - 5s 8ms/step - loss: 0.4276 - accuracy: 0.3726 - val_loss: 0.3363 - val_accuracy: 0.7915\n",
      "Epoch 8/30\n",
      "600/600 [==============================] - 5s 8ms/step - loss: 0.4258 - accuracy: 0.3847 - val_loss: 0.3346 - val_accuracy: 0.8093\n",
      "Epoch 9/30\n",
      "600/600 [==============================] - 5s 8ms/step - loss: 0.4254 - accuracy: 0.3912 - val_loss: 0.3331 - val_accuracy: 0.8310\n",
      "Epoch 10/30\n",
      "600/600 [==============================] - 5s 8ms/step - loss: 0.4231 - accuracy: 0.4083 - val_loss: 0.3317 - val_accuracy: 0.8646\n",
      "Epoch 11/30\n",
      "600/600 [==============================] - 5s 8ms/step - loss: 0.4225 - accuracy: 0.4153 - val_loss: 0.3303 - val_accuracy: 0.8688\n",
      "Epoch 12/30\n",
      "600/600 [==============================] - 5s 8ms/step - loss: 0.4219 - accuracy: 0.4218 - val_loss: 0.3292 - val_accuracy: 0.8711\n",
      "Epoch 13/30\n",
      "600/600 [==============================] - 5s 8ms/step - loss: 0.4197 - accuracy: 0.4380 - val_loss: 0.3283 - val_accuracy: 0.8729\n",
      "Epoch 14/30\n",
      "600/600 [==============================] - 5s 8ms/step - loss: 0.4192 - accuracy: 0.4438 - val_loss: 0.3276 - val_accuracy: 0.8756\n",
      "Epoch 15/30\n",
      "600/600 [==============================] - 5s 8ms/step - loss: 0.4190 - accuracy: 0.4545 - val_loss: 0.3271 - val_accuracy: 0.8745\n",
      "Epoch 16/30\n",
      "600/600 [==============================] - 5s 8ms/step - loss: 0.4169 - accuracy: 0.4601 - val_loss: 0.3268 - val_accuracy: 0.8750\n",
      "Epoch 17/30\n",
      "600/600 [==============================] - 5s 8ms/step - loss: 0.4181 - accuracy: 0.4552 - val_loss: 0.3264 - val_accuracy: 0.8774\n",
      "Epoch 18/30\n",
      "600/600 [==============================] - 5s 8ms/step - loss: 0.4179 - accuracy: 0.4562 - val_loss: 0.3263 - val_accuracy: 0.8798\n",
      "Epoch 19/30\n",
      "600/600 [==============================] - 5s 8ms/step - loss: 0.4174 - accuracy: 0.4611 - val_loss: 0.3261 - val_accuracy: 0.8930\n",
      "Epoch 20/30\n",
      "600/600 [==============================] - 6s 10ms/step - loss: 0.4164 - accuracy: 0.4562 - val_loss: 0.3260 - val_accuracy: 0.8951\n",
      "Epoch 21/30\n",
      "600/600 [==============================] - 5s 8ms/step - loss: 0.4167 - accuracy: 0.4546 - val_loss: 0.3258 - val_accuracy: 0.8945\n",
      "Epoch 22/30\n",
      "600/600 [==============================] - 4s 7ms/step - loss: 0.4165 - accuracy: 0.4635 - val_loss: 0.3255 - val_accuracy: 0.8941\n",
      "Epoch 23/30\n",
      "600/600 [==============================] - 4s 7ms/step - loss: 0.4159 - accuracy: 0.4682 - val_loss: 0.3253 - val_accuracy: 0.8948\n",
      "Epoch 24/30\n",
      "600/600 [==============================] - 4s 7ms/step - loss: 0.4159 - accuracy: 0.4709 - val_loss: 0.3250 - val_accuracy: 0.8948\n",
      "Epoch 25/30\n",
      "600/600 [==============================] - 5s 8ms/step - loss: 0.4158 - accuracy: 0.4652 - val_loss: 0.3249 - val_accuracy: 0.8947\n",
      "Epoch 26/30\n",
      "600/600 [==============================] - 5s 9ms/step - loss: 0.4160 - accuracy: 0.4671 - val_loss: 0.3247 - val_accuracy: 0.8949\n",
      "Epoch 27/30\n",
      "600/600 [==============================] - 5s 8ms/step - loss: 0.4161 - accuracy: 0.4730 - val_loss: 0.3246 - val_accuracy: 0.8945\n",
      "Epoch 28/30\n",
      "600/600 [==============================] - 4s 7ms/step - loss: 0.4167 - accuracy: 0.4725 - val_loss: 0.3246 - val_accuracy: 0.8947\n",
      "Epoch 29/30\n",
      "600/600 [==============================] - 4s 7ms/step - loss: 0.4151 - accuracy: 0.4747 - val_loss: 0.3245 - val_accuracy: 0.8932\n",
      "Epoch 30/30\n",
      "600/600 [==============================] - 5s 8ms/step - loss: 0.4147 - accuracy: 0.4744 - val_loss: 0.3244 - val_accuracy: 0.8930\n"
     ]
    }
   ],
   "source": [
    "model.compile(loss=tf.keras.losses.BinaryCrossentropy(from_logits=True),\n",
    "              optimizer=tf.keras.optimizers.Adam(1e-4),\n",
    "              metrics=['accuracy'])\n",
    "\n",
    "model.summary()\n",
    "\n",
    "history = model.fit(X_train, np.array(y_train), batch_size=32, epochs=30,\n",
    "                    validation_split=0.5, verbose=1)"
   ]
  },
  {
   "cell_type": "code",
   "execution_count": 9,
   "metadata": {},
   "outputs": [
    {
     "name": "stdout",
     "output_type": "stream",
     "text": [
      "300/300 [==============================] - 0s 900us/step\n"
     ]
    }
   ],
   "source": [
    "test_pred = model.predict(X_test, verbose=1)\n",
    "\n",
    "idx2tag = {i: w for w, i in index_tag.items()}\n",
    "\n",
    "def pred2label(pred):\n",
    "    out = []\n",
    "    for pred_i in pred:\n",
    "        out_i = []\n",
    "        for p in pred_i:\n",
    "            p_i = np.argmax(p)\n",
    "            out_i.append(idx2tag[p_i].replace(\"PAD\", \"O\"))\n",
    "        out.append(out_i)\n",
    "    return out\n",
    "    \n",
    "pred_labels = pred2label(test_pred)\n",
    "test_labels = pred2label(y_test)"
   ]
  },
  {
   "cell_type": "code",
   "execution_count": 10,
   "metadata": {},
   "outputs": [
    {
     "name": "stdout",
     "output_type": "stream",
     "text": [
      "F1-score: 72.6%\n",
      "           precision    recall  f1-score   support\n",
      "\n",
      "      tim       0.00      0.00      0.00       110\n",
      "      geo       0.76      0.82      0.79       640\n",
      "      per       0.78      0.78      0.78       819\n",
      "      org       0.44      0.54      0.48       557\n",
      "      gpe       0.93      0.89      0.91       591\n",
      "      nat       0.00      0.00      0.00         3\n",
      "      art       0.00      0.00      0.00         3\n",
      "      eve       0.00      0.00      0.00         1\n",
      "\n",
      "micro avg       0.72      0.73      0.73      2724\n",
      "macro avg       0.70      0.73      0.72      2724\n",
      "\n"
     ]
    }
   ],
   "source": [
    "print(\"F1-score: {:.1%}\".format(f1_score(test_labels, pred_labels)))\n",
    "print(classification_report(test_labels, pred_labels))"
   ]
  },
  {
   "cell_type": "markdown",
   "metadata": {},
   "source": [
    "# LSTM model"
   ]
  },
  {
   "cell_type": "code",
   "execution_count": 11,
   "metadata": {},
   "outputs": [],
   "source": [
    "model = tf.keras.Sequential([\n",
    "    tf.keras.layers.Embedding(input_dim=nrofWords+1, output_dim=word_embedding_size, input_length=maxlen),\n",
    "    tf.keras.layers.Bidirectional(tf.keras.layers.LSTM(64,  return_sequences=True)),\n",
    "    tf.keras.layers.Dense(nrofTags, activation='tanh'),\n",
    "    tf.keras.layers.Dropout(0.5),\n",
    "])"
   ]
  },
  {
   "cell_type": "code",
   "execution_count": 12,
   "metadata": {},
   "outputs": [],
   "source": [
    "model.compile(loss=tf.keras.losses.BinaryCrossentropy(from_logits=True),\n",
    "              optimizer=tf.keras.optimizers.Adam(1e-4),\n",
    "              metrics=['accuracy'])"
   ]
  },
  {
   "cell_type": "code",
   "execution_count": 13,
   "metadata": {},
   "outputs": [
    {
     "name": "stdout",
     "output_type": "stream",
     "text": [
      "Model: \"sequential_1\"\n",
      "_________________________________________________________________\n",
      "Layer (type)                 Output Shape              Param #   \n",
      "=================================================================\n",
      "embedding_1 (Embedding)      (None, 1, 17)             598043    \n",
      "_________________________________________________________________\n",
      "bidirectional_1 (Bidirection (None, 1, 128)            41984     \n",
      "_________________________________________________________________\n",
      "dense_1 (Dense)              (None, 1, 17)             2193      \n",
      "_________________________________________________________________\n",
      "dropout_1 (Dropout)          (None, 1, 17)             0         \n",
      "=================================================================\n",
      "Total params: 642,220\n",
      "Trainable params: 642,220\n",
      "Non-trainable params: 0\n",
      "_________________________________________________________________\n"
     ]
    }
   ],
   "source": [
    "model.summary()"
   ]
  },
  {
   "cell_type": "code",
   "execution_count": 14,
   "metadata": {
    "scrolled": true
   },
   "outputs": [
    {
     "name": "stdout",
     "output_type": "stream",
     "text": [
      "Epoch 1/30\n",
      "600/600 [==============================] - 4s 7ms/step - loss: 0.6221 - accuracy: 0.3548 - val_loss: 0.4864 - val_accuracy: 0.7135\n",
      "Epoch 2/30\n",
      "600/600 [==============================] - 3s 5ms/step - loss: 0.4765 - accuracy: 0.3639 - val_loss: 0.3849 - val_accuracy: 0.7135\n",
      "Epoch 3/30\n",
      "600/600 [==============================] - 3s 5ms/step - loss: 0.4498 - accuracy: 0.3658 - val_loss: 0.3636 - val_accuracy: 0.7135\n",
      "Epoch 4/30\n",
      "600/600 [==============================] - 3s 5ms/step - loss: 0.4425 - accuracy: 0.3648 - val_loss: 0.3552 - val_accuracy: 0.7135\n",
      "Epoch 5/30\n",
      "600/600 [==============================] - 3s 5ms/step - loss: 0.4389 - accuracy: 0.3597 - val_loss: 0.3507 - val_accuracy: 0.7135\n",
      "Epoch 6/30\n",
      "600/600 [==============================] - 4s 7ms/step - loss: 0.4381 - accuracy: 0.3606 - val_loss: 0.3475 - val_accuracy: 0.7135\n",
      "Epoch 7/30\n",
      "600/600 [==============================] - 4s 6ms/step - loss: 0.4348 - accuracy: 0.3571 - val_loss: 0.3447 - val_accuracy: 0.7135\n",
      "Epoch 8/30\n",
      "600/600 [==============================] - 3s 5ms/step - loss: 0.4330 - accuracy: 0.3474 - val_loss: 0.3420 - val_accuracy: 0.7427\n",
      "Epoch 9/30\n",
      "600/600 [==============================] - 3s 5ms/step - loss: 0.4318 - accuracy: 0.3494 - val_loss: 0.3398 - val_accuracy: 0.7528\n",
      "Epoch 10/30\n",
      "600/600 [==============================] - 4s 6ms/step - loss: 0.4288 - accuracy: 0.3596 - val_loss: 0.3378 - val_accuracy: 0.7530\n",
      "Epoch 11/30\n",
      "600/600 [==============================] - 4s 6ms/step - loss: 0.4285 - accuracy: 0.3579 - val_loss: 0.3363 - val_accuracy: 0.7564\n",
      "Epoch 12/30\n",
      "600/600 [==============================] - 3s 5ms/step - loss: 0.4266 - accuracy: 0.3790 - val_loss: 0.3353 - val_accuracy: 0.7579\n",
      "Epoch 13/30\n",
      "600/600 [==============================] - 3s 5ms/step - loss: 0.4263 - accuracy: 0.3737 - val_loss: 0.3346 - val_accuracy: 0.7601\n",
      "Epoch 14/30\n",
      "600/600 [==============================] - 3s 5ms/step - loss: 0.4262 - accuracy: 0.3829 - val_loss: 0.3340 - val_accuracy: 0.7699\n",
      "Epoch 15/30\n",
      "600/600 [==============================] - 3s 5ms/step - loss: 0.4245 - accuracy: 0.3832 - val_loss: 0.3336 - val_accuracy: 0.8044\n",
      "Epoch 16/30\n",
      "600/600 [==============================] - 3s 5ms/step - loss: 0.4247 - accuracy: 0.3836 - val_loss: 0.3332 - val_accuracy: 0.8259\n",
      "Epoch 17/30\n",
      "600/600 [==============================] - 4s 6ms/step - loss: 0.4245 - accuracy: 0.3803 - val_loss: 0.3329 - val_accuracy: 0.8363\n",
      "Epoch 18/30\n",
      "600/600 [==============================] - 4s 7ms/step - loss: 0.4242 - accuracy: 0.3851 - val_loss: 0.3325 - val_accuracy: 0.8379\n",
      "Epoch 19/30\n",
      "600/600 [==============================] - 4s 6ms/step - loss: 0.4232 - accuracy: 0.3837 - val_loss: 0.3321 - val_accuracy: 0.8441\n",
      "Epoch 20/30\n",
      "600/600 [==============================] - 3s 5ms/step - loss: 0.4218 - accuracy: 0.4007 - val_loss: 0.3316 - val_accuracy: 0.8487\n",
      "Epoch 21/30\n",
      "600/600 [==============================] - 3s 5ms/step - loss: 0.4221 - accuracy: 0.4074 - val_loss: 0.3309 - val_accuracy: 0.8548\n",
      "Epoch 22/30\n",
      "600/600 [==============================] - 3s 5ms/step - loss: 0.4214 - accuracy: 0.4226 - val_loss: 0.3300 - val_accuracy: 0.8572\n",
      "Epoch 23/30\n",
      "600/600 [==============================] - 3s 5ms/step - loss: 0.4209 - accuracy: 0.4365 - val_loss: 0.3292 - val_accuracy: 0.8592\n",
      "Epoch 24/30\n",
      "600/600 [==============================] - 3s 5ms/step - loss: 0.4188 - accuracy: 0.4417 - val_loss: 0.3285 - val_accuracy: 0.8602\n",
      "Epoch 25/30\n",
      "600/600 [==============================] - 3s 6ms/step - loss: 0.4191 - accuracy: 0.4400 - val_loss: 0.3279 - val_accuracy: 0.8603\n",
      "Epoch 26/30\n",
      "600/600 [==============================] - 3s 5ms/step - loss: 0.4190 - accuracy: 0.4516 - val_loss: 0.3273 - val_accuracy: 0.8620\n",
      "Epoch 27/30\n",
      "600/600 [==============================] - 3s 5ms/step - loss: 0.4183 - accuracy: 0.4503 - val_loss: 0.3270 - val_accuracy: 0.8625\n",
      "Epoch 28/30\n",
      "600/600 [==============================] - 4s 7ms/step - loss: 0.4183 - accuracy: 0.4521 - val_loss: 0.3267 - val_accuracy: 0.8633\n",
      "Epoch 29/30\n",
      "600/600 [==============================] - 4s 6ms/step - loss: 0.4171 - accuracy: 0.4570 - val_loss: 0.3265 - val_accuracy: 0.8643\n",
      "Epoch 30/30\n",
      "600/600 [==============================] - 4s 6ms/step - loss: 0.4175 - accuracy: 0.4569 - val_loss: 0.3263 - val_accuracy: 0.8706\n"
     ]
    }
   ],
   "source": [
    "history = model.fit(X_train, np.array(y_train), batch_size=32, epochs=30,\n",
    "                    validation_split=0.5, verbose=1)\n"
   ]
  },
  {
   "cell_type": "code",
   "execution_count": 15,
   "metadata": {},
   "outputs": [
    {
     "name": "stdout",
     "output_type": "stream",
     "text": [
      "300/300 [==============================] - 0s 1ms/step\n",
      "[['O'], ['B-per'], ['O'], ['B-geo'], ['O'], ['B-per'], ['O'], ['O'], ['O'], ['O'], ['O'], ['O'], ['O'], ['B-geo'], ['B-per'], ['O'], ['O'], ['O'], ['O'], ['O'], ['B-gpe'], ['O'], ['O'], ['O'], ['O'], ['B-geo'], ['O'], ['O'], ['O'], ['O'], ['O'], ['B-geo'], ['O'], ['B-gpe'], ['O'], ['O'], ['O'], ['B-geo'], ['O'], ['O'], ['O'], ['B-gpe'], ['O'], ['O'], ['O'], ['B-per'], ['B-per'], ['O'], ['O'], ['O'], ['O'], ['B-per'], ['O'], ['B-geo'], ['O'], ['B-geo'], ['B-gpe'], ['O'], ['O'], ['B-geo'], ['O'], ['O'], ['O'], ['O'], ['O'], ['O'], ['O'], ['O'], ['B-gpe'], ['O'], ['O'], ['O'], ['B-per'], ['O'], ['O'], ['O'], ['O'], ['B-per'], ['O'], ['O'], ['O'], ['B-geo'], ['O'], ['B-per'], ['O'], ['B-org'], ['O'], ['O'], ['O'], ['O'], ['O'], ['O'], ['O'], ['O'], ['O'], ['B-geo'], ['B-gpe'], ['O'], ['O'], ['O'], ['B-gpe'], ['B-gpe'], ['O'], ['O'], ['B-per'], ['O'], ['O'], ['O'], ['O'], ['O'], ['O'], ['O'], ['B-per'], ['O'], ['O'], ['O'], ['O'], ['O'], ['O'], ['O'], ['O'], ['O'], ['B-geo'], ['O'], ['O'], ['O'], ['O'], ['O'], ['O'], ['O'], ['O'], ['O'], ['O'], ['O'], ['O'], ['O'], ['O'], ['O'], ['B-geo'], ['O'], ['O'], ['B-geo'], ['O'], ['B-gpe'], ['O'], ['B-per'], ['B-geo'], ['B-per'], ['O'], ['O'], ['O'], ['O'], ['O'], ['O'], ['B-geo'], ['O'], ['O'], ['O'], ['O'], ['O'], ['O'], ['O'], ['O'], ['O'], ['O'], ['B-geo'], ['O'], ['O'], ['O'], ['O'], ['O'], ['O'], ['O'], ['B-gpe'], ['O'], ['O'], ['O'], ['O'], ['B-per'], ['O'], ['O'], ['B-per'], ['B-geo'], ['B-per'], ['O'], ['O'], ['O'], ['O'], ['O'], ['O'], ['O'], ['B-geo'], ['O'], ['O'], ['O'], ['O'], ['B-gpe'], ['O'], ['B-gpe'], ['O'], ['O'], ['O'], ['B-org'], ['O'], ['B-per'], ['B-gpe'], ['O'], ['O'], ['O'], ['O'], ['B-per'], ['O'], ['O'], ['O'], ['B-geo'], ['O'], ['B-gpe'], ['O'], ['O'], ['O'], ['O'], ['B-per'], ['O'], ['B-per'], ['B-per'], ['O'], ['B-geo'], ['O'], ['B-per'], ['B-gpe'], ['B-gpe'], ['B-per'], ['B-gpe'], ['O'], ['O'], ['O'], ['B-gpe'], ['O'], ['O'], ['O'], ['B-per'], ['B-per'], ['B-per'], ['O'], ['B-gpe'], ['O'], ['B-geo'], ['B-geo'], ['O'], ['O'], ['O'], ['O'], ['O'], ['O'], ['O'], ['B-per'], ['O'], ['O'], ['B-per'], ['B-geo'], ['O'], ['O'], ['O'], ['O'], ['O'], ['O'], ['B-per'], ['B-per'], ['O'], ['B-gpe'], ['B-geo'], ['B-per'], ['B-per'], ['B-gpe'], ['O'], ['O'], ['O'], ['O'], ['B-geo'], ['O'], ['O'], ['O'], ['O'], ['O'], ['O'], ['O'], ['O'], ['O'], ['B-gpe'], ['B-gpe'], ['O'], ['O'], ['O'], ['O'], ['B-geo'], ['O'], ['O'], ['B-geo'], ['O'], ['O'], ['O'], ['B-per'], ['B-per'], ['O'], ['O'], ['O'], ['B-per'], ['B-per'], ['B-geo'], ['O'], ['B-geo'], ['O'], ['B-geo'], ['O'], ['O'], ['O'], ['O'], ['O'], ['O'], ['O'], ['O'], ['O'], ['O'], ['O'], ['B-per'], ['O'], ['O'], ['O'], ['O'], ['O'], ['O'], ['B-geo'], ['O'], ['O'], ['O'], ['O'], ['B-gpe'], ['O'], ['B-geo'], ['O'], ['O'], ['O'], ['B-geo'], ['B-gpe'], ['O'], ['B-geo'], ['O'], ['O'], ['O'], ['O'], ['O'], ['O'], ['O'], ['O'], ['B-gpe'], ['O'], ['O'], ['O'], ['O'], ['O'], ['B-gpe'], ['O'], ['O'], ['O'], ['B-gpe'], ['O'], ['O'], ['B-geo'], ['B-gpe'], ['O'], ['B-gpe'], ['O'], ['O'], ['O'], ['O'], ['B-per'], ['O'], ['B-geo'], ['O'], ['O'], ['B-per'], ['O'], ['B-geo'], ['O'], ['O'], ['O'], ['B-per'], ['O'], ['O'], ['O'], ['O'], ['B-geo'], ['O'], ['O'], ['O'], ['B-per'], ['O'], ['O'], ['B-gpe'], ['O'], ['O'], ['B-geo'], ['O'], ['O'], ['B-gpe'], ['O'], ['B-geo'], ['B-per'], ['B-per'], ['O'], ['O'], ['O'], ['B-gpe'], ['B-geo'], ['O'], ['O'], ['B-gpe'], ['O'], ['B-geo'], ['O'], ['B-org'], ['O'], ['O'], ['B-gpe'], ['B-per'], ['O'], ['O'], ['O'], ['O'], ['B-geo'], ['O'], ['O'], ['O'], ['O'], ['O'], ['B-geo'], ['B-per'], ['O'], ['B-per'], ['O'], ['O'], ['B-gpe'], ['B-gpe'], ['O'], ['B-geo'], ['O'], ['O'], ['O'], ['O'], ['B-gpe'], ['O'], ['O'], ['B-gpe'], ['B-gpe'], ['O'], ['O'], ['O'], ['O'], ['O'], ['O'], ['B-per'], ['O'], ['O'], ['B-geo'], ['O'], ['B-per'], ['O'], ['B-geo'], ['O'], ['O'], ['B-geo'], ['O'], ['O'], ['B-gpe'], ['O'], ['B-geo'], ['O'], ['B-per'], ['O'], ['O'], ['B-per'], ['O'], ['O'], ['O'], ['B-per'], ['B-geo'], ['O'], ['O'], ['O'], ['B-per'], ['O'], ['O'], ['B-per'], ['B-gpe'], ['B-per'], ['O'], ['B-geo'], ['B-geo'], ['O'], ['B-geo'], ['B-per'], ['B-per'], ['O'], ['O'], ['O'], ['O'], ['B-gpe'], ['O'], ['O'], ['O'], ['B-gpe'], ['O'], ['O'], ['O'], ['B-gpe'], ['O'], ['O'], ['O'], ['O'], ['B-geo'], ['O'], ['O'], ['B-gpe'], ['O'], ['B-gpe'], ['B-gpe'], ['O'], ['O'], ['O'], ['B-geo'], ['B-geo'], ['B-per'], ['O'], ['O'], ['B-gpe'], ['B-gpe'], ['B-geo'], ['O'], ['O'], ['O'], ['B-geo'], ['B-geo'], ['O'], ['O'], ['B-geo'], ['O'], ['O'], ['O'], ['B-per'], ['B-per'], ['O'], ['O'], ['O'], ['O'], ['B-gpe'], ['O'], ['O'], ['O'], ['O'], ['B-gpe'], ['O'], ['O'], ['O'], ['O'], ['O'], ['O'], ['B-per'], ['B-geo'], ['O'], ['O'], ['B-gpe'], ['O'], ['O'], ['O'], ['O'], ['O'], ['O'], ['O'], ['O'], ['B-gpe'], ['O'], ['O'], ['O'], ['O'], ['O'], ['O'], ['B-geo'], ['O'], ['B-gpe'], ['O'], ['B-per'], ['O'], ['O'], ['B-per'], ['O'], ['O'], ['B-geo'], ['B-geo'], ['O'], ['B-per'], ['O'], ['O'], ['B-geo'], ['O'], ['O'], ['O'], ['O'], ['O'], ['O'], ['B-per'], ['O'], ['B-geo'], ['B-geo'], ['B-geo'], ['O'], ['O'], ['B-per'], ['B-per'], ['O'], ['O'], ['O'], ['B-geo'], ['O'], ['O'], ['O'], ['O'], ['O'], ['B-per'], ['O'], ['O'], ['B-gpe'], ['O'], ['O'], ['O'], ['O'], ['O'], ['O'], ['B-per'], ['B-per'], ['O'], ['O'], ['B-geo'], ['O'], ['O'], ['B-per'], ['B-gpe'], ['B-gpe'], ['O'], ['O'], ['O'], ['O'], ['O'], ['B-per'], ['B-per'], ['O'], ['B-geo'], ['O'], ['O'], ['B-gpe'], ['O'], ['B-geo'], ['O'], ['O'], ['O'], ['B-geo'], ['B-gpe'], ['O'], ['O'], ['O'], ['B-gpe'], ['O'], ['O'], ['O'], ['B-per'], ['O'], ['B-geo'], ['O'], ['O'], ['O'], ['O'], ['O'], ['O'], ['O'], ['O'], ['O'], ['O'], ['B-geo'], ['O'], ['B-per'], ['O'], ['O'], ['B-per'], ['O'], ['O'], ['B-gpe'], ['O'], ['O'], ['O'], ['B-gpe'], ['B-gpe'], ['B-geo'], ['O'], ['O'], ['O'], ['O'], ['B-geo'], ['O'], ['O'], ['O'], ['B-geo'], ['B-gpe'], ['O'], ['O'], ['B-gpe'], ['O'], ['B-geo'], ['B-gpe'], ['O'], ['O'], ['B-per'], ['O'], ['O'], ['O'], ['O'], ['O'], ['O'], ['O'], ['O'], ['B-per'], ['B-per'], ['O'], ['O'], ['O'], ['B-geo'], ['O'], ['B-per'], ['O'], ['B-gpe'], ['B-per'], ['O'], ['O'], ['O'], ['O'], ['O'], ['O'], ['B-gpe'], ['O'], ['O'], ['B-geo'], ['O'], ['B-geo'], ['O'], ['O'], ['O'], ['O'], ['O'], ['O'], ['B-per'], ['O'], ['O'], ['O'], ['O'], ['B-geo'], ['O'], ['B-per'], ['O'], ['O'], ['O'], ['O'], ['B-geo'], ['O'], ['B-per'], ['O'], ['O'], ['O'], ['B-per'], ['O'], ['O'], ['B-per'], ['O'], ['B-geo'], ['O'], ['O'], ['O'], ['O'], ['O'], ['B-per'], ['O'], ['O'], ['O'], ['O'], ['O'], ['B-geo'], ['O'], ['B-gpe'], ['B-geo'], ['B-per'], ['B-gpe'], ['B-geo'], ['O'], ['O'], ['O'], ['O'], ['O'], ['O'], ['O'], ['O'], ['B-geo'], ['O'], ['B-geo'], ['O'], ['O'], ['O'], ['O'], ['O'], ['O'], ['O'], ['O'], ['O'], ['O'], ['B-geo'], ['O'], ['O'], ['O'], ['O'], ['O'], ['O'], ['O'], ['O'], ['O'], ['O'], ['B-per'], ['B-geo'], ['O'], ['O'], ['O'], ['B-geo'], ['O'], ['O'], ['O'], ['O'], ['B-per'], ['O'], ['B-geo'], ['O'], ['O'], ['O'], ['B-geo'], ['O'], ['O'], ['O'], ['O'], ['O'], ['O'], ['O'], ['B-geo'], ['O'], ['O'], ['O'], ['B-per'], ['O'], ['O'], ['B-geo'], ['B-geo'], ['B-geo'], ['B-gpe'], ['O'], ['O'], ['O'], ['O'], ['O'], ['B-gpe'], ['O'], ['O'], ['O'], ['O'], ['O'], ['O'], ['O'], ['B-gpe'], ['O'], ['O'], ['O'], ['O'], ['O'], ['O'], ['O'], ['B-geo'], ['B-geo'], ['O'], ['O'], ['B-geo'], ['O'], ['O'], ['O'], ['B-gpe'], ['O'], ['O'], ['O'], ['B-per'], ['B-per'], ['O'], ['B-per'], ['O'], ['B-per'], ['O'], ['O'], ['O'], ['O'], ['B-geo'], ['O'], ['O'], ['B-per'], ['O'], ['O'], ['O'], ['O'], ['O'], ['O'], ['B-per'], ['B-gpe'], ['B-gpe'], ['B-per'], ['O'], ['B-per'], ['O'], ['O'], ['O'], ['O'], ['O'], ['O'], ['O'], ['O'], ['O'], ['O'], ['O'], ['O'], ['O'], ['O'], ['O'], ['O'], ['B-geo'], ['O'], ['O'], ['O'], ['O'], ['B-geo'], ['O'], ['O'], ['O'], ['O'], ['B-gpe'], ['B-per'], ['O'], ['O'], ['O'], ['B-geo'], ['O'], ['O'], ['O'], ['O'], ['O'], ['O'], ['O'], ['O'], ['O'], ['O'], ['O'], ['O'], ['O'], ['O'], ['O'], ['B-per'], ['B-per'], ['B-geo'], ['O'], ['O'], ['O'], ['O'], ['O'], ['O'], ['O'], ['O'], ['B-per'], ['O'], ['O'], ['O'], ['O'], ['B-gpe'], ['O'], ['O'], ['B-gpe'], ['B-per'], ['B-org'], ['O'], ['O'], ['O'], ['O'], ['B-org'], ['O'], ['O'], ['B-gpe'], ['O'], ['O'], ['O'], ['O'], ['O'], ['O'], ['O'], ['B-geo'], ['O'], ['B-gpe'], ['O'], ['B-gpe'], ['O'], ['O'], ['B-geo'], ['O'], ['B-gpe'], ['O'], ['O'], ['O'], ['B-gpe'], ['O'], ['O'], ['O'], ['O'], ['O'], ['O'], ['B-per'], ['B-per'], ['O'], ['B-per'], ['O'], ['O'], ['O'], ['O'], ['B-geo'], ['B-per'], ['O'], ['B-gpe'], ['O'], ['O'], ['O'], ['O'], ['O'], ['B-gpe'], ['O'], ['O'], ['O'], ['O'], ['B-per'], ['B-geo'], ['B-per'], ['B-per'], ['O'], ['B-per'], ['O'], ['O'], ['O'], ['O'], ['O'], ['O'], ['O'], ['B-per'], ['O'], ['O'], ['O'], ['O'], ['B-geo'], ['B-geo'], ['B-gpe'], ['O'], ['O'], ['O'], ['O'], ['B-gpe'], ['O'], ['O'], ['B-per'], ['O'], ['O'], ['O'], ['O'], ['O'], ['O'], ['O'], ['O'], ['O'], ['B-per'], ['B-gpe'], ['O'], ['O'], ['O'], ['O'], ['B-per'], ['B-per'], ['O'], ['O'], ['O'], ['O'], ['B-gpe'], ['O'], ['B-geo'], ['O'], ['O'], ['O'], ['O'], ['O'], ['O'], ['O'], ['O'], ['O'], ['O'], ['O'], ['O'], ['B-per'], ['O'], ['O'], ['O'], ['B-geo'], ['O'], ['O'], ['O'], ['O'], ['O'], ['O'], ['B-gpe'], ['O'], ['B-per'], ['B-per'], ['O'], ['O'], ['B-per'], ['B-per'], ['O'], ['O'], ['B-geo'], ['O'], ['B-gpe'], ['B-gpe'], ['O'], ['B-per'], ['O'], ['O'], ['O'], ['B-per'], ['B-geo'], ['O'], ['B-org'], ['B-geo'], ['O'], ['O'], ['O'], ['O'], ['O'], ['B-geo'], ['O'], ['O'], ['O'], ['O'], ['B-gpe'], ['O'], ['B-gpe'], ['O'], ['O'], ['O'], ['O'], ['O'], ['O'], ['O'], ['O'], ['O'], ['B-per'], ['O'], ['O'], ['B-per'], ['O'], ['O'], ['O'], ['B-per'], ['O'], ['O'], ['B-per'], ['O'], ['O'], ['O'], ['O'], ['B-gpe'], ['B-per'], ['O'], ['O'], ['O'], ['O'], ['O'], ['O'], ['O'], ['O'], ['O'], ['O'], ['O'], ['B-org'], ['O'], ['O'], ['B-per'], ['O'], ['O'], ['O'], ['O'], ['B-per'], ['O'], ['O'], ['B-gpe'], ['O'], ['O'], ['O'], ['B-geo'], ['O'], ['O'], ['B-geo'], ['O'], ['B-gpe'], ['B-gpe'], ['O'], ['O'], ['O'], ['B-per'], ['O'], ['B-geo'], ['O'], ['O'], ['O'], ['O'], ['O'], ['B-geo'], ['O'], ['O'], ['B-geo'], ['O'], ['O'], ['O'], ['O'], ['B-geo'], ['O'], ['B-per'], ['O'], ['O'], ['O'], ['O'], ['O'], ['O'], ['O'], ['O'], ['O'], ['O'], ['O'], ['O'], ['O'], ['O'], ['O'], ['B-gpe'], ['B-geo'], ['O'], ['O'], ['O'], ['O'], ['B-per'], ['O'], ['O'], ['O'], ['O'], ['O'], ['O'], ['O'], ['O'], ['O'], ['O'], ['O'], ['B-gpe'], ['O'], ['B-geo'], ['O'], ['B-per'], ['B-per'], ['B-per'], ['O'], ['O'], ['O'], ['B-gpe'], ['O'], ['B-gpe'], ['O'], ['O'], ['B-gpe'], ['B-geo'], ['O'], ['O'], ['O'], ['O'], ['O'], ['O'], ['B-gpe'], ['O'], ['O'], ['O'], ['O'], ['O'], ['B-geo'], ['B-gpe'], ['O'], ['O'], ['O'], ['O'], ['O'], ['O'], ['B-per'], ['O'], ['O'], ['O'], ['O'], ['B-geo'], ['O'], ['B-per'], ['O'], ['O'], ['B-gpe'], ['O'], ['B-geo'], ['B-geo'], ['O'], ['O'], ['O'], ['O'], ['O'], ['O'], ['O'], ['B-gpe'], ['O'], ['O'], ['B-geo'], ['O'], ['B-per'], ['O'], ['B-per'], ['O'], ['O'], ['O'], ['O'], ['O'], ['O'], ['O'], ['O'], ['B-geo'], ['O'], ['B-geo'], ['O'], ['O'], ['O'], ['B-per'], ['B-geo'], ['O'], ['O'], ['B-org'], ['O'], ['O'], ['O'], ['O'], ['O'], ['O'], ['O'], ['B-per'], ['B-geo'], ['O'], ['B-per'], ['O'], ['O'], ['B-geo'], ['O'], ['B-geo'], ['B-geo'], ['O'], ['O'], ['B-gpe'], ['O'], ['O'], ['O'], ['O'], ['O'], ['O'], ['B-geo'], ['O'], ['B-per'], ['O'], ['B-per'], ['B-gpe'], ['B-per'], ['O'], ['O'], ['B-gpe'], ['B-per'], ['O'], ['O'], ['O'], ['B-gpe'], ['O'], ['B-geo'], ['O'], ['B-per'], ['O'], ['B-geo'], ['B-per'], ['O'], ['O'], ['O'], ['O'], ['O'], ['O'], ['O'], ['B-geo'], ['B-geo'], ['O'], ['B-gpe'], ['O'], ['O'], ['B-geo'], ['O'], ['O'], ['O'], ['O'], ['O'], ['B-per'], ['O'], ['B-per'], ['O'], ['O'], ['O'], ['O'], ['B-per'], ['B-per'], ['B-gpe'], ['B-geo'], ['O'], ['B-per'], ['B-geo'], ['O'], ['O'], ['O'], ['O'], ['O'], ['O'], ['O'], ['O'], ['O'], ['B-org'], ['O'], ['O'], ['O'], ['O'], ['O'], ['O'], ['O'], ['O'], ['O'], ['O'], ['B-per'], ['O'], ['B-geo'], ['B-per'], ['O'], ['B-geo'], ['O'], ['O'], ['O'], ['O'], ['O'], ['O'], ['B-per'], ['O'], ['O'], ['O'], ['O'], ['O'], ['B-geo'], ['O'], ['O'], ['O'], ['O'], ['O'], ['O'], ['B-gpe'], ['O'], ['B-gpe'], ['O'], ['O'], ['O'], ['O'], ['B-geo'], ['O'], ['O'], ['O'], ['O'], ['O'], ['O'], ['O'], ['O'], ['O'], ['B-org'], ['O'], ['B-org'], ['B-geo'], ['O'], ['B-gpe'], ['O'], ['O'], ['B-gpe'], ['O'], ['B-geo'], ['B-geo'], ['O'], ['O'], ['O'], ['B-per'], ['B-geo'], ['O'], ['O'], ['O'], ['B-geo'], ['O'], ['O'], ['O'], ['O'], ['O'], ['O'], ['B-per'], ['O'], ['O'], ['O'], ['B-per'], ['O'], ['B-gpe'], ['B-gpe'], ['B-per'], ['O'], ['O'], ['B-geo'], ['O'], ['O'], ['O'], ['B-gpe'], ['B-geo'], ['O'], ['B-geo'], ['B-geo'], ['O'], ['O'], ['O'], ['O'], ['O'], ['B-geo'], ['O'], ['O'], ['B-geo'], ['O'], ['O'], ['B-gpe'], ['O'], ['O'], ['O'], ['B-per'], ['O'], ['O'], ['B-geo'], ['B-geo'], ['B-geo'], ['O'], ['O'], ['O'], ['O'], ['O'], ['B-gpe'], ['O'], ['B-geo'], ['B-geo'], ['O'], ['B-per'], ['O'], ['O'], ['B-geo'], ['B-per'], ['B-geo'], ['O'], ['O'], ['O'], ['B-geo'], ['O'], ['O'], ['O'], ['O'], ['O'], ['O'], ['O'], ['O'], ['O'], ['O'], ['B-geo'], ['B-gpe'], ['O'], ['B-per'], ['B-geo'], ['B-per'], ['B-gpe'], ['O'], ['O'], ['O'], ['O'], ['O'], ['O'], ['O'], ['O'], ['B-gpe'], ['O'], ['B-geo'], ['B-geo'], ['O'], ['O'], ['B-geo'], ['O'], ['B-per'], ['O'], ['O'], ['B-per'], ['B-org'], ['O'], ['O'], ['O'], ['B-gpe'], ['O'], ['O'], ['O'], ['B-gpe'], ['O'], ['O'], ['B-gpe'], ['B-geo'], ['O'], ['O'], ['O'], ['B-geo'], ['O'], ['B-geo'], ['O'], ['O'], ['O'], ['O'], ['O'], ['B-per'], ['O'], ['O'], ['O'], ['O'], ['O'], ['O'], ['O'], ['O'], ['O'], ['O'], ['O'], ['O'], ['O'], ['B-geo'], ['O'], ['B-per'], ['O'], ['O'], ['O'], ['O'], ['B-per'], ['O'], ['O'], ['O'], ['O'], ['O'], ['O'], ['O'], ['O'], ['B-per'], ['B-per'], ['O'], ['O'], ['B-gpe'], ['B-per'], ['O'], ['O'], ['O'], ['B-gpe'], ['O'], ['B-per'], ['O'], ['B-per'], ['O'], ['O'], ['O'], ['O'], ['O'], ['B-per'], ['O'], ['B-gpe'], ['O'], ['B-geo'], ['O'], ['B-per'], ['B-gpe'], ['O'], ['B-per'], ['O'], ['B-gpe'], ['B-gpe'], ['O'], ['B-gpe'], ['B-per'], ['O'], ['O'], ['B-gpe'], ['O'], ['O'], ['O'], ['O'], ['O'], ['O'], ['O'], ['O'], ['B-geo'], ['O'], ['B-per'], ['O'], ['O'], ['O'], ['O'], ['B-geo'], ['O'], ['O'], ['B-geo'], ['B-geo'], ['B-org'], ['B-gpe'], ['O'], ['B-per'], ['O'], ['O'], ['O'], ['O'], ['O'], ['O'], ['B-per'], ['B-per'], ['O'], ['O'], ['O'], ['O'], ['O'], ['B-geo'], ['O'], ['O'], ['O'], ['B-geo'], ['O'], ['O'], ['B-gpe'], ['B-per'], ['O'], ['O'], ['O'], ['B-org'], ['O'], ['B-per'], ['O'], ['O'], ['B-per'], ['O'], ['B-per'], ['O'], ['O'], ['O'], ['O'], ['B-per'], ['O'], ['O'], ['B-per'], ['O'], ['B-per'], ['B-per'], ['B-per'], ['O'], ['B-per'], ['B-geo'], ['O'], ['O'], ['O'], ['O'], ['O'], ['O'], ['B-geo'], ['B-per'], ['O'], ['O'], ['B-gpe'], ['B-per'], ['O'], ['O'], ['B-per'], ['B-per'], ['O'], ['O'], ['O'], ['O'], ['B-geo'], ['O'], ['B-geo'], ['B-gpe'], ['O'], ['B-per'], ['B-gpe'], ['B-geo'], ['O'], ['O'], ['B-geo'], ['B-per'], ['O'], ['B-per'], ['O'], ['B-per'], ['O'], ['O'], ['O'], ['O'], ['O'], ['B-gpe'], ['B-geo'], ['O'], ['B-gpe'], ['B-per'], ['O'], ['O'], ['O'], ['O'], ['O'], ['O'], ['B-per'], ['O'], ['B-per'], ['O'], ['B-gpe'], ['O'], ['O'], ['O'], ['O'], ['O'], ['O'], ['O'], ['O'], ['B-geo'], ['B-geo'], ['B-per'], ['O'], ['O'], ['O'], ['O'], ['O'], ['O'], ['O'], ['O'], ['O'], ['O'], ['B-org'], ['B-geo'], ['O'], ['O'], ['O'], ['O'], ['O'], ['O'], ['B-per'], ['B-per'], ['O'], ['O'], ['O'], ['B-geo'], ['B-gpe'], ['O'], ['O'], ['B-per'], ['B-per'], ['O'], ['O'], ['B-geo'], ['O'], ['B-gpe'], ['O'], ['O'], ['B-per'], ['O'], ['O'], ['O'], ['O'], ['O'], ['O'], ['O'], ['O'], ['B-gpe'], ['O'], ['O'], ['O'], ['O'], ['B-gpe'], ['B-geo'], ['O'], ['O'], ['B-per'], ['O'], ['B-per'], ['O'], ['B-per'], ['O'], ['O'], ['B-per'], ['O'], ['O'], ['O'], ['O'], ['O'], ['O'], ['O'], ['O'], ['B-gpe'], ['B-geo'], ['O'], ['B-per'], ['O'], ['O'], ['B-per'], ['O'], ['O'], ['O'], ['O'], ['O'], ['O'], ['O'], ['O'], ['O'], ['B-gpe'], ['B-geo'], ['B-geo'], ['B-gpe'], ['O'], ['B-per'], ['O'], ['B-per'], ['O'], ['O'], ['O'], ['O'], ['B-gpe'], ['B-gpe'], ['O'], ['O'], ['O'], ['O'], ['O'], ['B-per'], ['O'], ['O'], ['O'], ['O'], ['O'], ['O'], ['B-per'], ['O'], ['O'], ['O'], ['O'], ['O'], ['O'], ['B-per'], ['B-gpe'], ['O'], ['O'], ['O'], ['B-gpe'], ['O'], ['B-geo'], ['B-per'], ['O'], ['O'], ['O'], ['O'], ['B-per'], ['O'], ['O'], ['B-gpe'], ['B-geo'], ['O'], ['B-geo'], ['O'], ['B-geo'], ['O'], ['O'], ['O'], ['B-geo'], ['O'], ['O'], ['O'], ['O'], ['O'], ['B-gpe'], ['O'], ['B-gpe'], ['O'], ['B-per'], ['O'], ['O'], ['O'], ['O'], ['O'], ['O'], ['B-gpe'], ['B-geo'], ['B-per'], ['O'], ['B-gpe'], ['B-geo'], ['B-gpe'], ['O'], ['O'], ['O'], ['B-per'], ['O'], ['B-per'], ['B-per'], ['O'], ['O'], ['O'], ['O'], ['O'], ['O'], ['B-per'], ['O'], ['O'], ['O'], ['B-geo'], ['B-per'], ['O'], ['O'], ['O'], ['O'], ['B-per'], ['B-gpe'], ['O'], ['O'], ['B-geo'], ['O'], ['O'], ['O'], ['B-per'], ['O'], ['O'], ['O'], ['O'], ['O'], ['O'], ['O'], ['O'], ['O'], ['B-gpe'], ['O'], ['B-geo'], ['O'], ['O'], ['B-geo'], ['O'], ['O'], ['O'], ['O'], ['O'], ['O'], ['O'], ['O'], ['B-per'], ['B-gpe'], ['O'], ['B-per'], ['B-gpe'], ['O'], ['B-per'], ['O'], ['O'], ['O'], ['O'], ['B-per'], ['B-per'], ['O'], ['B-geo'], ['O'], ['B-per'], ['B-geo'], ['O'], ['B-per'], ['B-geo'], ['O'], ['B-per'], ['B-per'], ['O'], ['B-per'], ['O'], ['O'], ['O'], ['O'], ['O'], ['O'], ['O'], ['B-geo'], ['O'], ['B-per'], ['O'], ['B-gpe'], ['B-gpe'], ['O'], ['O'], ['O'], ['O'], ['B-geo'], ['B-geo'], ['O'], ['O'], ['O'], ['O'], ['B-per'], ['O'], ['O'], ['O'], ['B-per'], ['O'], ['O'], ['O'], ['B-geo'], ['O'], ['O'], ['B-gpe'], ['O'], ['O'], ['O'], ['O'], ['O'], ['O'], ['O'], ['O'], ['O'], ['B-geo'], ['O'], ['B-per'], ['O'], ['O'], ['O'], ['O'], ['O'], ['O'], ['O'], ['O'], ['B-geo'], ['O'], ['O'], ['B-per'], ['O'], ['B-per'], ['B-per'], ['B-per'], ['B-gpe'], ['B-per'], ['O'], ['O'], ['O'], ['O'], ['O'], ['B-per'], ['B-geo'], ['O'], ['O'], ['B-per'], ['B-per'], ['O'], ['O'], ['O'], ['O'], ['B-geo'], ['O'], ['B-gpe'], ['O'], ['O'], ['B-gpe'], ['O'], ['O'], ['O'], ['O'], ['O'], ['O'], ['B-per'], ['O'], ['O'], ['O'], ['O'], ['O'], ['O'], ['O'], ['O'], ['O'], ['O'], ['O'], ['B-geo'], ['B-gpe'], ['O'], ['B-geo'], ['B-gpe'], ['O'], ['O'], ['O'], ['B-gpe'], ['O'], ['O'], ['B-per'], ['O'], ['O'], ['O'], ['B-geo'], ['O'], ['O'], ['O'], ['B-per'], ['O'], ['O'], ['B-gpe'], ['B-per'], ['B-per'], ['O'], ['O'], ['B-gpe'], ['O'], ['O'], ['O'], ['O'], ['O'], ['O'], ['O'], ['B-per'], ['O'], ['O'], ['O'], ['O'], ['O'], ['O'], ['O'], ['B-gpe'], ['B-per'], ['O'], ['O'], ['O'], ['O'], ['O'], ['O'], ['O'], ['O'], ['O'], ['B-gpe'], ['O'], ['O'], ['O'], ['O'], ['O'], ['O'], ['B-gpe'], ['O'], ['O'], ['B-geo'], ['B-gpe'], ['O'], ['O'], ['O'], ['O'], ['O'], ['O'], ['B-geo'], ['O'], ['O'], ['O'], ['O'], ['O'], ['O'], ['O'], ['O'], ['B-gpe'], ['O'], ['B-org'], ['O'], ['O'], ['O'], ['O'], ['B-gpe'], ['O'], ['B-per'], ['B-geo'], ['O'], ['O'], ['O'], ['O'], ['O'], ['O'], ['O'], ['O'], ['O'], ['O'], ['O'], ['B-geo'], ['O'], ['O'], ['B-per'], ['B-geo'], ['O'], ['O'], ['B-geo'], ['O'], ['B-geo'], ['O'], ['B-per'], ['O'], ['O'], ['O'], ['B-geo'], ['B-gpe'], ['O'], ['O'], ['O'], ['O'], ['O'], ['O'], ['O'], ['O'], ['O'], ['B-gpe'], ['O'], ['B-geo'], ['O'], ['O'], ['O'], ['B-geo'], ['B-org'], ['O'], ['O'], ['O'], ['B-per'], ['O'], ['O'], ['B-org'], ['B-geo'], ['O'], ['O'], ['O'], ['O'], ['O'], ['O'], ['O'], ['B-gpe'], ['O'], ['O'], ['B-per'], ['B-gpe'], ['B-geo'], ['O'], ['O'], ['O'], ['O'], ['B-per'], ['O'], ['B-geo'], ['O'], ['O'], ['O'], ['O'], ['O'], ['O'], ['O'], ['O'], ['O'], ['O'], ['O'], ['B-geo'], ['O'], ['B-geo'], ['O'], ['O'], ['O'], ['B-per'], ['B-gpe'], ['O'], ['O'], ['B-gpe'], ['O'], ['O'], ['B-gpe'], ['O'], ['B-geo'], ['O'], ['O'], ['O'], ['O'], ['O'], ['O'], ['O'], ['B-per'], ['B-geo'], ['O'], ['B-geo'], ['O'], ['B-per'], ['O'], ['O'], ['O'], ['O'], ['O'], ['B-per'], ['O'], ['O'], ['O'], ['O'], ['O'], ['O'], ['O'], ['O'], ['B-per'], ['B-gpe'], ['B-gpe'], ['B-per'], ['O'], ['O'], ['O'], ['O'], ['O'], ['O'], ['B-per'], ['O'], ['O'], ['O'], ['O'], ['O'], ['O'], ['O'], ['O'], ['O'], ['O'], ['B-gpe'], ['B-geo'], ['O'], ['B-per'], ['O'], ['O'], ['B-geo'], ['O'], ['B-geo'], ['O'], ['O'], ['B-geo'], ['O'], ['O'], ['O'], ['O'], ['O'], ['B-gpe'], ['O'], ['O'], ['B-geo'], ['O'], ['O'], ['O'], ['O'], ['B-gpe'], ['O'], ['O'], ['O'], ['O'], ['O'], ['O'], ['O'], ['B-gpe'], ['O'], ['B-per'], ['O'], ['O'], ['O'], ['O'], ['O'], ['O'], ['O'], ['O'], ['O'], ['O'], ['O'], ['O'], ['O'], ['O'], ['O'], ['B-gpe'], ['O'], ['B-geo'], ['O'], ['O'], ['B-geo'], ['O'], ['B-geo'], ['O'], ['O'], ['B-gpe'], ['O'], ['O'], ['O'], ['O'], ['O'], ['O'], ['O'], ['B-per'], ['O'], ['O'], ['O'], ['O'], ['O'], ['O'], ['O'], ['O'], ['B-per'], ['O'], ['O'], ['O'], ['O'], ['O'], ['O'], ['O'], ['O'], ['O'], ['O'], ['O'], ['O'], ['O'], ['O'], ['O'], ['O'], ['B-geo'], ['O'], ['O'], ['O'], ['O'], ['O'], ['O'], ['O'], ['B-per'], ['B-geo'], ['B-per'], ['O'], ['O'], ['O'], ['O'], ['O'], ['O'], ['O'], ['O'], ['O'], ['O'], ['O'], ['O'], ['O'], ['O'], ['O'], ['O'], ['O'], ['O'], ['O'], ['O'], ['O'], ['O'], ['O'], ['O'], ['O'], ['B-gpe'], ['O'], ['B-per'], ['O'], ['B-gpe'], ['O'], ['O'], ['O'], ['O'], ['B-geo'], ['O'], ['B-per'], ['O'], ['O'], ['B-geo'], ['O'], ['B-per'], ['O'], ['O'], ['O'], ['O'], ['B-geo'], ['B-per'], ['O'], ['B-geo'], ['O'], ['B-per'], ['O'], ['O'], ['O'], ['O'], ['O'], ['O'], ['B-gpe'], ['O'], ['O'], ['O'], ['O'], ['O'], ['B-geo'], ['O'], ['O'], ['B-per'], ['B-per'], ['O'], ['O'], ['O'], ['B-per'], ['B-geo'], ['B-gpe'], ['O'], ['O'], ['O'], ['O'], ['O'], ['O'], ['O'], ['B-gpe'], ['B-gpe'], ['O'], ['B-per'], ['B-per'], ['O'], ['O'], ['O'], ['O'], ['B-gpe'], ['O'], ['O'], ['B-per'], ['O'], ['B-per'], ['O'], ['O'], ['O'], ['B-gpe'], ['B-gpe'], ['O'], ['B-geo'], ['O'], ['O'], ['B-per'], ['O'], ['O'], ['O'], ['O'], ['O'], ['B-gpe'], ['O'], ['O'], ['B-per'], ['O'], ['B-per'], ['O'], ['B-geo'], ['B-geo'], ['O'], ['B-geo'], ['O'], ['O'], ['O'], ['O'], ['O'], ['O'], ['O'], ['O'], ['B-per'], ['O'], ['B-geo'], ['B-gpe'], ['O'], ['O'], ['B-geo'], ['O'], ['O'], ['B-per'], ['B-per'], ['O'], ['O'], ['O'], ['B-geo'], ['B-per'], ['O'], ['B-org'], ['O'], ['B-per'], ['O'], ['B-per'], ['O'], ['O'], ['O'], ['B-gpe'], ['O'], ['O'], ['O'], ['B-gpe'], ['B-gpe'], ['O'], ['O'], ['O'], ['O'], ['O'], ['B-geo'], ['O'], ['O'], ['B-gpe'], ['B-gpe'], ['O'], ['O'], ['B-gpe'], ['B-per'], ['B-geo'], ['O'], ['O'], ['O'], ['O'], ['O'], ['O'], ['O'], ['B-gpe'], ['B-geo'], ['O'], ['B-per'], ['O'], ['B-geo'], ['O'], ['O'], ['O'], ['O'], ['O'], ['O'], ['O'], ['O'], ['B-geo'], ['O'], ['O'], ['O'], ['B-geo'], ['O'], ['B-geo'], ['O'], ['O'], ['O'], ['O'], ['O'], ['O'], ['O'], ['B-geo'], ['O'], ['O'], ['O'], ['O'], ['O'], ['O'], ['O'], ['B-geo'], ['B-per'], ['B-geo'], ['B-geo'], ['O'], ['O'], ['O'], ['O'], ['O'], ['O'], ['O'], ['B-per'], ['O'], ['B-geo'], ['O'], ['O'], ['O'], ['O'], ['O'], ['O'], ['O'], ['O'], ['O'], ['O'], ['O'], ['O'], ['B-per'], ['O'], ['O'], ['O'], ['B-gpe'], ['O'], ['B-geo'], ['O'], ['O'], ['O'], ['O'], ['O'], ['O'], ['O'], ['B-geo'], ['O'], ['B-gpe'], ['O'], ['O'], ['B-per'], ['B-geo'], ['B-geo'], ['O'], ['O'], ['O'], ['O'], ['B-geo'], ['O'], ['O'], ['O'], ['O'], ['B-geo'], ['O'], ['O'], ['O'], ['O'], ['O'], ['O'], ['O'], ['O'], ['B-per'], ['O'], ['O'], ['O'], ['O'], ['O'], ['O'], ['O'], ['O'], ['B-geo'], ['O'], ['B-gpe'], ['B-geo'], ['O'], ['B-per'], ['O'], ['O'], ['B-geo'], ['O'], ['O'], ['B-per'], ['B-per'], ['B-geo'], ['O'], ['B-geo'], ['B-gpe'], ['O'], ['O'], ['O'], ['O'], ['O'], ['B-geo'], ['O'], ['O'], ['O'], ['B-geo'], ['O'], ['O'], ['O'], ['O'], ['B-geo'], ['O'], ['O'], ['B-geo'], ['B-geo'], ['B-gpe'], ['O'], ['O'], ['B-per'], ['O'], ['O'], ['B-gpe'], ['O'], ['O'], ['O'], ['O'], ['O'], ['O'], ['B-geo'], ['O'], ['O'], ['B-per'], ['O'], ['O'], ['O'], ['B-geo'], ['B-geo'], ['B-per'], ['O'], ['O'], ['B-geo'], ['B-geo'], ['O'], ['B-per'], ['B-per'], ['O'], ['B-per'], ['O'], ['B-geo'], ['B-per'], ['O'], ['O'], ['B-gpe'], ['O'], ['O'], ['O'], ['O'], ['O'], ['O'], ['B-per'], ['B-gpe'], ['B-per'], ['B-geo'], ['O'], ['O'], ['O'], ['B-geo'], ['O'], ['O'], ['B-geo'], ['O'], ['O'], ['O'], ['B-geo'], ['B-geo'], ['O'], ['O'], ['O'], ['B-geo'], ['B-gpe'], ['O'], ['O'], ['O'], ['O'], ['O'], ['O'], ['B-per'], ['O'], ['O'], ['B-geo'], ['B-per'], ['B-per'], ['O'], ['B-geo'], ['O'], ['O'], ['B-geo'], ['O'], ['B-geo'], ['B-org'], ['O'], ['O'], ['O'], ['O'], ['B-per'], ['B-geo'], ['B-org'], ['O'], ['O'], ['O'], ['O'], ['B-per'], ['O'], ['O'], ['B-per'], ['O'], ['O'], ['B-geo'], ['O'], ['B-per'], ['B-org'], ['B-geo'], ['O'], ['O'], ['O'], ['O'], ['O'], ['O'], ['B-gpe'], ['O'], ['B-per'], ['B-geo'], ['O'], ['B-geo'], ['O'], ['O'], ['O'], ['O'], ['O'], ['B-geo'], ['O'], ['O'], ['O'], ['O'], ['O'], ['O'], ['O'], ['O'], ['O'], ['O'], ['O'], ['B-geo'], ['B-gpe'], ['O'], ['O'], ['O'], ['O'], ['O'], ['B-gpe'], ['O'], ['O'], ['O'], ['O'], ['O'], ['O'], ['B-gpe'], ['B-geo'], ['O'], ['B-per'], ['O'], ['O'], ['O'], ['O'], ['B-gpe'], ['O'], ['O'], ['O'], ['O'], ['O'], ['O'], ['O'], ['O'], ['O'], ['O'], ['O'], ['O'], ['O'], ['O'], ['O'], ['O'], ['B-geo'], ['B-per'], ['B-geo'], ['O'], ['O'], ['O'], ['O'], ['O'], ['B-geo'], ['B-per'], ['O'], ['O'], ['B-geo'], ['O'], ['O'], ['O'], ['O'], ['O'], ['O'], ['B-geo'], ['O'], ['B-gpe'], ['O'], ['B-per'], ['O'], ['O'], ['B-per'], ['O'], ['O'], ['O'], ['B-geo'], ['O'], ['B-per'], ['O'], ['O'], ['B-geo'], ['B-geo'], ['B-geo'], ['B-geo'], ['O'], ['O'], ['B-per'], ['O'], ['B-gpe'], ['O'], ['O'], ['O'], ['O'], ['O'], ['B-geo'], ['B-per'], ['B-geo'], ['O'], ['O'], ['O'], ['O'], ['O'], ['O'], ['O'], ['B-geo'], ['B-gpe'], ['O'], ['B-geo'], ['B-gpe'], ['O'], ['B-per'], ['O'], ['O'], ['O'], ['O'], ['B-geo'], ['O'], ['O'], ['O'], ['B-gpe'], ['B-gpe'], ['O'], ['O'], ['B-per'], ['O'], ['O'], ['O'], ['O'], ['O'], ['B-geo'], ['O'], ['O'], ['O'], ['B-per'], ['O'], ['O'], ['O'], ['O'], ['O'], ['O'], ['O'], ['B-geo'], ['O'], ['B-per'], ['B-per'], ['B-geo'], ['O'], ['O'], ['O'], ['B-geo'], ['O'], ['O'], ['O'], ['O'], ['O'], ['O'], ['O'], ['O'], ['O'], ['B-gpe'], ['O'], ['O'], ['B-geo'], ['O'], ['B-per'], ['B-geo'], ['B-geo'], ['O'], ['O'], ['B-per'], ['B-per'], ['O'], ['B-per'], ['O'], ['B-gpe'], ['B-geo'], ['O'], ['O'], ['O'], ['B-geo'], ['O'], ['O'], ['O'], ['O'], ['O'], ['O'], ['B-geo'], ['O'], ['O'], ['O'], ['O'], ['O'], ['O'], ['B-per'], ['B-gpe'], ['B-per'], ['O'], ['B-gpe'], ['O'], ['O'], ['O'], ['O'], ['B-per'], ['O'], ['O'], ['O'], ['B-gpe'], ['O'], ['B-gpe'], ['O'], ['O'], ['O'], ['O'], ['O'], ['B-geo'], ['O'], ['B-geo'], ['O'], ['O'], ['O'], ['O'], ['O'], ['O'], ['B-per'], ['O'], ['O'], ['B-geo'], ['O'], ['O'], ['B-geo'], ['B-geo'], ['O'], ['B-per'], ['O'], ['B-geo'], ['O'], ['B-geo'], ['O'], ['B-per'], ['O'], ['O'], ['O'], ['B-geo'], ['O'], ['O'], ['B-per'], ['O'], ['O'], ['O'], ['B-per'], ['O'], ['B-geo'], ['B-per'], ['O'], ['O'], ['O'], ['O'], ['O'], ['B-per'], ['B-per'], ['O'], ['O'], ['O'], ['O'], ['O'], ['O'], ['O'], ['O'], ['O'], ['O'], ['B-org'], ['O'], ['O'], ['O'], ['O'], ['B-gpe'], ['O'], ['B-geo'], ['O'], ['O'], ['B-geo'], ['O'], ['O'], ['O'], ['O'], ['O'], ['B-geo'], ['O'], ['B-geo'], ['O'], ['O'], ['B-geo'], ['O'], ['B-geo'], ['O'], ['O'], ['O'], ['O'], ['B-gpe'], ['O'], ['O'], ['B-gpe'], ['O'], ['B-gpe'], ['O'], ['O'], ['O'], ['O'], ['O'], ['B-per'], ['O'], ['B-per'], ['O'], ['O'], ['O'], ['O'], ['O'], ['O'], ['B-geo'], ['O'], ['O'], ['B-per'], ['B-per'], ['O'], ['O'], ['O'], ['B-per'], ['O'], ['B-per'], ['B-per'], ['B-per'], ['O'], ['O'], ['O'], ['O'], ['O'], ['O'], ['O'], ['O'], ['O'], ['O'], ['O'], ['B-geo'], ['O'], ['O'], ['O'], ['B-per'], ['B-per'], ['O'], ['O'], ['O'], ['O'], ['B-geo'], ['B-geo'], ['O'], ['B-geo'], ['O'], ['O'], ['B-geo'], ['O'], ['O'], ['B-per'], ['O'], ['O'], ['O'], ['B-geo'], ['O'], ['O'], ['O'], ['B-geo'], ['O'], ['O'], ['O'], ['O'], ['O'], ['O'], ['B-gpe'], ['O'], ['O'], ['O'], ['O'], ['O'], ['B-gpe'], ['O'], ['O'], ['B-gpe'], ['O'], ['B-geo'], ['O'], ['O'], ['O'], ['O'], ['B-per'], ['O'], ['O'], ['O'], ['O'], ['B-geo'], ['B-per'], ['O'], ['O'], ['B-gpe'], ['O'], ['B-geo'], ['O'], ['O'], ['B-gpe'], ['O'], ['O'], ['O'], ['O'], ['O'], ['O'], ['O'], ['O'], ['B-geo'], ['O'], ['B-per'], ['O'], ['B-gpe'], ['O'], ['O'], ['O'], ['O'], ['O'], ['B-geo'], ['B-geo'], ['O'], ['O'], ['O'], ['O'], ['O'], ['B-per'], ['O'], ['O'], ['B-geo'], ['O'], ['O'], ['O'], ['B-per'], ['B-geo'], ['O'], ['O'], ['O'], ['B-per'], ['O'], ['O'], ['B-per'], ['O'], ['O'], ['O'], ['O'], ['O'], ['O'], ['O'], ['O'], ['B-geo'], ['O'], ['B-gpe'], ['B-per'], ['O'], ['B-per'], ['B-per'], ['O'], ['O'], ['O'], ['O'], ['B-per'], ['O'], ['O'], ['B-geo'], ['B-per'], ['O'], ['O'], ['O'], ['O'], ['O'], ['O'], ['O'], ['O'], ['O'], ['O'], ['B-per'], ['O'], ['O'], ['O'], ['O'], ['O'], ['B-geo'], ['O'], ['O'], ['O'], ['O'], ['O'], ['B-org'], ['B-per'], ['O'], ['O'], ['B-per'], ['O'], ['O'], ['O'], ['O'], ['B-geo'], ['O'], ['O'], ['O'], ['O'], ['O'], ['O'], ['O'], ['O'], ['O'], ['O'], ['B-gpe'], ['O'], ['O'], ['B-org'], ['O'], ['B-geo'], ['O'], ['O'], ['O'], ['O'], ['O'], ['O'], ['O'], ['B-per'], ['B-per'], ['O'], ['O'], ['O'], ['O'], ['O'], ['B-gpe'], ['B-gpe'], ['O'], ['O'], ['O'], ['O'], ['B-per'], ['O'], ['O'], ['O'], ['O'], ['O'], ['B-per'], ['O'], ['O'], ['O'], ['O'], ['O'], ['B-geo'], ['O'], ['B-geo'], ['B-gpe'], ['O'], ['O'], ['O'], ['B-per'], ['B-geo'], ['O'], ['O'], ['O'], ['O'], ['O'], ['O'], ['O'], ['O'], ['B-geo'], ['O'], ['O'], ['B-geo'], ['O'], ['O'], ['O'], ['O'], ['O'], ['B-geo'], ['O'], ['O'], ['O'], ['B-gpe'], ['B-gpe'], ['O'], ['O'], ['O'], ['O'], ['O'], ['B-per'], ['B-geo'], ['O'], ['O'], ['B-gpe'], ['O'], ['O'], ['O'], ['B-geo'], ['O'], ['B-per'], ['B-geo'], ['O'], ['O'], ['B-geo'], ['O'], ['O'], ['O'], ['O'], ['O'], ['O'], ['O'], ['O'], ['O'], ['B-per'], ['O'], ['O'], ['O'], ['O'], ['O'], ['O'], ['B-per'], ['O'], ['B-gpe'], ['O'], ['O'], ['O'], ['B-gpe'], ['O'], ['B-per'], ['O'], ['O'], ['O'], ['B-gpe'], ['O'], ['B-gpe'], ['B-geo'], ['O'], ['O'], ['B-gpe'], ['O'], ['O'], ['O'], ['O'], ['O'], ['O'], ['B-geo'], ['O'], ['O'], ['B-gpe'], ['O'], ['O'], ['O'], ['O'], ['O'], ['B-per'], ['O'], ['O'], ['O'], ['O'], ['B-per'], ['B-geo'], ['B-geo'], ['O'], ['O'], ['B-per'], ['B-geo'], ['O'], ['B-gpe'], ['O'], ['B-per'], ['O'], ['B-gpe'], ['O'], ['B-gpe'], ['O'], ['B-org'], ['O'], ['O'], ['B-geo'], ['O'], ['O'], ['B-per'], ['B-geo'], ['O'], ['O'], ['O'], ['O'], ['B-gpe'], ['O'], ['B-per'], ['O'], ['O'], ['O'], ['B-per'], ['O'], ['B-gpe'], ['O'], ['O'], ['O'], ['O'], ['O'], ['B-per'], ['O'], ['B-per'], ['O'], ['B-geo'], ['B-per'], ['O'], ['O'], ['B-per'], ['O'], ['O'], ['O'], ['O'], ['O'], ['B-per'], ['O'], ['O'], ['O'], ['O'], ['B-geo'], ['O'], ['B-geo'], ['B-gpe'], ['O'], ['B-geo'], ['O'], ['O'], ['O'], ['O'], ['O'], ['O'], ['O'], ['O'], ['B-gpe'], ['O'], ['B-geo'], ['O'], ['O'], ['O'], ['O'], ['O'], ['B-geo'], ['O'], ['O'], ['O'], ['O'], ['O'], ['O'], ['O'], ['O'], ['O'], ['O'], ['O'], ['O'], ['O'], ['O'], ['O'], ['B-per'], ['O'], ['O'], ['B-gpe'], ['O'], ['O'], ['O'], ['O'], ['O'], ['B-gpe'], ['O'], ['O'], ['B-per'], ['O'], ['B-per'], ['O'], ['B-per'], ['B-per'], ['O'], ['B-geo'], ['O'], ['O'], ['O'], ['O'], ['O'], ['O'], ['O'], ['B-gpe'], ['O'], ['O'], ['O'], ['O'], ['O'], ['O'], ['O'], ['O'], ['O'], ['O'], ['O'], ['O'], ['O'], ['O'], ['O'], ['O'], ['B-geo'], ['O'], ['O'], ['B-geo'], ['O'], ['O'], ['B-gpe'], ['O'], ['O'], ['O'], ['O'], ['O'], ['O'], ['O'], ['B-gpe'], ['B-geo'], ['O'], ['O'], ['O'], ['O'], ['B-gpe'], ['O'], ['O'], ['O'], ['B-geo'], ['B-geo'], ['B-per'], ['B-gpe'], ['B-gpe'], ['O'], ['O'], ['O'], ['B-geo'], ['O'], ['B-gpe'], ['B-geo'], ['B-geo'], ['B-geo'], ['O'], ['O'], ['B-per'], ['B-gpe'], ['O'], ['O'], ['O'], ['O'], ['O'], ['B-per'], ['O'], ['O'], ['O'], ['B-per'], ['O'], ['O'], ['O'], ['O'], ['B-per'], ['O'], ['B-geo'], ['B-geo'], ['O'], ['O'], ['O'], ['O'], ['O'], ['O'], ['O'], ['B-per'], ['O'], ['B-per'], ['O'], ['O'], ['O'], ['O'], ['B-per'], ['O'], ['O'], ['B-geo'], ['O'], ['O'], ['O'], ['O'], ['O'], ['O'], ['O'], ['O'], ['B-geo'], ['O'], ['O'], ['O'], ['O'], ['O'], ['O'], ['O'], ['O'], ['O'], ['B-geo'], ['O'], ['O'], ['O'], ['O'], ['O'], ['O'], ['O'], ['O'], ['O'], ['O'], ['O'], ['B-gpe'], ['O'], ['O'], ['O'], ['O'], ['O'], ['B-gpe'], ['O'], ['O'], ['O'], ['O'], ['B-gpe'], ['O'], ['O'], ['O'], ['O'], ['O'], ['O'], ['O'], ['O'], ['O'], ['O'], ['O'], ['O'], ['O'], ['B-per'], ['O'], ['O'], ['B-per'], ['O'], ['O'], ['O'], ['O'], ['B-per'], ['O'], ['O'], ['O'], ['B-gpe'], ['B-gpe'], ['O'], ['B-per'], ['O'], ['O'], ['O'], ['O'], ['O'], ['O'], ['O'], ['O'], ['O'], ['O'], ['O'], ['O'], ['B-geo'], ['O'], ['B-per'], ['O'], ['O'], ['O'], ['O'], ['B-org'], ['O'], ['O'], ['O'], ['B-gpe'], ['O'], ['O'], ['O'], ['B-geo'], ['O'], ['B-geo'], ['O'], ['O'], ['O'], ['O'], ['O'], ['B-gpe'], ['B-gpe'], ['B-per'], ['O'], ['B-geo'], ['B-per'], ['O'], ['O'], ['O'], ['B-per'], ['O'], ['O'], ['B-geo'], ['O'], ['O'], ['O'], ['O'], ['O'], ['B-per'], ['O'], ['O'], ['O'], ['O'], ['B-geo'], ['O'], ['B-gpe'], ['B-per'], ['O'], ['O'], ['O'], ['O'], ['O'], ['B-geo'], ['O'], ['B-gpe'], ['B-geo'], ['B-per'], ['B-geo'], ['O'], ['O'], ['B-geo'], ['O'], ['B-gpe'], ['O'], ['O'], ['O'], ['O'], ['B-per'], ['O'], ['O'], ['O'], ['O'], ['O'], ['O'], ['B-gpe'], ['O'], ['O'], ['B-geo'], ['B-geo'], ['O'], ['O'], ['O'], ['B-per'], ['O'], ['B-geo'], ['B-gpe'], ['O'], ['O'], ['O'], ['O'], ['O'], ['O'], ['B-gpe'], ['O'], ['B-per'], ['O'], ['B-gpe'], ['O'], ['O'], ['O'], ['O'], ['B-geo'], ['B-geo'], ['O'], ['B-geo'], ['O'], ['B-gpe'], ['O'], ['O'], ['O'], ['O'], ['B-geo'], ['B-per'], ['O'], ['B-gpe'], ['O'], ['O'], ['O'], ['B-geo'], ['B-geo'], ['O'], ['B-geo'], ['B-per'], ['B-geo'], ['B-geo'], ['B-gpe'], ['O'], ['B-gpe'], ['O'], ['O'], ['B-per'], ['O'], ['O'], ['O'], ['O'], ['O'], ['B-geo'], ['O'], ['O'], ['O'], ['O'], ['O'], ['O'], ['O'], ['O'], ['O'], ['O'], ['O'], ['O'], ['O'], ['B-per'], ['O'], ['O'], ['O'], ['O'], ['O'], ['O'], ['O'], ['B-gpe'], ['O'], ['B-per'], ['B-gpe'], ['O'], ['O'], ['O'], ['O'], ['B-per'], ['B-org'], ['O'], ['B-gpe'], ['O'], ['O'], ['O'], ['O'], ['B-per'], ['B-per'], ['O'], ['O'], ['B-per'], ['O'], ['B-geo'], ['O'], ['O'], ['O'], ['O'], ['B-gpe'], ['O'], ['O'], ['O'], ['O'], ['O'], ['O'], ['O'], ['B-org'], ['O'], ['O'], ['O'], ['O'], ['O'], ['O'], ['B-per'], ['O'], ['B-geo'], ['B-geo'], ['O'], ['O'], ['O'], ['B-geo'], ['O'], ['O'], ['B-per'], ['B-gpe'], ['O'], ['O'], ['O'], ['O'], ['O'], ['O'], ['O'], ['O'], ['O'], ['B-gpe'], ['O'], ['O'], ['O'], ['O'], ['O'], ['O'], ['B-geo'], ['B-per'], ['O'], ['B-gpe'], ['O'], ['O'], ['O'], ['O'], ['B-geo'], ['O'], ['B-per'], ['B-geo'], ['O'], ['O'], ['O'], ['O'], ['O'], ['B-geo'], ['B-org'], ['B-gpe'], ['O'], ['O'], ['O'], ['O'], ['O'], ['B-geo'], ['O'], ['O'], ['O'], ['O'], ['O'], ['O'], ['O'], ['O'], ['O'], ['O'], ['O'], ['O'], ['O'], ['O'], ['O'], ['B-gpe'], ['B-per'], ['O'], ['O'], ['O'], ['O'], ['O'], ['O'], ['B-geo'], ['B-geo'], ['O'], ['O'], ['O'], ['B-per'], ['O'], ['O'], ['B-geo'], ['O'], ['O'], ['O'], ['O'], ['O'], ['O'], ['B-geo'], ['O'], ['B-geo'], ['O'], ['O'], ['O'], ['B-per'], ['B-geo'], ['O'], ['B-per'], ['B-gpe'], ['O'], ['O'], ['O'], ['B-per'], ['O'], ['O'], ['O'], ['B-geo'], ['O'], ['O'], ['O'], ['O'], ['O'], ['B-per'], ['O'], ['O'], ['O'], ['O'], ['O'], ['O'], ['B-per'], ['B-per'], ['O'], ['O'], ['B-per'], ['O'], ['B-gpe'], ['B-gpe'], ['O'], ['O'], ['B-per'], ['O'], ['O'], ['B-gpe'], ['B-gpe'], ['B-per'], ['O'], ['O'], ['O'], ['O'], ['O'], ['B-gpe'], ['O'], ['O'], ['B-geo'], ['O'], ['O'], ['O'], ['O'], ['B-geo'], ['B-geo'], ['O'], ['O'], ['O'], ['O'], ['O'], ['O'], ['O'], ['O'], ['B-per'], ['O'], ['O'], ['B-per'], ['B-per'], ['O'], ['O'], ['O'], ['O'], ['O'], ['B-per'], ['O'], ['B-geo'], ['O'], ['B-geo'], ['O'], ['O'], ['O'], ['O'], ['O'], ['O'], ['B-geo'], ['O'], ['O'], ['O'], ['O'], ['B-geo'], ['B-gpe'], ['O'], ['O'], ['O'], ['B-geo'], ['O'], ['O'], ['B-per'], ['O'], ['O'], ['O'], ['B-geo'], ['O'], ['O'], ['O'], ['B-geo'], ['O'], ['O'], ['O'], ['O'], ['O'], ['O'], ['O'], ['O'], ['O'], ['O'], ['O'], ['O'], ['O'], ['O'], ['O'], ['O'], ['O'], ['O'], ['B-geo'], ['O'], ['O'], ['O'], ['O'], ['O'], ['B-geo'], ['B-geo'], ['B-per'], ['O'], ['O'], ['B-gpe'], ['B-per'], ['B-per'], ['O'], ['O'], ['O'], ['O'], ['O'], ['B-gpe'], ['B-geo'], ['B-geo'], ['O'], ['O'], ['B-per'], ['O'], ['O'], ['B-geo'], ['O'], ['O'], ['O'], ['B-geo'], ['O'], ['B-geo'], ['O'], ['O'], ['O'], ['O'], ['B-geo'], ['O'], ['O'], ['B-geo'], ['B-geo'], ['O'], ['O'], ['O'], ['B-geo'], ['O'], ['B-per'], ['O'], ['B-per'], ['B-geo'], ['B-per'], ['O'], ['O'], ['O'], ['O'], ['B-per'], ['O'], ['B-per'], ['O'], ['B-per'], ['O'], ['O'], ['O'], ['O'], ['B-per'], ['O'], ['O'], ['B-geo'], ['O'], ['O'], ['B-geo'], ['O'], ['O'], ['B-gpe'], ['O'], ['O'], ['O'], ['O'], ['B-geo'], ['O'], ['O'], ['O'], ['O'], ['O'], ['O'], ['O'], ['O'], ['B-per'], ['B-geo'], ['O'], ['O'], ['O'], ['O'], ['B-geo'], ['O'], ['O'], ['O'], ['O'], ['B-per'], ['O'], ['O'], ['O'], ['O'], ['O'], ['O'], ['O'], ['B-per'], ['O'], ['B-per'], ['O'], ['O'], ['O'], ['O'], ['O'], ['O'], ['O'], ['B-per'], ['B-geo'], ['B-gpe'], ['O'], ['B-per'], ['B-per'], ['O'], ['O'], ['O'], ['O'], ['O'], ['B-geo'], ['O'], ['O'], ['O'], ['O'], ['O'], ['O'], ['O'], ['O'], ['B-gpe'], ['O'], ['O'], ['O'], ['O'], ['O'], ['O'], ['O'], ['B-gpe'], ['O'], ['O'], ['O'], ['O'], ['O'], ['O'], ['B-gpe'], ['B-per'], ['O'], ['O'], ['O'], ['O'], ['O'], ['O'], ['O'], ['O'], ['B-per'], ['O'], ['B-gpe'], ['B-per'], ['B-gpe'], ['B-per'], ['B-per'], ['B-gpe'], ['O'], ['O'], ['O'], ['B-per'], ['O'], ['O'], ['O'], ['O'], ['O'], ['O'], ['O'], ['O'], ['O'], ['O'], ['O'], ['B-geo'], ['O'], ['B-per'], ['O'], ['O'], ['O'], ['O'], ['O'], ['O'], ['O'], ['B-gpe'], ['O'], ['O'], ['O'], ['O'], ['O'], ['O'], ['O'], ['O'], ['O'], ['O'], ['B-gpe'], ['B-per'], ['O'], ['O'], ['O'], ['B-gpe'], ['O'], ['B-geo'], ['O'], ['B-per'], ['O'], ['O'], ['O'], ['O'], ['O'], ['O'], ['B-per'], ['O'], ['O'], ['O'], ['B-gpe'], ['B-geo'], ['O'], ['O'], ['O'], ['B-per'], ['O'], ['B-gpe'], ['B-geo'], ['O'], ['O'], ['O'], ['B-geo'], ['B-per'], ['B-gpe'], ['O'], ['B-geo'], ['O'], ['O'], ['O'], ['O'], ['O'], ['O'], ['B-geo'], ['O'], ['O'], ['O'], ['O'], ['O'], ['B-per'], ['O'], ['O'], ['O'], ['O'], ['B-gpe'], ['O'], ['O'], ['O'], ['O'], ['B-per'], ['O'], ['O'], ['B-geo'], ['O'], ['O'], ['O'], ['O'], ['O'], ['O'], ['O'], ['O'], ['O'], ['O'], ['B-geo'], ['B-geo'], ['B-gpe'], ['O'], ['O'], ['B-gpe'], ['B-gpe'], ['O'], ['O'], ['O'], ['B-geo'], ['O'], ['O'], ['O'], ['O'], ['O'], ['O'], ['O'], ['O'], ['B-per'], ['O'], ['O'], ['B-gpe'], ['O'], ['O'], ['O'], ['B-gpe'], ['B-gpe'], ['O'], ['B-gpe'], ['B-geo'], ['B-per'], ['B-per'], ['O'], ['O'], ['O'], ['O'], ['O'], ['B-per'], ['O'], ['O'], ['O'], ['B-geo'], ['O'], ['O'], ['O'], ['O'], ['O'], ['O'], ['O'], ['O'], ['O'], ['O'], ['O'], ['B-per'], ['O'], ['O'], ['O'], ['O'], ['O'], ['B-per'], ['O'], ['O'], ['O'], ['B-geo'], ['B-gpe'], ['O'], ['O'], ['O'], ['O'], ['O'], ['O'], ['B-geo'], ['O'], ['O'], ['O'], ['O'], ['O'], ['B-geo'], ['O'], ['O'], ['B-gpe'], ['B-per'], ['O'], ['O'], ['B-gpe'], ['B-geo'], ['B-per'], ['O'], ['B-per'], ['B-gpe'], ['O'], ['B-per'], ['O'], ['O'], ['B-per'], ['B-geo'], ['O'], ['O'], ['O'], ['B-per'], ['B-per'], ['O'], ['O'], ['B-geo'], ['O'], ['O'], ['O'], ['B-per'], ['O'], ['O'], ['O'], ['O'], ['B-gpe'], ['B-geo'], ['O'], ['O'], ['B-gpe'], ['O'], ['O'], ['O'], ['O'], ['B-geo'], ['O'], ['O'], ['B-gpe'], ['O'], ['B-geo'], ['O'], ['O'], ['O'], ['O'], ['B-geo'], ['O'], ['O'], ['O'], ['O'], ['O'], ['B-per'], ['B-geo'], ['O'], ['O'], ['O'], ['O'], ['O'], ['O'], ['O'], ['B-per'], ['O'], ['O'], ['O'], ['O'], ['O'], ['O'], ['O'], ['O'], ['B-per'], ['O'], ['O'], ['O'], ['O'], ['B-geo'], ['B-per'], ['O'], ['O'], ['B-geo'], ['O'], ['O'], ['O'], ['O'], ['B-per'], ['O'], ['O'], ['O'], ['B-per'], ['B-geo'], ['O'], ['O'], ['O'], ['O'], ['O'], ['O'], ['O'], ['O'], ['O'], ['O'], ['O'], ['O'], ['O'], ['O'], ['B-geo'], ['O'], ['B-geo'], ['O'], ['O'], ['O'], ['B-geo'], ['O'], ['O'], ['O'], ['O'], ['B-per'], ['O'], ['O'], ['B-per'], ['O'], ['B-per'], ['O'], ['O'], ['O'], ['O'], ['O'], ['B-org'], ['B-geo'], ['O'], ['B-per'], ['B-geo'], ['B-per'], ['B-per'], ['O'], ['B-gpe'], ['O'], ['O'], ['O'], ['O'], ['O'], ['O'], ['O'], ['O'], ['O'], ['O'], ['O'], ['B-gpe'], ['O'], ['O'], ['B-gpe'], ['O'], ['O'], ['O'], ['B-per'], ['B-geo'], ['O'], ['O'], ['O'], ['O'], ['O'], ['O'], ['B-per'], ['O'], ['O'], ['O'], ['O'], ['O'], ['O'], ['O'], ['B-gpe'], ['O'], ['O'], ['O'], ['O'], ['O'], ['O'], ['B-gpe'], ['B-gpe'], ['B-per'], ['O'], ['O'], ['O'], ['B-per'], ['O'], ['B-geo'], ['O'], ['O'], ['B-geo'], ['O'], ['O'], ['B-per'], ['O'], ['O'], ['O'], ['O'], ['O'], ['O'], ['O'], ['O'], ['B-per'], ['B-per'], ['O'], ['B-geo'], ['O'], ['B-per'], ['O'], ['B-per'], ['O'], ['O'], ['B-per'], ['O'], ['B-gpe'], ['O'], ['O'], ['O'], ['O'], ['O'], ['O'], ['B-geo'], ['O'], ['O'], ['O'], ['B-per'], ['O'], ['B-geo'], ['O'], ['B-geo'], ['B-geo'], ['O'], ['O'], ['O'], ['O'], ['O'], ['O'], ['O'], ['B-geo'], ['O'], ['B-per'], ['B-gpe'], ['O'], ['O'], ['B-geo'], ['O'], ['O'], ['B-gpe'], ['O'], ['O'], ['O'], ['B-gpe'], ['B-geo'], ['B-per'], ['O'], ['O'], ['O'], ['O'], ['B-gpe'], ['O'], ['O'], ['O'], ['O'], ['O'], ['O'], ['B-geo'], ['O'], ['O'], ['O'], ['O'], ['O'], ['O'], ['B-geo'], ['O'], ['B-geo'], ['O'], ['O'], ['O'], ['O'], ['O'], ['B-per'], ['B-gpe'], ['O'], ['O'], ['O'], ['B-geo'], ['O'], ['O'], ['O'], ['B-per'], ['O'], ['O'], ['O'], ['O'], ['O'], ['B-geo'], ['O'], ['O'], ['O'], ['O'], ['B-gpe'], ['O'], ['B-gpe'], ['O'], ['O'], ['O'], ['B-per'], ['O'], ['O'], ['B-per'], ['O'], ['O'], ['O'], ['O'], ['O'], ['O'], ['B-per'], ['O'], ['B-geo'], ['O'], ['O'], ['O'], ['O'], ['O'], ['B-geo'], ['B-per'], ['B-gpe'], ['O'], ['O'], ['O'], ['O'], ['O'], ['O'], ['B-per'], ['B-gpe'], ['O'], ['O'], ['O'], ['O'], ['O'], ['O'], ['O'], ['O'], ['B-geo'], ['O'], ['B-gpe'], ['O'], ['B-geo'], ['O'], ['B-per'], ['O'], ['O'], ['O'], ['O'], ['B-per'], ['O'], ['O'], ['O'], ['B-gpe'], ['B-geo'], ['B-per'], ['O'], ['O'], ['O'], ['O'], ['B-per'], ['O'], ['O'], ['O'], ['B-per'], ['B-per'], ['B-per'], ['B-per'], ['O'], ['B-per'], ['O'], ['O'], ['O'], ['O'], ['O'], ['O'], ['O'], ['O'], ['O'], ['O'], ['O'], ['O'], ['O'], ['B-geo'], ['O'], ['O'], ['B-geo'], ['B-gpe'], ['B-gpe'], ['B-gpe'], ['O'], ['B-gpe'], ['O'], ['B-per'], ['B-geo'], ['O'], ['O'], ['O'], ['B-per'], ['O'], ['O'], ['O'], ['B-geo'], ['O'], ['O'], ['O'], ['B-per'], ['O'], ['B-geo'], ['O'], ['B-geo'], ['B-per'], ['B-gpe'], ['O'], ['O'], ['O'], ['O'], ['B-geo'], ['O'], ['B-per'], ['B-geo'], ['O'], ['O'], ['O'], ['O'], ['O'], ['B-geo'], ['O'], ['B-gpe'], ['B-org'], ['O'], ['O'], ['O'], ['B-per'], ['B-geo'], ['O'], ['B-per'], ['B-per'], ['B-geo'], ['O'], ['B-per'], ['B-gpe'], ['O'], ['O'], ['O'], ['O'], ['O'], ['B-per'], ['O'], ['B-gpe'], ['O'], ['O'], ['B-per'], ['B-geo'], ['O'], ['B-geo'], ['O'], ['O'], ['O'], ['O'], ['B-per'], ['O'], ['O'], ['O'], ['O'], ['O'], ['B-gpe'], ['O'], ['O'], ['O'], ['O'], ['B-per'], ['O'], ['O'], ['B-geo'], ['O'], ['O'], ['O'], ['O'], ['O'], ['O'], ['O'], ['B-per'], ['B-gpe'], ['O'], ['O'], ['O'], ['B-gpe'], ['O'], ['O'], ['O'], ['O'], ['B-per'], ['B-per'], ['O'], ['O'], ['O'], ['O'], ['O'], ['O'], ['B-gpe'], ['B-per'], ['B-per'], ['O'], ['B-geo'], ['B-org'], ['O'], ['O'], ['O'], ['O'], ['O'], ['O'], ['O'], ['O'], ['B-per'], ['O'], ['B-geo'], ['O'], ['B-per'], ['B-per'], ['B-geo'], ['O'], ['O'], ['O'], ['O'], ['O'], ['B-gpe'], ['O'], ['O'], ['O'], ['B-geo'], ['B-geo'], ['O'], ['O'], ['B-geo'], ['O'], ['O'], ['O'], ['O'], ['O'], ['O'], ['B-gpe'], ['O'], ['O'], ['O'], ['O'], ['O'], ['B-per'], ['O'], ['O'], ['O'], ['O'], ['O'], ['O'], ['O'], ['O'], ['O'], ['O'], ['O'], ['O'], ['B-per'], ['O'], ['O'], ['B-geo'], ['B-gpe'], ['B-gpe'], ['O'], ['O'], ['O'], ['O'], ['B-per'], ['B-geo'], ['O'], ['O'], ['B-per'], ['B-gpe'], ['O'], ['B-per'], ['O'], ['B-per'], ['O'], ['B-gpe'], ['O'], ['O'], ['O'], ['O'], ['O'], ['O'], ['O'], ['O'], ['O'], ['O'], ['O'], ['B-per'], ['O'], ['B-gpe'], ['B-geo'], ['O'], ['O'], ['O'], ['B-gpe'], ['B-geo'], ['O'], ['O'], ['O'], ['B-geo'], ['B-geo'], ['O'], ['O'], ['B-geo'], ['O'], ['O'], ['O'], ['O'], ['B-gpe'], ['O'], ['O'], ['B-per'], ['O'], ['O'], ['B-per'], ['O'], ['B-gpe'], ['O'], ['O'], ['B-per'], ['B-per'], ['O'], ['O'], ['O'], ['B-gpe'], ['O'], ['B-gpe'], ['O'], ['O'], ['B-geo'], ['O'], ['O'], ['O'], ['O'], ['B-per'], ['O'], ['B-per'], ['O'], ['O'], ['O'], ['O'], ['O'], ['B-per'], ['B-per'], ['B-per'], ['O'], ['O'], ['B-geo'], ['O'], ['B-geo'], ['B-gpe'], ['O'], ['B-gpe'], ['O'], ['O'], ['B-org'], ['O'], ['B-org'], ['O'], ['O'], ['O'], ['O'], ['O'], ['O'], ['O'], ['O'], ['O'], ['B-geo'], ['B-gpe'], ['O'], ['O'], ['O'], ['O'], ['O'], ['O'], ['B-per'], ['O'], ['O'], ['O'], ['O'], ['O'], ['O'], ['O'], ['O'], ['O'], ['B-per'], ['O'], ['O'], ['O'], ['B-gpe'], ['O'], ['B-geo'], ['B-geo'], ['O'], ['O'], ['O'], ['O'], ['B-org'], ['B-gpe'], ['O'], ['O'], ['B-per'], ['O'], ['O'], ['O'], ['O'], ['O'], ['O'], ['O'], ['O'], ['O'], ['O'], ['O'], ['O'], ['O'], ['O'], ['B-per'], ['O'], ['O'], ['B-gpe'], ['O'], ['B-geo'], ['O'], ['B-per'], ['B-per'], ['B-geo'], ['B-org'], ['B-gpe'], ['O'], ['O'], ['O'], ['O'], ['O'], ['O'], ['O'], ['B-gpe'], ['O'], ['B-gpe'], ['O'], ['B-per'], ['O'], ['O'], ['O'], ['O'], ['B-org'], ['O'], ['O'], ['O'], ['B-per'], ['O'], ['B-geo'], ['O'], ['O'], ['O'], ['O'], ['O'], ['O'], ['B-gpe'], ['O'], ['O'], ['B-gpe'], ['B-geo'], ['B-geo'], ['O'], ['O'], ['O'], ['B-per'], ['O'], ['O'], ['O'], ['O'], ['B-per'], ['B-per'], ['O'], ['O'], ['O'], ['O'], ['O'], ['B-gpe'], ['B-gpe'], ['O'], ['O'], ['O'], ['O'], ['O'], ['O'], ['O'], ['O'], ['B-geo'], ['O'], ['O'], ['B-per'], ['O'], ['O'], ['O'], ['O'], ['B-gpe'], ['O'], ['B-per'], ['O'], ['O'], ['B-per'], ['O'], ['O'], ['B-gpe'], ['O'], ['B-geo'], ['O'], ['O'], ['O'], ['O'], ['B-geo'], ['O'], ['B-gpe'], ['O'], ['O'], ['O'], ['B-gpe'], ['O'], ['O'], ['O'], ['O'], ['O'], ['O'], ['O'], ['B-gpe'], ['B-per'], ['O'], ['O'], ['B-geo'], ['O'], ['O'], ['O'], ['O'], ['O'], ['B-geo'], ['B-gpe'], ['B-per'], ['B-gpe'], ['B-geo'], ['O'], ['B-geo'], ['B-per'], ['O'], ['O'], ['O'], ['B-gpe'], ['O'], ['O'], ['O'], ['O'], ['O'], ['O'], ['O'], ['O'], ['O'], ['B-geo'], ['O'], ['O'], ['O'], ['O'], ['O'], ['O'], ['O'], ['B-gpe'], ['O'], ['B-geo'], ['B-geo'], ['O'], ['B-gpe'], ['B-gpe'], ['O'], ['O'], ['B-geo'], ['B-gpe'], ['O'], ['B-geo'], ['O'], ['O'], ['B-per'], ['O'], ['B-gpe'], ['O'], ['O'], ['O'], ['O'], ['O'], ['O'], ['O'], ['O'], ['O'], ['O'], ['O'], ['O'], ['O'], ['B-geo'], ['O'], ['B-per'], ['O'], ['B-per'], ['B-org'], ['O'], ['O'], ['B-geo'], ['O'], ['O'], ['O'], ['O'], ['O'], ['B-geo'], ['O'], ['O'], ['O'], ['O'], ['O'], ['O'], ['O'], ['O'], ['O'], ['O'], ['O'], ['O'], ['O'], ['O'], ['B-per'], ['B-per'], ['O'], ['O'], ['B-per'], ['O'], ['O'], ['O'], ['O'], ['O'], ['B-gpe'], ['O'], ['O'], ['B-per'], ['O'], ['B-geo'], ['B-per'], ['O'], ['O'], ['O'], ['O'], ['O'], ['O'], ['O'], ['O'], ['O'], ['O'], ['B-geo'], ['O'], ['B-per'], ['O'], ['O'], ['B-per'], ['O'], ['B-per'], ['O'], ['O'], ['O'], ['B-geo'], ['O'], ['B-gpe'], ['O'], ['O'], ['B-gpe'], ['O'], ['O'], ['O'], ['B-gpe'], ['B-per'], ['O'], ['O'], ['B-per'], ['B-geo'], ['O'], ['B-geo'], ['B-geo'], ['O'], ['O'], ['O'], ['O'], ['O'], ['O'], ['O'], ['B-per'], ['B-geo'], ['B-gpe'], ['O'], ['O'], ['B-per'], ['O'], ['O'], ['O'], ['O'], ['O'], ['O'], ['O'], ['O'], ['O'], ['B-geo'], ['O'], ['O'], ['O'], ['B-geo'], ['O'], ['B-gpe'], ['O'], ['O'], ['O'], ['O'], ['O'], ['O'], ['O'], ['O'], ['O'], ['O'], ['O'], ['O'], ['O'], ['O'], ['B-per'], ['B-geo'], ['O'], ['B-geo'], ['B-per'], ['O'], ['O'], ['O'], ['O'], ['O'], ['B-gpe'], ['O'], ['O'], ['O'], ['O'], ['O'], ['O'], ['O'], ['O'], ['B-gpe'], ['O'], ['O'], ['O'], ['O'], ['B-gpe'], ['O'], ['B-gpe'], ['O'], ['O'], ['O'], ['O'], ['O'], ['B-per'], ['O'], ['O'], ['B-per'], ['O'], ['O'], ['O'], ['O'], ['O'], ['O'], ['O'], ['O'], ['O'], ['B-per'], ['B-per'], ['O'], ['O'], ['O'], ['B-per'], ['B-org'], ['O'], ['O'], ['B-gpe'], ['B-per'], ['O'], ['O'], ['O'], ['O'], ['O'], ['O'], ['B-org'], ['O'], ['O'], ['B-geo'], ['O'], ['O'], ['O'], ['O'], ['O'], ['B-geo'], ['O'], ['B-per'], ['O'], ['O'], ['B-geo'], ['O'], ['O'], ['O'], ['B-geo'], ['O'], ['O'], ['O'], ['O'], ['B-per'], ['O'], ['O'], ['O'], ['O'], ['B-per'], ['O'], ['O'], ['O'], ['O'], ['O'], ['O'], ['O'], ['O'], ['O'], ['O'], ['O'], ['O'], ['O'], ['O'], ['O'], ['O'], ['O'], ['O'], ['O'], ['B-geo'], ['O'], ['O'], ['B-gpe'], ['O'], ['B-geo'], ['O'], ['O'], ['O'], ['O'], ['O'], ['O'], ['O'], ['O'], ['B-geo'], ['O'], ['O'], ['O'], ['O'], ['B-geo'], ['O'], ['O'], ['O'], ['B-geo'], ['O'], ['O'], ['O'], ['O'], ['B-per'], ['O'], ['O'], ['B-per'], ['B-gpe'], ['B-gpe'], ['B-geo'], ['O'], ['O'], ['O'], ['O'], ['O'], ['B-per'], ['O'], ['B-per'], ['O'], ['B-geo'], ['O'], ['O'], ['O'], ['O'], ['B-per'], ['O'], ['O'], ['B-gpe'], ['O'], ['O'], ['O'], ['O'], ['B-org'], ['B-geo'], ['B-per'], ['O'], ['B-per'], ['O'], ['O'], ['O'], ['O'], ['O'], ['O'], ['B-gpe'], ['O'], ['O'], ['O'], ['O'], ['O'], ['O'], ['B-per'], ['O'], ['O'], ['B-gpe'], ['B-gpe'], ['O'], ['O'], ['B-per'], ['B-gpe'], ['O'], ['O'], ['B-per'], ['O'], ['O'], ['O'], ['O'], ['B-gpe'], ['O'], ['O'], ['O'], ['O'], ['O'], ['O'], ['B-gpe'], ['O'], ['O'], ['O'], ['O'], ['O'], ['O'], ['B-per'], ['O'], ['B-per'], ['B-geo'], ['O'], ['B-geo'], ['B-gpe'], ['O'], ['O'], ['B-geo'], ['O'], ['O'], ['O'], ['O'], ['B-per'], ['O'], ['B-per'], ['O'], ['B-per'], ['B-gpe'], ['B-per'], ['O'], ['O'], ['O'], ['B-per'], ['O'], ['O'], ['B-per'], ['O'], ['O'], ['O'], ['O'], ['B-geo'], ['O'], ['O'], ['O'], ['O'], ['B-geo'], ['O'], ['B-geo'], ['B-geo'], ['O'], ['O'], ['O'], ['B-gpe'], ['O'], ['O'], ['O'], ['O'], ['O'], ['O'], ['O'], ['O'], ['O'], ['B-gpe'], ['B-gpe'], ['O'], ['B-geo'], ['B-gpe'], ['O'], ['B-geo'], ['B-per'], ['O'], ['O'], ['B-gpe'], ['O'], ['O'], ['B-gpe'], ['O'], ['O'], ['O'], ['O'], ['B-gpe'], ['O'], ['B-per'], ['B-geo'], ['O'], ['B-geo'], ['B-gpe'], ['O'], ['B-org'], ['O'], ['B-geo'], ['B-per'], ['O'], ['B-per'], ['O'], ['O'], ['O'], ['O'], ['O'], ['O'], ['O'], ['O'], ['O'], ['O'], ['B-geo'], ['O'], ['O'], ['O'], ['O'], ['B-per'], ['B-gpe'], ['O'], ['B-gpe'], ['B-gpe'], ['O'], ['O'], ['O'], ['O'], ['O'], ['O'], ['O'], ['B-per'], ['O'], ['O'], ['O'], ['O'], ['O'], ['O'], ['O'], ['O'], ['O'], ['B-per'], ['B-geo'], ['O'], ['B-gpe'], ['O'], ['B-gpe'], ['B-geo'], ['O'], ['O'], ['O'], ['B-per'], ['B-per'], ['O'], ['O'], ['O'], ['B-gpe'], ['O'], ['B-geo'], ['B-geo'], ['O'], ['O'], ['O'], ['O'], ['O'], ['O'], ['B-per'], ['O'], ['O'], ['O'], ['O'], ['O'], ['O'], ['B-geo'], ['B-gpe'], ['B-geo'], ['O'], ['O'], ['O'], ['O'], ['O'], ['O'], ['O'], ['O'], ['O'], ['O'], ['B-geo'], ['O'], ['O'], ['O'], ['O'], ['O'], ['O'], ['O'], ['B-gpe'], ['O'], ['O'], ['B-geo'], ['B-geo'], ['O'], ['O'], ['B-per'], ['O'], ['O'], ['B-per'], ['O'], ['B-per'], ['O'], ['O'], ['O'], ['O'], ['B-geo'], ['O'], ['B-geo'], ['O'], ['O'], ['O'], ['O'], ['O'], ['O'], ['B-geo'], ['O'], ['O'], ['O'], ['O'], ['O'], ['O'], ['B-geo'], ['B-gpe'], ['O'], ['O'], ['O'], ['O'], ['O'], ['B-geo'], ['O'], ['O'], ['B-per'], ['O'], ['O'], ['O'], ['B-per'], ['B-per'], ['O'], ['O'], ['O'], ['O'], ['B-geo'], ['O'], ['O'], ['O'], ['B-per'], ['O'], ['O'], ['B-gpe'], ['O'], ['B-per'], ['B-gpe'], ['O'], ['B-gpe'], ['B-per'], ['B-geo'], ['B-per'], ['O'], ['B-gpe'], ['B-per'], ['O'], ['O'], ['O'], ['O'], ['O'], ['B-per'], ['O'], ['O'], ['O'], ['B-per'], ['B-org'], ['O'], ['O'], ['O'], ['O'], ['B-geo'], ['B-geo'], ['O'], ['O'], ['O'], ['B-gpe'], ['O'], ['O'], ['O'], ['O'], ['O'], ['O'], ['B-geo'], ['O'], ['B-per'], ['O'], ['O'], ['O'], ['B-per'], ['O'], ['O'], ['O'], ['O'], ['O'], ['B-per'], ['O'], ['O'], ['O'], ['O'], ['O'], ['O'], ['O'], ['O'], ['O'], ['B-geo'], ['O'], ['B-geo'], ['O'], ['B-geo'], ['O'], ['B-gpe'], ['O'], ['O'], ['O'], ['O'], ['O'], ['O'], ['O'], ['O'], ['O'], ['O'], ['B-per'], ['O'], ['O'], ['O'], ['O'], ['O'], ['O'], ['O'], ['O'], ['O'], ['O'], ['O'], ['O'], ['B-geo'], ['O'], ['O'], ['B-gpe'], ['B-per'], ['B-gpe'], ['O'], ['O'], ['O'], ['B-gpe'], ['O'], ['O'], ['B-geo'], ['O'], ['B-geo'], ['O'], ['B-geo'], ['B-gpe'], ['B-gpe'], ['O'], ['O'], ['O'], ['O'], ['O'], ['O'], ['O'], ['O'], ['O'], ['B-geo'], ['O'], ['O'], ['O'], ['O'], ['O'], ['O'], ['O'], ['B-geo'], ['O'], ['B-gpe'], ['B-geo'], ['B-per'], ['B-geo'], ['O'], ['O'], ['O'], ['B-geo'], ['B-gpe'], ['B-gpe'], ['O'], ['O'], ['B-geo'], ['O'], ['O'], ['B-per'], ['O'], ['O'], ['O'], ['O'], ['O'], ['B-geo'], ['B-geo'], ['O'], ['O'], ['B-per'], ['O'], ['O'], ['B-gpe'], ['B-gpe'], ['O'], ['O'], ['B-geo'], ['B-per'], ['B-gpe'], ['O'], ['O'], ['O'], ['B-per'], ['B-per'], ['O'], ['O'], ['O'], ['B-gpe'], ['O'], ['O'], ['O'], ['O'], ['O'], ['O'], ['O'], ['B-org'], ['O'], ['O'], ['B-per'], ['B-geo'], ['O'], ['O'], ['O'], ['B-gpe'], ['B-geo'], ['B-gpe'], ['B-gpe'], ['B-per'], ['B-per'], ['O'], ['O'], ['O'], ['O'], ['O'], ['B-per'], ['O'], ['B-geo'], ['O'], ['O'], ['O'], ['O'], ['O'], ['B-per'], ['O'], ['B-gpe'], ['B-gpe'], ['O'], ['O'], ['O'], ['B-gpe'], ['O'], ['B-geo'], ['B-geo'], ['B-per'], ['O'], ['O'], ['B-geo'], ['O'], ['O'], ['O'], ['O'], ['B-per'], ['O'], ['O'], ['O'], ['B-geo'], ['O'], ['O'], ['B-geo'], ['O'], ['B-gpe'], ['B-geo'], ['O'], ['O'], ['O'], ['O'], ['B-per'], ['O'], ['O'], ['O'], ['B-gpe'], ['O'], ['B-geo'], ['O'], ['B-geo'], ['B-gpe'], ['B-per'], ['O'], ['O'], ['O'], ['B-geo'], ['O'], ['O'], ['O'], ['B-gpe'], ['O'], ['B-gpe'], ['O'], ['O'], ['B-geo'], ['O'], ['O'], ['O'], ['B-geo'], ['O'], ['B-per'], ['B-per'], ['O'], ['O'], ['B-per'], ['B-gpe'], ['O'], ['O'], ['O'], ['O'], ['O'], ['O'], ['O'], ['O'], ['B-geo'], ['O'], ['O'], ['B-org'], ['O'], ['O'], ['O'], ['O'], ['O'], ['O'], ['O'], ['O'], ['O'], ['B-geo'], ['O'], ['O'], ['B-geo'], ['O'], ['O'], ['O'], ['B-geo'], ['B-gpe'], ['B-geo'], ['O'], ['O'], ['O'], ['B-per'], ['O'], ['O'], ['B-geo'], ['O'], ['O'], ['O'], ['B-geo'], ['B-per'], ['O'], ['B-org'], ['O'], ['O'], ['O'], ['O'], ['O'], ['O'], ['B-geo'], ['O'], ['O'], ['O'], ['O'], ['O'], ['O'], ['O'], ['B-gpe'], ['O'], ['O'], ['B-gpe'], ['B-geo'], ['O'], ['O'], ['B-per'], ['B-geo'], ['B-per'], ['O'], ['B-geo'], ['O'], ['O'], ['O'], ['O'], ['B-gpe'], ['O'], ['O'], ['B-per'], ['B-geo'], ['O'], ['O'], ['B-per'], ['B-gpe'], ['O'], ['O'], ['B-per'], ['O'], ['O'], ['O'], ['B-per'], ['O'], ['O'], ['O'], ['B-geo'], ['B-geo'], ['O'], ['O'], ['B-geo'], ['B-gpe'], ['O'], ['O'], ['B-geo'], ['O'], ['O'], ['O'], ['B-gpe'], ['O'], ['O'], ['B-geo'], ['O'], ['B-per'], ['O'], ['O'], ['O'], ['B-gpe'], ['O'], ['O'], ['O'], ['O'], ['B-per'], ['O'], ['O'], ['O'], ['O'], ['B-per'], ['O'], ['O'], ['B-per'], ['O'], ['O'], ['B-gpe'], ['B-per'], ['B-per'], ['O'], ['O'], ['O'], ['O'], ['O'], ['O'], ['O'], ['O'], ['B-gpe'], ['B-gpe'], ['O'], ['O'], ['B-per'], ['B-geo'], ['O'], ['O'], ['O'], ['B-per'], ['O'], ['O'], ['O'], ['B-geo'], ['O'], ['B-per'], ['O'], ['O'], ['B-gpe'], ['B-geo'], ['O'], ['O'], ['B-per'], ['O'], ['B-per'], ['O'], ['B-geo'], ['O'], ['O'], ['O'], ['O'], ['O'], ['O'], ['O'], ['O'], ['O'], ['O'], ['B-gpe'], ['O'], ['B-geo'], ['B-per'], ['O'], ['O'], ['O'], ['B-per'], ['O'], ['O'], ['O'], ['O'], ['B-geo'], ['B-gpe'], ['O'], ['O'], ['B-geo'], ['O'], ['B-gpe'], ['B-gpe'], ['O'], ['O'], ['B-gpe'], ['O'], ['B-per'], ['O'], ['O'], ['B-geo'], ['O'], ['B-gpe'], ['O'], ['O'], ['O'], ['O'], ['O'], ['O'], ['O'], ['O'], ['B-per'], ['O'], ['O'], ['B-geo'], ['O'], ['O'], ['O'], ['O'], ['B-gpe'], ['B-geo'], ['O'], ['B-geo'], ['O'], ['O'], ['O'], ['O'], ['O'], ['O'], ['B-per'], ['B-gpe'], ['O'], ['O'], ['O'], ['O'], ['O'], ['B-per'], ['O'], ['O'], ['B-geo'], ['O'], ['O'], ['O'], ['B-per'], ['B-geo'], ['B-geo'], ['O'], ['O'], ['B-per'], ['O'], ['B-per'], ['O'], ['O'], ['O'], ['O'], ['O'], ['O'], ['O'], ['O'], ['O'], ['O'], ['O'], ['O'], ['O'], ['O'], ['O'], ['B-per'], ['O'], ['O'], ['O'], ['O'], ['B-gpe'], ['O'], ['O'], ['O'], ['B-gpe'], ['O'], ['O'], ['O'], ['O'], ['O'], ['B-per'], ['O'], ['O'], ['B-geo'], ['O'], ['O'], ['O'], ['B-per'], ['B-gpe'], ['O'], ['O'], ['O'], ['O'], ['B-geo'], ['B-geo'], ['O'], ['B-geo'], ['O'], ['O'], ['O'], ['O'], ['O'], ['O'], ['O'], ['O'], ['O'], ['B-gpe'], ['B-geo'], ['O'], ['O'], ['B-gpe'], ['O'], ['B-geo'], ['O'], ['B-geo'], ['O'], ['O'], ['O'], ['B-per'], ['O'], ['B-per'], ['B-geo'], ['B-per'], ['B-per'], ['O'], ['O'], ['B-per'], ['O'], ['O'], ['B-gpe'], ['O'], ['O'], ['O'], ['O'], ['B-per'], ['O'], ['O'], ['O'], ['O'], ['B-geo'], ['O'], ['O'], ['O'], ['B-per'], ['O'], ['B-geo'], ['O'], ['O'], ['O'], ['O'], ['O'], ['O'], ['O'], ['B-geo'], ['B-per'], ['O'], ['O'], ['O'], ['O'], ['O'], ['B-per'], ['B-geo'], ['O'], ['O'], ['O'], ['B-per'], ['B-geo'], ['O'], ['O'], ['O'], ['B-geo'], ['O'], ['B-per'], ['O'], ['O'], ['O'], ['B-geo'], ['O'], ['O'], ['O'], ['O'], ['O'], ['O'], ['O'], ['O'], ['B-geo'], ['O'], ['O'], ['B-gpe'], ['O'], ['O'], ['O'], ['O'], ['B-geo'], ['O'], ['B-per'], ['O'], ['B-geo'], ['O'], ['O'], ['O'], ['B-gpe'], ['O'], ['B-geo'], ['O'], ['O'], ['O'], ['O'], ['O'], ['B-per'], ['O'], ['O'], ['O'], ['O'], ['B-geo'], ['O'], ['O'], ['O'], ['O'], ['O'], ['O'], ['O'], ['O'], ['O'], ['O'], ['O'], ['O'], ['O'], ['B-per'], ['O'], ['O'], ['O'], ['O'], ['O'], ['B-per'], ['B-geo'], ['B-per'], ['B-geo'], ['O'], ['B-per'], ['O'], ['O'], ['O'], ['B-geo'], ['O'], ['B-gpe'], ['O'], ['O'], ['O'], ['O'], ['O'], ['O'], ['B-gpe'], ['O'], ['O'], ['B-per'], ['O'], ['B-geo'], ['O'], ['B-geo'], ['O'], ['B-geo'], ['B-per'], ['O'], ['O'], ['B-gpe'], ['O'], ['B-geo'], ['O'], ['B-geo'], ['O'], ['B-geo'], ['O'], ['B-gpe'], ['O'], ['O'], ['B-gpe'], ['B-org'], ['O'], ['B-geo'], ['O'], ['O'], ['O'], ['B-per'], ['O'], ['O'], ['B-gpe'], ['B-gpe'], ['B-per'], ['O'], ['O'], ['B-per'], ['O'], ['O'], ['O'], ['O'], ['O'], ['O'], ['O'], ['O'], ['B-per'], ['O'], ['O'], ['O'], ['O'], ['O'], ['O'], ['O'], ['O'], ['B-gpe'], ['O'], ['B-gpe'], ['B-per'], ['O'], ['O'], ['O'], ['O'], ['O'], ['O'], ['O'], ['O'], ['O'], ['O'], ['O'], ['B-per'], ['O'], ['O'], ['O'], ['O'], ['O'], ['O'], ['O'], ['O'], ['B-gpe'], ['B-per'], ['O'], ['O'], ['O'], ['O'], ['O'], ['B-per'], ['O'], ['O'], ['B-geo'], ['O'], ['O'], ['O'], ['O'], ['O'], ['O'], ['B-gpe'], ['O'], ['O'], ['O'], ['O'], ['O'], ['B-per'], ['O'], ['B-gpe'], ['O'], ['O'], ['O'], ['O'], ['O'], ['O'], ['O'], ['O'], ['O'], ['O'], ['B-per'], ['B-gpe'], ['O'], ['O'], ['O'], ['O'], ['B-per'], ['O'], ['B-geo'], ['O'], ['O'], ['B-geo'], ['O'], ['B-per'], ['O'], ['B-per'], ['B-geo'], ['O'], ['B-geo'], ['B-geo'], ['O'], ['O'], ['O'], ['O'], ['O'], ['O'], ['O'], ['B-geo'], ['O'], ['O'], ['B-geo'], ['B-gpe'], ['O'], ['O'], ['O'], ['O'], ['O'], ['O'], ['O'], ['O'], ['B-gpe'], ['O'], ['O'], ['O'], ['O'], ['O'], ['B-per'], ['O'], ['O'], ['B-per'], ['O'], ['O'], ['O'], ['O'], ['O'], ['O'], ['O'], ['B-per'], ['B-per'], ['O'], ['B-geo'], ['O'], ['B-geo'], ['O'], ['O'], ['O'], ['B-geo'], ['O'], ['O'], ['O'], ['O'], ['O'], ['O'], ['O'], ['O'], ['O'], ['O'], ['O'], ['O'], ['O'], ['O'], ['O'], ['O'], ['O'], ['B-per'], ['B-geo'], ['B-geo'], ['O'], ['O'], ['O'], ['O'], ['O'], ['O'], ['B-gpe'], ['O'], ['O'], ['O'], ['B-per'], ['O'], ['O'], ['O'], ['O'], ['O'], ['O'], ['O'], ['O'], ['B-geo'], ['O'], ['O'], ['O'], ['O'], ['B-per'], ['O'], ['O'], ['O'], ['B-gpe'], ['B-per'], ['O'], ['O'], ['O'], ['B-per'], ['O'], ['O'], ['O'], ['O'], ['O'], ['O'], ['O'], ['O'], ['O'], ['O'], ['O'], ['O'], ['O'], ['O'], ['O'], ['O'], ['O'], ['O'], ['O'], ['O'], ['O'], ['O'], ['O'], ['O'], ['B-org'], ['B-geo'], ['B-per'], ['O'], ['O'], ['B-geo'], ['O'], ['O'], ['O'], ['O'], ['B-geo'], ['O'], ['B-per'], ['O'], ['O'], ['O'], ['O'], ['B-geo'], ['O'], ['O'], ['O'], ['B-per'], ['O'], ['O'], ['O'], ['B-geo'], ['O'], ['O'], ['O'], ['O'], ['B-gpe'], ['O'], ['B-gpe'], ['O'], ['O'], ['O'], ['B-per'], ['O'], ['O'], ['O'], ['O'], ['O'], ['O'], ['O'], ['O'], ['B-geo'], ['O'], ['B-per'], ['O'], ['O'], ['B-gpe'], ['O'], ['O'], ['B-org'], ['B-geo'], ['O'], ['O'], ['O'], ['O'], ['B-gpe'], ['O'], ['B-geo'], ['B-gpe'], ['O'], ['B-gpe'], ['O'], ['O'], ['B-per'], ['O'], ['B-org'], ['B-per'], ['O'], ['B-gpe'], ['O'], ['O'], ['O'], ['O'], ['B-gpe'], ['O'], ['B-per'], ['O'], ['O'], ['O'], ['O'], ['B-geo'], ['O'], ['O'], ['O'], ['B-geo'], ['O'], ['O'], ['O'], ['O'], ['O'], ['O'], ['B-per'], ['O'], ['B-gpe'], ['O'], ['O'], ['B-per'], ['B-per'], ['B-geo'], ['O'], ['O'], ['O'], ['O'], ['O'], ['O'], ['O'], ['B-geo'], ['O'], ['O'], ['O'], ['O'], ['B-geo'], ['O'], ['O'], ['O'], ['O'], ['O'], ['B-geo'], ['B-per'], ['O'], ['O'], ['O'], ['O'], ['O'], ['B-org'], ['O'], ['B-geo'], ['O'], ['B-per'], ['O'], ['O'], ['B-org'], ['O'], ['O'], ['O'], ['B-geo'], ['B-per'], ['O'], ['O'], ['B-geo'], ['O'], ['B-geo'], ['O'], ['O'], ['O'], ['O'], ['O'], ['B-gpe'], ['B-gpe'], ['B-geo'], ['O'], ['O'], ['O'], ['B-per'], ['B-per'], ['B-org'], ['B-per'], ['O'], ['O'], ['O'], ['O'], ['O'], ['O'], ['B-per'], ['O'], ['O'], ['O'], ['O'], ['O'], ['O'], ['B-geo'], ['B-per'], ['B-org'], ['O'], ['O'], ['B-gpe'], ['O'], ['O'], ['O'], ['B-geo'], ['O'], ['O'], ['O'], ['B-gpe'], ['O'], ['O'], ['O'], ['B-gpe'], ['O'], ['B-geo'], ['O'], ['B-gpe'], ['B-per'], ['O'], ['O'], ['O'], ['B-per'], ['O'], ['O'], ['B-gpe'], ['O'], ['B-gpe'], ['O'], ['O'], ['O'], ['B-org'], ['O'], ['O'], ['O'], ['O'], ['B-per'], ['O'], ['O'], ['O'], ['O'], ['O'], ['B-gpe'], ['O'], ['B-gpe'], ['O'], ['O'], ['O'], ['O'], ['O'], ['O'], ['O'], ['O'], ['O'], ['O'], ['O'], ['B-geo'], ['O'], ['B-per'], ['O'], ['O'], ['O'], ['B-geo'], ['O'], ['B-per'], ['B-gpe'], ['O'], ['B-gpe'], ['O'], ['O'], ['O'], ['B-gpe'], ['B-per'], ['O'], ['O'], ['O'], ['O'], ['B-per'], ['B-geo'], ['O'], ['O'], ['O'], ['O'], ['B-gpe'], ['O'], ['O'], ['B-geo'], ['O'], ['O'], ['B-geo'], ['O'], ['O'], ['B-gpe'], ['O'], ['O'], ['O'], ['B-geo'], ['O'], ['O'], ['B-gpe'], ['B-gpe'], ['O'], ['B-geo'], ['O'], ['O'], ['O'], ['B-org'], ['O'], ['O'], ['O'], ['O'], ['O'], ['O'], ['O'], ['B-geo'], ['O'], ['B-geo'], ['B-gpe'], ['B-per'], ['O'], ['O'], ['O'], ['B-geo'], ['O'], ['B-gpe'], ['O'], ['O'], ['O'], ['B-per'], ['O'], ['O'], ['O'], ['O'], ['O'], ['O'], ['O'], ['O'], ['B-per'], ['O'], ['B-geo'], ['B-geo'], ['O'], ['B-per'], ['O'], ['O'], ['O'], ['O'], ['B-gpe'], ['B-per'], ['B-geo'], ['O'], ['O'], ['O'], ['B-per'], ['O'], ['O'], ['B-per'], ['O'], ['B-org'], ['O'], ['O'], ['B-gpe'], ['B-geo'], ['B-geo'], ['B-geo'], ['B-geo'], ['B-per'], ['O'], ['O'], ['B-gpe'], ['O'], ['B-geo'], ['B-gpe'], ['O'], ['O'], ['O'], ['O'], ['O'], ['O'], ['O'], ['O'], ['B-per'], ['B-gpe'], ['O'], ['O'], ['O'], ['O'], ['O'], ['O'], ['O'], ['O'], ['B-geo'], ['O'], ['O'], ['O'], ['O'], ['O'], ['O'], ['B-per'], ['O'], ['O'], ['B-per'], ['O'], ['O'], ['B-geo'], ['O'], ['O'], ['O'], ['O'], ['O'], ['B-geo'], ['O'], ['O'], ['O'], ['O'], ['O'], ['O'], ['B-per'], ['B-per'], ['O'], ['O'], ['O'], ['O'], ['O'], ['O'], ['O'], ['O'], ['O'], ['B-per'], ['B-gpe'], ['O'], ['B-gpe'], ['B-per'], ['O'], ['O'], ['O'], ['O'], ['O'], ['B-gpe'], ['B-geo'], ['O'], ['O'], ['O'], ['O'], ['B-geo'], ['O'], ['B-per'], ['O'], ['O'], ['O'], ['B-per'], ['O'], ['O'], ['B-per'], ['O'], ['B-geo'], ['B-geo'], ['O'], ['O'], ['O'], ['B-geo'], ['O'], ['O'], ['B-gpe'], ['B-per'], ['O'], ['B-per'], ['O'], ['B-per'], ['B-gpe'], ['B-per'], ['O'], ['B-geo'], ['O'], ['O'], ['O'], ['B-geo'], ['B-geo'], ['O'], ['O'], ['O'], ['O'], ['O'], ['O'], ['O'], ['B-gpe'], ['O'], ['O'], ['O'], ['O'], ['B-gpe'], ['O'], ['O'], ['O'], ['B-per'], ['O'], ['B-per'], ['O'], ['O'], ['O'], ['B-per'], ['O'], ['B-per'], ['O'], ['B-geo'], ['O'], ['B-per'], ['O'], ['O'], ['O'], ['B-geo'], ['B-geo'], ['B-per'], ['O'], ['O'], ['O'], ['O'], ['B-per'], ['B-gpe'], ['B-per'], ['O'], ['O'], ['O'], ['O'], ['O'], ['O'], ['B-per'], ['O'], ['O'], ['O'], ['O'], ['O'], ['B-geo'], ['O'], ['O'], ['O'], ['O'], ['O'], ['B-per'], ['B-per'], ['O'], ['B-per'], ['O'], ['B-per'], ['O'], ['O'], ['O'], ['B-per'], ['B-geo'], ['O'], ['O'], ['O'], ['B-geo'], ['O'], ['O'], ['O'], ['O'], ['O'], ['O'], ['O'], ['O'], ['O'], ['O'], ['O'], ['B-gpe'], ['O'], ['O'], ['O'], ['O'], ['O'], ['O'], ['B-geo'], ['O'], ['B-per'], ['O'], ['B-per'], ['O'], ['O'], ['O'], ['B-gpe'], ['B-geo'], ['B-per'], ['O'], ['O'], ['O'], ['O'], ['O'], ['O'], ['B-geo'], ['O'], ['B-geo'], ['B-gpe'], ['O'], ['O'], ['O'], ['O'], ['O'], ['O'], ['B-per'], ['O'], ['O'], ['O'], ['O'], ['O'], ['O'], ['O'], ['O'], ['O'], ['O'], ['B-per'], ['O'], ['O'], ['O'], ['O'], ['O'], ['O'], ['B-gpe'], ['B-gpe'], ['O'], ['B-per'], ['B-geo'], ['O'], ['B-per'], ['O'], ['O'], ['O'], ['O'], ['B-geo'], ['O'], ['O'], ['B-geo'], ['O'], ['O'], ['O'], ['O'], ['O'], ['O'], ['O'], ['O'], ['O'], ['O'], ['B-gpe'], ['O'], ['O'], ['O'], ['O'], ['O'], ['O'], ['O'], ['O'], ['O'], ['O'], ['O'], ['O'], ['B-per'], ['B-geo'], ['O'], ['O'], ['O'], ['O'], ['O'], ['O'], ['B-per'], ['O'], ['B-geo'], ['O'], ['O'], ['B-gpe'], ['O'], ['B-per'], ['O'], ['O'], ['B-gpe'], ['O'], ['O'], ['B-per'], ['O'], ['B-per'], ['O'], ['B-per'], ['O'], ['O'], ['O'], ['B-gpe'], ['O'], ['O'], ['O'], ['O'], ['O'], ['B-gpe'], ['B-gpe'], ['O'], ['O'], ['O'], ['O'], ['B-geo'], ['O'], ['B-gpe'], ['O'], ['O'], ['B-geo'], ['O'], ['O'], ['B-per'], ['O'], ['O'], ['O'], ['O'], ['O'], ['O'], ['B-gpe'], ['O'], ['O'], ['B-geo'], ['B-per'], ['O'], ['B-per'], ['O'], ['B-gpe'], ['O'], ['O'], ['O'], ['O'], ['B-geo'], ['O'], ['B-geo'], ['O'], ['O'], ['O'], ['B-gpe'], ['O'], ['O'], ['B-geo'], ['O'], ['B-per'], ['O'], ['O'], ['O'], ['O'], ['O'], ['O'], ['O'], ['O'], ['O'], ['O'], ['O'], ['B-per'], ['O'], ['O'], ['O'], ['B-per'], ['O'], ['B-geo'], ['B-per'], ['O'], ['O'], ['O'], ['B-geo'], ['B-geo'], ['O'], ['O'], ['O'], ['B-geo'], ['O'], ['O'], ['O'], ['O'], ['O'], ['O'], ['O'], ['B-per'], ['B-geo'], ['O'], ['O'], ['O'], ['O'], ['O'], ['O'], ['O'], ['O'], ['B-geo'], ['B-geo'], ['O'], ['O'], ['O'], ['O'], ['O'], ['O'], ['O'], ['O'], ['O'], ['O'], ['B-geo'], ['O'], ['O'], ['O'], ['O'], ['O'], ['O'], ['B-geo'], ['B-gpe'], ['O'], ['O'], ['O'], ['O'], ['O'], ['B-per'], ['O'], ['O'], ['B-per'], ['O'], ['O'], ['O'], ['O'], ['O'], ['B-per'], ['B-per'], ['O'], ['O'], ['O'], ['O'], ['O'], ['O'], ['B-gpe'], ['O'], ['B-geo'], ['O'], ['O'], ['O'], ['O'], ['O'], ['O'], ['B-gpe'], ['O'], ['O'], ['O'], ['O'], ['B-gpe'], ['B-per'], ['O'], ['O'], ['O'], ['O'], ['O'], ['O'], ['O'], ['O'], ['O'], ['O'], ['O'], ['O'], ['O'], ['O'], ['O'], ['O'], ['O'], ['O'], ['B-gpe'], ['O'], ['O'], ['B-gpe'], ['O'], ['O'], ['O'], ['B-per'], ['O'], ['B-geo'], ['O'], ['O'], ['O'], ['O'], ['O'], ['O'], ['O'], ['B-gpe'], ['O'], ['O'], ['B-per'], ['O'], ['O'], ['O'], ['O'], ['O'], ['B-per'], ['O'], ['O'], ['O'], ['O'], ['O'], ['O'], ['B-gpe'], ['O'], ['O'], ['O'], ['B-gpe'], ['B-geo'], ['O'], ['B-geo'], ['O'], ['O'], ['O'], ['O'], ['O'], ['B-gpe'], ['O'], ['B-gpe'], ['O'], ['O'], ['B-geo'], ['O'], ['O'], ['B-per'], ['O'], ['O'], ['B-per'], ['O'], ['O'], ['B-gpe'], ['O'], ['O'], ['B-gpe'], ['O'], ['B-per'], ['O'], ['B-geo'], ['B-gpe'], ['O'], ['O'], ['O'], ['O'], ['O'], ['O'], ['B-gpe'], ['O'], ['O'], ['B-per'], ['O'], ['O'], ['O'], ['O'], ['O'], ['O'], ['O'], ['O'], ['O'], ['O'], ['O'], ['B-gpe'], ['O'], ['O'], ['O'], ['O'], ['O'], ['O'], ['B-per'], ['O'], ['O'], ['O'], ['B-geo'], ['O'], ['O'], ['O'], ['O'], ['O'], ['O'], ['O'], ['O'], ['O'], ['O'], ['B-gpe'], ['O'], ['O'], ['O'], ['B-gpe'], ['O'], ['O'], ['O'], ['O'], ['O'], ['B-geo'], ['B-geo'], ['O'], ['O'], ['B-geo'], ['O'], ['O'], ['O'], ['O'], ['O'], ['O'], ['O'], ['O'], ['B-geo'], ['B-gpe'], ['O'], ['B-gpe'], ['O'], ['O'], ['O'], ['B-gpe'], ['O'], ['B-per'], ['B-per'], ['O'], ['O'], ['O'], ['B-gpe'], ['B-geo'], ['B-gpe'], ['B-geo'], ['O'], ['B-geo'], ['O'], ['O'], ['O'], ['O'], ['O'], ['B-per'], ['O'], ['B-per'], ['B-per'], ['B-per'], ['O'], ['B-per'], ['O'], ['B-geo'], ['B-geo'], ['B-per'], ['O'], ['B-gpe'], ['B-geo'], ['O'], ['O'], ['O'], ['O'], ['O'], ['O'], ['B-geo'], ['O'], ['O'], ['O'], ['O'], ['O'], ['O'], ['B-gpe'], ['O'], ['O'], ['O'], ['O'], ['O'], ['O'], ['B-geo'], ['O'], ['B-per'], ['B-per'], ['O'], ['O'], ['O'], ['O'], ['O'], ['O'], ['O'], ['B-gpe'], ['O'], ['O'], ['O'], ['O'], ['B-geo'], ['B-per'], ['O'], ['O'], ['O'], ['O'], ['O'], ['B-per'], ['O'], ['O'], ['O'], ['O'], ['O'], ['O'], ['O'], ['O'], ['O'], ['B-per'], ['B-geo'], ['O'], ['O'], ['O'], ['O'], ['O'], ['O'], ['B-per'], ['O'], ['O'], ['O'], ['O'], ['B-geo'], ['O'], ['O'], ['O'], ['O'], ['O'], ['O'], ['O'], ['O'], ['O'], ['B-gpe'], ['O'], ['B-per'], ['O'], ['O'], ['O'], ['O'], ['O'], ['O'], ['O'], ['O'], ['O'], ['O'], ['O'], ['B-geo'], ['B-gpe'], ['O'], ['O'], ['O'], ['O'], ['O'], ['O'], ['O'], ['O'], ['B-geo'], ['B-per'], ['O'], ['O'], ['B-gpe'], ['O'], ['O'], ['B-gpe'], ['O'], ['O'], ['O'], ['O'], ['O'], ['O'], ['B-geo'], ['O'], ['O'], ['O'], ['B-per'], ['O'], ['O'], ['B-per'], ['O'], ['O'], ['O'], ['B-gpe'], ['B-geo'], ['O'], ['O'], ['O'], ['B-per'], ['B-gpe'], ['O'], ['B-geo'], ['B-geo'], ['B-per'], ['B-per'], ['O'], ['O'], ['O'], ['O'], ['B-gpe'], ['O'], ['O'], ['O'], ['B-per'], ['O'], ['O'], ['B-gpe'], ['B-gpe'], ['B-per'], ['B-gpe'], ['O'], ['O'], ['O'], ['O'], ['B-geo'], ['O'], ['B-per'], ['O'], ['O'], ['O'], ['O'], ['O'], ['O'], ['O'], ['O'], ['O'], ['B-per'], ['B-per'], ['O'], ['O'], ['B-geo'], ['O'], ['O'], ['O'], ['O'], ['O'], ['B-geo'], ['B-per'], ['B-per'], ['O'], ['O'], ['B-gpe'], ['O'], ['O'], ['O'], ['B-geo'], ['O'], ['O'], ['O'], ['O'], ['O'], ['O'], ['O'], ['O'], ['O'], ['B-per'], ['O'], ['B-per'], ['B-per'], ['O'], ['O'], ['O'], ['O'], ['B-per'], ['O'], ['B-gpe'], ['B-geo'], ['B-gpe'], ['O'], ['O'], ['B-gpe'], ['O'], ['B-geo'], ['B-geo'], ['B-gpe'], ['O'], ['O'], ['B-gpe'], ['O'], ['O'], ['O'], ['B-per'], ['O'], ['O'], ['O'], ['B-geo'], ['O'], ['O'], ['O'], ['O'], ['B-gpe'], ['O'], ['O'], ['O'], ['O'], ['O'], ['O'], ['O'], ['O'], ['O'], ['O'], ['O'], ['O'], ['B-per'], ['B-geo'], ['O'], ['O'], ['O'], ['O'], ['O'], ['O'], ['B-geo'], ['B-geo'], ['B-geo'], ['O'], ['O'], ['O'], ['O'], ['O'], ['O'], ['B-gpe'], ['O'], ['O'], ['O'], ['O'], ['O'], ['B-gpe'], ['O'], ['B-geo'], ['O'], ['O'], ['O'], ['O'], ['O'], ['O'], ['O'], ['O'], ['O'], ['O'], ['O'], ['O'], ['B-gpe'], ['O'], ['O'], ['O'], ['O'], ['B-geo'], ['O'], ['O'], ['O'], ['O'], ['O'], ['O'], ['O'], ['B-geo'], ['B-per'], ['B-gpe'], ['O'], ['O'], ['B-gpe'], ['B-gpe'], ['O'], ['O'], ['O'], ['O'], ['B-per'], ['B-per'], ['B-per'], ['B-per'], ['O'], ['B-gpe'], ['O'], ['O'], ['B-per'], ['O'], ['O'], ['B-geo'], ['O'], ['O'], ['O'], ['O'], ['O'], ['O'], ['O'], ['O'], ['O'], ['O'], ['O'], ['O'], ['O'], ['O'], ['O'], ['O'], ['O'], ['O'], ['O'], ['O'], ['O'], ['O'], ['B-per'], ['B-per'], ['O'], ['O'], ['O'], ['O'], ['O'], ['B-geo'], ['O'], ['O'], ['O'], ['O'], ['O'], ['O'], ['O'], ['O'], ['B-geo'], ['B-per'], ['O'], ['O'], ['B-per'], ['O'], ['B-org'], ['O'], ['B-gpe'], ['O'], ['B-geo'], ['O'], ['O'], ['B-per'], ['B-gpe'], ['O'], ['O'], ['O'], ['B-gpe'], ['O'], ['O'], ['O'], ['O'], ['O'], ['B-per'], ['B-per'], ['B-per'], ['O'], ['B-geo'], ['O'], ['O'], ['O'], ['O'], ['B-gpe'], ['O'], ['O'], ['B-per'], ['O'], ['O'], ['O'], ['O'], ['O'], ['O'], ['O'], ['O'], ['O'], ['O'], ['O'], ['B-org'], ['O'], ['O'], ['O'], ['B-per'], ['B-org'], ['O'], ['O'], ['O'], ['O'], ['O'], ['O'], ['O'], ['O'], ['B-per'], ['O'], ['B-per'], ['O'], ['O'], ['O'], ['O'], ['O'], ['O'], ['O'], ['B-geo'], ['O'], ['O'], ['O'], ['B-per'], ['O'], ['O'], ['B-per'], ['O'], ['B-per'], ['O'], ['B-gpe'], ['O'], ['O'], ['O'], ['O'], ['B-gpe'], ['O'], ['B-per'], ['O'], ['O'], ['O'], ['B-geo'], ['B-per'], ['O'], ['B-per'], ['O'], ['O'], ['O'], ['O'], ['B-geo'], ['O'], ['O'], ['O'], ['O'], ['O'], ['O'], ['O'], ['O'], ['O'], ['B-per'], ['O'], ['O'], ['O'], ['B-geo'], ['O'], ['O'], ['O'], ['O'], ['O'], ['B-org'], ['O'], ['O'], ['O'], ['B-gpe'], ['O'], ['B-geo'], ['O'], ['O'], ['O'], ['O'], ['B-per'], ['O'], ['O'], ['O'], ['O'], ['O'], ['B-gpe'], ['O'], ['B-geo'], ['B-org'], ['O'], ['O'], ['B-per'], ['B-gpe'], ['B-geo'], ['B-per'], ['O'], ['O'], ['O'], ['O'], ['O'], ['O'], ['O'], ['O'], ['O'], ['B-per'], ['O'], ['O'], ['O'], ['B-per'], ['O'], ['O'], ['O'], ['O'], ['O'], ['O'], ['O'], ['O'], ['O'], ['O'], ['O'], ['B-per'], ['B-org'], ['O'], ['O'], ['O'], ['O'], ['O'], ['B-per'], ['B-gpe'], ['O'], ['O'], ['O'], ['B-gpe'], ['O'], ['B-gpe'], ['O'], ['O'], ['B-per'], ['B-per'], ['O'], ['B-geo'], ['O'], ['O'], ['O'], ['O'], ['O'], ['O'], ['O'], ['B-per'], ['B-per'], ['O'], ['O'], ['O'], ['O'], ['O'], ['O'], ['B-geo'], ['B-gpe'], ['O'], ['B-per'], ['O'], ['O'], ['B-geo'], ['O'], ['O'], ['B-per'], ['B-per'], ['O'], ['O'], ['B-gpe'], ['O'], ['O'], ['B-per'], ['O'], ['O'], ['B-gpe'], ['B-per'], ['B-geo'], ['O'], ['B-geo'], ['O'], ['O'], ['B-gpe'], ['O'], ['O'], ['O'], ['B-geo'], ['B-per'], ['O'], ['O'], ['O'], ['B-per'], ['O'], ['O'], ['O'], ['O'], ['B-geo'], ['O'], ['O'], ['B-per'], ['B-per'], ['B-gpe'], ['O'], ['O'], ['O'], ['B-geo'], ['O'], ['O'], ['O'], ['B-geo'], ['B-per'], ['O'], ['O'], ['O'], ['O'], ['O'], ['B-geo'], ['O'], ['B-per'], ['B-gpe'], ['B-per'], ['B-geo'], ['B-geo'], ['B-geo'], ['O'], ['B-geo'], ['B-per'], ['B-geo'], ['O'], ['O'], ['O'], ['O'], ['O'], ['O'], ['O'], ['O'], ['O'], ['B-geo'], ['B-gpe'], ['O'], ['O'], ['B-per'], ['O'], ['O'], ['O'], ['O'], ['O'], ['O'], ['O'], ['O'], ['B-gpe'], ['O'], ['O'], ['B-per'], ['O'], ['O'], ['O'], ['O'], ['O'], ['O'], ['O'], ['O'], ['O'], ['O'], ['O'], ['B-per'], ['O'], ['O'], ['O'], ['O'], ['O'], ['O'], ['B-gpe'], ['O'], ['B-gpe'], ['O'], ['B-gpe'], ['O'], ['O'], ['B-per'], ['O'], ['B-geo'], ['O'], ['O'], ['O'], ['O'], ['B-geo'], ['O'], ['B-per'], ['O'], ['B-per'], ['B-gpe'], ['O'], ['O'], ['B-per'], ['B-gpe'], ['O'], ['B-per'], ['O'], ['O'], ['O'], ['O'], ['O'], ['O'], ['O'], ['O'], ['O'], ['O'], ['O'], ['O'], ['O'], ['B-geo'], ['O'], ['O'], ['O'], ['O'], ['O'], ['O'], ['O'], ['B-per'], ['O'], ['O'], ['O'], ['O'], ['O'], ['O'], ['O'], ['O'], ['O'], ['O'], ['B-gpe'], ['B-per'], ['B-geo'], ['B-per'], ['O'], ['B-per'], ['O'], ['O'], ['B-geo'], ['O'], ['O'], ['O'], ['O'], ['O'], ['O'], ['B-per'], ['O'], ['O'], ['B-per'], ['O'], ['O'], ['B-per'], ['O'], ['O'], ['O'], ['B-per'], ['O'], ['O'], ['O'], ['B-geo'], ['O'], ['B-per'], ['O'], ['O'], ['O'], ['O'], ['B-gpe'], ['O'], ['B-per'], ['B-geo'], ['O'], ['O'], ['B-org'], ['O'], ['O'], ['O'], ['O'], ['O'], ['O'], ['O'], ['B-geo'], ['O'], ['O'], ['B-per'], ['O'], ['B-gpe'], ['O'], ['O'], ['O'], ['B-per'], ['B-geo'], ['B-gpe'], ['B-geo'], ['O'], ['B-per'], ['B-gpe'], ['O'], ['O'], ['O'], ['B-gpe'], ['O'], ['O'], ['B-geo'], ['O'], ['B-gpe'], ['B-per'], ['B-gpe'], ['O'], ['B-gpe'], ['O'], ['O'], ['O'], ['O'], ['O'], ['O'], ['O'], ['B-geo'], ['O'], ['B-geo'], ['B-per'], ['O'], ['O'], ['B-geo'], ['B-geo'], ['O'], ['O'], ['O'], ['B-gpe'], ['O'], ['O'], ['B-geo'], ['O'], ['O'], ['B-geo'], ['O'], ['O'], ['O'], ['O'], ['B-geo'], ['B-per'], ['O'], ['B-geo'], ['O'], ['B-per'], ['O'], ['O'], ['O'], ['O'], ['O'], ['O'], ['O'], ['O'], ['O'], ['O'], ['O'], ['B-gpe'], ['O'], ['O'], ['O'], ['O'], ['O'], ['O'], ['B-gpe'], ['O'], ['B-per'], ['O'], ['O'], ['O'], ['O'], ['O'], ['O'], ['O'], ['O'], ['O'], ['B-geo'], ['B-per'], ['B-gpe'], ['O'], ['O'], ['O'], ['O'], ['O'], ['O'], ['O'], ['O'], ['O'], ['B-geo'], ['B-geo'], ['B-per'], ['O'], ['O'], ['O'], ['B-gpe'], ['O'], ['O'], ['O'], ['B-geo'], ['B-per'], ['O'], ['O'], ['O'], ['O'], ['O'], ['O'], ['O'], ['O'], ['O'], ['O'], ['O'], ['O'], ['B-geo'], ['O'], ['O'], ['O'], ['O'], ['O'], ['B-geo'], ['O'], ['O'], ['B-gpe'], ['B-geo'], ['O'], ['O'], ['B-gpe'], ['B-gpe'], ['O'], ['O'], ['O'], ['O'], ['B-geo'], ['B-per'], ['O'], ['B-geo'], ['O'], ['B-per'], ['O'], ['O'], ['O'], ['O'], ['B-per'], ['B-org'], ['B-per'], ['B-geo'], ['O'], ['B-geo'], ['O'], ['O'], ['O'], ['B-geo'], ['O'], ['O'], ['B-geo'], ['O'], ['O'], ['O'], ['O'], ['O'], ['O'], ['O'], ['B-per'], ['O'], ['O'], ['O'], ['O'], ['O'], ['O'], ['O'], ['B-per'], ['B-geo'], ['B-geo'], ['O'], ['O'], ['O'], ['O'], ['O'], ['O'], ['O'], ['O'], ['O'], ['O'], ['O'], ['B-gpe'], ['O'], ['B-gpe'], ['O'], ['O'], ['O'], ['O'], ['O'], ['O'], ['B-per'], ['O'], ['O'], ['O'], ['O'], ['B-per'], ['O'], ['O'], ['O'], ['B-gpe'], ['B-geo'], ['O'], ['O'], ['O'], ['O'], ['B-per'], ['B-per'], ['O'], ['O'], ['O'], ['O'], ['B-per'], ['O'], ['O'], ['O'], ['O'], ['O'], ['B-per'], ['O'], ['O'], ['O'], ['B-per'], ['B-gpe'], ['O'], ['O'], ['O'], ['O'], ['O'], ['O'], ['O'], ['B-gpe'], ['B-per'], ['O'], ['O'], ['O'], ['B-gpe'], ['O'], ['O'], ['O'], ['O'], ['B-geo'], ['O'], ['B-per'], ['B-geo'], ['O'], ['O'], ['O'], ['B-per'], ['B-gpe'], ['O'], ['O'], ['B-geo'], ['O'], ['B-per'], ['B-geo'], ['O'], ['O'], ['O'], ['O'], ['B-gpe'], ['B-gpe'], ['O'], ['O'], ['B-per'], ['B-gpe'], ['O'], ['O'], ['O'], ['O'], ['O'], ['B-per'], ['O'], ['O'], ['O'], ['B-geo'], ['O'], ['O'], ['B-geo'], ['O'], ['B-per'], ['O'], ['O'], ['O'], ['O'], ['B-per'], ['O'], ['O'], ['O'], ['B-per'], ['O'], ['O'], ['O'], ['O'], ['B-per'], ['B-per'], ['B-geo'], ['B-geo'], ['O'], ['B-geo'], ['O'], ['O'], ['O'], ['O'], ['B-geo'], ['O'], ['O'], ['B-geo'], ['O'], ['O'], ['O'], ['O'], ['O'], ['B-per'], ['O'], ['O'], ['B-gpe'], ['O'], ['O'], ['O'], ['O'], ['O'], ['B-geo'], ['O'], ['O'], ['O'], ['O'], ['O'], ['B-gpe'], ['O'], ['B-geo'], ['O'], ['O'], ['O'], ['O'], ['O'], ['O'], ['O'], ['O'], ['B-gpe'], ['O'], ['O'], ['O'], ['B-per'], ['O'], ['O'], ['B-geo'], ['B-per'], ['O'], ['O'], ['B-geo'], ['O'], ['O'], ['O'], ['O'], ['O'], ['O'], ['O'], ['O'], ['O'], ['B-per'], ['O'], ['B-gpe'], ['B-geo'], ['B-per'], ['O'], ['O'], ['O'], ['O'], ['O'], ['O'], ['O'], ['O'], ['O'], ['O'], ['B-gpe'], ['O'], ['O'], ['B-gpe'], ['O'], ['O'], ['O'], ['O'], ['O'], ['B-geo'], ['B-org'], ['B-per'], ['O'], ['B-per'], ['O'], ['B-gpe'], ['O'], ['O'], ['O'], ['O'], ['B-per'], ['O'], ['O'], ['O'], ['O'], ['O'], ['O'], ['O'], ['O'], ['O'], ['B-per'], ['O'], ['B-per'], ['O'], ['O'], ['O'], ['B-geo'], ['O'], ['O'], ['O'], ['O'], ['O'], ['O'], ['O'], ['O'], ['O'], ['O'], ['B-geo'], ['O'], ['O'], ['O'], ['O'], ['O'], ['O'], ['B-gpe'], ['B-geo'], ['B-gpe'], ['O'], ['B-gpe'], ['B-per'], ['O'], ['B-geo'], ['B-per'], ['B-gpe'], ['O'], ['O'], ['O'], ['O'], ['B-gpe'], ['O'], ['O'], ['O'], ['O'], ['O'], ['O'], ['B-per'], ['O'], ['O'], ['O'], ['O'], ['O'], ['O'], ['O'], ['B-gpe'], ['O'], ['B-gpe'], ['B-per'], ['O'], ['B-geo'], ['O'], ['O'], ['B-per'], ['B-geo'], ['O'], ['O'], ['O'], ['O'], ['O'], ['B-gpe'], ['B-geo'], ['O'], ['O'], ['B-geo'], ['O'], ['O'], ['O'], ['B-per'], ['O'], ['O'], ['B-gpe'], ['O'], ['O'], ['O'], ['B-geo'], ['B-per'], ['O'], ['O'], ['O'], ['O'], ['O'], ['O'], ['O'], ['O'], ['B-gpe'], ['O'], ['O'], ['O'], ['O'], ['O'], ['O'], ['O'], ['O'], ['O'], ['O'], ['B-gpe'], ['O'], ['B-gpe'], ['O'], ['O'], ['O'], ['O']]\n"
     ]
    }
   ],
   "source": [
    "test_pred = model.predict(X_test, verbose=1)\n",
    "\n",
    "idx2tag = {i: w for w, i in index_tag.items()}\n",
    "\n",
    "def pred2label(pred):\n",
    "    out = []\n",
    "    for pred_i in pred:\n",
    "        out_i = []\n",
    "        for p in pred_i:\n",
    "            p_i = np.argmax(p)\n",
    "            out_i.append(idx2tag[p_i].replace(\"PAD\", \"O\"))\n",
    "        out.append(out_i)\n",
    "    return out\n",
    "    \n",
    "pred_labels = pred2label(test_pred)\n",
    "test_labels = pred2label(y_test)\n"
   ]
  },
  {
   "cell_type": "code",
   "execution_count": 16,
   "metadata": {},
   "outputs": [
    {
     "name": "stdout",
     "output_type": "stream",
     "text": [
      "F1-score: 66.1%\n"
     ]
    }
   ],
   "source": [
    "print(\"F1-score: {:.1%}\".format(f1_score(test_labels, pred_labels)))"
   ]
  },
  {
   "cell_type": "code",
   "execution_count": 17,
   "metadata": {},
   "outputs": [
    {
     "name": "stdout",
     "output_type": "stream",
     "text": [
      "           precision    recall  f1-score   support\n",
      "\n",
      "      tim       0.00      0.00      0.00       110\n",
      "      geo       0.58      0.87      0.70       640\n",
      "      per       0.66      0.82      0.73       819\n",
      "      org       0.85      0.10      0.18       557\n",
      "      gpe       0.74      0.89      0.81       591\n",
      "      nat       0.00      0.00      0.00         3\n",
      "      art       0.00      0.00      0.00         3\n",
      "      eve       0.00      0.00      0.00         1\n",
      "\n",
      "micro avg       0.66      0.67      0.66      2724\n",
      "macro avg       0.67      0.67      0.60      2724\n",
      "\n"
     ]
    }
   ],
   "source": [
    "print(classification_report(test_labels, pred_labels))"
   ]
  }
 ],
 "metadata": {
  "kernelspec": {
   "display_name": "Python 3",
   "language": "python",
   "name": "python3"
  },
  "language_info": {
   "codemirror_mode": {
    "name": "ipython",
    "version": 3
   },
   "file_extension": ".py",
   "mimetype": "text/x-python",
   "name": "python",
   "nbconvert_exporter": "python",
   "pygments_lexer": "ipython3",
   "version": "3.8.2"
  }
 },
 "nbformat": 4,
 "nbformat_minor": 4
}
