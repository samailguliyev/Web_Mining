{
 "cells": [
  {
   "cell_type": "code",
   "execution_count": 29,
   "metadata": {},
   "outputs": [],
   "source": [
    "import pandas as pd\n",
    "import numpy as np\n",
    "\n",
    "from utils import SentenceGetter\n",
    "from keras.preprocessing.sequence import pad_sequences\n",
    "from sklearn.model_selection import train_test_split\n",
    "from sklearn.model_selection import cross_val_score\n",
    "from sklearn.metrics import classification_report\n",
    "\n",
    "from keras.models import Model, Input\n",
    "from keras.layers import LSTM, Embedding, Dense, TimeDistributed, Dropout, Conv1D, Flatten\n",
    "from keras.layers import Bidirectional, concatenate, SpatialDropout1D, MaxPooling1D\n",
    "from keras_contrib.layers import CRF\n",
    "from keras.initializers import RandomUniform\n",
    "\n",
    "import matplotlib.pyplot as plt\n",
    "\n",
    "\n"
   ]
  },
  {
   "cell_type": "markdown",
   "metadata": {},
   "source": [
    "# Implement BiLSTM-CNN on data\n",
    "At this part we are going to implement Named Entity Recognition with Bidirectional LSTM-CNNS based on the work <a href=\"https://arxiv.org/pdf/1511.08308.pdf\">Chiu, J. P., & Nichols, E. (2016).</a>. The overall network from this paper is presented on the figure below, however, we simplified it.\n",
    "\n",
    "<table><tr>\n",
    "<td> <img src=\"images/LSTM-CNN-1.jpg\" alt=\"Drawing\" style=\"width: 250px;\"/> </td>\n",
    "<td> <img src=\"images/LSTM-CNN-2.jpg\" alt=\"Drawing\" style=\"width: 250px;\"/> </td>\n",
    "<td> <img src=\"images/LSTM-CNN-3.jpg\" alt=\"Drawing\" style=\"width: 250px;\"/> </td>\n",
    "</tr></table>\n",
    "\n",
    "We are going to:\n",
    "1. Apply char embeddings by creating a dictionary of all characters and then mapping the ids to each character\n",
    "2. Apply word embeddings by the same algorithm. Chiu and Nicols used GloVe word embeddings trained on 6 billions tokens from Wikipedia and Gigaword 5 (<a  href=\"https://nlp.stanford.edu/projects/glove/\">Pennington et al., 2014. GloVe: Global Vectors for Word Representation.</a>), however, it does not contain all word representations. \n",
    "4. Apply CNN on char embeddings\n",
    "5. Feed the output of CNN, word embeddings and additional features to the BiLSTM"
   ]
  },
  {
   "cell_type": "markdown",
   "metadata": {},
   "source": [
    "## 0. Prepare data"
   ]
  },
  {
   "cell_type": "code",
   "execution_count": 9,
   "metadata": {},
   "outputs": [
    {
     "data": {
      "text/html": [
       "<div>\n",
       "<style scoped>\n",
       "    .dataframe tbody tr th:only-of-type {\n",
       "        vertical-align: middle;\n",
       "    }\n",
       "\n",
       "    .dataframe tbody tr th {\n",
       "        vertical-align: top;\n",
       "    }\n",
       "\n",
       "    .dataframe thead th {\n",
       "        text-align: right;\n",
       "    }\n",
       "</style>\n",
       "<table border=\"1\" class=\"dataframe\">\n",
       "  <thead>\n",
       "    <tr style=\"text-align: right;\">\n",
       "      <th></th>\n",
       "      <th>Sentence #</th>\n",
       "      <th>Word</th>\n",
       "      <th>POS</th>\n",
       "      <th>Tag</th>\n",
       "    </tr>\n",
       "  </thead>\n",
       "  <tbody>\n",
       "    <tr>\n",
       "      <th>1048565</th>\n",
       "      <td>Sentence: 47958</td>\n",
       "      <td>impact</td>\n",
       "      <td>NN</td>\n",
       "      <td>O</td>\n",
       "    </tr>\n",
       "    <tr>\n",
       "      <th>1048566</th>\n",
       "      <td>Sentence: 47958</td>\n",
       "      <td>.</td>\n",
       "      <td>.</td>\n",
       "      <td>O</td>\n",
       "    </tr>\n",
       "    <tr>\n",
       "      <th>1048567</th>\n",
       "      <td>Sentence: 47959</td>\n",
       "      <td>Indian</td>\n",
       "      <td>JJ</td>\n",
       "      <td>B-gpe</td>\n",
       "    </tr>\n",
       "    <tr>\n",
       "      <th>1048568</th>\n",
       "      <td>Sentence: 47959</td>\n",
       "      <td>forces</td>\n",
       "      <td>NNS</td>\n",
       "      <td>O</td>\n",
       "    </tr>\n",
       "    <tr>\n",
       "      <th>1048569</th>\n",
       "      <td>Sentence: 47959</td>\n",
       "      <td>said</td>\n",
       "      <td>VBD</td>\n",
       "      <td>O</td>\n",
       "    </tr>\n",
       "    <tr>\n",
       "      <th>1048570</th>\n",
       "      <td>Sentence: 47959</td>\n",
       "      <td>they</td>\n",
       "      <td>PRP</td>\n",
       "      <td>O</td>\n",
       "    </tr>\n",
       "    <tr>\n",
       "      <th>1048571</th>\n",
       "      <td>Sentence: 47959</td>\n",
       "      <td>responded</td>\n",
       "      <td>VBD</td>\n",
       "      <td>O</td>\n",
       "    </tr>\n",
       "    <tr>\n",
       "      <th>1048572</th>\n",
       "      <td>Sentence: 47959</td>\n",
       "      <td>to</td>\n",
       "      <td>TO</td>\n",
       "      <td>O</td>\n",
       "    </tr>\n",
       "    <tr>\n",
       "      <th>1048573</th>\n",
       "      <td>Sentence: 47959</td>\n",
       "      <td>the</td>\n",
       "      <td>DT</td>\n",
       "      <td>O</td>\n",
       "    </tr>\n",
       "    <tr>\n",
       "      <th>1048574</th>\n",
       "      <td>Sentence: 47959</td>\n",
       "      <td>attack</td>\n",
       "      <td>NN</td>\n",
       "      <td>O</td>\n",
       "    </tr>\n",
       "  </tbody>\n",
       "</table>\n",
       "</div>"
      ],
      "text/plain": [
       "              Sentence #       Word  POS    Tag\n",
       "1048565  Sentence: 47958     impact   NN      O\n",
       "1048566  Sentence: 47958          .    .      O\n",
       "1048567  Sentence: 47959     Indian   JJ  B-gpe\n",
       "1048568  Sentence: 47959     forces  NNS      O\n",
       "1048569  Sentence: 47959       said  VBD      O\n",
       "1048570  Sentence: 47959       they  PRP      O\n",
       "1048571  Sentence: 47959  responded  VBD      O\n",
       "1048572  Sentence: 47959         to   TO      O\n",
       "1048573  Sentence: 47959        the   DT      O\n",
       "1048574  Sentence: 47959     attack   NN      O"
      ]
     },
     "execution_count": 9,
     "metadata": {},
     "output_type": "execute_result"
    }
   ],
   "source": [
    "#download data\n",
    "data = pd.read_csv(\"ner_dataset.csv\", encoding=\"latin1\")\n",
    "data = data.fillna(method=\"ffill\")\n",
    "data.tail(10)"
   ]
  },
  {
   "cell_type": "code",
   "execution_count": 10,
   "metadata": {},
   "outputs": [],
   "source": [
    "#create a getter which will transform sentences\n",
    "getter = SentenceGetter(data)"
   ]
  },
  {
   "cell_type": "code",
   "execution_count": 11,
   "metadata": {},
   "outputs": [
    {
     "data": {
      "text/plain": [
       "[['They', 'O'],\n",
       " ['left', 'O'],\n",
       " ['after', 'O'],\n",
       " ['a', 'O'],\n",
       " ['tense', 'O'],\n",
       " ['hour-long', 'O'],\n",
       " ['standoff', 'O'],\n",
       " ['with', 'O'],\n",
       " ['riot', 'O'],\n",
       " ['police', 'O'],\n",
       " ['.', 'O']]"
      ]
     },
     "execution_count": 11,
     "metadata": {},
     "output_type": "execute_result"
    }
   ],
   "source": [
    "sentences = getter.sentences\n",
    "sentences[3]"
   ]
  },
  {
   "cell_type": "code",
   "execution_count": 13,
   "metadata": {},
   "outputs": [],
   "source": [
    "words = list(set(data[\"Word\"].values))"
   ]
  },
  {
   "cell_type": "code",
   "execution_count": null,
   "metadata": {},
   "outputs": [],
   "source": []
  },
  {
   "cell_type": "markdown",
   "metadata": {},
   "source": [
    "## 1. Char embeddings"
   ]
  },
  {
   "cell_type": "code",
   "execution_count": 14,
   "metadata": {},
   "outputs": [
    {
     "name": "stdout",
     "output_type": "stream",
     "text": [
      "{'O', 'Q', '\\x96', 'e', 'm', 'z', '@', '(', 'H', 'y', 'V', '\\x85', '~', ':', 'L', 'M', '-', 'K', 'I', 'a', '\\x94', 'i', '&', 'Z', ';', '+', 'F', 'W', \"'\", 'd', 'g', '7', 'G', 'v', '\\x91', '/', ')', '0', '%', '$', '\"', 'C', '4', '8', 'Y', 'k', '9', 'X', '2', '\\x92', '\\x97', 'n', 'R', 'U', '#', 'u', '°', 'h', 'ü', 'A', 'é', 'T', 'p', 'b', 'o', '3', 'r', '5', ']', '`', '1', 'J', 's', 'E', '\\x93', '[', 'j', 'c', 'N', '.', 'q', 'S', 'f', '_', 't', '\\xa0', 'l', '6', ',', 'w', 'x', 'P', 'D', '?', 'ë', 'B', 'ö', '!'}\n",
      "98\n"
     ]
    }
   ],
   "source": [
    "chars = set([w_i for w in words for w_i in w])\n",
    "print(chars)\n",
    "print(len(chars))"
   ]
  },
  {
   "cell_type": "code",
   "execution_count": 15,
   "metadata": {},
   "outputs": [
    {
     "data": {
      "text/plain": [
       "{'O': 1,\n",
       " 'Q': 2,\n",
       " '\\x96': 3,\n",
       " 'e': 4,\n",
       " 'm': 5,\n",
       " 'z': 6,\n",
       " '@': 7,\n",
       " '(': 8,\n",
       " 'H': 9,\n",
       " 'y': 10,\n",
       " 'V': 11,\n",
       " '\\x85': 12,\n",
       " '~': 13,\n",
       " ':': 14,\n",
       " 'L': 15,\n",
       " 'M': 16,\n",
       " '-': 17,\n",
       " 'K': 18,\n",
       " 'I': 19,\n",
       " 'a': 20,\n",
       " '\\x94': 21,\n",
       " 'i': 22,\n",
       " '&': 23,\n",
       " 'Z': 24,\n",
       " ';': 25,\n",
       " '+': 26,\n",
       " 'F': 27,\n",
       " 'W': 28,\n",
       " \"'\": 29,\n",
       " 'd': 30,\n",
       " 'g': 31,\n",
       " '7': 32,\n",
       " 'G': 33,\n",
       " 'v': 34,\n",
       " '\\x91': 35,\n",
       " '/': 36,\n",
       " ')': 37,\n",
       " '0': 38,\n",
       " '%': 39,\n",
       " '$': 40,\n",
       " '\"': 41,\n",
       " 'C': 42,\n",
       " '4': 43,\n",
       " '8': 44,\n",
       " 'Y': 45,\n",
       " 'k': 46,\n",
       " '9': 47,\n",
       " 'X': 48,\n",
       " '2': 49,\n",
       " '\\x92': 50,\n",
       " '\\x97': 51,\n",
       " 'n': 52,\n",
       " 'R': 53,\n",
       " 'U': 54,\n",
       " '#': 55,\n",
       " 'u': 56,\n",
       " '°': 57,\n",
       " 'h': 58,\n",
       " 'ü': 59,\n",
       " 'A': 60,\n",
       " 'é': 61,\n",
       " 'T': 62,\n",
       " 'p': 63,\n",
       " 'b': 64,\n",
       " 'o': 65,\n",
       " '3': 66,\n",
       " 'r': 67,\n",
       " '5': 68,\n",
       " ']': 69,\n",
       " '`': 70,\n",
       " '1': 71,\n",
       " 'J': 72,\n",
       " 's': 73,\n",
       " 'E': 74,\n",
       " '\\x93': 75,\n",
       " '[': 76,\n",
       " 'j': 77,\n",
       " 'c': 78,\n",
       " 'N': 79,\n",
       " '.': 80,\n",
       " 'q': 81,\n",
       " 'S': 82,\n",
       " 'f': 83,\n",
       " '_': 84,\n",
       " 't': 85,\n",
       " '\\xa0': 86,\n",
       " 'l': 87,\n",
       " '6': 88,\n",
       " ',': 89,\n",
       " 'w': 90,\n",
       " 'x': 91,\n",
       " 'P': 92,\n",
       " 'D': 93,\n",
       " '?': 94,\n",
       " 'ë': 95,\n",
       " 'B': 96,\n",
       " 'ö': 97,\n",
       " '!': 98,\n",
       " 'PAD': 0}"
      ]
     },
     "execution_count": 15,
     "metadata": {},
     "output_type": "execute_result"
    }
   ],
   "source": [
    "# Crate a mapping for characters\n",
    "char2idx = {c: i + 1 for i, c in enumerate(chars)}\n",
    "char2idx[\"PAD\"] = 0\n",
    "char2idx"
   ]
  },
  {
   "cell_type": "code",
   "execution_count": 16,
   "metadata": {
    "scrolled": true
   },
   "outputs": [],
   "source": [
    "X_char = []\n",
    "#maximum length of batch of sentences\n",
    "max_len = 75\n",
    "#maximun length of the batch of characters\n",
    "max_len_char = 10\n",
    "\n",
    "for sentence in sentences:\n",
    "    sent_seq = []\n",
    "    for i in range(max_len):\n",
    "        word_seq = []\n",
    "        for j in range(max_len_char):\n",
    "            try:\n",
    "                word_seq.append(char2idx.get(sentence[i][0][j]))\n",
    "            except:\n",
    "                word_seq.append(char2idx.get(\"PAD\"))\n",
    "        sent_seq.append(word_seq)\n",
    "    X_char.append(np.array(sent_seq))"
   ]
  },
  {
   "cell_type": "code",
   "execution_count": 17,
   "metadata": {
    "scrolled": true
   },
   "outputs": [
    {
     "name": "stdout",
     "output_type": "stream",
     "text": [
      "[['Thousands', 'O'], ['of', 'O'], ['demonstrators', 'O'], ['have', 'O'], ['marched', 'O'], ['through', 'O'], ['London', 'B-geo'], ['to', 'O'], ['protest', 'O'], ['the', 'O'], ['war', 'O'], ['in', 'O'], ['Iraq', 'B-geo'], ['and', 'O'], ['demand', 'O'], ['the', 'O'], ['withdrawal', 'O'], ['of', 'O'], ['British', 'B-gpe'], ['troops', 'O'], ['from', 'O'], ['that', 'O'], ['country', 'O'], ['.', 'O']]\n",
      "[[62 58 65 56 73 20 52 30 73  0]\n",
      " [65 83  0  0  0  0  0  0  0  0]\n",
      " [30  4  5 65 52 73 85 67 20 85]\n",
      " [58 20 34  4  0  0  0  0  0  0]\n",
      " [ 5 20 67 78 58  4 30  0  0  0]\n",
      " [85 58 67 65 56 31 58  0  0  0]\n",
      " [15 65 52 30 65 52  0  0  0  0]\n",
      " [85 65  0  0  0  0  0  0  0  0]\n",
      " [63 67 65 85  4 73 85  0  0  0]\n",
      " [85 58  4  0  0  0  0  0  0  0]\n",
      " [90 20 67  0  0  0  0  0  0  0]\n",
      " [22 52  0  0  0  0  0  0  0  0]\n",
      " [19 67 20 81  0  0  0  0  0  0]\n",
      " [20 52 30  0  0  0  0  0  0  0]\n",
      " [30  4  5 20 52 30  0  0  0  0]\n",
      " [85 58  4  0  0  0  0  0  0  0]\n",
      " [90 22 85 58 30 67 20 90 20 87]\n",
      " [65 83  0  0  0  0  0  0  0  0]\n",
      " [96 67 22 85 22 73 58  0  0  0]\n",
      " [85 67 65 65 63 73  0  0  0  0]\n",
      " [83 67 65  5  0  0  0  0  0  0]\n",
      " [85 58 20 85  0  0  0  0  0  0]\n",
      " [78 65 56 52 85 67 10  0  0  0]\n",
      " [80  0  0  0  0  0  0  0  0  0]\n",
      " [ 0  0  0  0  0  0  0  0  0  0]\n",
      " [ 0  0  0  0  0  0  0  0  0  0]\n",
      " [ 0  0  0  0  0  0  0  0  0  0]\n",
      " [ 0  0  0  0  0  0  0  0  0  0]\n",
      " [ 0  0  0  0  0  0  0  0  0  0]\n",
      " [ 0  0  0  0  0  0  0  0  0  0]\n",
      " [ 0  0  0  0  0  0  0  0  0  0]\n",
      " [ 0  0  0  0  0  0  0  0  0  0]\n",
      " [ 0  0  0  0  0  0  0  0  0  0]\n",
      " [ 0  0  0  0  0  0  0  0  0  0]\n",
      " [ 0  0  0  0  0  0  0  0  0  0]\n",
      " [ 0  0  0  0  0  0  0  0  0  0]\n",
      " [ 0  0  0  0  0  0  0  0  0  0]\n",
      " [ 0  0  0  0  0  0  0  0  0  0]\n",
      " [ 0  0  0  0  0  0  0  0  0  0]\n",
      " [ 0  0  0  0  0  0  0  0  0  0]\n",
      " [ 0  0  0  0  0  0  0  0  0  0]\n",
      " [ 0  0  0  0  0  0  0  0  0  0]\n",
      " [ 0  0  0  0  0  0  0  0  0  0]\n",
      " [ 0  0  0  0  0  0  0  0  0  0]\n",
      " [ 0  0  0  0  0  0  0  0  0  0]\n",
      " [ 0  0  0  0  0  0  0  0  0  0]\n",
      " [ 0  0  0  0  0  0  0  0  0  0]\n",
      " [ 0  0  0  0  0  0  0  0  0  0]\n",
      " [ 0  0  0  0  0  0  0  0  0  0]\n",
      " [ 0  0  0  0  0  0  0  0  0  0]\n",
      " [ 0  0  0  0  0  0  0  0  0  0]\n",
      " [ 0  0  0  0  0  0  0  0  0  0]\n",
      " [ 0  0  0  0  0  0  0  0  0  0]\n",
      " [ 0  0  0  0  0  0  0  0  0  0]\n",
      " [ 0  0  0  0  0  0  0  0  0  0]\n",
      " [ 0  0  0  0  0  0  0  0  0  0]\n",
      " [ 0  0  0  0  0  0  0  0  0  0]\n",
      " [ 0  0  0  0  0  0  0  0  0  0]\n",
      " [ 0  0  0  0  0  0  0  0  0  0]\n",
      " [ 0  0  0  0  0  0  0  0  0  0]\n",
      " [ 0  0  0  0  0  0  0  0  0  0]\n",
      " [ 0  0  0  0  0  0  0  0  0  0]\n",
      " [ 0  0  0  0  0  0  0  0  0  0]\n",
      " [ 0  0  0  0  0  0  0  0  0  0]\n",
      " [ 0  0  0  0  0  0  0  0  0  0]\n",
      " [ 0  0  0  0  0  0  0  0  0  0]\n",
      " [ 0  0  0  0  0  0  0  0  0  0]\n",
      " [ 0  0  0  0  0  0  0  0  0  0]\n",
      " [ 0  0  0  0  0  0  0  0  0  0]\n",
      " [ 0  0  0  0  0  0  0  0  0  0]\n",
      " [ 0  0  0  0  0  0  0  0  0  0]\n",
      " [ 0  0  0  0  0  0  0  0  0  0]\n",
      " [ 0  0  0  0  0  0  0  0  0  0]\n",
      " [ 0  0  0  0  0  0  0  0  0  0]\n",
      " [ 0  0  0  0  0  0  0  0  0  0]]\n"
     ]
    }
   ],
   "source": [
    "print(sentences[0])\n",
    "print(X_char[0])"
   ]
  },
  {
   "cell_type": "markdown",
   "metadata": {},
   "source": [
    "## 2. Word embeddings"
   ]
  },
  {
   "cell_type": "code",
   "execution_count": 18,
   "metadata": {},
   "outputs": [],
   "source": [
    "# Create a mapping for the labels and words\n",
    "labelSet = set()\n",
    "words = set()\n",
    "for sentence in sentences:\n",
    "    for token,label in sentence:\n",
    "            labelSet.add(label)\n",
    "            words.add(token)\n",
    "\n",
    "\n",
    "label2Idx = {}\n",
    "for label in labelSet:\n",
    "    label2Idx[label] = len(label2Idx) +1\n",
    "label2Idx[\"PAD\"] = 0\n",
    "    \n",
    "word2Idx = {}\n",
    "for word in words:\n",
    "    word2Idx[word] = len(word2Idx)\n",
    "word2Idx[\"PAD\"] = 0\n",
    "\n",
    "idx2label={i: l for l,i in label2Idx.items()}\n",
    "idx2word = {i: w for w,i in word2Idx.items()}\n",
    "    "
   ]
  },
  {
   "cell_type": "code",
   "execution_count": 19,
   "metadata": {},
   "outputs": [
    {
     "data": {
      "text/plain": [
       "{'O': 1,\n",
       " 'B-gpe': 2,\n",
       " 'B-nat': 3,\n",
       " 'B-per': 4,\n",
       " 'I-per': 5,\n",
       " 'I-geo': 6,\n",
       " 'I-org': 7,\n",
       " 'B-eve': 8,\n",
       " 'B-geo': 9,\n",
       " 'B-art': 10,\n",
       " 'I-tim': 11,\n",
       " 'I-art': 12,\n",
       " 'B-org': 13,\n",
       " 'I-gpe': 14,\n",
       " 'I-eve': 15,\n",
       " 'I-nat': 16,\n",
       " 'B-tim': 17,\n",
       " 'PAD': 0}"
      ]
     },
     "execution_count": 19,
     "metadata": {},
     "output_type": "execute_result"
    }
   ],
   "source": [
    "label2Idx"
   ]
  },
  {
   "cell_type": "code",
   "execution_count": 20,
   "metadata": {},
   "outputs": [
    {
     "name": "stdout",
     "output_type": "stream",
     "text": [
      "[12786, 34201, 13944, 2541, 15301, 10475, 23104, 20974, 17588, 9387, 29114, 20092, 22425, 3240, 21339, 9387, 6684, 34201, 7974, 18081, 5569, 20209, 701, 24610]\n"
     ]
    }
   ],
   "source": [
    "#map the words in each sentence to its id\n",
    "X_word = [[word2Idx[w[0]] for w in s] for s in sentences]\n",
    "print(X_word[0])"
   ]
  },
  {
   "cell_type": "code",
   "execution_count": 21,
   "metadata": {},
   "outputs": [
    {
     "name": "stdout",
     "output_type": "stream",
     "text": [
      "[12786 34201 13944  2541 15301 10475 23104 20974 17588  9387 29114 20092\n",
      " 22425  3240 21339  9387  6684 34201  7974 18081  5569 20209   701 24610\n",
      "     0     0     0     0     0     0     0     0     0     0     0     0\n",
      "     0     0     0     0     0     0     0     0     0     0     0     0\n",
      "     0     0     0     0     0     0     0     0     0     0     0     0\n",
      "     0     0     0     0     0     0     0     0     0     0     0     0\n",
      "     0     0     0]\n"
     ]
    }
   ],
   "source": [
    "#pad the sentences since for tensorflow we need sentences with equal length\n",
    "X_word = pad_sequences(maxlen=max_len, sequences=X_word, value=word2Idx[\"PAD\"], padding='post', truncating='post')\n",
    "print(X_word[0])"
   ]
  },
  {
   "cell_type": "markdown",
   "metadata": {},
   "source": [
    "## 3. Model training"
   ]
  },
  {
   "cell_type": "code",
   "execution_count": 73,
   "metadata": {},
   "outputs": [
    {
     "data": {
      "text/plain": [
       "array([1, 1, 1, 1, 1, 1, 9, 1, 1, 1, 1, 1, 9, 1, 1, 1, 1, 1, 2, 1, 1, 1,\n",
       "       1, 1, 0, 0, 0, 0, 0, 0, 0, 0, 0, 0, 0, 0, 0, 0, 0, 0, 0, 0, 0, 0,\n",
       "       0, 0, 0, 0, 0, 0, 0, 0, 0, 0, 0, 0, 0, 0, 0, 0, 0, 0, 0, 0, 0, 0,\n",
       "       0, 0, 0, 0, 0, 0, 0, 0, 0])"
      ]
     },
     "execution_count": 73,
     "metadata": {},
     "output_type": "execute_result"
    }
   ],
   "source": [
    "#do the mapping and padding for the labal sequence\n",
    "y = [[label2Idx[w[1]] for w in s] for s in sentences]\n",
    "y = pad_sequences(maxlen=max_len, sequences=y, value=label2Idx[\"PAD\"], padding='post', truncating='post')\n",
    "y[0]"
   ]
  },
  {
   "cell_type": "code",
   "execution_count": 23,
   "metadata": {},
   "outputs": [],
   "source": [
    "#separate data to train and test data\n",
    "\n",
    "X_word_tr, X_word_te, y_tr, y_te = train_test_split(X_word, y, test_size=0.1, random_state=2018)\n",
    "X_char_tr, X_char_te, _, _ = train_test_split(X_char, y, test_size=0.1, random_state=2018)\n"
   ]
  },
  {
   "cell_type": "markdown",
   "metadata": {},
   "source": [
    "### Model with LSTM layer for char embeddings"
   ]
  },
  {
   "cell_type": "code",
   "execution_count": 24,
   "metadata": {},
   "outputs": [
    {
     "name": "stdout",
     "output_type": "stream",
     "text": [
      "WARNING:tensorflow:Large dropout rate: 0.6 (>0.5). In TensorFlow 2.x, dropout() uses dropout rate instead of keep_prob. Please ensure that this is intended.\n",
      "WARNING:tensorflow:Large dropout rate: 0.6 (>0.5). In TensorFlow 2.x, dropout() uses dropout rate instead of keep_prob. Please ensure that this is intended.\n",
      "WARNING:tensorflow:Large dropout rate: 0.6 (>0.5). In TensorFlow 2.x, dropout() uses dropout rate instead of keep_prob. Please ensure that this is intended.\n",
      "WARNING:tensorflow:Large dropout rate: 0.6 (>0.5). In TensorFlow 2.x, dropout() uses dropout rate instead of keep_prob. Please ensure that this is intended.\n",
      "WARNING:tensorflow:From C:\\Users\\linar\\anaconda3\\lib\\site-packages\\tensorflow\\python\\keras\\backend.py:3794: add_dispatch_support.<locals>.wrapper (from tensorflow.python.ops.array_ops) is deprecated and will be removed in a future version.\n",
      "Instructions for updating:\n",
      "Use tf.where in 2.0, which has the same broadcast rule as np.where\n",
      "WARNING:tensorflow:Large dropout rate: 0.6 (>0.5). In TensorFlow 2.x, dropout() uses dropout rate instead of keep_prob. Please ensure that this is intended.\n"
     ]
    }
   ],
   "source": [
    "# input and embedding for words\n",
    "word_in_1 = Input(shape=(max_len,))\n",
    "emb_word_1 = Embedding(input_dim=len(word2Idx), output_dim=20,\n",
    "                     input_length=max_len, mask_zero=True)(word_in_1)\n",
    "\n",
    "# input and embeddings for characters\n",
    "char_in_1 = Input(shape=(max_len, max_len_char,))\n",
    "embed_char_out_1 = TimeDistributed(Embedding(input_dim=len(char2idx), output_dim=10,\n",
    "                           embeddings_initializer=RandomUniform(minval=-0.5, maxval=0.5)), name='char_embedding')(char_in_1)\n",
    "\n",
    "# character LSTM to get word encodings by characters\n",
    "char_enc_1 = TimeDistributed(LSTM(units=20, return_sequences=False,\n",
    "                                recurrent_dropout=0.5))(embed_char_out_1)\n",
    "\n",
    "# main LSTM\n",
    "x = concatenate([emb_word_1, char_enc_1])\n",
    "x = SpatialDropout1D(0.3)(x)\n",
    "main_lstm = Bidirectional(LSTM(units=50, return_sequences=True,\n",
    "                               recurrent_dropout=0.6))(x)\n",
    "out = TimeDistributed(Dense(len(label2Idx), activation=\"sigmoid\"))(main_lstm)\n",
    "\n",
    "model_1 = Model([word_in_1, char_in_1], out)"
   ]
  },
  {
   "cell_type": "code",
   "execution_count": 25,
   "metadata": {},
   "outputs": [
    {
     "name": "stdout",
     "output_type": "stream",
     "text": [
      "Model: \"model_1\"\n",
      "__________________________________________________________________________________________________\n",
      "Layer (type)                    Output Shape         Param #     Connected to                     \n",
      "==================================================================================================\n",
      "input_2 (InputLayer)            (None, 75, 10)       0                                            \n",
      "__________________________________________________________________________________________________\n",
      "input_1 (InputLayer)            (None, 75)           0                                            \n",
      "__________________________________________________________________________________________________\n",
      "char_embedding (TimeDistributed (None, 75, 10, 10)   990         input_2[0][0]                    \n",
      "__________________________________________________________________________________________________\n",
      "embedding_1 (Embedding)         (None, 75, 20)       703560      input_1[0][0]                    \n",
      "__________________________________________________________________________________________________\n",
      "time_distributed_1 (TimeDistrib (None, 75, 20)       2480        char_embedding[0][0]             \n",
      "__________________________________________________________________________________________________\n",
      "concatenate_1 (Concatenate)     (None, 75, 40)       0           embedding_1[0][0]                \n",
      "                                                                 time_distributed_1[0][0]         \n",
      "__________________________________________________________________________________________________\n",
      "spatial_dropout1d_1 (SpatialDro (None, 75, 40)       0           concatenate_1[0][0]              \n",
      "__________________________________________________________________________________________________\n",
      "bidirectional_1 (Bidirectional) (None, 75, 100)      36400       spatial_dropout1d_1[0][0]        \n",
      "__________________________________________________________________________________________________\n",
      "time_distributed_2 (TimeDistrib (None, 75, 18)       1818        bidirectional_1[0][0]            \n",
      "==================================================================================================\n",
      "Total params: 745,248\n",
      "Trainable params: 745,248\n",
      "Non-trainable params: 0\n",
      "__________________________________________________________________________________________________\n"
     ]
    }
   ],
   "source": [
    "model_1.compile(loss='sparse_categorical_crossentropy', optimizer='nadam', metrics=[\"acc\"])\n",
    "model_1.summary()"
   ]
  },
  {
   "cell_type": "code",
   "execution_count": 26,
   "metadata": {},
   "outputs": [
    {
     "name": "stdout",
     "output_type": "stream",
     "text": [
      "WARNING:tensorflow:From C:\\Users\\linar\\anaconda3\\lib\\site-packages\\keras\\backend\\tensorflow_backend.py:422: The name tf.global_variables is deprecated. Please use tf.compat.v1.global_variables instead.\n",
      "\n",
      "Train on 38846 samples, validate on 4317 samples\n",
      "Epoch 1/5\n",
      "38846/38846 [==============================] - 206s 5ms/step - loss: 0.0910 - acc: 0.9197 - val_loss: 0.0390 - val_acc: 0.9611\n",
      "Epoch 2/5\n",
      "38846/38846 [==============================] - 206s 5ms/step - loss: 0.0347 - acc: 0.9657 - val_loss: 0.0321 - val_acc: 0.9675\n",
      "Epoch 3/5\n",
      "38846/38846 [==============================] - 209s 5ms/step - loss: 0.0283 - acc: 0.9709 - val_loss: 0.0302 - val_acc: 0.9691\n",
      "Epoch 4/5\n",
      "38846/38846 [==============================] - 208s 5ms/step - loss: 0.0253 - acc: 0.9734 - val_loss: 0.0293 - val_acc: 0.9696\n",
      "Epoch 5/5\n",
      "38846/38846 [==============================] - 211s 5ms/step - loss: 0.0234 - acc: 0.9749 - val_loss: 0.0294 - val_acc: 0.9695\n"
     ]
    }
   ],
   "source": [
    "history_1 = model_1.fit([X_word_tr,\n",
    "                     np.array(X_char_tr).reshape((len(X_char_tr), max_len, max_len_char))],\n",
    "                    np.array(y_tr).reshape(len(y_tr), max_len, 1),\n",
    "                    batch_size=32, epochs=5, validation_split=0.1, verbose=1)"
   ]
  },
  {
   "cell_type": "code",
   "execution_count": 27,
   "metadata": {},
   "outputs": [
    {
     "data": {
      "text/html": [
       "<div>\n",
       "<style scoped>\n",
       "    .dataframe tbody tr th:only-of-type {\n",
       "        vertical-align: middle;\n",
       "    }\n",
       "\n",
       "    .dataframe tbody tr th {\n",
       "        vertical-align: top;\n",
       "    }\n",
       "\n",
       "    .dataframe thead th {\n",
       "        text-align: right;\n",
       "    }\n",
       "</style>\n",
       "<table border=\"1\" class=\"dataframe\">\n",
       "  <thead>\n",
       "    <tr style=\"text-align: right;\">\n",
       "      <th></th>\n",
       "      <th>val_loss</th>\n",
       "      <th>val_acc</th>\n",
       "      <th>loss</th>\n",
       "      <th>acc</th>\n",
       "    </tr>\n",
       "  </thead>\n",
       "  <tbody>\n",
       "    <tr>\n",
       "      <th>0</th>\n",
       "      <td>0.039029</td>\n",
       "      <td>0.961054</td>\n",
       "      <td>0.090969</td>\n",
       "      <td>0.919747</td>\n",
       "    </tr>\n",
       "    <tr>\n",
       "      <th>1</th>\n",
       "      <td>0.032092</td>\n",
       "      <td>0.967495</td>\n",
       "      <td>0.034667</td>\n",
       "      <td>0.965730</td>\n",
       "    </tr>\n",
       "    <tr>\n",
       "      <th>2</th>\n",
       "      <td>0.030240</td>\n",
       "      <td>0.969060</td>\n",
       "      <td>0.028288</td>\n",
       "      <td>0.970920</td>\n",
       "    </tr>\n",
       "    <tr>\n",
       "      <th>3</th>\n",
       "      <td>0.029283</td>\n",
       "      <td>0.969603</td>\n",
       "      <td>0.025294</td>\n",
       "      <td>0.973421</td>\n",
       "    </tr>\n",
       "    <tr>\n",
       "      <th>4</th>\n",
       "      <td>0.029357</td>\n",
       "      <td>0.969497</td>\n",
       "      <td>0.023444</td>\n",
       "      <td>0.974909</td>\n",
       "    </tr>\n",
       "  </tbody>\n",
       "</table>\n",
       "</div>"
      ],
      "text/plain": [
       "   val_loss   val_acc      loss       acc\n",
       "0  0.039029  0.961054  0.090969  0.919747\n",
       "1  0.032092  0.967495  0.034667  0.965730\n",
       "2  0.030240  0.969060  0.028288  0.970920\n",
       "3  0.029283  0.969603  0.025294  0.973421\n",
       "4  0.029357  0.969497  0.023444  0.974909"
      ]
     },
     "execution_count": 27,
     "metadata": {},
     "output_type": "execute_result"
    }
   ],
   "source": [
    "hist_1 = pd.DataFrame(history_1.history)\n",
    "hist_1"
   ]
  },
  {
   "cell_type": "code",
   "execution_count": 31,
   "metadata": {},
   "outputs": [
    {
     "data": {
      "image/png": "[encoded data removed]",
      "text/plain": [
       "<Figure size 864x864 with 1 Axes>"
      ]
     },
     "metadata": {},
     "output_type": "display_data"
    }
   ],
   "source": [
    "plt.style.use(\"ggplot\")\n",
    "plt.figure(figsize=(12,12))\n",
    "plt.plot(hist_1[\"acc\"])\n",
    "plt.plot(hist_1[\"val_acc\"])\n",
    "plt.show()"
   ]
  },
  {
   "cell_type": "code",
   "execution_count": 32,
   "metadata": {},
   "outputs": [],
   "source": [
    "y_pred_1 = model_1.predict([X_word_te,\n",
    "                        np.array(X_char_te).reshape((len(X_char_te),\n",
    "                                                     max_len, max_len_char))])"
   ]
  },
  {
   "cell_type": "code",
   "execution_count": 33,
   "metadata": {},
   "outputs": [
    {
     "name": "stdout",
     "output_type": "stream",
     "text": [
      "Word           ||True ||Pred\n",
      "==============================\n",
      "On             : O     O\n",
      "Monday         : B-tim B-tim\n",
      ",              : O     O\n",
      "British        : B-org B-gpe\n",
      "Foreign        : I-org O\n",
      "Secretary      : B-per O\n",
      "Jack           : I-per I-per\n",
      "Straw          : I-per I-per\n",
      "said           : O     O\n",
      "his            : O     O\n",
      "government     : O     O\n",
      "has            : O     O\n",
      "found          : O     O\n",
      "no             : O     O\n",
      "evidence       : O     O\n",
      "the            : O     O\n",
      "Bush           : B-org B-per\n",
      "administration : O     O\n",
      "requested      : O     O\n",
      "permission     : O     O\n",
      "to             : O     O\n",
      "fly            : O     O\n",
      "terror         : O     O\n",
      "suspects       : O     O\n",
      "through        : O     O\n",
      "Britain        : B-geo B-geo\n",
      "or             : O     O\n",
      "its            : O     O\n",
      "airspace       : O     O\n",
      ".              : O     O\n"
     ]
    }
   ],
   "source": [
    "i = 1925\n",
    "p = np.argmax(y_pred_1[i], axis=-1)\n",
    "print(\"{:15}||{:5}||{}\".format(\"Word\", \"True\", \"Pred\"))\n",
    "print(30 * \"=\")\n",
    "for w, t, pred in zip(X_word_te[i], y_te[i], p):\n",
    "    if w != 0:\n",
    "        print(\"{:15}: {:5} {}\".format(idx2word[w], idx2label[t], idx2label[pred]))"
   ]
  },
  {
   "cell_type": "code",
   "execution_count": 34,
   "metadata": {},
   "outputs": [],
   "source": [
    "y_true_test = []\n",
    "y_pred_test = []\n",
    "for i in range(len(y_pred_1)):\n",
    "    p = np.argmax(y_pred_1[i], axis=-1)\n",
    "    for w, t, pred in zip(X_word_te[i], y_te[i], p):\n",
    "        if w != 0:\n",
    "            y_true_test.append(idx2label[t])\n",
    "            y_pred_test.append(idx2label[pred])"
   ]
  },
  {
   "cell_type": "code",
   "execution_count": 35,
   "metadata": {},
   "outputs": [
    {
     "name": "stderr",
     "output_type": "stream",
     "text": [
      "C:\\Users\\linar\\anaconda3\\lib\\site-packages\\sklearn\\metrics\\_classification.py:1272: UndefinedMetricWarning: Precision and F-score are ill-defined and being set to 0.0 in labels with no predicted samples. Use `zero_division` parameter to control this behavior.\n",
      "  _warn_prf(average, modifier, msg_start, len(result))\n"
     ]
    },
    {
     "name": "stdout",
     "output_type": "stream",
     "text": [
      "              precision    recall  f1-score   support\n",
      "\n",
      "       B-art       0.50      0.02      0.04        49\n",
      "       B-eve       0.57      0.24      0.34        33\n",
      "       B-geo       0.86      0.91      0.89      3735\n",
      "       B-gpe       0.97      0.93      0.95      1596\n",
      "       B-nat       0.40      0.09      0.14        23\n",
      "       B-org       0.77      0.75      0.76      2071\n",
      "       B-per       0.85      0.82      0.83      1694\n",
      "       B-tim       0.91      0.88      0.90      2158\n",
      "       I-art       0.00      0.00      0.00        42\n",
      "       I-eve       0.22      0.06      0.10        33\n",
      "       I-geo       0.81      0.81      0.81       707\n",
      "       I-gpe       1.00      0.50      0.67        16\n",
      "       I-nat       0.00      0.00      0.00         5\n",
      "       I-org       0.78      0.80      0.79      1786\n",
      "       I-per       0.85      0.90      0.87      1739\n",
      "       I-tim       0.82      0.73      0.77       726\n",
      "           O       0.99      0.99      0.99     89137\n",
      "\n",
      "    accuracy                           0.97    105550\n",
      "   macro avg       0.67      0.56      0.58    105550\n",
      "weighted avg       0.97      0.97      0.97    105550\n",
      "\n"
     ]
    }
   ],
   "source": [
    "report_1 = classification_report(y_pred=y_pred_test, y_true=y_true_test)\n",
    "print(report_1)"
   ]
  },
  {
   "cell_type": "markdown",
   "metadata": {},
   "source": [
    "### Model with CNN and MaxPooling for char embeddings"
   ]
  },
  {
   "cell_type": "code",
   "execution_count": 36,
   "metadata": {},
   "outputs": [
    {
     "name": "stdout",
     "output_type": "stream",
     "text": [
      "WARNING:tensorflow:From C:\\Users\\linar\\anaconda3\\lib\\site-packages\\keras\\backend\\tensorflow_backend.py:4070: The name tf.nn.max_pool is deprecated. Please use tf.nn.max_pool2d instead.\n",
      "\n"
     ]
    }
   ],
   "source": [
    "# input and embedding for words\n",
    "word_in_2 = Input(shape=(max_len,), name='words_input')\n",
    "emb_word_2 = Embedding(input_dim=len(word2Idx), output_dim=20,\n",
    "                     input_length=max_len, mask_zero=True)(word_in_2)\n",
    "\n",
    "# input and embeddings for characters\n",
    "char_in_2 = Input(shape=(max_len, max_len_char,), name='char_input')\n",
    "embed_char_out_2 = TimeDistributed(Embedding(input_dim=len(char2idx), output_dim=10,\n",
    "                           embeddings_initializer=RandomUniform(minval=-0.5, maxval=0.5)), name='char_embedding')(char_in_2)\n",
    "\n",
    "#the char embeddings are going through CNN and MaxPooling layer\n",
    "dropout= Dropout(0.5)(embed_char_out_2)\n",
    "conv1d_out= TimeDistributed(Conv1D(kernel_size=3, filters=10, padding='same',activation='tanh', strides=1))(dropout)\n",
    "maxpool_out=TimeDistributed(MaxPooling1D(max_len_char))(conv1d_out)\n",
    "char = TimeDistributed(Flatten())(maxpool_out)\n",
    "char = Dropout(0.5)(char)\n",
    "\n",
    "# main LSTM\n",
    "x_2 = concatenate([emb_word_2, char])\n",
    "output = Bidirectional(LSTM(50, return_sequences=True, recurrent_dropout=0.6))(x_2)\n",
    "output = TimeDistributed(Dense(len(label2Idx), activation='softmax'))(output)\n",
    "\n",
    "\n",
    "model_2 = Model(inputs=[word_in_2, char_in_2], outputs=[output])\n",
    "\n"
   ]
  },
  {
   "cell_type": "code",
   "execution_count": 37,
   "metadata": {},
   "outputs": [
    {
     "name": "stdout",
     "output_type": "stream",
     "text": [
      "Model: \"model_2\"\n",
      "__________________________________________________________________________________________________\n",
      "Layer (type)                    Output Shape         Param #     Connected to                     \n",
      "==================================================================================================\n",
      "char_imput (InputLayer)         (None, 75, 10)       0                                            \n",
      "__________________________________________________________________________________________________\n",
      "char_embedding (TimeDistributed (None, 75, 10, 10)   990         char_imput[0][0]                 \n",
      "__________________________________________________________________________________________________\n",
      "dropout_1 (Dropout)             (None, 75, 10, 10)   0           char_embedding[0][0]             \n",
      "__________________________________________________________________________________________________\n",
      "time_distributed_3 (TimeDistrib (None, 75, 10, 10)   310         dropout_1[0][0]                  \n",
      "__________________________________________________________________________________________________\n",
      "time_distributed_4 (TimeDistrib (None, 75, 1, 10)    0           time_distributed_3[0][0]         \n",
      "__________________________________________________________________________________________________\n",
      "words_input (InputLayer)        (None, 75)           0                                            \n",
      "__________________________________________________________________________________________________\n",
      "time_distributed_5 (TimeDistrib (None, 75, 10)       0           time_distributed_4[0][0]         \n",
      "__________________________________________________________________________________________________\n",
      "embedding_3 (Embedding)         (None, 75, 20)       703560      words_input[0][0]                \n",
      "__________________________________________________________________________________________________\n",
      "dropout_2 (Dropout)             (None, 75, 10)       0           time_distributed_5[0][0]         \n",
      "__________________________________________________________________________________________________\n",
      "concatenate_2 (Concatenate)     (None, 75, 30)       0           embedding_3[0][0]                \n",
      "                                                                 dropout_2[0][0]                  \n",
      "__________________________________________________________________________________________________\n",
      "bidirectional_2 (Bidirectional) (None, 75, 100)      32400       concatenate_2[0][0]              \n",
      "__________________________________________________________________________________________________\n",
      "time_distributed_6 (TimeDistrib (None, 75, 18)       1818        bidirectional_2[0][0]            \n",
      "==================================================================================================\n",
      "Total params: 739,078\n",
      "Trainable params: 739,078\n",
      "Non-trainable params: 0\n",
      "__________________________________________________________________________________________________\n"
     ]
    }
   ],
   "source": [
    "model_2.compile(loss='sparse_categorical_crossentropy', optimizer='nadam', metrics=[\"acc\"])\n",
    "model_2.summary()"
   ]
  },
  {
   "cell_type": "code",
   "execution_count": 38,
   "metadata": {},
   "outputs": [
    {
     "name": "stdout",
     "output_type": "stream",
     "text": [
      "Train on 38846 samples, validate on 4317 samples\n",
      "Epoch 1/5\n",
      "38846/38846 [==============================] - 294s 8ms/step - loss: 0.0821 - acc: 0.9250 - val_loss: 0.0379 - val_acc: 0.9617\n",
      "Epoch 2/5\n",
      "38846/38846 [==============================] - 161s 4ms/step - loss: 0.0305 - acc: 0.9687 - val_loss: 0.0319 - val_acc: 0.9667\n",
      "Epoch 3/5\n",
      "38846/38846 [==============================] - 88s 2ms/step - loss: 0.0236 - acc: 0.9747 - val_loss: 0.0306 - val_acc: 0.9674\n",
      "Epoch 4/5\n",
      "38846/38846 [==============================] - 91s 2ms/step - loss: 0.0202 - acc: 0.9777 - val_loss: 0.0306 - val_acc: 0.9679\n",
      "Epoch 5/5\n",
      "38846/38846 [==============================] - 88s 2ms/step - loss: 0.0181 - acc: 0.9797 - val_loss: 0.0317 - val_acc: 0.9679\n"
     ]
    }
   ],
   "source": [
    "history_2 = model_2.fit([X_word_tr,\n",
    "                     np.array(X_char_tr).reshape((len(X_char_tr), max_len, max_len_char))],\n",
    "                    np.array(y_tr).reshape(len(y_tr), max_len, 1),\n",
    "                    batch_size=32, epochs=5, validation_split=0.1, verbose=1)"
   ]
  },
  {
   "cell_type": "code",
   "execution_count": 39,
   "metadata": {},
   "outputs": [],
   "source": [
    "y_pred_2 = model_2.predict([X_word_te,\n",
    "                        np.array(X_char_te).reshape((len(X_char_te),\n",
    "                                                     max_len, max_len_char))])"
   ]
  },
  {
   "cell_type": "code",
   "execution_count": 40,
   "metadata": {},
   "outputs": [
    {
     "data": {
      "text/html": [
       "<div>\n",
       "<style scoped>\n",
       "    .dataframe tbody tr th:only-of-type {\n",
       "        vertical-align: middle;\n",
       "    }\n",
       "\n",
       "    .dataframe tbody tr th {\n",
       "        vertical-align: top;\n",
       "    }\n",
       "\n",
       "    .dataframe thead th {\n",
       "        text-align: right;\n",
       "    }\n",
       "</style>\n",
       "<table border=\"1\" class=\"dataframe\">\n",
       "  <thead>\n",
       "    <tr style=\"text-align: right;\">\n",
       "      <th></th>\n",
       "      <th>val_loss</th>\n",
       "      <th>val_acc</th>\n",
       "      <th>loss</th>\n",
       "      <th>acc</th>\n",
       "    </tr>\n",
       "  </thead>\n",
       "  <tbody>\n",
       "    <tr>\n",
       "      <th>0</th>\n",
       "      <td>0.037934</td>\n",
       "      <td>0.961671</td>\n",
       "      <td>0.082090</td>\n",
       "      <td>0.925036</td>\n",
       "    </tr>\n",
       "    <tr>\n",
       "      <th>1</th>\n",
       "      <td>0.031872</td>\n",
       "      <td>0.966707</td>\n",
       "      <td>0.030482</td>\n",
       "      <td>0.968684</td>\n",
       "    </tr>\n",
       "    <tr>\n",
       "      <th>2</th>\n",
       "      <td>0.030624</td>\n",
       "      <td>0.967389</td>\n",
       "      <td>0.023618</td>\n",
       "      <td>0.974718</td>\n",
       "    </tr>\n",
       "    <tr>\n",
       "      <th>3</th>\n",
       "      <td>0.030584</td>\n",
       "      <td>0.967900</td>\n",
       "      <td>0.020243</td>\n",
       "      <td>0.977697</td>\n",
       "    </tr>\n",
       "    <tr>\n",
       "      <th>4</th>\n",
       "      <td>0.031730</td>\n",
       "      <td>0.967900</td>\n",
       "      <td>0.018093</td>\n",
       "      <td>0.979657</td>\n",
       "    </tr>\n",
       "  </tbody>\n",
       "</table>\n",
       "</div>"
      ],
      "text/plain": [
       "   val_loss   val_acc      loss       acc\n",
       "0  0.037934  0.961671  0.082090  0.925036\n",
       "1  0.031872  0.966707  0.030482  0.968684\n",
       "2  0.030624  0.967389  0.023618  0.974718\n",
       "3  0.030584  0.967900  0.020243  0.977697\n",
       "4  0.031730  0.967900  0.018093  0.979657"
      ]
     },
     "execution_count": 40,
     "metadata": {},
     "output_type": "execute_result"
    }
   ],
   "source": [
    "hist_2 = pd.DataFrame(history_2.history)\n",
    "hist_2"
   ]
  },
  {
   "cell_type": "code",
   "execution_count": 41,
   "metadata": {},
   "outputs": [
    {
     "data": {
      "image/png": "[encoded data removed]",
      "text/plain": [
       "<Figure size 864x864 with 1 Axes>"
      ]
     },
     "metadata": {},
     "output_type": "display_data"
    }
   ],
   "source": [
    "import matplotlib.pyplot as plt\n",
    "plt.style.use(\"ggplot\")\n",
    "plt.figure(figsize=(12,12))\n",
    "plt.plot(hist_2[\"acc\"])\n",
    "plt.plot(hist_2[\"val_acc\"])\n",
    "plt.show()"
   ]
  },
  {
   "cell_type": "code",
   "execution_count": 44,
   "metadata": {},
   "outputs": [
    {
     "name": "stdout",
     "output_type": "stream",
     "text": [
      "Word           ||True ||Pred\n",
      "==============================\n",
      "On             : O     O\n",
      "Monday         : B-tim B-tim\n",
      ",              : O     O\n",
      "British        : B-org B-gpe\n",
      "Foreign        : I-org O\n",
      "Secretary      : B-per B-per\n",
      "Jack           : I-per I-per\n",
      "Straw          : I-per I-per\n",
      "said           : O     O\n",
      "his            : O     O\n",
      "government     : O     O\n",
      "has            : O     O\n",
      "found          : O     O\n",
      "no             : O     O\n",
      "evidence       : O     O\n",
      "the            : O     O\n",
      "Bush           : B-org B-per\n",
      "administration : O     O\n",
      "requested      : O     O\n",
      "permission     : O     O\n",
      "to             : O     O\n",
      "fly            : O     O\n",
      "terror         : O     O\n",
      "suspects       : O     O\n",
      "through        : O     O\n",
      "Britain        : B-geo B-geo\n",
      "or             : O     O\n",
      "its            : O     O\n",
      "airspace       : O     O\n",
      ".              : O     O\n"
     ]
    }
   ],
   "source": [
    "i = 1925\n",
    "p = np.argmax(y_pred_2[i], axis=-1)\n",
    "print(\"{:15}||{:5}||{}\".format(\"Word\", \"True\", \"Pred\"))\n",
    "print(30 * \"=\")\n",
    "for w, t, pred in zip(X_word_te[i], y_te[i], p):\n",
    "    if w != 0:\n",
    "        print(\"{:15}: {:5} {}\".format(idx2word[w], idx2label[t], idx2label[pred]))"
   ]
  },
  {
   "cell_type": "code",
   "execution_count": 45,
   "metadata": {},
   "outputs": [],
   "source": [
    "y_true_test = []\n",
    "y_pred_test = []\n",
    "for i in range(len(y_pred_2)):\n",
    "    p = np.argmax(y_pred_2[i], axis=-1)\n",
    "    for w, t, pred in zip(X_word_te[i], y_te[i], p):\n",
    "        if w != 0:\n",
    "            y_true_test.append(idx2label[t])\n",
    "            y_pred_test.append(idx2label[pred])"
   ]
  },
  {
   "cell_type": "code",
   "execution_count": 46,
   "metadata": {
    "scrolled": false
   },
   "outputs": [
    {
     "name": "stdout",
     "output_type": "stream",
     "text": [
      "              precision    recall  f1-score   support\n",
      "\n",
      "       B-art       0.43      0.06      0.11        49\n",
      "       B-eve       0.69      0.27      0.39        33\n",
      "       B-geo       0.86      0.89      0.87      3735\n",
      "       B-gpe       0.97      0.93      0.95      1596\n",
      "       B-nat       0.70      0.30      0.42        23\n",
      "       B-org       0.79      0.72      0.76      2071\n",
      "       B-per       0.86      0.81      0.84      1694\n",
      "       B-tim       0.93      0.87      0.90      2158\n",
      "       I-art       0.00      0.00      0.00        42\n",
      "       I-eve       0.46      0.18      0.26        33\n",
      "       I-geo       0.81      0.79      0.80       707\n",
      "       I-gpe       1.00      0.50      0.67        16\n",
      "       I-nat       1.00      0.20      0.33         5\n",
      "       I-org       0.84      0.76      0.79      1786\n",
      "       I-per       0.86      0.89      0.87      1739\n",
      "       I-tim       0.86      0.71      0.78       726\n",
      "           O       0.99      0.99      0.99     89137\n",
      "\n",
      "    accuracy                           0.97    105550\n",
      "   macro avg       0.77      0.58      0.63    105550\n",
      "weighted avg       0.97      0.97      0.97    105550\n",
      "\n"
     ]
    }
   ],
   "source": [
    "report_2 = classification_report(y_pred=y_pred_test, y_true=y_true_test)\n",
    "print(report_2)"
   ]
  },
  {
   "cell_type": "markdown",
   "metadata": {},
   "source": [
    "### Model with ... for char embeddings and CRF for output layer"
   ]
  },
  {
   "cell_type": "code",
   "execution_count": 74,
   "metadata": {},
   "outputs": [
    {
     "data": {
      "text/plain": [
       "array([[0., 1., 0., ..., 0., 0., 0.],\n",
       "       [0., 1., 0., ..., 0., 0., 0.],\n",
       "       [0., 1., 0., ..., 0., 0., 0.],\n",
       "       ...,\n",
       "       [1., 0., 0., ..., 0., 0., 0.],\n",
       "       [1., 0., 0., ..., 0., 0., 0.],\n",
       "       [1., 0., 0., ..., 0., 0., 0.]], dtype=float32)"
      ]
     },
     "execution_count": 74,
     "metadata": {},
     "output_type": "execute_result"
    }
   ],
   "source": [
    "from keras.utils import to_categorical\n",
    "y_CRF = [to_categorical(i, num_classes=len(label2Idx)) for i in y]\n",
    "y_CRF[0]"
   ]
  },
  {
   "cell_type": "code",
   "execution_count": 103,
   "metadata": {},
   "outputs": [],
   "source": [
    "X_word_tr_CRF, X_word_te_CRF, y_tr_CRF, y_te_CRF = train_test_split(X_word, y_CRF, test_size=0.1, random_state=2018)\n",
    "X_char_tr_CRF, X_char_te_CRF, _, _ = train_test_split(X_char, y_CRF, test_size=0.1, random_state=2018)"
   ]
  },
  {
   "cell_type": "code",
   "execution_count": 104,
   "metadata": {},
   "outputs": [],
   "source": [
    "# input and embedding for words\n",
    "word_in_3 = Input(shape=(max_len,), name='words_input')\n",
    "emb_word_3 = Embedding(input_dim=len(word2Idx), output_dim=20,\n",
    "                     input_length=max_len)(word_in_3)\n",
    "\n",
    "# input and embeddings for characters\n",
    "char_in_3 = Input(shape=(max_len, max_len_char,), name='char_input')\n",
    "embed_char_out_3 = TimeDistributed(Embedding(input_dim=len(char2idx), output_dim=10,\n",
    "                           embeddings_initializer=RandomUniform(minval=-0.5, maxval=0.5)), name='char_embedding')(char_in_3)\n",
    "\n",
    "#the char embeddings are going through CNN and MaxPooling layer\n",
    "dropout= Dropout(0.5)(embed_char_out_3)\n",
    "conv1d_out= TimeDistributed(Conv1D(kernel_size=3, filters=10, padding='same',activation='tanh', strides=1))(dropout)\n",
    "maxpool_out=TimeDistributed(MaxPooling1D(max_len_char))(conv1d_out)\n",
    "char = TimeDistributed(Flatten())(maxpool_out)\n",
    "char = Dropout(0.5)(char)\n",
    "\n",
    "# main LSTM\n",
    "x_3 = concatenate([emb_word_3, char])\n",
    "output_3 = Bidirectional(LSTM(50, return_sequences=True, recurrent_dropout=0.6))(x_3)\n",
    "output_3 = TimeDistributed(Dense(50, activation=\"relu\"))(output_3)\n",
    "\n",
    "\n",
    "crf = CRF(len(label2Idx))\n",
    "crf_output = crf(output_3)\n",
    "model_3 = Model(inputs=[word_in_3, char_in_3], outputs=[crf_output])\n",
    "\n"
   ]
  },
  {
   "cell_type": "code",
   "execution_count": 105,
   "metadata": {},
   "outputs": [
    {
     "name": "stderr",
     "output_type": "stream",
     "text": [
      "C:\\Users\\linar\\anaconda3\\lib\\site-packages\\keras_contrib\\layers\\crf.py:346: UserWarning: CRF.loss_function is deprecated and it might be removed in the future. Please use losses.crf_loss instead.\n",
      "  warnings.warn('CRF.loss_function is deprecated '\n",
      "C:\\Users\\linar\\anaconda3\\lib\\site-packages\\keras_contrib\\layers\\crf.py:353: UserWarning: CRF.accuracy is deprecated and it might be removed in the future. Please use metrics.crf_accuracy\n",
      "  warnings.warn('CRF.accuracy is deprecated and it '\n"
     ]
    },
    {
     "name": "stdout",
     "output_type": "stream",
     "text": [
      "Model: \"model_7\"\n",
      "__________________________________________________________________________________________________\n",
      "Layer (type)                    Output Shape         Param #     Connected to                     \n",
      "==================================================================================================\n",
      "char_input (InputLayer)         (None, 75, 10)       0                                            \n",
      "__________________________________________________________________________________________________\n",
      "char_embedding (TimeDistributed (None, 75, 10, 10)   990         char_input[0][0]                 \n",
      "__________________________________________________________________________________________________\n",
      "dropout_17 (Dropout)            (None, 75, 10, 10)   0           char_embedding[0][0]             \n",
      "__________________________________________________________________________________________________\n",
      "time_distributed_35 (TimeDistri (None, 75, 10, 10)   310         dropout_17[0][0]                 \n",
      "__________________________________________________________________________________________________\n",
      "time_distributed_36 (TimeDistri (None, 75, 1, 10)    0           time_distributed_35[0][0]        \n",
      "__________________________________________________________________________________________________\n",
      "words_input (InputLayer)        (None, 75)           0                                            \n",
      "__________________________________________________________________________________________________\n",
      "time_distributed_37 (TimeDistri (None, 75, 10)       0           time_distributed_36[0][0]        \n",
      "__________________________________________________________________________________________________\n",
      "embedding_19 (Embedding)        (None, 75, 20)       703560      words_input[0][0]                \n",
      "__________________________________________________________________________________________________\n",
      "dropout_18 (Dropout)            (None, 75, 10)       0           time_distributed_37[0][0]        \n",
      "__________________________________________________________________________________________________\n",
      "concatenate_10 (Concatenate)    (None, 75, 30)       0           embedding_19[0][0]               \n",
      "                                                                 dropout_18[0][0]                 \n",
      "__________________________________________________________________________________________________\n",
      "bidirectional_10 (Bidirectional (None, 75, 100)      32400       concatenate_10[0][0]             \n",
      "__________________________________________________________________________________________________\n",
      "time_distributed_38 (TimeDistri (None, 75, 50)       5050        bidirectional_10[0][0]           \n",
      "__________________________________________________________________________________________________\n",
      "crf_7 (CRF)                     (None, 75, 18)       1278        time_distributed_38[0][0]        \n",
      "==================================================================================================\n",
      "Total params: 743,588\n",
      "Trainable params: 743,588\n",
      "Non-trainable params: 0\n",
      "__________________________________________________________________________________________________\n"
     ]
    }
   ],
   "source": [
    "model_3.compile(optimizer=\"rmsprop\", loss=crf.loss_function, metrics=[crf.accuracy])\n",
    "model_3.summary()"
   ]
  },
  {
   "cell_type": "code",
   "execution_count": 80,
   "metadata": {},
   "outputs": [
    {
     "name": "stdout",
     "output_type": "stream",
     "text": [
      "Train on 38846 samples, validate on 4317 samples\n",
      "Epoch 1/5\n",
      "38846/38846 [==============================] - 145s 4ms/step - loss: 0.0261 - crf_viterbi_accuracy: 0.9844 - val_loss: 0.0058 - val_crf_viterbi_accuracy: 0.9871\n",
      "Epoch 2/5\n",
      "38846/38846 [==============================] - 159s 4ms/step - loss: -0.0091 - crf_viterbi_accuracy: 0.9893 - val_loss: -0.0190 - val_crf_viterbi_accuracy: 0.9895\n",
      "Epoch 3/5\n",
      "38846/38846 [==============================] - 159s 4ms/step - loss: -0.0310 - crf_viterbi_accuracy: 0.9908 - val_loss: -0.0368 - val_crf_viterbi_accuracy: 0.9900\n",
      "Epoch 4/5\n",
      "38846/38846 [==============================] - 158s 4ms/step - loss: -0.0497 - crf_viterbi_accuracy: 0.9915 - val_loss: -0.0555 - val_crf_viterbi_accuracy: 0.9906\n",
      "Epoch 5/5\n",
      "38846/38846 [==============================] - 161s 4ms/step - loss: -0.0674 - crf_viterbi_accuracy: 0.9919 - val_loss: -0.0717 - val_crf_viterbi_accuracy: 0.9907\n"
     ]
    }
   ],
   "source": [
    "history_3 = model_3.fit([X_word_tr_CRF,\n",
    "                     np.array(X_char_tr_CRF).reshape((len(X_char_tr_CRF), max_len, max_len_char))],\n",
    "                    np.array(y_tr_CRF),\n",
    "                    batch_size=32, epochs=5, validation_split=0.1, verbose=1)"
   ]
  },
  {
   "cell_type": "code",
   "execution_count": 106,
   "metadata": {},
   "outputs": [],
   "source": [
    "y_pred_3 = model_3.predict([X_word_te_CRF,\n",
    "                        np.array(X_char_te_CRF).reshape((len(X_char_te_CRF),\n",
    "                                                     max_len, max_len_char))])"
   ]
  },
  {
   "cell_type": "code",
   "execution_count": 107,
   "metadata": {},
   "outputs": [
    {
     "data": {
      "text/html": [
       "<div>\n",
       "<style scoped>\n",
       "    .dataframe tbody tr th:only-of-type {\n",
       "        vertical-align: middle;\n",
       "    }\n",
       "\n",
       "    .dataframe tbody tr th {\n",
       "        vertical-align: top;\n",
       "    }\n",
       "\n",
       "    .dataframe thead th {\n",
       "        text-align: right;\n",
       "    }\n",
       "</style>\n",
       "<table border=\"1\" class=\"dataframe\">\n",
       "  <thead>\n",
       "    <tr style=\"text-align: right;\">\n",
       "      <th></th>\n",
       "      <th>val_loss</th>\n",
       "      <th>val_crf_viterbi_accuracy</th>\n",
       "      <th>loss</th>\n",
       "      <th>crf_viterbi_accuracy</th>\n",
       "    </tr>\n",
       "  </thead>\n",
       "  <tbody>\n",
       "    <tr>\n",
       "      <th>0</th>\n",
       "      <td>0.005760</td>\n",
       "      <td>0.987128</td>\n",
       "      <td>0.026101</td>\n",
       "      <td>0.984390</td>\n",
       "    </tr>\n",
       "    <tr>\n",
       "      <th>1</th>\n",
       "      <td>-0.018962</td>\n",
       "      <td>0.989465</td>\n",
       "      <td>-0.009109</td>\n",
       "      <td>0.989293</td>\n",
       "    </tr>\n",
       "    <tr>\n",
       "      <th>2</th>\n",
       "      <td>-0.036766</td>\n",
       "      <td>0.989971</td>\n",
       "      <td>-0.031009</td>\n",
       "      <td>0.990779</td>\n",
       "    </tr>\n",
       "    <tr>\n",
       "      <th>3</th>\n",
       "      <td>-0.055496</td>\n",
       "      <td>0.990568</td>\n",
       "      <td>-0.049700</td>\n",
       "      <td>0.991458</td>\n",
       "    </tr>\n",
       "    <tr>\n",
       "      <th>4</th>\n",
       "      <td>-0.071736</td>\n",
       "      <td>0.990654</td>\n",
       "      <td>-0.067356</td>\n",
       "      <td>0.991911</td>\n",
       "    </tr>\n",
       "  </tbody>\n",
       "</table>\n",
       "</div>"
      ],
      "text/plain": [
       "   val_loss  val_crf_viterbi_accuracy      loss  crf_viterbi_accuracy\n",
       "0  0.005760                  0.987128  0.026101              0.984390\n",
       "1 -0.018962                  0.989465 -0.009109              0.989293\n",
       "2 -0.036766                  0.989971 -0.031009              0.990779\n",
       "3 -0.055496                  0.990568 -0.049700              0.991458\n",
       "4 -0.071736                  0.990654 -0.067356              0.991911"
      ]
     },
     "execution_count": 107,
     "metadata": {},
     "output_type": "execute_result"
    }
   ],
   "source": [
    "hist_3 = pd.DataFrame(history_3.history)\n",
    "hist_3"
   ]
  },
  {
   "cell_type": "code",
   "execution_count": 83,
   "metadata": {},
   "outputs": [
    {
     "data": {
      "image/png": "[encoded data removed]",
      "text/plain": [
       "<Figure size 864x864 with 1 Axes>"
      ]
     },
     "metadata": {},
     "output_type": "display_data"
    }
   ],
   "source": [
    "plt.style.use(\"ggplot\")\n",
    "plt.figure(figsize=(12,12))\n",
    "plt.plot(hist_3[\"crf_viterbi_accuracy\"])\n",
    "plt.plot(hist_3[\"val_crf_viterbi_accuracy\"])\n",
    "plt.show()"
   ]
  },
  {
   "cell_type": "code",
   "execution_count": 108,
   "metadata": {},
   "outputs": [],
   "source": [
    "from seqeval.metrics import precision_score, recall_score, f1_score, classification_report\n",
    "def pred2label(pred):\n",
    "    out = []\n",
    "    for pred_i in pred:\n",
    "        out_i = []\n",
    "        for p in pred_i:\n",
    "            p_i = np.argmax(p)\n",
    "            out_i.append(idx2label[p_i].replace(\"PAD\", \"O\"))\n",
    "        out.append(out_i)\n",
    "    return out\n",
    "    \n",
    "pred_labels = pred2label(y_pred_3)\n",
    "test_labels = pred2label(y_te_CRF)\n"
   ]
  },
  {
   "cell_type": "code",
   "execution_count": 109,
   "metadata": {},
   "outputs": [
    {
     "name": "stdout",
     "output_type": "stream",
     "text": [
      "F1-score: 0.2%\n"
     ]
    }
   ],
   "source": [
    "print(\"F1-score: {:.1%}\".format(f1_score(test_labels, pred_labels)))"
   ]
  },
  {
   "cell_type": "code",
   "execution_count": 110,
   "metadata": {},
   "outputs": [
    {
     "name": "stdout",
     "output_type": "stream",
     "text": [
      "           precision    recall  f1-score   support\n",
      "\n",
      "      org       0.00      0.15      0.01      2071\n",
      "      per       0.00      0.00      0.00      1694\n",
      "      gpe       0.00      0.00      0.00      1596\n",
      "      geo       0.00      0.00      0.00      3735\n",
      "      tim       0.00      0.00      0.00      2158\n",
      "      nat       0.00      0.00      0.00        23\n",
      "      eve       0.00      0.00      0.00        33\n",
      "      art       0.00      0.14      0.00        49\n",
      "\n",
      "micro avg       0.00      0.03      0.00     11359\n",
      "macro avg       0.00      0.03      0.00     11359\n",
      "\n"
     ]
    }
   ],
   "source": [
    "print(classification_report(test_labels, pred_labels))"
   ]
  },
  {
   "cell_type": "code",
   "execution_count": 111,
   "metadata": {},
   "outputs": [
    {
     "name": "stdout",
     "output_type": "stream",
     "text": [
      "Word           ||True ||Pred\n",
      "==============================\n",
      "On             : O     I-art\n",
      "Monday         : B-tim B-org\n",
      ",              : O     O\n",
      "British        : B-org I-art\n",
      "Foreign        : I-org B-org\n",
      "Secretary      : B-per O\n",
      "Jack           : I-per I-art\n",
      "Straw          : I-per B-org\n",
      "said           : O     O\n",
      "his            : O     I-art\n",
      "government     : O     B-org\n",
      "has            : O     O\n",
      "found          : O     I-art\n",
      "no             : O     B-org\n",
      "evidence       : O     O\n",
      "the            : O     I-art\n",
      "Bush           : B-org B-org\n",
      "administration : O     O\n",
      "requested      : O     I-art\n",
      "permission     : O     B-org\n",
      "to             : O     O\n",
      "fly            : O     I-art\n",
      "terror         : O     B-org\n",
      "suspects       : O     O\n",
      "through        : O     I-art\n",
      "Britain        : B-geo B-org\n",
      "or             : O     O\n",
      "its            : O     I-art\n",
      "airspace       : O     B-org\n",
      ".              : O     O\n"
     ]
    }
   ],
   "source": [
    "i = 1925\n",
    "p = np.argmax(y_pred_3[i], axis=-1)\n",
    "true = np.argmax(y_te[i], -1)\n",
    "print(\"{:15}||{:5}||{}\".format(\"Word\", \"True\", \"Pred\"))\n",
    "print(30 * \"=\")\n",
    "for w, t, pred in zip(X_word_te_CRF[i], true, p):\n",
    "    if w != 0:\n",
    "        print(\"{:15}: {:5} {}\".format(idx2word[w], idx2label[t], idx2label[pred]))"
   ]
  }
 ],
 "metadata": {
  "kernelspec": {
   "display_name": "Python 3",
   "language": "python",
   "name": "python3"
  },
  "language_info": {
   "codemirror_mode": {
    "name": "ipython",
    "version": 3
   },
   "file_extension": ".py",
   "mimetype": "text/x-python",
   "name": "python",
   "nbconvert_exporter": "python",
   "pygments_lexer": "ipython3",
   "version": "3.7.6"
  }
 },
 "nbformat": 4,
 "nbformat_minor": 4
}
