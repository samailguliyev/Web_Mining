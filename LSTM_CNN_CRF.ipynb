{
 "cells": [
  {
   "cell_type": "code",
   "execution_count": 1,
   "metadata": {},
   "outputs": [
    {
     "name": "stderr",
     "output_type": "stream",
     "text": [
      "Using TensorFlow backend.\n",
      "C:\\Users\\linar\\anaconda3\\lib\\site-packages\\tensorflow\\python\\framework\\dtypes.py:516: FutureWarning: Passing (type, 1) or '1type' as a synonym of type is deprecated; in a future version of numpy, it will be understood as (type, (1,)) / '(1,)type'.\n",
      "  _np_qint8 = np.dtype([(\"qint8\", np.int8, 1)])\n",
      "C:\\Users\\linar\\anaconda3\\lib\\site-packages\\tensorflow\\python\\framework\\dtypes.py:517: FutureWarning: Passing (type, 1) or '1type' as a synonym of type is deprecated; in a future version of numpy, it will be understood as (type, (1,)) / '(1,)type'.\n",
      "  _np_quint8 = np.dtype([(\"quint8\", np.uint8, 1)])\n",
      "C:\\Users\\linar\\anaconda3\\lib\\site-packages\\tensorflow\\python\\framework\\dtypes.py:518: FutureWarning: Passing (type, 1) or '1type' as a synonym of type is deprecated; in a future version of numpy, it will be understood as (type, (1,)) / '(1,)type'.\n",
      "  _np_qint16 = np.dtype([(\"qint16\", np.int16, 1)])\n",
      "C:\\Users\\linar\\anaconda3\\lib\\site-packages\\tensorflow\\python\\framework\\dtypes.py:519: FutureWarning: Passing (type, 1) or '1type' as a synonym of type is deprecated; in a future version of numpy, it will be understood as (type, (1,)) / '(1,)type'.\n",
      "  _np_quint16 = np.dtype([(\"quint16\", np.uint16, 1)])\n",
      "C:\\Users\\linar\\anaconda3\\lib\\site-packages\\tensorflow\\python\\framework\\dtypes.py:520: FutureWarning: Passing (type, 1) or '1type' as a synonym of type is deprecated; in a future version of numpy, it will be understood as (type, (1,)) / '(1,)type'.\n",
      "  _np_qint32 = np.dtype([(\"qint32\", np.int32, 1)])\n",
      "C:\\Users\\linar\\anaconda3\\lib\\site-packages\\tensorflow\\python\\framework\\dtypes.py:525: FutureWarning: Passing (type, 1) or '1type' as a synonym of type is deprecated; in a future version of numpy, it will be understood as (type, (1,)) / '(1,)type'.\n",
      "  np_resource = np.dtype([(\"resource\", np.ubyte, 1)])\n",
      "C:\\Users\\linar\\anaconda3\\lib\\site-packages\\tensorboard\\compat\\tensorflow_stub\\dtypes.py:541: FutureWarning: Passing (type, 1) or '1type' as a synonym of type is deprecated; in a future version of numpy, it will be understood as (type, (1,)) / '(1,)type'.\n",
      "  _np_qint8 = np.dtype([(\"qint8\", np.int8, 1)])\n",
      "C:\\Users\\linar\\anaconda3\\lib\\site-packages\\tensorboard\\compat\\tensorflow_stub\\dtypes.py:542: FutureWarning: Passing (type, 1) or '1type' as a synonym of type is deprecated; in a future version of numpy, it will be understood as (type, (1,)) / '(1,)type'.\n",
      "  _np_quint8 = np.dtype([(\"quint8\", np.uint8, 1)])\n",
      "C:\\Users\\linar\\anaconda3\\lib\\site-packages\\tensorboard\\compat\\tensorflow_stub\\dtypes.py:543: FutureWarning: Passing (type, 1) or '1type' as a synonym of type is deprecated; in a future version of numpy, it will be understood as (type, (1,)) / '(1,)type'.\n",
      "  _np_qint16 = np.dtype([(\"qint16\", np.int16, 1)])\n",
      "C:\\Users\\linar\\anaconda3\\lib\\site-packages\\tensorboard\\compat\\tensorflow_stub\\dtypes.py:544: FutureWarning: Passing (type, 1) or '1type' as a synonym of type is deprecated; in a future version of numpy, it will be understood as (type, (1,)) / '(1,)type'.\n",
      "  _np_quint16 = np.dtype([(\"quint16\", np.uint16, 1)])\n",
      "C:\\Users\\linar\\anaconda3\\lib\\site-packages\\tensorboard\\compat\\tensorflow_stub\\dtypes.py:545: FutureWarning: Passing (type, 1) or '1type' as a synonym of type is deprecated; in a future version of numpy, it will be understood as (type, (1,)) / '(1,)type'.\n",
      "  _np_qint32 = np.dtype([(\"qint32\", np.int32, 1)])\n",
      "C:\\Users\\linar\\anaconda3\\lib\\site-packages\\tensorboard\\compat\\tensorflow_stub\\dtypes.py:550: FutureWarning: Passing (type, 1) or '1type' as a synonym of type is deprecated; in a future version of numpy, it will be understood as (type, (1,)) / '(1,)type'.\n",
      "  np_resource = np.dtype([(\"resource\", np.ubyte, 1)])\n"
     ]
    }
   ],
   "source": [
    "import pandas as pd\n",
    "import numpy as np\n",
    "\n",
    "from utils import SentenceGetter\n",
    "from keras.preprocessing.sequence import pad_sequences\n",
    "from sklearn.model_selection import train_test_split\n",
    "from sklearn.model_selection import cross_val_score\n",
    "from sklearn.metrics import classification_report\n",
    "\n",
    "from keras.models import Model, Input\n",
    "from keras.layers import LSTM, Embedding, Dense, TimeDistributed, Dropout, Conv1D, Flatten\n",
    "from keras.layers import Bidirectional, concatenate, SpatialDropout1D, MaxPooling1D\n",
    "from keras_contrib.layers import CRF\n",
    "from keras.initializers import RandomUniform\n",
    "\n",
    "import matplotlib.pyplot as plt\n",
    "\n",
    "\n"
   ]
  },
  {
   "cell_type": "markdown",
   "metadata": {},
   "source": [
    "# Implement BiLSTM-CNN on data\n",
    "At this part we are going to implement Named Entity Recognition with Bidirectional LSTM-CNNs based on the work <a href=\"https://arxiv.org/pdf/1511.08308.pdf\">Chiu, J. P., & Nichols, E. (2016).</a> and then we expand this model to the BiLSTM-CNN-CRF model.  The overall network for BiLSTM-CNN model is presented on the figure below, however, we simplified it.\n",
    "\n",
    "<table><tr>\n",
    "<td> <img src=\"images/LSTM-CNN-1.jpg\" alt=\"Drawing\" style=\"width: 250px;\"/> </td>\n",
    "<td> <img src=\"images/LSTM-CNN-2.jpg\" alt=\"Drawing\" style=\"width: 250px;\"/> </td>\n",
    "<td> <img src=\"images/LSTM-CNN-3.jpg\" alt=\"Drawing\" style=\"width: 250px;\"/> </td>\n",
    "</tr></table>\n",
    "\n",
    "We are going to:\n",
    "1. Apply char embeddings by creating a dictionary of all characters and then mapping the ids to each character\n",
    "2. Apply word embeddings by the same algorithm. Chiu and Nicols used GloVe word embeddings trained on 6 billions tokens from Wikipedia and Gigaword 5 (<a  href=\"https://nlp.stanford.edu/projects/glove/\">Pennington et al., 2014. GloVe: Global Vectors for Word Representation.</a>), however, it does not contain all word representations for our dataset, therefore, it was decided not to use it. \n",
    "4. Apply CNN on char embeddings. We will try 2 different layers: 1) simple LSTM layer; 2) convolutional and max pooling layers (as it is described on fig.2).\n",
    "5. Feed the output of CNN and word embeddings to the BiLSTM.\n",
    "6. *For BiLSTM-CNN-CRF model, apply a CRF layer on top of created model."
   ]
  },
  {
   "cell_type": "markdown",
   "metadata": {},
   "source": [
    "## 0. Prepare data"
   ]
  },
  {
   "cell_type": "code",
   "execution_count": 2,
   "metadata": {},
   "outputs": [
    {
     "data": {
      "text/html": [
       "<div>\n",
       "<style scoped>\n",
       "    .dataframe tbody tr th:only-of-type {\n",
       "        vertical-align: middle;\n",
       "    }\n",
       "\n",
       "    .dataframe tbody tr th {\n",
       "        vertical-align: top;\n",
       "    }\n",
       "\n",
       "    .dataframe thead th {\n",
       "        text-align: right;\n",
       "    }\n",
       "</style>\n",
       "<table border=\"1\" class=\"dataframe\">\n",
       "  <thead>\n",
       "    <tr style=\"text-align: right;\">\n",
       "      <th></th>\n",
       "      <th>Sentence #</th>\n",
       "      <th>Word</th>\n",
       "      <th>POS</th>\n",
       "      <th>Tag</th>\n",
       "    </tr>\n",
       "  </thead>\n",
       "  <tbody>\n",
       "    <tr>\n",
       "      <th>1048565</th>\n",
       "      <td>Sentence: 47958</td>\n",
       "      <td>impact</td>\n",
       "      <td>NN</td>\n",
       "      <td>O</td>\n",
       "    </tr>\n",
       "    <tr>\n",
       "      <th>1048566</th>\n",
       "      <td>Sentence: 47958</td>\n",
       "      <td>.</td>\n",
       "      <td>.</td>\n",
       "      <td>O</td>\n",
       "    </tr>\n",
       "    <tr>\n",
       "      <th>1048567</th>\n",
       "      <td>Sentence: 47959</td>\n",
       "      <td>Indian</td>\n",
       "      <td>JJ</td>\n",
       "      <td>B-gpe</td>\n",
       "    </tr>\n",
       "    <tr>\n",
       "      <th>1048568</th>\n",
       "      <td>Sentence: 47959</td>\n",
       "      <td>forces</td>\n",
       "      <td>NNS</td>\n",
       "      <td>O</td>\n",
       "    </tr>\n",
       "    <tr>\n",
       "      <th>1048569</th>\n",
       "      <td>Sentence: 47959</td>\n",
       "      <td>said</td>\n",
       "      <td>VBD</td>\n",
       "      <td>O</td>\n",
       "    </tr>\n",
       "    <tr>\n",
       "      <th>1048570</th>\n",
       "      <td>Sentence: 47959</td>\n",
       "      <td>they</td>\n",
       "      <td>PRP</td>\n",
       "      <td>O</td>\n",
       "    </tr>\n",
       "    <tr>\n",
       "      <th>1048571</th>\n",
       "      <td>Sentence: 47959</td>\n",
       "      <td>responded</td>\n",
       "      <td>VBD</td>\n",
       "      <td>O</td>\n",
       "    </tr>\n",
       "    <tr>\n",
       "      <th>1048572</th>\n",
       "      <td>Sentence: 47959</td>\n",
       "      <td>to</td>\n",
       "      <td>TO</td>\n",
       "      <td>O</td>\n",
       "    </tr>\n",
       "    <tr>\n",
       "      <th>1048573</th>\n",
       "      <td>Sentence: 47959</td>\n",
       "      <td>the</td>\n",
       "      <td>DT</td>\n",
       "      <td>O</td>\n",
       "    </tr>\n",
       "    <tr>\n",
       "      <th>1048574</th>\n",
       "      <td>Sentence: 47959</td>\n",
       "      <td>attack</td>\n",
       "      <td>NN</td>\n",
       "      <td>O</td>\n",
       "    </tr>\n",
       "  </tbody>\n",
       "</table>\n",
       "</div>"
      ],
      "text/plain": [
       "              Sentence #       Word  POS    Tag\n",
       "1048565  Sentence: 47958     impact   NN      O\n",
       "1048566  Sentence: 47958          .    .      O\n",
       "1048567  Sentence: 47959     Indian   JJ  B-gpe\n",
       "1048568  Sentence: 47959     forces  NNS      O\n",
       "1048569  Sentence: 47959       said  VBD      O\n",
       "1048570  Sentence: 47959       they  PRP      O\n",
       "1048571  Sentence: 47959  responded  VBD      O\n",
       "1048572  Sentence: 47959         to   TO      O\n",
       "1048573  Sentence: 47959        the   DT      O\n",
       "1048574  Sentence: 47959     attack   NN      O"
      ]
     },
     "execution_count": 2,
     "metadata": {},
     "output_type": "execute_result"
    }
   ],
   "source": [
    "#download data\n",
    "data = pd.read_csv(\"ner_dataset.csv\", encoding=\"latin1\")\n",
    "data = data.fillna(method=\"ffill\")\n",
    "data.tail(10)"
   ]
  },
  {
   "cell_type": "code",
   "execution_count": 3,
   "metadata": {},
   "outputs": [],
   "source": [
    "#create a getter which will transform sentences\n",
    "getter = SentenceGetter(data)"
   ]
  },
  {
   "cell_type": "code",
   "execution_count": 4,
   "metadata": {},
   "outputs": [
    {
     "data": {
      "text/plain": [
       "[['They', 'O'],\n",
       " ['left', 'O'],\n",
       " ['after', 'O'],\n",
       " ['a', 'O'],\n",
       " ['tense', 'O'],\n",
       " ['hour-long', 'O'],\n",
       " ['standoff', 'O'],\n",
       " ['with', 'O'],\n",
       " ['riot', 'O'],\n",
       " ['police', 'O'],\n",
       " ['.', 'O']]"
      ]
     },
     "execution_count": 4,
     "metadata": {},
     "output_type": "execute_result"
    }
   ],
   "source": [
    "sentences = getter.sentences\n",
    "sentences[3]"
   ]
  },
  {
   "cell_type": "code",
   "execution_count": 5,
   "metadata": {},
   "outputs": [],
   "source": [
    "words = list(set(data[\"Word\"].values))"
   ]
  },
  {
   "cell_type": "markdown",
   "metadata": {},
   "source": [
    "### Create Mappings for Words, Characters and Tags\n",
    " We now have a list of sentences which are words along with their labels. Now, we want to map these individual words, labels and characters in each word, to unique numerical ID's so that each unique word, character and tag in the vocabulary is represented by a particular integer ID. To do this, we first create a functions that do these mapping for us\n",
    "\n",
    "### Why mapping is important?\n",
    "These indices for words, labels and characters help us employ matrix (tensor) operations inside the neural network architecture, which are considerably faster."
   ]
  },
  {
   "cell_type": "markdown",
   "metadata": {},
   "source": [
    "## 1. Char embeddings"
   ]
  },
  {
   "cell_type": "code",
   "execution_count": 6,
   "metadata": {},
   "outputs": [
    {
     "name": "stdout",
     "output_type": "stream",
     "text": [
      "{'g', 'V', '/', 'o', 'Z', '7', 'e', 'h', 's', 'T', 'v', '\\xa0', ',', '`', 'J', 'x', '2', 'b', 'ü', '-', '9', 'é', 'G', '5', '.', '\\x94', 'u', 'D', '+', '%', 'F', '\"', 'r', 'W', 'l', '\\x92', ']', '3', ':', '\\x85', 'm', 'n', '\\x91', 'H', 'L', 'z', 'k', 'E', '~', '0', 'Q', 'R', '\\x93', 'y', 'q', 'd', '@', '6', '1', 'a', \"'\", 'ö', 'w', '\\x96', 'ë', ';', '!', 'Y', 'N', '8', 'I', '$', 'P', 'B', '[', 'p', 'X', '4', 'M', '(', 'c', '\\x97', 'j', 'S', '?', '&', 'O', 'A', 'U', '#', ')', 'i', 'f', 't', 'C', '_', '°', 'K'}\n",
      "98\n"
     ]
    }
   ],
   "source": [
    "chars = set([w_i for w in words for w_i in w])\n",
    "print(chars)\n",
    "print(len(chars))"
   ]
  },
  {
   "cell_type": "code",
   "execution_count": 7,
   "metadata": {
    "scrolled": true
   },
   "outputs": [
    {
     "data": {
      "text/plain": [
       "{'g': 1,\n",
       " 'V': 2,\n",
       " '/': 3,\n",
       " 'o': 4,\n",
       " 'Z': 5,\n",
       " '7': 6,\n",
       " 'e': 7,\n",
       " 'h': 8,\n",
       " 's': 9,\n",
       " 'T': 10,\n",
       " 'v': 11,\n",
       " '\\xa0': 12,\n",
       " ',': 13,\n",
       " '`': 14,\n",
       " 'J': 15,\n",
       " 'x': 16,\n",
       " '2': 17,\n",
       " 'b': 18,\n",
       " 'ü': 19,\n",
       " '-': 20,\n",
       " '9': 21,\n",
       " 'é': 22,\n",
       " 'G': 23,\n",
       " '5': 24,\n",
       " '.': 25,\n",
       " '\\x94': 26,\n",
       " 'u': 27,\n",
       " 'D': 28,\n",
       " '+': 29,\n",
       " '%': 30,\n",
       " 'F': 31,\n",
       " '\"': 32,\n",
       " 'r': 33,\n",
       " 'W': 34,\n",
       " 'l': 35,\n",
       " '\\x92': 36,\n",
       " ']': 37,\n",
       " '3': 38,\n",
       " ':': 39,\n",
       " '\\x85': 40,\n",
       " 'm': 41,\n",
       " 'n': 42,\n",
       " '\\x91': 43,\n",
       " 'H': 44,\n",
       " 'L': 45,\n",
       " 'z': 46,\n",
       " 'k': 47,\n",
       " 'E': 48,\n",
       " '~': 49,\n",
       " '0': 50,\n",
       " 'Q': 51,\n",
       " 'R': 52,\n",
       " '\\x93': 53,\n",
       " 'y': 54,\n",
       " 'q': 55,\n",
       " 'd': 56,\n",
       " '@': 57,\n",
       " '6': 58,\n",
       " '1': 59,\n",
       " 'a': 60,\n",
       " \"'\": 61,\n",
       " 'ö': 62,\n",
       " 'w': 63,\n",
       " '\\x96': 64,\n",
       " 'ë': 65,\n",
       " ';': 66,\n",
       " '!': 67,\n",
       " 'Y': 68,\n",
       " 'N': 69,\n",
       " '8': 70,\n",
       " 'I': 71,\n",
       " '$': 72,\n",
       " 'P': 73,\n",
       " 'B': 74,\n",
       " '[': 75,\n",
       " 'p': 76,\n",
       " 'X': 77,\n",
       " '4': 78,\n",
       " 'M': 79,\n",
       " '(': 80,\n",
       " 'c': 81,\n",
       " '\\x97': 82,\n",
       " 'j': 83,\n",
       " 'S': 84,\n",
       " '?': 85,\n",
       " '&': 86,\n",
       " 'O': 87,\n",
       " 'A': 88,\n",
       " 'U': 89,\n",
       " '#': 90,\n",
       " ')': 91,\n",
       " 'i': 92,\n",
       " 'f': 93,\n",
       " 't': 94,\n",
       " 'C': 95,\n",
       " '_': 96,\n",
       " '°': 97,\n",
       " 'K': 98,\n",
       " 'PAD': 0}"
      ]
     },
     "execution_count": 7,
     "metadata": {},
     "output_type": "execute_result"
    }
   ],
   "source": [
    "# Crate a mapping for characters\n",
    "char2idx = {c: i + 1 for i, c in enumerate(chars)}\n",
    "char2idx[\"PAD\"] = 0 #use zero as a padding value\n",
    "char2idx"
   ]
  },
  {
   "cell_type": "code",
   "execution_count": 8,
   "metadata": {
    "scrolled": true
   },
   "outputs": [],
   "source": [
    "#map every word to a sequence of character numbers and pad the words \n",
    "\n",
    "X_char = []\n",
    "#maximum length of batch of sentences\n",
    "max_len = 75\n",
    "#maximun length of the batch of characters\n",
    "max_len_char = 10\n",
    "\n",
    "for sentence in sentences:\n",
    "    sent_seq = []\n",
    "    for i in range(max_len):\n",
    "        word_seq = []\n",
    "        for j in range(max_len_char):\n",
    "            try:\n",
    "                word_seq.append(char2idx.get(sentence[i][0][j]))\n",
    "            except:\n",
    "                word_seq.append(char2idx.get(\"PAD\"))\n",
    "        sent_seq.append(word_seq)\n",
    "    X_char.append(np.array(sent_seq))"
   ]
  },
  {
   "cell_type": "code",
   "execution_count": 9,
   "metadata": {
    "scrolled": true
   },
   "outputs": [
    {
     "name": "stdout",
     "output_type": "stream",
     "text": [
      "[['Thousands', 'O'], ['of', 'O'], ['demonstrators', 'O'], ['have', 'O'], ['marched', 'O'], ['through', 'O'], ['London', 'B-geo'], ['to', 'O'], ['protest', 'O'], ['the', 'O'], ['war', 'O'], ['in', 'O'], ['Iraq', 'B-geo'], ['and', 'O'], ['demand', 'O'], ['the', 'O'], ['withdrawal', 'O'], ['of', 'O'], ['British', 'B-gpe'], ['troops', 'O'], ['from', 'O'], ['that', 'O'], ['country', 'O'], ['.', 'O']]\n",
      "[[10  8  4 27  9 60 42 56  9  0]\n",
      " [ 4 93  0  0  0  0  0  0  0  0]\n",
      " [56  7 41  4 42  9 94 33 60 94]\n",
      " [ 8 60 11  7  0  0  0  0  0  0]\n",
      " [41 60 33 81  8  7 56  0  0  0]\n",
      " [94  8 33  4 27  1  8  0  0  0]\n",
      " [45  4 42 56  4 42  0  0  0  0]\n",
      " [94  4  0  0  0  0  0  0  0  0]\n",
      " [76 33  4 94  7  9 94  0  0  0]\n",
      " [94  8  7  0  0  0  0  0  0  0]\n",
      " [63 60 33  0  0  0  0  0  0  0]\n",
      " [92 42  0  0  0  0  0  0  0  0]\n",
      " [71 33 60 55  0  0  0  0  0  0]\n",
      " [60 42 56  0  0  0  0  0  0  0]\n",
      " [56  7 41 60 42 56  0  0  0  0]\n",
      " [94  8  7  0  0  0  0  0  0  0]\n",
      " [63 92 94  8 56 33 60 63 60 35]\n",
      " [ 4 93  0  0  0  0  0  0  0  0]\n",
      " [74 33 92 94 92  9  8  0  0  0]\n",
      " [94 33  4  4 76  9  0  0  0  0]\n",
      " [93 33  4 41  0  0  0  0  0  0]\n",
      " [94  8 60 94  0  0  0  0  0  0]\n",
      " [81  4 27 42 94 33 54  0  0  0]\n",
      " [25  0  0  0  0  0  0  0  0  0]\n",
      " [ 0  0  0  0  0  0  0  0  0  0]\n",
      " [ 0  0  0  0  0  0  0  0  0  0]\n",
      " [ 0  0  0  0  0  0  0  0  0  0]\n",
      " [ 0  0  0  0  0  0  0  0  0  0]\n",
      " [ 0  0  0  0  0  0  0  0  0  0]\n",
      " [ 0  0  0  0  0  0  0  0  0  0]\n",
      " [ 0  0  0  0  0  0  0  0  0  0]\n",
      " [ 0  0  0  0  0  0  0  0  0  0]\n",
      " [ 0  0  0  0  0  0  0  0  0  0]\n",
      " [ 0  0  0  0  0  0  0  0  0  0]\n",
      " [ 0  0  0  0  0  0  0  0  0  0]\n",
      " [ 0  0  0  0  0  0  0  0  0  0]\n",
      " [ 0  0  0  0  0  0  0  0  0  0]\n",
      " [ 0  0  0  0  0  0  0  0  0  0]\n",
      " [ 0  0  0  0  0  0  0  0  0  0]\n",
      " [ 0  0  0  0  0  0  0  0  0  0]\n",
      " [ 0  0  0  0  0  0  0  0  0  0]\n",
      " [ 0  0  0  0  0  0  0  0  0  0]\n",
      " [ 0  0  0  0  0  0  0  0  0  0]\n",
      " [ 0  0  0  0  0  0  0  0  0  0]\n",
      " [ 0  0  0  0  0  0  0  0  0  0]\n",
      " [ 0  0  0  0  0  0  0  0  0  0]\n",
      " [ 0  0  0  0  0  0  0  0  0  0]\n",
      " [ 0  0  0  0  0  0  0  0  0  0]\n",
      " [ 0  0  0  0  0  0  0  0  0  0]\n",
      " [ 0  0  0  0  0  0  0  0  0  0]\n",
      " [ 0  0  0  0  0  0  0  0  0  0]\n",
      " [ 0  0  0  0  0  0  0  0  0  0]\n",
      " [ 0  0  0  0  0  0  0  0  0  0]\n",
      " [ 0  0  0  0  0  0  0  0  0  0]\n",
      " [ 0  0  0  0  0  0  0  0  0  0]\n",
      " [ 0  0  0  0  0  0  0  0  0  0]\n",
      " [ 0  0  0  0  0  0  0  0  0  0]\n",
      " [ 0  0  0  0  0  0  0  0  0  0]\n",
      " [ 0  0  0  0  0  0  0  0  0  0]\n",
      " [ 0  0  0  0  0  0  0  0  0  0]\n",
      " [ 0  0  0  0  0  0  0  0  0  0]\n",
      " [ 0  0  0  0  0  0  0  0  0  0]\n",
      " [ 0  0  0  0  0  0  0  0  0  0]\n",
      " [ 0  0  0  0  0  0  0  0  0  0]\n",
      " [ 0  0  0  0  0  0  0  0  0  0]\n",
      " [ 0  0  0  0  0  0  0  0  0  0]\n",
      " [ 0  0  0  0  0  0  0  0  0  0]\n",
      " [ 0  0  0  0  0  0  0  0  0  0]\n",
      " [ 0  0  0  0  0  0  0  0  0  0]\n",
      " [ 0  0  0  0  0  0  0  0  0  0]\n",
      " [ 0  0  0  0  0  0  0  0  0  0]\n",
      " [ 0  0  0  0  0  0  0  0  0  0]\n",
      " [ 0  0  0  0  0  0  0  0  0  0]\n",
      " [ 0  0  0  0  0  0  0  0  0  0]\n",
      " [ 0  0  0  0  0  0  0  0  0  0]]\n"
     ]
    }
   ],
   "source": [
    "print(sentences[0])\n",
    "print(X_char[0])"
   ]
  },
  {
   "cell_type": "markdown",
   "metadata": {},
   "source": [
    "## 2. Word embeddings"
   ]
  },
  {
   "cell_type": "code",
   "execution_count": 10,
   "metadata": {},
   "outputs": [],
   "source": [
    "# Create a mapping for the labels (tags) and words\n",
    "labelSet = set()\n",
    "words = set()\n",
    "for sentence in sentences:\n",
    "    for token,label in sentence:\n",
    "            labelSet.add(label)\n",
    "            words.add(token)\n",
    "\n",
    "\n",
    "label2Idx = {}\n",
    "for label in labelSet:\n",
    "    label2Idx[label] = len(label2Idx) +1\n",
    "label2Idx[\"PAD\"] = 0\n",
    "    \n",
    "word2Idx = {}\n",
    "for word in words:\n",
    "    word2Idx[word] = len(word2Idx)\n",
    "word2Idx[\"PAD\"] = 0\n",
    "\n",
    "idx2label={i: l for l,i in label2Idx.items()}\n",
    "idx2word = {i: w for w,i in word2Idx.items()}\n",
    "    "
   ]
  },
  {
   "cell_type": "code",
   "execution_count": 11,
   "metadata": {},
   "outputs": [
    {
     "data": {
      "text/plain": [
       "{'B-tim': 1,\n",
       " 'I-geo': 2,\n",
       " 'B-geo': 3,\n",
       " 'I-per': 4,\n",
       " 'I-org': 5,\n",
       " 'I-tim': 6,\n",
       " 'I-art': 7,\n",
       " 'B-nat': 8,\n",
       " 'B-per': 9,\n",
       " 'O': 10,\n",
       " 'B-eve': 11,\n",
       " 'I-gpe': 12,\n",
       " 'B-gpe': 13,\n",
       " 'I-eve': 14,\n",
       " 'B-art': 15,\n",
       " 'I-nat': 16,\n",
       " 'B-org': 17,\n",
       " 'PAD': 0}"
      ]
     },
     "execution_count": 11,
     "metadata": {},
     "output_type": "execute_result"
    }
   ],
   "source": [
    "label2Idx"
   ]
  },
  {
   "cell_type": "code",
   "execution_count": 12,
   "metadata": {},
   "outputs": [
    {
     "name": "stdout",
     "output_type": "stream",
     "text": [
      "[32255, 13151, 20562, 31254, 5397, 24705, 28490, 4332, 26542, 31892, 23807, 4569, 3530, 23792, 8265, 31892, 5974, 13151, 30482, 13500, 3324, 26683, 26477, 31183]\n"
     ]
    }
   ],
   "source": [
    "#map the words in each sentence to its id\n",
    "X_word = [[word2Idx[w[0]] for w in s] for s in sentences]\n",
    "print(X_word[0])"
   ]
  },
  {
   "cell_type": "code",
   "execution_count": 13,
   "metadata": {},
   "outputs": [
    {
     "name": "stdout",
     "output_type": "stream",
     "text": [
      "[32255 13151 20562 31254  5397 24705 28490  4332 26542 31892 23807  4569\n",
      "  3530 23792  8265 31892  5974 13151 30482 13500  3324 26683 26477 31183\n",
      "     0     0     0     0     0     0     0     0     0     0     0     0\n",
      "     0     0     0     0     0     0     0     0     0     0     0     0\n",
      "     0     0     0     0     0     0     0     0     0     0     0     0\n",
      "     0     0     0     0     0     0     0     0     0     0     0     0\n",
      "     0     0     0]\n"
     ]
    }
   ],
   "source": [
    "#pad the sentences since for tensorflow we need sentences with equal length\n",
    "X_word = pad_sequences(maxlen=max_len, sequences=X_word, value=word2Idx[\"PAD\"], padding='post', truncating='post')\n",
    "print(X_word[0])"
   ]
  },
  {
   "cell_type": "markdown",
   "metadata": {},
   "source": [
    "## 3. Model training"
   ]
  },
  {
   "cell_type": "code",
   "execution_count": 14,
   "metadata": {},
   "outputs": [
    {
     "data": {
      "text/plain": [
       "array([10, 10, 10, 10, 10, 10,  3, 10, 10, 10, 10, 10,  3, 10, 10, 10, 10,\n",
       "       10, 13, 10, 10, 10, 10, 10,  0,  0,  0,  0,  0,  0,  0,  0,  0,  0,\n",
       "        0,  0,  0,  0,  0,  0,  0,  0,  0,  0,  0,  0,  0,  0,  0,  0,  0,\n",
       "        0,  0,  0,  0,  0,  0,  0,  0,  0,  0,  0,  0,  0,  0,  0,  0,  0,\n",
       "        0,  0,  0,  0,  0,  0,  0])"
      ]
     },
     "execution_count": 14,
     "metadata": {},
     "output_type": "execute_result"
    }
   ],
   "source": [
    "#do the mapping and padding for the labal sequence\n",
    "y = [[label2Idx[w[1]] for w in s] for s in sentences]\n",
    "y = pad_sequences(maxlen=max_len, sequences=y, value=label2Idx[\"PAD\"], padding='post', truncating='post')\n",
    "y[0]"
   ]
  },
  {
   "cell_type": "code",
   "execution_count": 15,
   "metadata": {},
   "outputs": [],
   "source": [
    "#separate data to train and test data\n",
    "\n",
    "X_word_tr, X_word_te, y_tr, y_te = train_test_split(X_word, y, test_size=0.1, random_state=2018)\n",
    "X_char_tr, X_char_te, _, _ = train_test_split(X_char, y, test_size=0.1, random_state=2018)\n"
   ]
  },
  {
   "cell_type": "markdown",
   "metadata": {},
   "source": [
    "# Model with LSTM layer for char embeddings"
   ]
  },
  {
   "cell_type": "code",
   "execution_count": 16,
   "metadata": {},
   "outputs": [
    {
     "name": "stdout",
     "output_type": "stream",
     "text": [
      "WARNING:tensorflow:Large dropout rate: 0.6 (>0.5). In TensorFlow 2.x, dropout() uses dropout rate instead of keep_prob. Please ensure that this is intended.\n",
      "WARNING:tensorflow:Large dropout rate: 0.6 (>0.5). In TensorFlow 2.x, dropout() uses dropout rate instead of keep_prob. Please ensure that this is intended.\n",
      "WARNING:tensorflow:Large dropout rate: 0.6 (>0.5). In TensorFlow 2.x, dropout() uses dropout rate instead of keep_prob. Please ensure that this is intended.\n",
      "WARNING:tensorflow:Large dropout rate: 0.6 (>0.5). In TensorFlow 2.x, dropout() uses dropout rate instead of keep_prob. Please ensure that this is intended.\n",
      "WARNING:tensorflow:From C:\\Users\\linar\\anaconda3\\lib\\site-packages\\tensorflow\\python\\keras\\backend.py:3794: add_dispatch_support.<locals>.wrapper (from tensorflow.python.ops.array_ops) is deprecated and will be removed in a future version.\n",
      "Instructions for updating:\n",
      "Use tf.where in 2.0, which has the same broadcast rule as np.where\n",
      "WARNING:tensorflow:Large dropout rate: 0.6 (>0.5). In TensorFlow 2.x, dropout() uses dropout rate instead of keep_prob. Please ensure that this is intended.\n"
     ]
    }
   ],
   "source": [
    "# input and embedding for words\n",
    "word_in_1 = Input(shape=(max_len,))\n",
    "emb_word_1 = Embedding(input_dim=len(word2Idx), output_dim=20,\n",
    "                     input_length=max_len, mask_zero=True)(word_in_1)\n",
    "\n",
    "# input and embeddings for characters\n",
    "char_in_1 = Input(shape=(max_len, max_len_char,))\n",
    "embed_char_out_1 = TimeDistributed(Embedding(input_dim=len(char2idx), output_dim=10,\n",
    "                           embeddings_initializer=RandomUniform(minval=-0.5, maxval=0.5)), name='char_embedding')(char_in_1)\n",
    "\n",
    "# character LSTM to get word encodings by characters\n",
    "char_enc_1 = TimeDistributed(LSTM(units=20, return_sequences=False,\n",
    "                                recurrent_dropout=0.5))(embed_char_out_1)\n",
    "\n",
    "# main LSTM\n",
    "x = concatenate([emb_word_1, char_enc_1])\n",
    "x = SpatialDropout1D(0.3)(x)\n",
    "main_lstm = Bidirectional(LSTM(units=50, return_sequences=True,\n",
    "                               recurrent_dropout=0.6))(x)\n",
    "out = TimeDistributed(Dense(len(label2Idx), activation=\"sigmoid\"))(main_lstm)\n",
    "\n",
    "model_1 = Model([word_in_1, char_in_1], out)"
   ]
  },
  {
   "cell_type": "code",
   "execution_count": 17,
   "metadata": {},
   "outputs": [
    {
     "name": "stdout",
     "output_type": "stream",
     "text": [
      "Model: \"model_1\"\n",
      "__________________________________________________________________________________________________\n",
      "Layer (type)                    Output Shape         Param #     Connected to                     \n",
      "==================================================================================================\n",
      "input_2 (InputLayer)            (None, 75, 10)       0                                            \n",
      "__________________________________________________________________________________________________\n",
      "input_1 (InputLayer)            (None, 75)           0                                            \n",
      "__________________________________________________________________________________________________\n",
      "char_embedding (TimeDistributed (None, 75, 10, 10)   990         input_2[0][0]                    \n",
      "__________________________________________________________________________________________________\n",
      "embedding_1 (Embedding)         (None, 75, 20)       703560      input_1[0][0]                    \n",
      "__________________________________________________________________________________________________\n",
      "time_distributed_1 (TimeDistrib (None, 75, 20)       2480        char_embedding[0][0]             \n",
      "__________________________________________________________________________________________________\n",
      "concatenate_1 (Concatenate)     (None, 75, 40)       0           embedding_1[0][0]                \n",
      "                                                                 time_distributed_1[0][0]         \n",
      "__________________________________________________________________________________________________\n",
      "spatial_dropout1d_1 (SpatialDro (None, 75, 40)       0           concatenate_1[0][0]              \n",
      "__________________________________________________________________________________________________\n",
      "bidirectional_1 (Bidirectional) (None, 75, 100)      36400       spatial_dropout1d_1[0][0]        \n",
      "__________________________________________________________________________________________________\n",
      "time_distributed_2 (TimeDistrib (None, 75, 18)       1818        bidirectional_1[0][0]            \n",
      "==================================================================================================\n",
      "Total params: 745,248\n",
      "Trainable params: 745,248\n",
      "Non-trainable params: 0\n",
      "__________________________________________________________________________________________________\n"
     ]
    }
   ],
   "source": [
    "model_1.compile(loss='sparse_categorical_crossentropy', optimizer='nadam', metrics=[\"acc\"])\n",
    "model_1.summary()"
   ]
  },
  {
   "cell_type": "code",
   "execution_count": 18,
   "metadata": {},
   "outputs": [
    {
     "name": "stdout",
     "output_type": "stream",
     "text": [
      "WARNING:tensorflow:From C:\\Users\\linar\\anaconda3\\lib\\site-packages\\keras\\backend\\tensorflow_backend.py:422: The name tf.global_variables is deprecated. Please use tf.compat.v1.global_variables instead.\n",
      "\n",
      "Train on 38846 samples, validate on 4317 samples\n",
      "Epoch 1/5\n",
      "38846/38846 [==============================] - 125s 3ms/step - loss: 0.0890 - acc: 0.9226 - val_loss: 0.0382 - val_acc: 0.9613\n",
      "Epoch 2/5\n",
      "38846/38846 [==============================] - 131s 3ms/step - loss: 0.0344 - acc: 0.9657 - val_loss: 0.0320 - val_acc: 0.9671\n",
      "Epoch 3/5\n",
      "38846/38846 [==============================] - 130s 3ms/step - loss: 0.0280 - acc: 0.9711 - val_loss: 0.0301 - val_acc: 0.9685\n",
      "Epoch 4/5\n",
      "38846/38846 [==============================] - 131s 3ms/step - loss: 0.0251 - acc: 0.9737 - val_loss: 0.0296 - val_acc: 0.9690\n",
      "Epoch 5/5\n",
      "38846/38846 [==============================] - 135s 3ms/step - loss: 0.0231 - acc: 0.9752 - val_loss: 0.0294 - val_acc: 0.9697\n"
     ]
    }
   ],
   "source": [
    "history_1 = model_1.fit([X_word_tr,\n",
    "                     np.array(X_char_tr).reshape((len(X_char_tr), max_len, max_len_char))],\n",
    "                    np.array(y_tr).reshape(len(y_tr), max_len, 1),\n",
    "                    batch_size=32, epochs=5, validation_split=0.1, verbose=1)"
   ]
  },
  {
   "cell_type": "code",
   "execution_count": 19,
   "metadata": {},
   "outputs": [
    {
     "data": {
      "text/html": [
       "<div>\n",
       "<style scoped>\n",
       "    .dataframe tbody tr th:only-of-type {\n",
       "        vertical-align: middle;\n",
       "    }\n",
       "\n",
       "    .dataframe tbody tr th {\n",
       "        vertical-align: top;\n",
       "    }\n",
       "\n",
       "    .dataframe thead th {\n",
       "        text-align: right;\n",
       "    }\n",
       "</style>\n",
       "<table border=\"1\" class=\"dataframe\">\n",
       "  <thead>\n",
       "    <tr style=\"text-align: right;\">\n",
       "      <th></th>\n",
       "      <th>val_loss</th>\n",
       "      <th>val_acc</th>\n",
       "      <th>loss</th>\n",
       "      <th>acc</th>\n",
       "    </tr>\n",
       "  </thead>\n",
       "  <tbody>\n",
       "    <tr>\n",
       "      <th>0</th>\n",
       "      <td>0.038195</td>\n",
       "      <td>0.961332</td>\n",
       "      <td>0.089014</td>\n",
       "      <td>0.922552</td>\n",
       "    </tr>\n",
       "    <tr>\n",
       "      <th>1</th>\n",
       "      <td>0.032008</td>\n",
       "      <td>0.967113</td>\n",
       "      <td>0.034354</td>\n",
       "      <td>0.965748</td>\n",
       "    </tr>\n",
       "    <tr>\n",
       "      <th>2</th>\n",
       "      <td>0.030128</td>\n",
       "      <td>0.968497</td>\n",
       "      <td>0.027999</td>\n",
       "      <td>0.971062</td>\n",
       "    </tr>\n",
       "    <tr>\n",
       "      <th>3</th>\n",
       "      <td>0.029573</td>\n",
       "      <td>0.969030</td>\n",
       "      <td>0.025063</td>\n",
       "      <td>0.973653</td>\n",
       "    </tr>\n",
       "    <tr>\n",
       "      <th>4</th>\n",
       "      <td>0.029376</td>\n",
       "      <td>0.969711</td>\n",
       "      <td>0.023057</td>\n",
       "      <td>0.975175</td>\n",
       "    </tr>\n",
       "  </tbody>\n",
       "</table>\n",
       "</div>"
      ],
      "text/plain": [
       "   val_loss   val_acc      loss       acc\n",
       "0  0.038195  0.961332  0.089014  0.922552\n",
       "1  0.032008  0.967113  0.034354  0.965748\n",
       "2  0.030128  0.968497  0.027999  0.971062\n",
       "3  0.029573  0.969030  0.025063  0.973653\n",
       "4  0.029376  0.969711  0.023057  0.975175"
      ]
     },
     "execution_count": 19,
     "metadata": {},
     "output_type": "execute_result"
    }
   ],
   "source": [
    "hist_1 = pd.DataFrame(history_1.history)\n",
    "hist_1"
   ]
  },
  {
   "cell_type": "code",
   "execution_count": 20,
   "metadata": {},
   "outputs": [
    {
     "data": {
      "image/png": "[encoded data removed]",
      "text/plain": [
       "<Figure size 864x864 with 1 Axes>"
      ]
     },
     "metadata": {},
     "output_type": "display_data"
    }
   ],
   "source": [
    "plt.style.use(\"ggplot\")\n",
    "plt.figure(figsize=(12,12))\n",
    "plt.plot(hist_1[\"acc\"])\n",
    "plt.plot(hist_1[\"val_acc\"])\n",
    "plt.show()"
   ]
  },
  {
   "cell_type": "code",
   "execution_count": 21,
   "metadata": {},
   "outputs": [],
   "source": [
    "y_pred_1 = model_1.predict([X_word_te,\n",
    "                        np.array(X_char_te).reshape((len(X_char_te),\n",
    "                                                     max_len, max_len_char))])"
   ]
  },
  {
   "cell_type": "code",
   "execution_count": 22,
   "metadata": {},
   "outputs": [
    {
     "name": "stdout",
     "output_type": "stream",
     "text": [
      "Word           ||True ||Pred\n",
      "==============================\n",
      "On             : O     O\n",
      "Monday         : B-tim B-tim\n",
      ",              : O     O\n",
      "British        : B-org B-gpe\n",
      "Foreign        : I-org O\n",
      "Secretary      : B-per B-per\n",
      "Jack           : I-per B-per\n",
      "Straw          : I-per I-per\n",
      "said           : O     O\n",
      "his            : O     O\n",
      "government     : O     O\n",
      "has            : O     O\n",
      "found          : O     O\n",
      "no             : O     O\n",
      "evidence       : O     O\n",
      "the            : O     O\n",
      "Bush           : B-org B-per\n",
      "administration : O     O\n",
      "requested      : O     O\n",
      "permission     : O     O\n",
      "to             : O     O\n",
      "fly            : O     O\n",
      "terror         : O     O\n",
      "suspects       : O     O\n",
      "through        : O     O\n",
      "Britain        : B-geo B-geo\n",
      "or             : O     O\n",
      "its            : O     O\n",
      "airspace       : O     O\n",
      ".              : O     O\n"
     ]
    }
   ],
   "source": [
    "i = 1925\n",
    "p = np.argmax(y_pred_1[i], axis=-1)\n",
    "print(\"{:15}||{:5}||{}\".format(\"Word\", \"True\", \"Pred\"))\n",
    "print(30 * \"=\")\n",
    "for w, t, pred in zip(X_word_te[i], y_te[i], p):\n",
    "    if w != 0:\n",
    "        print(\"{:15}: {:5} {}\".format(idx2word[w], idx2label[t], idx2label[pred]))"
   ]
  },
  {
   "cell_type": "code",
   "execution_count": 23,
   "metadata": {},
   "outputs": [],
   "source": [
    "y_true_test = []\n",
    "y_pred_test = []\n",
    "for i in range(len(y_pred_1)):\n",
    "    p = np.argmax(y_pred_1[i], axis=-1)\n",
    "    for w, t, pred in zip(X_word_te[i], y_te[i], p):\n",
    "        if w != 0:\n",
    "            y_true_test.append(idx2label[t])\n",
    "            y_pred_test.append(idx2label[pred])"
   ]
  },
  {
   "cell_type": "code",
   "execution_count": 24,
   "metadata": {},
   "outputs": [
    {
     "name": "stderr",
     "output_type": "stream",
     "text": [
      "C:\\Users\\linar\\anaconda3\\lib\\site-packages\\sklearn\\metrics\\_classification.py:1272: UndefinedMetricWarning: Precision and F-score are ill-defined and being set to 0.0 in labels with no predicted samples. Use `zero_division` parameter to control this behavior.\n",
      "  _warn_prf(average, modifier, msg_start, len(result))\n"
     ]
    },
    {
     "name": "stdout",
     "output_type": "stream",
     "text": [
      "              precision    recall  f1-score   support\n",
      "\n",
      "       B-art       0.00      0.00      0.00        49\n",
      "       B-eve       0.90      0.27      0.42        33\n",
      "       B-geo       0.85      0.90      0.88      3735\n",
      "       B-gpe       0.97      0.93      0.95      1596\n",
      "       B-nat       0.34      0.43      0.38        23\n",
      "       B-org       0.77      0.75      0.76      2071\n",
      "       B-per       0.83      0.84      0.83      1694\n",
      "       B-tim       0.92      0.87      0.89      2158\n",
      "       I-art       0.00      0.00      0.00        42\n",
      "       I-eve       0.45      0.15      0.23        33\n",
      "       I-geo       0.77      0.83      0.80       707\n",
      "       I-gpe       1.00      0.38      0.55        16\n",
      "       I-nat       1.00      0.20      0.33         5\n",
      "       I-org       0.81      0.79      0.80      1786\n",
      "       I-per       0.87      0.88      0.87      1739\n",
      "       I-tim       0.84      0.71      0.77       726\n",
      "           O       0.99      0.99      0.99     89144\n",
      "\n",
      "    accuracy                           0.97    105557\n",
      "   macro avg       0.72      0.58      0.62    105557\n",
      "weighted avg       0.97      0.97      0.97    105557\n",
      "\n"
     ]
    }
   ],
   "source": [
    "report_1 = classification_report(y_pred=y_pred_test, y_true=y_true_test)\n",
    "print(report_1)"
   ]
  },
  {
   "cell_type": "markdown",
   "metadata": {},
   "source": [
    "# Model with Convolutional and MaxPooling layers for char embeddings"
   ]
  },
  {
   "cell_type": "code",
   "execution_count": 25,
   "metadata": {},
   "outputs": [
    {
     "name": "stdout",
     "output_type": "stream",
     "text": [
      "WARNING:tensorflow:From C:\\Users\\linar\\anaconda3\\lib\\site-packages\\keras\\backend\\tensorflow_backend.py:4070: The name tf.nn.max_pool is deprecated. Please use tf.nn.max_pool2d instead.\n",
      "\n"
     ]
    }
   ],
   "source": [
    "# input and embedding for words\n",
    "word_in_2 = Input(shape=(max_len,), name='words_input')\n",
    "emb_word_2 = Embedding(input_dim=len(word2Idx), output_dim=20,\n",
    "                     input_length=max_len, mask_zero=True)(word_in_2)\n",
    "\n",
    "# input and embeddings for characters\n",
    "char_in_2 = Input(shape=(max_len, max_len_char,), name='char_input')\n",
    "embed_char_out_2 = TimeDistributed(Embedding(input_dim=len(char2idx), output_dim=10,\n",
    "                           embeddings_initializer=RandomUniform(minval=-0.5, maxval=0.5)), name='char_embedding')(char_in_2)\n",
    "\n",
    "#the char embeddings are going through CNN and MaxPooling layer\n",
    "dropout= Dropout(0.5)(embed_char_out_2)\n",
    "conv1d_out= TimeDistributed(Conv1D(kernel_size=3, filters=10, padding='same',activation='tanh', strides=1))(dropout)\n",
    "maxpool_out=TimeDistributed(MaxPooling1D(max_len_char))(conv1d_out)\n",
    "char = TimeDistributed(Flatten())(maxpool_out)\n",
    "char = Dropout(0.5)(char)\n",
    "\n",
    "# main LSTM\n",
    "x_2 = concatenate([emb_word_2, char])\n",
    "output = Bidirectional(LSTM(50, return_sequences=True, recurrent_dropout=0.6))(x_2)\n",
    "output = TimeDistributed(Dense(len(label2Idx), activation='softmax'))(output)\n",
    "\n",
    "\n",
    "model_2 = Model(inputs=[word_in_2, char_in_2], outputs=[output])\n",
    "\n"
   ]
  },
  {
   "cell_type": "code",
   "execution_count": 26,
   "metadata": {},
   "outputs": [
    {
     "name": "stdout",
     "output_type": "stream",
     "text": [
      "Model: \"model_2\"\n",
      "__________________________________________________________________________________________________\n",
      "Layer (type)                    Output Shape         Param #     Connected to                     \n",
      "==================================================================================================\n",
      "char_input (InputLayer)         (None, 75, 10)       0                                            \n",
      "__________________________________________________________________________________________________\n",
      "char_embedding (TimeDistributed (None, 75, 10, 10)   990         char_input[0][0]                 \n",
      "__________________________________________________________________________________________________\n",
      "dropout_1 (Dropout)             (None, 75, 10, 10)   0           char_embedding[0][0]             \n",
      "__________________________________________________________________________________________________\n",
      "time_distributed_3 (TimeDistrib (None, 75, 10, 10)   310         dropout_1[0][0]                  \n",
      "__________________________________________________________________________________________________\n",
      "time_distributed_4 (TimeDistrib (None, 75, 1, 10)    0           time_distributed_3[0][0]         \n",
      "__________________________________________________________________________________________________\n",
      "words_input (InputLayer)        (None, 75)           0                                            \n",
      "__________________________________________________________________________________________________\n",
      "time_distributed_5 (TimeDistrib (None, 75, 10)       0           time_distributed_4[0][0]         \n",
      "__________________________________________________________________________________________________\n",
      "embedding_3 (Embedding)         (None, 75, 20)       703560      words_input[0][0]                \n",
      "__________________________________________________________________________________________________\n",
      "dropout_2 (Dropout)             (None, 75, 10)       0           time_distributed_5[0][0]         \n",
      "__________________________________________________________________________________________________\n",
      "concatenate_2 (Concatenate)     (None, 75, 30)       0           embedding_3[0][0]                \n",
      "                                                                 dropout_2[0][0]                  \n",
      "__________________________________________________________________________________________________\n",
      "bidirectional_2 (Bidirectional) (None, 75, 100)      32400       concatenate_2[0][0]              \n",
      "__________________________________________________________________________________________________\n",
      "time_distributed_6 (TimeDistrib (None, 75, 18)       1818        bidirectional_2[0][0]            \n",
      "==================================================================================================\n",
      "Total params: 739,078\n",
      "Trainable params: 739,078\n",
      "Non-trainable params: 0\n",
      "__________________________________________________________________________________________________\n"
     ]
    }
   ],
   "source": [
    "model_2.compile(loss='sparse_categorical_crossentropy', optimizer='nadam', metrics=[\"acc\"])\n",
    "model_2.summary()"
   ]
  },
  {
   "cell_type": "code",
   "execution_count": 27,
   "metadata": {},
   "outputs": [
    {
     "name": "stdout",
     "output_type": "stream",
     "text": [
      "Train on 38846 samples, validate on 4317 samples\n",
      "Epoch 1/5\n",
      "38846/38846 [==============================] - 95s 2ms/step - loss: 0.0791 - acc: 0.9283 - val_loss: 0.0367 - val_acc: 0.9617\n",
      "Epoch 2/5\n",
      "38846/38846 [==============================] - 92s 2ms/step - loss: 0.0302 - acc: 0.9690 - val_loss: 0.0316 - val_acc: 0.9670\n",
      "Epoch 3/5\n",
      "38846/38846 [==============================] - 90s 2ms/step - loss: 0.0237 - acc: 0.9749 - val_loss: 0.0309 - val_acc: 0.9674\n",
      "Epoch 4/5\n",
      "38846/38846 [==============================] - 93s 2ms/step - loss: 0.0206 - acc: 0.9774 - val_loss: 0.0300 - val_acc: 0.9682\n",
      "Epoch 5/5\n",
      "38846/38846 [==============================] - 95s 2ms/step - loss: 0.0182 - acc: 0.9797 - val_loss: 0.0309 - val_acc: 0.9681\n"
     ]
    }
   ],
   "source": [
    "history_2 = model_2.fit([X_word_tr,\n",
    "                     np.array(X_char_tr).reshape((len(X_char_tr), max_len, max_len_char))],\n",
    "                    np.array(y_tr).reshape(len(y_tr), max_len, 1),\n",
    "                    batch_size=32, epochs=5, validation_split=0.1, verbose=1)"
   ]
  },
  {
   "cell_type": "code",
   "execution_count": 28,
   "metadata": {},
   "outputs": [],
   "source": [
    "y_pred_2 = model_2.predict([X_word_te,\n",
    "                        np.array(X_char_te).reshape((len(X_char_te),\n",
    "                                                     max_len, max_len_char))])"
   ]
  },
  {
   "cell_type": "code",
   "execution_count": 29,
   "metadata": {},
   "outputs": [
    {
     "data": {
      "text/html": [
       "<div>\n",
       "<style scoped>\n",
       "    .dataframe tbody tr th:only-of-type {\n",
       "        vertical-align: middle;\n",
       "    }\n",
       "\n",
       "    .dataframe tbody tr th {\n",
       "        vertical-align: top;\n",
       "    }\n",
       "\n",
       "    .dataframe thead th {\n",
       "        text-align: right;\n",
       "    }\n",
       "</style>\n",
       "<table border=\"1\" class=\"dataframe\">\n",
       "  <thead>\n",
       "    <tr style=\"text-align: right;\">\n",
       "      <th></th>\n",
       "      <th>val_loss</th>\n",
       "      <th>val_acc</th>\n",
       "      <th>loss</th>\n",
       "      <th>acc</th>\n",
       "    </tr>\n",
       "  </thead>\n",
       "  <tbody>\n",
       "    <tr>\n",
       "      <th>0</th>\n",
       "      <td>0.036748</td>\n",
       "      <td>0.961748</td>\n",
       "      <td>0.079129</td>\n",
       "      <td>0.928317</td>\n",
       "    </tr>\n",
       "    <tr>\n",
       "      <th>1</th>\n",
       "      <td>0.031585</td>\n",
       "      <td>0.967018</td>\n",
       "      <td>0.030221</td>\n",
       "      <td>0.968987</td>\n",
       "    </tr>\n",
       "    <tr>\n",
       "      <th>2</th>\n",
       "      <td>0.030896</td>\n",
       "      <td>0.967443</td>\n",
       "      <td>0.023706</td>\n",
       "      <td>0.974888</td>\n",
       "    </tr>\n",
       "    <tr>\n",
       "      <th>3</th>\n",
       "      <td>0.030015</td>\n",
       "      <td>0.968231</td>\n",
       "      <td>0.020570</td>\n",
       "      <td>0.977442</td>\n",
       "    </tr>\n",
       "    <tr>\n",
       "      <th>4</th>\n",
       "      <td>0.030942</td>\n",
       "      <td>0.968082</td>\n",
       "      <td>0.018205</td>\n",
       "      <td>0.979710</td>\n",
       "    </tr>\n",
       "  </tbody>\n",
       "</table>\n",
       "</div>"
      ],
      "text/plain": [
       "   val_loss   val_acc      loss       acc\n",
       "0  0.036748  0.961748  0.079129  0.928317\n",
       "1  0.031585  0.967018  0.030221  0.968987\n",
       "2  0.030896  0.967443  0.023706  0.974888\n",
       "3  0.030015  0.968231  0.020570  0.977442\n",
       "4  0.030942  0.968082  0.018205  0.979710"
      ]
     },
     "execution_count": 29,
     "metadata": {},
     "output_type": "execute_result"
    }
   ],
   "source": [
    "hist_2 = pd.DataFrame(history_2.history)\n",
    "hist_2"
   ]
  },
  {
   "cell_type": "code",
   "execution_count": 30,
   "metadata": {},
   "outputs": [
    {
     "data": {
      "image/png": "[encoded data removed]",
      "text/plain": [
       "<Figure size 864x864 with 1 Axes>"
      ]
     },
     "metadata": {},
     "output_type": "display_data"
    }
   ],
   "source": [
    "import matplotlib.pyplot as plt\n",
    "plt.style.use(\"ggplot\")\n",
    "plt.figure(figsize=(12,12))\n",
    "plt.plot(hist_2[\"acc\"])\n",
    "plt.plot(hist_2[\"val_acc\"])\n",
    "plt.show()"
   ]
  },
  {
   "cell_type": "code",
   "execution_count": 31,
   "metadata": {},
   "outputs": [
    {
     "name": "stdout",
     "output_type": "stream",
     "text": [
      "Word           ||True ||Pred\n",
      "==============================\n",
      "On             : O     O\n",
      "Monday         : B-tim B-tim\n",
      ",              : O     O\n",
      "British        : B-org B-gpe\n",
      "Foreign        : I-org O\n",
      "Secretary      : B-per B-per\n",
      "Jack           : I-per B-per\n",
      "Straw          : I-per I-per\n",
      "said           : O     O\n",
      "his            : O     O\n",
      "government     : O     O\n",
      "has            : O     O\n",
      "found          : O     O\n",
      "no             : O     O\n",
      "evidence       : O     O\n",
      "the            : O     O\n",
      "Bush           : B-org B-per\n",
      "administration : O     O\n",
      "requested      : O     O\n",
      "permission     : O     O\n",
      "to             : O     O\n",
      "fly            : O     O\n",
      "terror         : O     O\n",
      "suspects       : O     O\n",
      "through        : O     O\n",
      "Britain        : B-geo B-geo\n",
      "or             : O     O\n",
      "its            : O     O\n",
      "airspace       : O     O\n",
      ".              : O     O\n"
     ]
    }
   ],
   "source": [
    "i = 1925\n",
    "p = np.argmax(y_pred_2[i], axis=-1)\n",
    "print(\"{:15}||{:5}||{}\".format(\"Word\", \"True\", \"Pred\"))\n",
    "print(30 * \"=\")\n",
    "for w, t, pred in zip(X_word_te[i], y_te[i], p):\n",
    "    if w != 0:\n",
    "        print(\"{:15}: {:5} {}\".format(idx2word[w], idx2label[t], idx2label[pred]))"
   ]
  },
  {
   "cell_type": "code",
   "execution_count": 32,
   "metadata": {},
   "outputs": [],
   "source": [
    "y_true_test = []\n",
    "y_pred_test = []\n",
    "for i in range(len(y_pred_2)):\n",
    "    p = np.argmax(y_pred_2[i], axis=-1)\n",
    "    for w, t, pred in zip(X_word_te[i], y_te[i], p):\n",
    "        if w != 0:\n",
    "            y_true_test.append(idx2label[t])\n",
    "            y_pred_test.append(idx2label[pred])"
   ]
  },
  {
   "cell_type": "code",
   "execution_count": 33,
   "metadata": {
    "scrolled": false
   },
   "outputs": [
    {
     "name": "stdout",
     "output_type": "stream",
     "text": [
      "              precision    recall  f1-score   support\n",
      "\n",
      "       B-art       0.43      0.06      0.11        49\n",
      "       B-eve       0.43      0.36      0.39        33\n",
      "       B-geo       0.87      0.87      0.87      3735\n",
      "       B-gpe       0.96      0.94      0.95      1596\n",
      "       B-nat       0.50      0.09      0.15        23\n",
      "       B-org       0.78      0.74      0.76      2071\n",
      "       B-per       0.84      0.83      0.84      1694\n",
      "       B-tim       0.93      0.87      0.90      2158\n",
      "       I-art       0.00      0.00      0.00        42\n",
      "       I-eve       0.25      0.24      0.25        33\n",
      "       I-geo       0.82      0.79      0.80       707\n",
      "       I-gpe       1.00      0.38      0.55        16\n",
      "       I-nat       1.00      0.20      0.33         5\n",
      "       I-org       0.82      0.77      0.79      1786\n",
      "       I-per       0.87      0.85      0.86      1739\n",
      "       I-tim       0.84      0.69      0.76       726\n",
      "           O       0.99      0.99      0.99     89144\n",
      "\n",
      "    accuracy                           0.97    105557\n",
      "   macro avg       0.73      0.57      0.61    105557\n",
      "weighted avg       0.97      0.97      0.97    105557\n",
      "\n"
     ]
    }
   ],
   "source": [
    "report_2 = classification_report(y_pred=y_pred_test, y_true=y_true_test)\n",
    "print(report_2)"
   ]
  },
  {
   "cell_type": "markdown",
   "metadata": {},
   "source": [
    "# Expand the model to BiLSTM-CNN-CRF"
   ]
  },
  {
   "cell_type": "code",
   "execution_count": 34,
   "metadata": {},
   "outputs": [
    {
     "data": {
      "text/plain": [
       "array([[0., 0., 0., ..., 0., 0., 0.],\n",
       "       [0., 0., 0., ..., 0., 0., 0.],\n",
       "       [0., 0., 0., ..., 0., 0., 0.],\n",
       "       ...,\n",
       "       [1., 0., 0., ..., 0., 0., 0.],\n",
       "       [1., 0., 0., ..., 0., 0., 0.],\n",
       "       [1., 0., 0., ..., 0., 0., 0.]], dtype=float32)"
      ]
     },
     "execution_count": 34,
     "metadata": {},
     "output_type": "execute_result"
    }
   ],
   "source": [
    "from keras.utils import to_categorical\n",
    "y_CRF = [to_categorical(i, num_classes=len(label2Idx)) for i in y]\n",
    "y_CRF[0]"
   ]
  },
  {
   "cell_type": "code",
   "execution_count": 35,
   "metadata": {},
   "outputs": [],
   "source": [
    "X_word_tr_CRF, X_word_te_CRF, y_tr_CRF, y_te_CRF = train_test_split(X_word, y_CRF, test_size=0.1, random_state=2018)\n",
    "X_char_tr_CRF, X_char_te_CRF, _, _ = train_test_split(X_char, y_CRF, test_size=0.1, random_state=2018)"
   ]
  },
  {
   "cell_type": "code",
   "execution_count": 81,
   "metadata": {},
   "outputs": [],
   "source": [
    "# input and embedding for words\n",
    "word_in_3 = Input(shape=(max_len,), name='words_input')\n",
    "emb_word_3 = Embedding(input_dim=len(word2Idx), output_dim=20,\n",
    "                     input_length=max_len)(word_in_3)\n",
    "\n",
    "# input and embeddings for characters\n",
    "char_in_3 = Input(shape=(max_len, max_len_char,), name='char_input')\n",
    "embed_char_out_3 = TimeDistributed(Embedding(input_dim=len(char2idx), output_dim=10,\n",
    "                           embeddings_initializer=RandomUniform(minval=-0.5, maxval=0.5)), name='char_embedding')(char_in_3)\n",
    "\n",
    "#the char embeddings are going through CNN and MaxPooling layer\n",
    "dropout= Dropout(0.5)(embed_char_out_3)\n",
    "conv1d_out= TimeDistributed(Conv1D(kernel_size=3, filters=10, padding='same',activation='tanh', strides=1))(dropout)\n",
    "maxpool_out=TimeDistributed(MaxPooling1D(max_len_char))(conv1d_out)\n",
    "char = TimeDistributed(Flatten())(maxpool_out)\n",
    "char = Dropout(0.5)(char)\n",
    "\n",
    "# main LSTM\n",
    "x_3 = concatenate([emb_word_3, char])\n",
    "output_3 = Bidirectional(LSTM(50, return_sequences=True, recurrent_dropout=0.6))(x_3)\n",
    "output_3 = TimeDistributed(Dense(50, activation=None))(output_3)\n",
    "\n",
    "\n",
    "crf = CRF(len(label2Idx))\n",
    "crf_output = crf(output_3)\n",
    "model_3 = Model(inputs=[word_in_3, char_in_3], outputs=[crf_output])\n",
    "\n"
   ]
  },
  {
   "cell_type": "code",
   "execution_count": 82,
   "metadata": {},
   "outputs": [
    {
     "name": "stderr",
     "output_type": "stream",
     "text": [
      "C:\\Users\\linar\\anaconda3\\lib\\site-packages\\keras_contrib\\layers\\crf.py:346: UserWarning: CRF.loss_function is deprecated and it might be removed in the future. Please use losses.crf_loss instead.\n",
      "  warnings.warn('CRF.loss_function is deprecated '\n",
      "C:\\Users\\linar\\anaconda3\\lib\\site-packages\\keras_contrib\\layers\\crf.py:353: UserWarning: CRF.accuracy is deprecated and it might be removed in the future. Please use metrics.crf_accuracy\n",
      "  warnings.warn('CRF.accuracy is deprecated and it '\n"
     ]
    },
    {
     "name": "stdout",
     "output_type": "stream",
     "text": [
      "Model: \"model_5\"\n",
      "__________________________________________________________________________________________________\n",
      "Layer (type)                    Output Shape         Param #     Connected to                     \n",
      "==================================================================================================\n",
      "char_input (InputLayer)         (None, 75, 10)       0                                            \n",
      "__________________________________________________________________________________________________\n",
      "char_embedding (TimeDistributed (None, 75, 10, 10)   990         char_input[0][0]                 \n",
      "__________________________________________________________________________________________________\n",
      "dropout_39 (Dropout)            (None, 75, 10, 10)   0           char_embedding[0][0]             \n",
      "__________________________________________________________________________________________________\n",
      "time_distributed_78 (TimeDistri (None, 75, 10, 10)   310         dropout_39[0][0]                 \n",
      "__________________________________________________________________________________________________\n",
      "time_distributed_79 (TimeDistri (None, 75, 1, 10)    0           time_distributed_78[0][0]        \n",
      "__________________________________________________________________________________________________\n",
      "words_input (InputLayer)        (None, 75)           0                                            \n",
      "__________________________________________________________________________________________________\n",
      "time_distributed_80 (TimeDistri (None, 75, 10)       0           time_distributed_79[0][0]        \n",
      "__________________________________________________________________________________________________\n",
      "embedding_41 (Embedding)        (None, 75, 20)       703560      words_input[0][0]                \n",
      "__________________________________________________________________________________________________\n",
      "dropout_40 (Dropout)            (None, 75, 10)       0           time_distributed_80[0][0]        \n",
      "__________________________________________________________________________________________________\n",
      "concatenate_21 (Concatenate)    (None, 75, 30)       0           embedding_41[0][0]               \n",
      "                                                                 dropout_40[0][0]                 \n",
      "__________________________________________________________________________________________________\n",
      "bidirectional_21 (Bidirectional (None, 75, 100)      32400       concatenate_21[0][0]             \n",
      "__________________________________________________________________________________________________\n",
      "time_distributed_81 (TimeDistri (None, 75, 50)       5050        bidirectional_21[0][0]           \n",
      "__________________________________________________________________________________________________\n",
      "crf_3 (CRF)                     (None, 75, 18)       1278        time_distributed_81[0][0]        \n",
      "==================================================================================================\n",
      "Total params: 743,588\n",
      "Trainable params: 743,588\n",
      "Non-trainable params: 0\n",
      "__________________________________________________________________________________________________\n"
     ]
    }
   ],
   "source": [
    "model_3.compile(optimizer=\"rmsprop\", loss=crf.loss_function, metrics=[crf.accuracy])\n",
    "model_3.summary()"
   ]
  },
  {
   "cell_type": "code",
   "execution_count": 84,
   "metadata": {},
   "outputs": [
    {
     "name": "stdout",
     "output_type": "stream",
     "text": [
      "Train on 38846 samples, validate on 4317 samples\n",
      "Epoch 1/5\n",
      "38846/38846 [==============================] - 151s 4ms/step - loss: -0.0710 - crf_viterbi_accuracy: 0.9921 - val_loss: -0.0760 - val_crf_viterbi_accuracy: 0.9909\n",
      "Epoch 2/5\n",
      "38846/38846 [==============================] - 168s 4ms/step - loss: -0.0881 - crf_viterbi_accuracy: 0.9923 - val_loss: -0.0926 - val_crf_viterbi_accuracy: 0.9911\n",
      "Epoch 3/5\n",
      "38846/38846 [==============================] - 171s 4ms/step - loss: -0.1049 - crf_viterbi_accuracy: 0.9927 - val_loss: -0.1089 - val_crf_viterbi_accuracy: 0.9911\n",
      "Epoch 4/5\n",
      "38846/38846 [==============================] - 171s 4ms/step - loss: -0.1217 - crf_viterbi_accuracy: 0.9929 - val_loss: -0.1252 - val_crf_viterbi_accuracy: 0.9909\n",
      "Epoch 5/5\n",
      "38846/38846 [==============================] - 170s 4ms/step - loss: -0.1383 - crf_viterbi_accuracy: 0.9931 - val_loss: -0.1413 - val_crf_viterbi_accuracy: 0.9908\n"
     ]
    }
   ],
   "source": [
    "history_3 = model_3.fit([X_word_tr_CRF,\n",
    "                     np.array(X_char_tr_CRF).reshape((len(X_char_tr_CRF), max_len, max_len_char))],\n",
    "                    np.array(y_tr_CRF),\n",
    "                    batch_size=32, epochs=5, validation_split=0.1, verbose=1)"
   ]
  },
  {
   "cell_type": "code",
   "execution_count": 85,
   "metadata": {},
   "outputs": [],
   "source": [
    "y_pred_3 = model_3.predict([X_word_te_CRF,\n",
    "                        np.array(X_char_te_CRF).reshape((len(X_char_te_CRF),\n",
    "                                                     max_len, max_len_char))])"
   ]
  },
  {
   "cell_type": "code",
   "execution_count": 86,
   "metadata": {},
   "outputs": [
    {
     "data": {
      "text/html": [
       "<div>\n",
       "<style scoped>\n",
       "    .dataframe tbody tr th:only-of-type {\n",
       "        vertical-align: middle;\n",
       "    }\n",
       "\n",
       "    .dataframe tbody tr th {\n",
       "        vertical-align: top;\n",
       "    }\n",
       "\n",
       "    .dataframe thead th {\n",
       "        text-align: right;\n",
       "    }\n",
       "</style>\n",
       "<table border=\"1\" class=\"dataframe\">\n",
       "  <thead>\n",
       "    <tr style=\"text-align: right;\">\n",
       "      <th></th>\n",
       "      <th>val_loss</th>\n",
       "      <th>val_crf_viterbi_accuracy</th>\n",
       "      <th>loss</th>\n",
       "      <th>crf_viterbi_accuracy</th>\n",
       "    </tr>\n",
       "  </thead>\n",
       "  <tbody>\n",
       "    <tr>\n",
       "      <th>0</th>\n",
       "      <td>-0.076043</td>\n",
       "      <td>0.990856</td>\n",
       "      <td>-0.070994</td>\n",
       "      <td>0.992071</td>\n",
       "    </tr>\n",
       "    <tr>\n",
       "      <th>1</th>\n",
       "      <td>-0.092568</td>\n",
       "      <td>0.991089</td>\n",
       "      <td>-0.088067</td>\n",
       "      <td>0.992342</td>\n",
       "    </tr>\n",
       "    <tr>\n",
       "      <th>2</th>\n",
       "      <td>-0.108938</td>\n",
       "      <td>0.991077</td>\n",
       "      <td>-0.104916</td>\n",
       "      <td>0.992698</td>\n",
       "    </tr>\n",
       "    <tr>\n",
       "      <th>3</th>\n",
       "      <td>-0.125179</td>\n",
       "      <td>0.990950</td>\n",
       "      <td>-0.121657</td>\n",
       "      <td>0.992914</td>\n",
       "    </tr>\n",
       "    <tr>\n",
       "      <th>4</th>\n",
       "      <td>-0.141308</td>\n",
       "      <td>0.990799</td>\n",
       "      <td>-0.138337</td>\n",
       "      <td>0.993150</td>\n",
       "    </tr>\n",
       "  </tbody>\n",
       "</table>\n",
       "</div>"
      ],
      "text/plain": [
       "   val_loss  val_crf_viterbi_accuracy      loss  crf_viterbi_accuracy\n",
       "0 -0.076043                  0.990856 -0.070994              0.992071\n",
       "1 -0.092568                  0.991089 -0.088067              0.992342\n",
       "2 -0.108938                  0.991077 -0.104916              0.992698\n",
       "3 -0.125179                  0.990950 -0.121657              0.992914\n",
       "4 -0.141308                  0.990799 -0.138337              0.993150"
      ]
     },
     "execution_count": 86,
     "metadata": {},
     "output_type": "execute_result"
    }
   ],
   "source": [
    "hist_3 = pd.DataFrame(history_3.history)\n",
    "hist_3"
   ]
  },
  {
   "cell_type": "code",
   "execution_count": 87,
   "metadata": {},
   "outputs": [
    {
     "data": {
      "image/png": "[encoded data removed]",
      "text/plain": [
       "<Figure size 864x864 with 1 Axes>"
      ]
     },
     "metadata": {},
     "output_type": "display_data"
    }
   ],
   "source": [
    "plt.style.use(\"ggplot\")\n",
    "plt.figure(figsize=(12,12))\n",
    "plt.plot(hist_3[\"crf_viterbi_accuracy\"])\n",
    "plt.plot(hist_3[\"val_crf_viterbi_accuracy\"])\n",
    "plt.show()"
   ]
  },
  {
   "cell_type": "code",
   "execution_count": 88,
   "metadata": {},
   "outputs": [],
   "source": [
    "from seqeval.metrics import precision_score, recall_score, f1_score, classification_report\n",
    "def pred2label(pred):\n",
    "    out = []\n",
    "    for pred_i in pred:\n",
    "        out_i = []\n",
    "        for p in pred_i:\n",
    "            p_i = np.argmax(p)\n",
    "            out_i.append(idx2label[p_i].replace(\"PAD\", \"O\"))\n",
    "        out.append(out_i)\n",
    "    return out\n",
    "    \n",
    "pred_labels = pred2label(y_pred_3)\n",
    "test_labels = pred2label(y_te_CRF)\n"
   ]
  },
  {
   "cell_type": "code",
   "execution_count": 89,
   "metadata": {},
   "outputs": [
    {
     "name": "stdout",
     "output_type": "stream",
     "text": [
      "F1-score: 83.8%\n"
     ]
    }
   ],
   "source": [
    "print(\"F1-score: {:.1%}\".format(f1_score(test_labels, pred_labels)))"
   ]
  },
  {
   "cell_type": "code",
   "execution_count": 90,
   "metadata": {},
   "outputs": [
    {
     "name": "stdout",
     "output_type": "stream",
     "text": [
      "           precision    recall  f1-score   support\n",
      "\n",
      "      geo       0.85      0.90      0.87      3735\n",
      "      org       0.74      0.70      0.72      2071\n",
      "      tim       0.86      0.86      0.86      2158\n",
      "      gpe       0.97      0.93      0.95      1596\n",
      "      per       0.82      0.76      0.79      1694\n",
      "      art       0.50      0.02      0.04        49\n",
      "      eve       0.45      0.27      0.34        33\n",
      "      nat       0.41      0.30      0.35        23\n",
      "\n",
      "micro avg       0.84      0.83      0.84     11359\n",
      "macro avg       0.84      0.83      0.84     11359\n",
      "\n"
     ]
    }
   ],
   "source": [
    "print(classification_report(test_labels, pred_labels))"
   ]
  },
  {
   "cell_type": "code",
   "execution_count": 91,
   "metadata": {},
   "outputs": [
    {
     "name": "stdout",
     "output_type": "stream",
     "text": [
      "Word           ||True ||Pred\n",
      "==============================\n",
      "On             : O     O\n",
      "Monday         : B-tim B-tim\n",
      ",              : O     O\n",
      "British        : B-org B-org\n",
      "Foreign        : I-org I-org\n",
      "Secretary      : B-per B-per\n",
      "Jack           : I-per I-per\n",
      "Straw          : I-per I-per\n",
      "said           : O     O\n",
      "his            : O     O\n",
      "government     : O     O\n",
      "has            : O     O\n",
      "found          : O     O\n",
      "no             : O     O\n",
      "evidence       : O     O\n",
      "the            : O     O\n",
      "Bush           : B-org B-per\n",
      "administration : O     O\n",
      "requested      : O     O\n",
      "permission     : O     O\n",
      "to             : O     O\n",
      "fly            : O     O\n",
      "terror         : O     O\n",
      "suspects       : O     O\n",
      "through        : O     O\n",
      "Britain        : B-geo B-geo\n",
      "or             : O     O\n",
      "its            : O     O\n",
      "airspace       : O     O\n",
      ".              : O     O\n"
     ]
    }
   ],
   "source": [
    "i = 1925\n",
    "p = np.argmax(y_pred_3[i], axis=-1)\n",
    "true = np.argmax(y_te_CRF[i], -1)\n",
    "print(\"{:15}||{:5}||{}\".format(\"Word\", \"True\", \"Pred\"))\n",
    "print(30 * \"=\")\n",
    "for w, t, pred in zip(X_word_te_CRF[i], true, p):\n",
    "    if w != 0:\n",
    "        print(\"{:15}: {:5} {}\".format(idx2word[w], idx2label[t], idx2label[pred]))"
   ]
  },
  {
   "cell_type": "code",
   "execution_count": null,
   "metadata": {},
   "outputs": [],
   "source": []
  },
  {
   "cell_type": "code",
   "execution_count": null,
   "metadata": {},
   "outputs": [],
   "source": []
  },
  {
   "cell_type": "code",
   "execution_count": null,
   "metadata": {},
   "outputs": [],
   "source": []
  }
 ],
 "metadata": {
  "kernelspec": {
   "display_name": "Python 3",
   "language": "python",
   "name": "python3"
  },
  "language_info": {
   "codemirror_mode": {
    "name": "ipython",
    "version": 3
   },
   "file_extension": ".py",
   "mimetype": "text/x-python",
   "name": "python",
   "nbconvert_exporter": "python",
   "pygments_lexer": "ipython3",
   "version": "3.7.6"
  }
 },
 "nbformat": 4,
 "nbformat_minor": 4
}
